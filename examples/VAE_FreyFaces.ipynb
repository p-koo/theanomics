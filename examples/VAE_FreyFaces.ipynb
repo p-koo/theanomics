{
 "cells": [
  {
   "cell_type": "code",
   "execution_count": null,
   "metadata": {
    "collapsed": false
   },
   "outputs": [],
   "source": [
    "from __future__ import absolute_import\n",
    "from __future__ import division\n",
    "from __future__ import print_function\n",
    "\n",
    "import os, sys\n",
    "import numpy as np\n",
    "from scipy.io import loadmat\n",
    "import matplotlib.pyplot as plt\n",
    "%matplotlib inline\n",
    "\n",
    "sys.path.append('/Users/juliankimura/Desktop/deepomics')\n",
    "import deepomics.neuralnetwork as nn\n",
    "from deepomics import learn, utils\n",
    "from models import vae_model\n",
    "\n",
    "import theano\n",
    "import theano.tensor as T\n",
    "from lasagne import layers\n",
    "\n",
    "np.random.seed(247)   # for reproducibility"
   ]
  },
  {
   "cell_type": "code",
   "execution_count": null,
   "metadata": {
    "collapsed": false
   },
   "outputs": [],
   "source": [
    "filename = 'frey_rawface.mat'\n",
    "data_path = '/Users/juliankimura/Desktop/data/FreyFaces'\n",
    "matfile = loadmat(os.path.join(data_path, filename))\n",
    "all_data = (matfile['ff'] / 255.).T\n",
    "\n",
    "indices = np.arange(len(all_data))\n",
    "np.random.shuffle(indices)\n",
    "indices\n",
    "\n",
    "width = 20\n",
    "height = 28\n",
    "X_train = all_data[indices[:1500]]\n",
    "X_valid = all_data[indices[1500:]]"
   ]
  },
  {
   "cell_type": "code",
   "execution_count": null,
   "metadata": {
    "collapsed": false
   },
   "outputs": [],
   "source": [
    "plt.imshow(X_train[10].reshape([height,width]),cmap='gray')"
   ]
  },
  {
   "cell_type": "code",
   "execution_count": null,
   "metadata": {
    "collapsed": false
   },
   "outputs": [],
   "source": [
    "shape = (None, X_train.shape[1])\n",
    "network, placeholders, optimization = vae_model.model(shape)"
   ]
  },
  {
   "cell_type": "code",
   "execution_count": null,
   "metadata": {
    "collapsed": false
   },
   "outputs": [],
   "source": [
    "# build neural network class\n",
    "nnmodel = nn.NeuralNet(network, placeholders)\n",
    "nnmodel.inspect_layers()\n",
    "\n",
    "# set output file paths\n",
    "output_name = 'Frey_faces'\n",
    "results_path = utils.make_directory(data_path, 'Results')\n",
    "results_path = utils.make_directory(results_path, output_name)\n",
    "file_path = os.path.join(results_path, output_name)\n",
    "nntrainer = nn.NeuralTrainer(nnmodel, optimization, save='best', file_path=file_path)"
   ]
  },
  {
   "cell_type": "code",
   "execution_count": null,
   "metadata": {
    "collapsed": false,
    "scrolled": true
   },
   "outputs": [],
   "source": [
    "# train model\n",
    "learn.train_minibatch(nntrainer, data={'train': X_train, 'valid': X_valid}, \n",
    "                              batch_size=100, num_epochs=500, patience=10, verbose=0)"
   ]
  },
  {
   "cell_type": "code",
   "execution_count": null,
   "metadata": {
    "collapsed": false
   },
   "outputs": [],
   "source": [
    "num_steps = 10\n",
    "samples = X_train[:num_steps*num_steps,:]\n",
    "fig = plt.figure()\n",
    "plt.imshow((samples.reshape(num_steps, num_steps, 28, 20)\n",
    "                   .transpose(0, 2, 1, 3)\n",
    "                   .reshape(num_steps*28, num_steps*20)), cmap='gray')\n",
    "plt.axis('off')\n",
    "fig.set_size_inches(10,10)"
   ]
  },
  {
   "cell_type": "code",
   "execution_count": null,
   "metadata": {
    "collapsed": false
   },
   "outputs": [],
   "source": [
    "generated_x = layers.get_output(nnmodel.network['decode_mu'], deterministic=True)\n",
    "gen_fn = theano.function([nnmodel.placeholders['inputs']], generated_x)\n",
    "num_grid = 10\n",
    "k = 0\n",
    "reconstructed_samples = []\n",
    "for i in range(num_grid):\n",
    "    for j in range(num_grid):\n",
    "        reconstructed_samples.append(gen_fn(np.expand_dims(samples[k], axis=0)))\n",
    "        k += 1\n",
    "reconstructed_samples = np.array(reconstructed_samples)        \n",
    "               \n",
    "fig = plt.figure()\n",
    "plt.imshow((reconstructed_samples.reshape(num_grid, num_grid, 28, 20)\n",
    "                   .transpose(0, 2, 1, 3)\n",
    "                   .reshape(num_grid*28, num_grid*20)), cmap='gray')\n",
    "plt.axis('off')\n",
    "fig.set_size_inches(10,10)"
   ]
  },
  {
   "cell_type": "code",
   "execution_count": null,
   "metadata": {
    "collapsed": false
   },
   "outputs": [],
   "source": [
    "z_var = T.vector()\n",
    "generated_x = layers.get_output(nnmodel.network['decode_mu'], {nnmodel.network['encode_mu']: z_var}, deterministic=True)\n",
    "gen_fn = theano.function([z_var], generated_x)\n",
    "num_grid = 20\n",
    "pos = np.linspace(-4, 4, num_grid)\n",
    "generated_samples = []\n",
    "for i in range(num_grid):\n",
    "    for j in range(num_grid):\n",
    "        z = np.asarray([pos[i], pos[j]], dtype=theano.config.floatX)\n",
    "        generated_samples.append(gen_fn(z))\n",
    "generated_samples = np.array(generated_samples)        \n",
    "                \n",
    "     \n",
    "fig = plt.figure()\n",
    "plt.imshow((generated_samples.reshape(num_grid, num_grid, 28, 20)\n",
    "                   .transpose(0, 2, 1, 3)\n",
    "                   .reshape(num_grid*28, num_grid*20)), cmap='gray')\n",
    "plt.axis('off')\n",
    "fig.set_size_inches(10,10)"
   ]
  },
  {
   "cell_type": "code",
   "execution_count": null,
   "metadata": {
    "collapsed": true
   },
   "outputs": [],
   "source": []
  },
  {
   "cell_type": "code",
   "execution_count": null,
   "metadata": {
    "collapsed": true
   },
   "outputs": [],
   "source": []
  },
  {
   "cell_type": "code",
   "execution_count": null,
   "metadata": {
    "collapsed": true
   },
   "outputs": [],
   "source": []
  },
  {
   "cell_type": "code",
   "execution_count": null,
   "metadata": {
    "collapsed": true
   },
   "outputs": [],
   "source": []
  }
 ],
 "metadata": {
  "anaconda-cloud": {},
  "kernelspec": {
   "display_name": "Python [Root]",
   "language": "python",
   "name": "Python [Root]"
  },
  "language_info": {
   "codemirror_mode": {
    "name": "ipython",
    "version": 3
   },
   "file_extension": ".py",
   "mimetype": "text/x-python",
   "name": "python",
   "nbconvert_exporter": "python",
   "pygments_lexer": "ipython3",
   "version": "3.5.2"
  }
 },
 "nbformat": 4,
 "nbformat_minor": 1
}
