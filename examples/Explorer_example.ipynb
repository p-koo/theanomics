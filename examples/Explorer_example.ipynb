{
 "cells": [
  {
   "cell_type": "code",
   "execution_count": 1,
   "metadata": {
    "collapsed": false
   },
   "outputs": [],
   "source": [
    "from __future__ import absolute_import\n",
    "from __future__ import division\n",
    "from __future__ import print_function\n",
    "\n",
    "import os, sys, h5py\n",
    "import numpy as np\n",
    "import matplotlib.pyplot as plt\n",
    "from matplotlib import rcParams\n",
    "% matplotlib inline\n",
    "\n",
    "sys.path.append('/Users/juliankimura/Desktop/deepomics')\n",
    "import deepomics.neuralnetwork as nn\n",
    "from deepomics import learn, utils, metrics, visualize, explore\n",
    "from deepomics.build_network import build_network \n",
    "\n",
    "np.random.seed(247) # for reproducibility"
   ]
  },
  {
   "cell_type": "code",
   "execution_count": 2,
   "metadata": {
    "collapsed": false
   },
   "outputs": [
    {
     "name": "stdout",
     "output_type": "stream",
     "text": [
      "loading training data\n",
      "loading validation data\n",
      "loading test data\n"
     ]
    }
   ],
   "source": [
    "def load_data(data_path):\n",
    "    dataset = h5py.File(data_path,'r')\n",
    "\n",
    "    print(\"loading training data\")\n",
    "    X_train = np.expand_dims(dataset['X_train'], axis=3)\n",
    "    y_train = np.array(dataset['Y_train'])\n",
    "\n",
    "    print(\"loading validation data\")  \n",
    "    X_valid = np.expand_dims(dataset['X_valid'], axis=3)\n",
    "    y_valid = np.array(dataset['Y_valid'])\n",
    "\n",
    "    print(\"loading test data\")\n",
    "    X_test = np.expand_dims(dataset['X_test'], axis=3)\n",
    "    y_test = np.array(dataset['Y_test'])\n",
    "\n",
    "    train = (X_train, y_train)\n",
    "    valid = (X_valid, y_valid)\n",
    "    test = (X_test, y_test)\n",
    "\n",
    "    return train, valid, test\n",
    "\n",
    "data_path = '.'\n",
    "file_name = 'K562_CEBPB_200_dinuc.h5'\n",
    "train, valid, test = load_data(os.path.join(data_path, file_name))\n",
    "\n"
   ]
  },
  {
   "cell_type": "code",
   "execution_count": 3,
   "metadata": {
    "collapsed": false
   },
   "outputs": [],
   "source": [
    "def model(input_shape, output_shape):\n",
    "\n",
    "    # create model\n",
    "    layer1 = {'layer': 'input',\n",
    "                'shape': input_shape,\n",
    "                'name': 'input'\n",
    "                }\n",
    "    layer2 = {'layer': 'conv1d', \n",
    "                'num_filters': {'start': 20, 'bounds': [1, 200], 'scale': 20},\n",
    "                'filter_size': {'start': 19, 'bounds': [5, 27], 'scale': 10, 'multiples': 2, 'offset': 1},\n",
    "                'norm': 'batch',\n",
    "                'padding': 'same',\n",
    "                'activation': 'relu',\n",
    "                'pool_size': {'start': 20, 'bounds': [1, 200], 'scale': 10, 'multiples': 4},\n",
    "                }\n",
    "    layer3 = {'layer': 'dense', \n",
    "                'num_units': {'start': 64, 'bounds': [16, 1000], 'scale': 50},\n",
    "                'norm': 'batch',\n",
    "                'activation': 'relu',\n",
    "                }\n",
    "    layer3 = {'layer': 'dense', \n",
    "                'num_units': output_shape[1],\n",
    "                'activation': 'sigmoid',\n",
    "                }\n",
    "\n",
    "    #from tfomics import build_network\n",
    "    model_layers = [layer1, layer2, layer3]\n",
    "\n",
    "    # optimization parameters\n",
    "    optimization = {\"objective\": \"binary\",\n",
    "                    \"optimizer\": \"adam\",\n",
    "                    \"learning_rate\": 0.001,\n",
    "                    \"l2\": 1e-6\n",
    "                    #\"learning_rate\": {'start': -3, 'bounds': [-4, -1], 'scale': 1.5, 'transform': 'log'},      \n",
    "                    #\"l2\": {'start': -6, 'bounds': [-8, -2], 'scale': 3, 'transform': 'log'},\n",
    "                    # \"l1\": 0, \n",
    "                    }\n",
    "    return model_layers, optimization\n",
    "\n",
    "# build network\n",
    "input_shape = list(train[0].shape)\n",
    "input_shape[0] = None\n",
    "output_shape = train[1].shape\n",
    "model_layers, optimization = model(input_shape, output_shape)\n"
   ]
  },
  {
   "cell_type": "code",
   "execution_count": 4,
   "metadata": {
    "collapsed": false
   },
   "outputs": [],
   "source": [
    "output_name = 'test'\n",
    "utils.make_directory(data_path, 'Results')\n",
    "file_path = os.path.join(data_path, 'Results', output_name)\n",
    "nnoptimizer = explore.NeuralOptimizer(model_layers, output_shape, optimization)"
   ]
  },
  {
   "cell_type": "code",
   "execution_count": 5,
   "metadata": {
    "collapsed": false
   },
   "outputs": [
    {
     "name": "stdout",
     "output_type": "stream",
     "text": [
      "---------------------------------------------------------\n",
      "Running baseline model\n",
      "\n",
      "Model layers:\n",
      "name: input\n",
      "num_filters: 20\n",
      "filter_size: 19\n",
      "pool_size: 20\n",
      "num_units: 1\n",
      "\n",
      "Optimization:\n",
      "learning_rate: 0.001\n",
      "l2: 1e-06\n",
      "\n",
      "compiling model\n"
     ]
    },
    {
     "ename": "TypeError",
     "evalue": "test_model() got an unexpected keyword argument 'verbose'",
     "output_type": "error",
     "traceback": [
      "\u001b[0;31m---------------------------------------------------------------------------\u001b[0m",
      "\u001b[0;31mTypeError\u001b[0m                                 Traceback (most recent call last)",
      "\u001b[0;32m<ipython-input-5-ff249fb4d7c4>\u001b[0m in \u001b[0;36m<module>\u001b[0;34m()\u001b[0m\n\u001b[1;32m      1\u001b[0m nnoptimizer.optimize(data={'train': train, 'valid': valid}, num_trials=10, batch_size=128,\n\u001b[0;32m----> 2\u001b[0;31m                     num_epochs=10, verbose=0)\n\u001b[0m",
      "\u001b[0;32m/Users/juliankimura/Desktop/deepomics/deepomics/explore.py\u001b[0m in \u001b[0;36moptimize\u001b[0;34m(self, data, num_trials, batch_size, num_epochs, verbose)\u001b[0m\n\u001b[1;32m    148\u001b[0m                 \u001b[0mprint\u001b[0m\u001b[0;34m(\u001b[0m\u001b[0;34m''\u001b[0m\u001b[0;34m)\u001b[0m\u001b[0;34m\u001b[0m\u001b[0m\n\u001b[1;32m    149\u001b[0m \t\tloss = self.train_model(data, model_layers, optimization, num_epochs=num_epochs, \n\u001b[0;32m--> 150\u001b[0;31m \t\t\t\t\t\t\t\t\t batch_size=batch_size, verbose=verbose)\n\u001b[0m\u001b[1;32m    151\u001b[0m                 \u001b[0mself\u001b[0m\u001b[0;34m.\u001b[0m\u001b[0moptimal_loss\u001b[0m \u001b[0;34m=\u001b[0m \u001b[0mloss\u001b[0m\u001b[0;34m\u001b[0m\u001b[0m\n\u001b[1;32m    152\u001b[0m                 \u001b[0mprint\u001b[0m\u001b[0;34m(\u001b[0m\u001b[0;34m\"    loss = \"\u001b[0m \u001b[0;34m+\u001b[0m \u001b[0mstr\u001b[0m\u001b[0;34m(\u001b[0m\u001b[0mloss\u001b[0m\u001b[0;34m)\u001b[0m\u001b[0;34m)\u001b[0m\u001b[0;34m\u001b[0m\u001b[0m\n",
      "\u001b[0;32m/Users/juliankimura/Desktop/deepomics/deepomics/explore.py\u001b[0m in \u001b[0;36mtrain_model\u001b[0;34m(self, data, model_layers, optimization, num_epochs, batch_size, verbose)\u001b[0m\n\u001b[1;32m    135\u001b[0m \u001b[0;34m\u001b[0m\u001b[0m\n\u001b[1;32m    136\u001b[0m                 \u001b[0;31m# test model\u001b[0m\u001b[0;34m\u001b[0m\u001b[0;34m\u001b[0m\u001b[0m\n\u001b[0;32m--> 137\u001b[0;31m                 \u001b[0mloss\u001b[0m \u001b[0;34m=\u001b[0m \u001b[0mnntrainer\u001b[0m\u001b[0;34m.\u001b[0m\u001b[0mtest_model\u001b[0m\u001b[0;34m(\u001b[0m\u001b[0mdata\u001b[0m\u001b[0;34m[\u001b[0m\u001b[0;34m'valid'\u001b[0m\u001b[0;34m]\u001b[0m\u001b[0;34m,\u001b[0m \u001b[0;34m\"test\"\u001b[0m\u001b[0;34m,\u001b[0m \u001b[0mverbose\u001b[0m\u001b[0;34m=\u001b[0m\u001b[0mverbose\u001b[0m\u001b[0;34m)\u001b[0m\u001b[0;34m\u001b[0m\u001b[0m\n\u001b[0m\u001b[1;32m    138\u001b[0m                 \u001b[0;32mreturn\u001b[0m \u001b[0mmodel_layers\u001b[0m\u001b[0;34m,\u001b[0m \u001b[0moptimization\u001b[0m\u001b[0;34m,\u001b[0m \u001b[0mloss\u001b[0m\u001b[0;34m\u001b[0m\u001b[0m\n\u001b[1;32m    139\u001b[0m \u001b[0;34m\u001b[0m\u001b[0m\n",
      "\u001b[0;31mTypeError\u001b[0m: test_model() got an unexpected keyword argument 'verbose'"
     ]
    }
   ],
   "source": [
    "nnoptimizer.optimize(data={'train': train, 'valid': valid}, num_trials=10, batch_size=128,\n",
    "                    num_epochs=10, verbose=0)"
   ]
  },
  {
   "cell_type": "code",
   "execution_count": null,
   "metadata": {
    "collapsed": true
   },
   "outputs": [],
   "source": []
  }
 ],
 "metadata": {
  "kernelspec": {
   "display_name": "Python [Root]",
   "language": "python",
   "name": "Python [Root]"
  },
  "language_info": {
   "codemirror_mode": {
    "name": "ipython",
    "version": 3
   },
   "file_extension": ".py",
   "mimetype": "text/x-python",
   "name": "python",
   "nbconvert_exporter": "python",
   "pygments_lexer": "ipython3",
   "version": "3.5.2"
  }
 },
 "nbformat": 4,
 "nbformat_minor": 0
}
