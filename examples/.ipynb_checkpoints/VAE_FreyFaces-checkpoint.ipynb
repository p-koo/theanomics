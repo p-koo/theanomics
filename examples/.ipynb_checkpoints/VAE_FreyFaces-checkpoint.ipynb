{
 "cells": [
  {
   "cell_type": "code",
   "execution_count": 1,
   "metadata": {
    "collapsed": false
   },
   "outputs": [],
   "source": [
    "from __future__ import absolute_import\n",
    "from __future__ import division\n",
    "from __future__ import print_function\n",
    "\n",
    "import os, sys\n",
    "import numpy as np\n",
    "from scipy.io import loadmat\n",
    "import matplotlib.pyplot as plt\n",
    "%matplotlib inline\n",
    "\n",
    "sys.path.append('/Users/juliankimura/Desktop/deepomics')\n",
    "import deepomics.neuralnetwork as nn\n",
    "from deepomics import learn, utils\n",
    "from models import vae_model\n",
    "\n",
    "import theano\n",
    "import theano.tensor as T\n",
    "from lasagne import layers\n",
    "\n",
    "np.random.seed(247)   # for reproducibility"
   ]
  },
  {
   "cell_type": "code",
   "execution_count": 2,
   "metadata": {
    "collapsed": false
   },
   "outputs": [],
   "source": [
    "filename = 'frey_rawface.mat'\n",
    "data_path = '/Users/juliankimura/Desktop/data/FreyFaces'\n",
    "matfile = loadmat(os.path.join(data_path, filename))\n",
    "all_data = (matfile['ff'] / 255.).T\n",
    "\n",
    "indices = np.arange(len(all_data))\n",
    "np.random.shuffle(indices)\n",
    "indices\n",
    "\n",
    "width = 20\n",
    "height = 28\n",
    "X_train = all_data[indices[:1500]]\n",
    "X_valid = all_data[indices[1500:]]"
   ]
  },
  {
   "cell_type": "code",
   "execution_count": 3,
   "metadata": {
    "collapsed": false
   },
   "outputs": [
    {
     "data": {
      "text/plain": [
       "<matplotlib.image.AxesImage at 0x11a74fb38>"
      ]
     },
     "execution_count": 3,
     "metadata": {},
     "output_type": "execute_result"
    },
    {
     "name": "stderr",
     "output_type": "stream",
     "text": [
      "/Users/juliankimura/anaconda/lib/python3.5/site-packages/matplotlib/figure.py:1744: UserWarning: This figure includes Axes that are not compatible with tight_layout, so its results might be incorrect.\n",
      "  warnings.warn(\"This figure includes Axes that are not \"\n"
     ]
    },
    {
     "data": {
      "image/png": "[encoded data removed]",
      "text/plain": [
       "<matplotlib.figure.Figure at 0x106273da0>"
      ]
     },
     "metadata": {},
     "output_type": "display_data"
    }
   ],
   "source": [
    "plt.imshow(X_train[10].reshape([height,width]),cmap='gray')"
   ]
  },
  {
   "cell_type": "code",
   "execution_count": 4,
   "metadata": {
    "collapsed": false
   },
   "outputs": [],
   "source": [
    "shape = (None, X_train.shape[1])\n",
    "network, placeholders, optimization = vae_model.model(shape)"
   ]
  },
  {
   "cell_type": "code",
   "execution_count": 6,
   "metadata": {
    "collapsed": false
   },
   "outputs": [
    {
     "name": "stdout",
     "output_type": "stream",
     "text": [
      "----------------------------------------------------------------------------\n",
      "Network architecture:\n",
      "----------------------------------------------------------------------------\n",
      "layer1: \n",
      "<lasagne.layers.input.InputLayer object at 0x11a7472e8>\n",
      "shape:(None, 560)\n",
      "layer2: \n",
      "<lasagne.layers.dense.DenseLayer object at 0x11a7f28d0>\n",
      "shape:(None, 200)\n",
      "parameters: W\n",
      "layer3: \n",
      "<lasagne.layers.normalization.BatchNormLayer object at 0x11a747588>\n",
      "shape:(None, 200)\n",
      "parameters: beta, gamma, mean, inv_std\n",
      "layer4: \n",
      "<lasagne.layers.special.NonlinearityLayer object at 0x11a78fda0>\n",
      "shape:(None, 200)\n",
      "layer5: \n",
      "<lasagne.layers.noise.DropoutLayer object at 0x11a78ff60>\n",
      "shape:(None, 200)\n",
      "layer6: \n",
      "<lasagne.layers.dense.DenseLayer object at 0x11ba21048>\n",
      "shape:(None, 100)\n",
      "parameters: W\n",
      "layer7: \n",
      "<lasagne.layers.normalization.BatchNormLayer object at 0x11a78ffd0>\n",
      "shape:(None, 100)\n",
      "parameters: beta, gamma, mean, inv_std\n",
      "layer8: \n",
      "<lasagne.layers.special.NonlinearityLayer object at 0x11ba21748>\n",
      "shape:(None, 100)\n",
      "layer9: \n",
      "<lasagne.layers.noise.DropoutLayer object at 0x11ba21908>\n",
      "shape:(None, 100)\n",
      "layer10: \n",
      "<lasagne.layers.dense.DenseLayer object at 0x11ba21978>\n",
      "shape:(None, 4)\n",
      "parameters: W, b\n",
      "layer11: \n",
      "<lasagne.layers.dense.DenseLayer object at 0x11ba21b38>\n",
      "shape:(None, 4)\n",
      "parameters: W, b\n",
      "layer12: \n",
      "<deepomics.build_network.VariationalSampleLayer object at 0x11ba21e80>\n",
      "shape:(None, 4)\n",
      "layer13: \n",
      "<lasagne.layers.special.NonlinearityLayer object at 0x11ba270b8>\n",
      "shape:(None, 4)\n",
      "layer14: \n",
      "<lasagne.layers.dense.DenseLayer object at 0x11ba27128>\n",
      "shape:(None, 100)\n",
      "parameters: W\n",
      "layer15: \n",
      "<lasagne.layers.special.BiasLayer object at 0x11ba27160>\n",
      "shape:(None, 100)\n",
      "parameters: b\n",
      "layer16: \n",
      "<lasagne.layers.special.NonlinearityLayer object at 0x11ba27320>\n",
      "shape:(None, 100)\n",
      "layer17: \n",
      "<lasagne.layers.dense.DenseLayer object at 0x11ba27550>\n",
      "shape:(None, 200)\n",
      "parameters: W\n",
      "layer18: \n",
      "<lasagne.layers.special.BiasLayer object at 0x11ba270f0>\n",
      "shape:(None, 200)\n",
      "parameters: b\n",
      "layer19: \n",
      "<lasagne.layers.special.NonlinearityLayer object at 0x11ba27710>\n",
      "shape:(None, 200)\n",
      "layer20: \n",
      "<lasagne.layers.dense.DenseLayer object at 0x11ba27908>\n",
      "shape:(None, 560)\n",
      "parameters: W\n",
      "layer21: \n",
      "<lasagne.layers.special.BiasLayer object at 0x11ba27588>\n",
      "shape:(None, 560)\n",
      "parameters: b\n",
      "layer22: \n",
      "<lasagne.layers.special.NonlinearityLayer object at 0x11ba27ac8>\n",
      "shape:(None, 560)\n",
      "----------------------------------------------------------------------------\n",
      "compiling model\n"
     ]
    },
    {
     "ename": "TypeError",
     "evalue": "cost must be a scalar.",
     "output_type": "error",
     "traceback": [
      "\u001b[0;31m---------------------------------------------------------------------------\u001b[0m",
      "\u001b[0;31mTypeError\u001b[0m                                 Traceback (most recent call last)",
      "\u001b[0;32m<ipython-input-6-d72a78f609d2>\u001b[0m in \u001b[0;36m<module>\u001b[0;34m()\u001b[0m\n\u001b[1;32m      7\u001b[0m \u001b[0mutils\u001b[0m\u001b[0;34m.\u001b[0m\u001b[0mmake_directory\u001b[0m\u001b[0;34m(\u001b[0m\u001b[0mdata_path\u001b[0m\u001b[0;34m,\u001b[0m \u001b[0;34m'Results'\u001b[0m\u001b[0;34m)\u001b[0m\u001b[0;34m\u001b[0m\u001b[0m\n\u001b[1;32m      8\u001b[0m \u001b[0mfile_path\u001b[0m \u001b[0;34m=\u001b[0m \u001b[0mos\u001b[0m\u001b[0;34m.\u001b[0m\u001b[0mpath\u001b[0m\u001b[0;34m.\u001b[0m\u001b[0mjoin\u001b[0m\u001b[0;34m(\u001b[0m\u001b[0mdata_path\u001b[0m\u001b[0;34m,\u001b[0m \u001b[0;34m'Results'\u001b[0m\u001b[0;34m,\u001b[0m \u001b[0moutput_name\u001b[0m\u001b[0;34m)\u001b[0m\u001b[0;34m\u001b[0m\u001b[0m\n\u001b[0;32m----> 9\u001b[0;31m \u001b[0mnntrainer\u001b[0m \u001b[0;34m=\u001b[0m \u001b[0mnn\u001b[0m\u001b[0;34m.\u001b[0m\u001b[0mNeuralTrainer\u001b[0m\u001b[0;34m(\u001b[0m\u001b[0mnnmodel\u001b[0m\u001b[0;34m,\u001b[0m \u001b[0moptimization\u001b[0m\u001b[0;34m,\u001b[0m \u001b[0msave\u001b[0m\u001b[0;34m=\u001b[0m\u001b[0;34m'best'\u001b[0m\u001b[0;34m,\u001b[0m \u001b[0mfile_path\u001b[0m\u001b[0;34m=\u001b[0m\u001b[0mfile_path\u001b[0m\u001b[0;34m)\u001b[0m\u001b[0;34m\u001b[0m\u001b[0m\n\u001b[0m",
      "\u001b[0;32m/Users/juliankimura/Desktop/deepomics/deepomics/neuralnetwork.py\u001b[0m in \u001b[0;36m__init__\u001b[0;34m(self, nnmodel, optimization, save, file_path)\u001b[0m\n\u001b[1;32m    207\u001b[0m                 \u001b[0mprint\u001b[0m\u001b[0;34m(\u001b[0m\u001b[0;34m\"compiling model\"\u001b[0m\u001b[0;34m)\u001b[0m\u001b[0;34m\u001b[0m\u001b[0m\n\u001b[1;32m    208\u001b[0m \t\ttrain_fun, test_fun = build_optimizer(nnmodel.network, nnmodel.placeholders, \n\u001b[0;32m--> 209\u001b[0;31m \t\t\t\t\t\t\t\t\t\t\t  optimization, self.learning_rate)\n\u001b[0m\u001b[1;32m    210\u001b[0m                 \u001b[0mself\u001b[0m\u001b[0;34m.\u001b[0m\u001b[0mtrain_fun\u001b[0m \u001b[0;34m=\u001b[0m \u001b[0mtrain_fun\u001b[0m\u001b[0;34m\u001b[0m\u001b[0m\n\u001b[1;32m    211\u001b[0m                 \u001b[0mself\u001b[0m\u001b[0;34m.\u001b[0m\u001b[0mtest_fun\u001b[0m \u001b[0;34m=\u001b[0m \u001b[0mtest_fun\u001b[0m\u001b[0;34m\u001b[0m\u001b[0m\n",
      "\u001b[0;32m/Users/juliankimura/Desktop/deepomics/deepomics/neuralnetwork.py\u001b[0m in \u001b[0;36mbuild_optimizer\u001b[0;34m(network, placeholders, optimization, learning_rate)\u001b[0m\n\u001b[1;32m    491\u001b[0m         \u001b[0;32melse\u001b[0m\u001b[0;34m:\u001b[0m\u001b[0;34m\u001b[0m\u001b[0m\n\u001b[1;32m    492\u001b[0m                 \u001b[0mweight_norm\u001b[0m \u001b[0;34m=\u001b[0m \u001b[0;32mNone\u001b[0m\u001b[0;34m\u001b[0m\u001b[0m\n\u001b[0;32m--> 493\u001b[0;31m         \u001b[0mgrad\u001b[0m \u001b[0;34m=\u001b[0m \u001b[0mcalculate_gradient\u001b[0m\u001b[0;34m(\u001b[0m\u001b[0mloss\u001b[0m\u001b[0;34m,\u001b[0m \u001b[0mparams\u001b[0m\u001b[0;34m,\u001b[0m \u001b[0mweight_norm\u001b[0m\u001b[0;34m=\u001b[0m\u001b[0mweight_norm\u001b[0m\u001b[0;34m)\u001b[0m\u001b[0;34m\u001b[0m\u001b[0m\n\u001b[0m\u001b[1;32m    494\u001b[0m \u001b[0;34m\u001b[0m\u001b[0m\n\u001b[1;32m    495\u001b[0m         \u001b[0;31m# setup parameter updates\u001b[0m\u001b[0;34m\u001b[0m\u001b[0;34m\u001b[0m\u001b[0m\n",
      "\u001b[0;32m/Users/juliankimura/Desktop/deepomics/deepomics/neuralnetwork.py\u001b[0m in \u001b[0;36mcalculate_gradient\u001b[0;34m(loss, params, weight_norm)\u001b[0m\n\u001b[1;32m    567\u001b[0m         \u001b[0;34m\"\"\" calculate gradients with option to clip norm \"\"\"\u001b[0m\u001b[0;34m\u001b[0m\u001b[0m\n\u001b[1;32m    568\u001b[0m \u001b[0;34m\u001b[0m\u001b[0m\n\u001b[0;32m--> 569\u001b[0;31m         \u001b[0mgrad\u001b[0m \u001b[0;34m=\u001b[0m \u001b[0mT\u001b[0m\u001b[0;34m.\u001b[0m\u001b[0mgrad\u001b[0m\u001b[0;34m(\u001b[0m\u001b[0mloss\u001b[0m\u001b[0;34m,\u001b[0m \u001b[0mparams\u001b[0m\u001b[0;34m)\u001b[0m\u001b[0;34m\u001b[0m\u001b[0m\n\u001b[0m\u001b[1;32m    570\u001b[0m \u001b[0;34m\u001b[0m\u001b[0m\n\u001b[1;32m    571\u001b[0m         \u001b[0;31m# gradient norm option\u001b[0m\u001b[0;34m\u001b[0m\u001b[0;34m\u001b[0m\u001b[0m\n",
      "\u001b[0;32m/Users/juliankimura/anaconda/lib/python3.5/site-packages/theano/gradient.py\u001b[0m in \u001b[0;36mgrad\u001b[0;34m(cost, wrt, consider_constant, disconnected_inputs, add_names, known_grads, return_disconnected, null_gradients)\u001b[0m\n\u001b[1;32m    435\u001b[0m \u001b[0;34m\u001b[0m\u001b[0m\n\u001b[1;32m    436\u001b[0m     \u001b[0;32mif\u001b[0m \u001b[0mcost\u001b[0m \u001b[0;32mis\u001b[0m \u001b[0;32mnot\u001b[0m \u001b[0;32mNone\u001b[0m \u001b[0;32mand\u001b[0m \u001b[0mcost\u001b[0m\u001b[0;34m.\u001b[0m\u001b[0mndim\u001b[0m \u001b[0;34m!=\u001b[0m \u001b[0;36m0\u001b[0m\u001b[0;34m:\u001b[0m\u001b[0;34m\u001b[0m\u001b[0m\n\u001b[0;32m--> 437\u001b[0;31m         \u001b[0;32mraise\u001b[0m \u001b[0mTypeError\u001b[0m\u001b[0;34m(\u001b[0m\u001b[0;34m\"cost must be a scalar.\"\u001b[0m\u001b[0;34m)\u001b[0m\u001b[0;34m\u001b[0m\u001b[0m\n\u001b[0m\u001b[1;32m    438\u001b[0m \u001b[0;34m\u001b[0m\u001b[0m\n\u001b[1;32m    439\u001b[0m     \u001b[0;32mif\u001b[0m \u001b[0misinstance\u001b[0m\u001b[0;34m(\u001b[0m\u001b[0mwrt\u001b[0m\u001b[0;34m,\u001b[0m \u001b[0mset\u001b[0m\u001b[0;34m)\u001b[0m\u001b[0;34m:\u001b[0m\u001b[0;34m\u001b[0m\u001b[0m\n",
      "\u001b[0;31mTypeError\u001b[0m: cost must be a scalar."
     ]
    }
   ],
   "source": [
    "# build neural network class\n",
    "nnmodel = nn.NeuralNet(network, placeholders)\n",
    "nnmodel.inspect_layers()\n",
    "\n",
    "# set output file paths\n",
    "output_name = 'Frey_faces'\n",
    "results_path = utils.make_directory(data_path, 'Results')\n",
    "results_path = utils.make_directory(resutls_path, output_name)\n",
    "file_path = os.path.join(results_path, output_name)\n",
    "nntrainer = nn.NeuralTrainer(nnmodel, optimization, save='best', file_path=file_path)"
   ]
  },
  {
   "cell_type": "code",
   "execution_count": null,
   "metadata": {
    "collapsed": true
   },
   "outputs": [],
   "source": [
    "# train model\n",
    "learn.train_minibatch(nntrainer, data={'train': X_train, 'valid': X_valid}, \n",
    "                              batch_size=100, num_epochs=500, patience=10, verbose=1)"
   ]
  },
  {
   "cell_type": "code",
   "execution_count": null,
   "metadata": {
    "collapsed": false
   },
   "outputs": [],
   "source": [
    "z_var = T.vector()\n",
    "generated_x = layers.get_output(net['decode_mu'], {net['encode_mu']:z_var}, deterministic=True)\n",
    "gen_fn = theano.function([z_var], generated_x)\n",
    "\n",
    "num_grid = 20\n",
    "pos = np.linspace(-2, 2, num_grid)\n",
    "samples = []\n",
    "for i in range(num_grid):\n",
    "    for j in range(num_grid):\n",
    "        z = np.asarray([pos[i], pos[j]], dtype=theano.config.floatX)\n",
    "        samples.append(gen_fn(z))\n",
    "samples = np.array(samples)        \n",
    "                \n",
    "plt.imsave(os.path.join(results_path,'vae_frey_manifold.png'),\n",
    "           (samples.reshape(num_grid, num_grid, 28, 20).transpose(0, 2, 1, 3)\n",
    "            .reshape(num_grid*28, num_grid*20)), cmap='gray')"
   ]
  },
  {
   "cell_type": "code",
   "execution_count": null,
   "metadata": {
    "collapsed": false
   },
   "outputs": [],
   "source": [
    "fig = plt.figure()\n",
    "plt.imshow((samples.reshape(num_grid, num_grid, 28, 20)\n",
    "                   .transpose(0, 2, 1, 3)\n",
    "                   .reshape(num_grid*28, num_grid*20)), cmap='gray')\n",
    "plt.axis('off')\n",
    "fig.set_size_inches(20,20)"
   ]
  },
  {
   "cell_type": "code",
   "execution_count": null,
   "metadata": {
    "collapsed": true
   },
   "outputs": [],
   "source": [
    "num_steps = 10\n",
    "samples = X_train[:num_steps*num_steps]\n",
    "plt.imsave(os.path.join(results_path,'frey_raw.png'), \n",
    "           (samples.reshape(num_steps, num_steps, 28, 20).transpose(0, 2, 1, 3)\n",
    "            .reshape(num_steps*28, num_steps*20)), cmap='gray')"
   ]
  },
  {
   "cell_type": "code",
   "execution_count": null,
   "metadata": {
    "collapsed": true
   },
   "outputs": [],
   "source": []
  },
  {
   "cell_type": "code",
   "execution_count": null,
   "metadata": {
    "collapsed": true
   },
   "outputs": [],
   "source": []
  },
  {
   "cell_type": "code",
   "execution_count": null,
   "metadata": {
    "collapsed": true
   },
   "outputs": [],
   "source": []
  },
  {
   "cell_type": "code",
   "execution_count": null,
   "metadata": {
    "collapsed": true
   },
   "outputs": [],
   "source": []
  }
 ],
 "metadata": {
  "anaconda-cloud": {},
  "kernelspec": {
   "display_name": "Python [Root]",
   "language": "python",
   "name": "Python [Root]"
  },
  "language_info": {
   "codemirror_mode": {
    "name": "ipython",
    "version": 3
   },
   "file_extension": ".py",
   "mimetype": "text/x-python",
   "name": "python",
   "nbconvert_exporter": "python",
   "pygments_lexer": "ipython3",
   "version": "3.5.2"
  }
 },
 "nbformat": 4,
 "nbformat_minor": 1
}
