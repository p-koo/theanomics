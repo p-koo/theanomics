{
 "cells": [
  {
   "cell_type": "code",
   "execution_count": 1,
   "metadata": {
    "collapsed": false
   },
   "outputs": [],
   "source": [
    "from __future__ import absolute_import\n",
    "from __future__ import division\n",
    "from __future__ import print_function\n",
    "\n",
    "import os, sys\n",
    "import numpy as np\n",
    "sys.path.append('..')\n",
    "import theanomics.neuralnetwork as nn\n",
    "from theanomics import learn, utils\n",
    "from models import standard_model, all_conv_model, deepbind_model, residual_deepbind_model\n",
    "\n",
    "#sys.path.append('')\n",
    "import load_data\n",
    "\n",
    "np.random.seed(247) # for reproducibility"
   ]
  },
  {
   "cell_type": "code",
   "execution_count": 2,
   "metadata": {
    "collapsed": false
   },
   "outputs": [
    {
     "name": "stdout",
     "output_type": "stream",
     "text": [
      "loading data from: /Users/juliankimura/Desktop/data/GenomeSimulation/Localized_N=100000_S=200_M=50_G=20_data.pickle\n",
      "loading train data\n",
      "loading cross-validation data\n",
      "loading test data\n"
     ]
    }
   ],
   "source": [
    "# load data\n",
    "data_path = '../../data/GenomeSimulation'\n",
    "file_path = os.path.join(data_path, 'Localized_N=100000_S=200_M=50_G=20_data.pickle')\n",
    "train, valid, test = load_data.simulation_pickle(file_path)"
   ]
  },
  {
   "cell_type": "code",
   "execution_count": 3,
   "metadata": {
    "collapsed": false
   },
   "outputs": [],
   "source": [
    "# build network\n",
    "input_shape = list(train[0].shape)\n",
    "input_shape[0] = None\n",
    "output_shape = train[1].shape\n",
    "network, placeholders, optimization = residual_deepbind_model.model(input_shape, output_shape)"
   ]
  },
  {
   "cell_type": "code",
   "execution_count": 4,
   "metadata": {
    "collapsed": false
   },
   "outputs": [
    {
     "name": "stdout",
     "output_type": "stream",
     "text": [
      "----------------------------------------------------------------------------\n",
      "Network architecture:\n",
      "----------------------------------------------------------------------------\n",
      "layer1: \n",
      "<lasagne.layers.input.InputLayer object at 0x106140e80>\n",
      "shape:(None, 4, 200, 1)\n",
      "layer2: \n",
      "<lasagne.layers.conv.Conv2DLayer object at 0x106140f60>\n",
      "shape:(None, 20, 200, 1)\n",
      "parameters: W\n",
      "layer3: \n",
      "<lasagne.layers.normalization.BatchNormLayer object at 0x106140e48>\n",
      "shape:(None, 20, 200, 1)\n",
      "parameters: beta, gamma, mean, inv_std\n",
      "layer4: \n",
      "<lasagne.layers.special.NonlinearityLayer object at 0x11ad16c88>\n",
      "shape:(None, 20, 200, 1)\n",
      "layer5: \n",
      "<lasagne.layers.conv.Conv2DLayer object at 0x11ad16e80>\n",
      "shape:(None, 20, 200, 1)\n",
      "parameters: W\n",
      "layer6: \n",
      "<lasagne.layers.normalization.BatchNormLayer object at 0x11ad16e48>\n",
      "shape:(None, 20, 200, 1)\n",
      "parameters: beta, gamma, mean, inv_std\n",
      "layer7: \n",
      "<lasagne.layers.special.NonlinearityLayer object at 0x1411aa5c0>\n",
      "shape:(None, 20, 200, 1)\n",
      "layer8: \n",
      "<lasagne.layers.conv.Conv2DLayer object at 0x1411aa7b8>\n",
      "shape:(None, 20, 200, 1)\n",
      "parameters: W\n",
      "layer9: \n",
      "<lasagne.layers.normalization.BatchNormLayer object at 0x1411aa780>\n",
      "shape:(None, 20, 200, 1)\n",
      "parameters: beta, gamma, mean, inv_std\n",
      "layer10: \n",
      "<lasagne.layers.merge.ElemwiseSumLayer object at 0x1411aaeb8>\n",
      "shape:(None, 20, 200, 1)\n",
      "layer11: \n",
      "<lasagne.layers.special.NonlinearityLayer object at 0x1411b20b8>\n",
      "shape:(None, 20, 200, 1)\n",
      "layer12: \n",
      "<lasagne.layers.special.NonlinearityLayer object at 0x1411b20f0>\n",
      "shape:(None, 20, 200, 1)\n",
      "layer13: \n",
      "<lasagne.layers.dense.DenseLayer object at 0x1411b2198>\n",
      "shape:(None, 100)\n",
      "parameters: W\n",
      "layer14: \n",
      "<lasagne.layers.normalization.BatchNormLayer object at 0x1411b2128>\n",
      "shape:(None, 100)\n",
      "parameters: beta, gamma, mean, inv_std\n",
      "layer15: \n",
      "<lasagne.layers.special.NonlinearityLayer object at 0x1411b28d0>\n",
      "shape:(None, 100)\n",
      "layer16: \n",
      "<lasagne.layers.noise.DropoutLayer object at 0x1411b2a90>\n",
      "shape:(None, 100)\n",
      "layer17: \n",
      "<lasagne.layers.dense.DenseLayer object at 0x1411b2b38>\n",
      "shape:(None, 100)\n",
      "parameters: W\n",
      "layer18: \n",
      "<lasagne.layers.normalization.BatchNormLayer object at 0x1411b2b00>\n",
      "shape:(None, 100)\n",
      "parameters: beta, gamma, mean, inv_std\n",
      "layer19: \n",
      "<lasagne.layers.special.NonlinearityLayer object at 0x1411c0278>\n",
      "shape:(None, 100)\n",
      "layer20: \n",
      "<lasagne.layers.dense.DenseLayer object at 0x1411c0470>\n",
      "shape:(None, 100)\n",
      "parameters: W\n",
      "layer21: \n",
      "<lasagne.layers.normalization.BatchNormLayer object at 0x1411c0438>\n",
      "shape:(None, 100)\n",
      "parameters: beta, gamma, mean, inv_std\n",
      "layer22: \n",
      "<lasagne.layers.merge.ElemwiseSumLayer object at 0x1411c0b70>\n",
      "shape:(None, 100)\n",
      "layer23: \n",
      "<lasagne.layers.special.NonlinearityLayer object at 0x1411c0d30>\n",
      "shape:(None, 100)\n",
      "layer24: \n",
      "<lasagne.layers.special.NonlinearityLayer object at 0x1411c0d68>\n",
      "shape:(None, 100)\n",
      "layer25: \n",
      "<lasagne.layers.dense.DenseLayer object at 0x1411c0e10>\n",
      "shape:(None, 20)\n",
      "parameters: W\n",
      "layer26: \n",
      "<lasagne.layers.special.BiasLayer object at 0x1411c0e48>\n",
      "shape:(None, 20)\n",
      "parameters: b\n",
      "layer27: \n",
      "<lasagne.layers.special.NonlinearityLayer object at 0x1411c8048>\n",
      "shape:(None, 20)\n",
      "----------------------------------------------------------------------------\n",
      "compiling model\n"
     ]
    }
   ],
   "source": [
    "# build neural network class\n",
    "nnmodel = nn.NeuralNet(network, placeholders)\n",
    "nnmodel.inspect_layers()\n",
    "\n",
    "# set output file paths\n",
    "output_name = 'test'\n",
    "utils.make_directory(data_path, 'Results')\n",
    "file_path = os.path.join(data_path, 'Results', output_name)\n",
    "nntrainer = nn.NeuralTrainer(nnmodel, optimization, save='best', file_path=file_path)"
   ]
  },
  {
   "cell_type": "code",
   "execution_count": 5,
   "metadata": {
    "collapsed": false,
    "scrolled": true
   },
   "outputs": [
    {
     "name": "stdout",
     "output_type": "stream",
     "text": [
      "Epoch 1 out of 500 \n",
      "[==                            ] 5.0% -- time=107s -- loss=0.45269 -- accuracy=80.10%  "
     ]
    },
    {
     "ename": "KeyboardInterrupt",
     "evalue": "",
     "output_type": "error",
     "traceback": [
      "\u001b[0;31m---------------------------------------------------------------------------\u001b[0m",
      "\u001b[0;31mKeyboardInterrupt\u001b[0m                         Traceback (most recent call last)",
      "\u001b[0;32m<ipython-input-5-c9da8a6f53a4>\u001b[0m in \u001b[0;36m<module>\u001b[0;34m()\u001b[0m\n\u001b[1;32m      1\u001b[0m \u001b[0;31m# train model\u001b[0m\u001b[0;34m\u001b[0m\u001b[0;34m\u001b[0m\u001b[0m\n\u001b[1;32m      2\u001b[0m learn.train_minibatch(nntrainer, data={'train': train, 'valid': valid}, \n\u001b[0;32m----> 3\u001b[0;31m                               batch_size=100, num_epochs=500, patience=10, verbose=1)\n\u001b[0m",
      "\u001b[0;32m/Users/juliankimura/Desktop/deepomics/deepomics/learn.py\u001b[0m in \u001b[0;36mtrain_minibatch\u001b[0;34m(nntrainer, data, batch_size, num_epochs, patience, verbose, shuffle)\u001b[0m\n\u001b[1;32m     26\u001b[0m \u001b[0;34m\u001b[0m\u001b[0m\n\u001b[1;32m     27\u001b[0m                 \u001b[0;31m# training set\u001b[0m\u001b[0;34m\u001b[0m\u001b[0;34m\u001b[0m\u001b[0m\n\u001b[0;32m---> 28\u001b[0;31m                 \u001b[0mtrain_loss\u001b[0m \u001b[0;34m=\u001b[0m \u001b[0mnntrainer\u001b[0m\u001b[0;34m.\u001b[0m\u001b[0mtrain_step\u001b[0m\u001b[0;34m(\u001b[0m\u001b[0mdata\u001b[0m\u001b[0;34m[\u001b[0m\u001b[0;34m'train'\u001b[0m\u001b[0;34m]\u001b[0m\u001b[0;34m,\u001b[0m \u001b[0mbatch_size\u001b[0m\u001b[0;34m,\u001b[0m \u001b[0mverbose\u001b[0m\u001b[0;34m,\u001b[0m \u001b[0mshuffle\u001b[0m\u001b[0;34m)\u001b[0m\u001b[0;34m\u001b[0m\u001b[0m\n\u001b[0m\u001b[1;32m     29\u001b[0m                 \u001b[0mnntrainer\u001b[0m\u001b[0;34m.\u001b[0m\u001b[0madd_loss\u001b[0m\u001b[0;34m(\u001b[0m\u001b[0mtrain_loss\u001b[0m\u001b[0;34m,\u001b[0m \u001b[0;34m'train'\u001b[0m\u001b[0;34m)\u001b[0m\u001b[0;34m\u001b[0m\u001b[0m\n\u001b[1;32m     30\u001b[0m \u001b[0;34m\u001b[0m\u001b[0m\n",
      "\u001b[0;32m/Users/juliankimura/Desktop/deepomics/deepomics/neuralnetwork.py\u001b[0m in \u001b[0;36mtrain_step\u001b[0;34m(self, train, batch_size, verbose, shuffle)\u001b[0m\n\u001b[1;32m    236\u001b[0m                 \u001b[0;32mfor\u001b[0m \u001b[0mi\u001b[0m \u001b[0;32min\u001b[0m \u001b[0mrange\u001b[0m\u001b[0;34m(\u001b[0m\u001b[0mnum_batches\u001b[0m\u001b[0;34m)\u001b[0m\u001b[0;34m:\u001b[0m\u001b[0;34m\u001b[0m\u001b[0m\n\u001b[1;32m    237\u001b[0m                         \u001b[0mX\u001b[0m \u001b[0;34m=\u001b[0m \u001b[0mnext\u001b[0m\u001b[0;34m(\u001b[0m\u001b[0mbatches\u001b[0m\u001b[0;34m)\u001b[0m\u001b[0;34m\u001b[0m\u001b[0m\n\u001b[0;32m--> 238\u001b[0;31m                         \u001b[0mloss\u001b[0m\u001b[0;34m,\u001b[0m \u001b[0mprediction\u001b[0m \u001b[0;34m=\u001b[0m \u001b[0mself\u001b[0m\u001b[0;34m.\u001b[0m\u001b[0mtrain_fun\u001b[0m\u001b[0;34m(\u001b[0m\u001b[0;34m*\u001b[0m\u001b[0mX\u001b[0m\u001b[0;34m)\u001b[0m\u001b[0;34m\u001b[0m\u001b[0m\n\u001b[0m\u001b[1;32m    239\u001b[0m                         \u001b[0mvalue\u001b[0m \u001b[0;34m+=\u001b[0m \u001b[0mself\u001b[0m\u001b[0;34m.\u001b[0m\u001b[0mtrain_metric\u001b[0m\u001b[0;34m(\u001b[0m\u001b[0mprediction\u001b[0m\u001b[0;34m,\u001b[0m \u001b[0mX\u001b[0m\u001b[0;34m[\u001b[0m\u001b[0;34m-\u001b[0m\u001b[0;36m1\u001b[0m\u001b[0;34m]\u001b[0m\u001b[0;34m)\u001b[0m\u001b[0;34m\u001b[0m\u001b[0m\n\u001b[1;32m    240\u001b[0m                         \u001b[0mperformance\u001b[0m\u001b[0;34m.\u001b[0m\u001b[0madd_loss\u001b[0m\u001b[0;34m(\u001b[0m\u001b[0mloss\u001b[0m\u001b[0;34m)\u001b[0m\u001b[0;34m\u001b[0m\u001b[0m\n",
      "\u001b[0;32m/Users/juliankimura/anaconda/lib/python3.5/site-packages/theano/compile/function_module.py\u001b[0m in \u001b[0;36m__call__\u001b[0;34m(self, *args, **kwargs)\u001b[0m\n\u001b[1;32m    882\u001b[0m         \u001b[0;32mtry\u001b[0m\u001b[0;34m:\u001b[0m\u001b[0;34m\u001b[0m\u001b[0m\n\u001b[1;32m    883\u001b[0m             \u001b[0moutputs\u001b[0m \u001b[0;34m=\u001b[0m\u001b[0;31m\\\u001b[0m\u001b[0;34m\u001b[0m\u001b[0m\n\u001b[0;32m--> 884\u001b[0;31m                 \u001b[0mself\u001b[0m\u001b[0;34m.\u001b[0m\u001b[0mfn\u001b[0m\u001b[0;34m(\u001b[0m\u001b[0;34m)\u001b[0m \u001b[0;32mif\u001b[0m \u001b[0moutput_subset\u001b[0m \u001b[0;32mis\u001b[0m \u001b[0;32mNone\u001b[0m \u001b[0;32melse\u001b[0m\u001b[0;31m\\\u001b[0m\u001b[0;34m\u001b[0m\u001b[0m\n\u001b[0m\u001b[1;32m    885\u001b[0m                 \u001b[0mself\u001b[0m\u001b[0;34m.\u001b[0m\u001b[0mfn\u001b[0m\u001b[0;34m(\u001b[0m\u001b[0moutput_subset\u001b[0m\u001b[0;34m=\u001b[0m\u001b[0moutput_subset\u001b[0m\u001b[0;34m)\u001b[0m\u001b[0;34m\u001b[0m\u001b[0m\n\u001b[1;32m    886\u001b[0m         \u001b[0;32mexcept\u001b[0m \u001b[0mException\u001b[0m\u001b[0;34m:\u001b[0m\u001b[0;34m\u001b[0m\u001b[0m\n",
      "\u001b[0;31mKeyboardInterrupt\u001b[0m: "
     ]
    }
   ],
   "source": [
    "# train model\n",
    "learn.train_minibatch(nntrainer, data={'train': train, 'valid': valid}, \n",
    "                              batch_size=100, num_epochs=500, patience=10, verbose=1)"
   ]
  },
  {
   "cell_type": "code",
   "execution_count": null,
   "metadata": {
    "collapsed": true
   },
   "outputs": [],
   "source": [
    "# load best model --> lowest cross-validation error\n",
    "nntrainer.set_best_parameters()\n",
    "\n",
    "# test model\n",
    "nntrainer.test_model(test, name=\"test\", batch_size=100)"
   ]
  },
  {
   "cell_type": "code",
   "execution_count": null,
   "metadata": {
    "collapsed": true
   },
   "outputs": [],
   "source": [
    "# save all performance metrics (train, valid, test)\n",
    "nntrainer.save_all_metrics(file_path)"
   ]
  },
  {
   "cell_type": "code",
   "execution_count": null,
   "metadata": {
    "collapsed": true
   },
   "outputs": [],
   "source": []
  }
 ],
 "metadata": {
  "anaconda-cloud": {},
  "kernelspec": {
   "display_name": "Python [Root]",
   "language": "python",
   "name": "Python [Root]"
  },
  "language_info": {
   "codemirror_mode": {
    "name": "ipython",
    "version": 3
   },
   "file_extension": ".py",
   "mimetype": "text/x-python",
   "name": "python",
   "nbconvert_exporter": "python",
   "pygments_lexer": "ipython3",
   "version": "3.5.2"
  }
 },
 "nbformat": 4,
 "nbformat_minor": 0
}
