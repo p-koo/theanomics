{
 "cells": [
  {
   "cell_type": "code",
   "execution_count": 1,
   "metadata": {
    "collapsed": false
   },
   "outputs": [],
   "source": [
    "from __future__ import absolute_import\n",
    "from __future__ import division\n",
    "from __future__ import print_function\n",
    "\n",
    "import os, sys\n",
    "import numpy as np\n",
    "from scipy.io import loadmat\n",
    "import matplotlib.pyplot as plt\n",
    "%matplotlib inline\n",
    "\n",
    "sys.path.append('/Users/juliankimura/Desktop/deepomics')\n",
    "import deepomics.neuralnetwork as nn\n",
    "from deepomics import learn, utils\n",
    "from models import vae_model\n",
    "\n",
    "import theano\n",
    "import theano.tensor as T\n",
    "from lasagne import layers\n",
    "\n",
    "np.random.seed(247)   # for reproducibility"
   ]
  },
  {
   "cell_type": "code",
   "execution_count": 12,
   "metadata": {
    "collapsed": false
   },
   "outputs": [],
   "source": [
    "def load_dataset(data_path):\n",
    "    import gzip\n",
    "    def load_mnist_images(filename):\n",
    "        with gzip.open(filename, 'rb') as f:\n",
    "            data = np.frombuffer(f.read(), np.uint8, offset=16)\n",
    "        data = data.reshape(-1, 28*28)\n",
    "        return data / np.float32(256)\n",
    "\n",
    "    def load_mnist_labels(filename):\n",
    "        with gzip.open(filename, 'rb') as f:\n",
    "            data = np.frombuffer(f.read(), np.uint8, offset=8)\n",
    "        return data\n",
    "\n",
    "    # We can now download and read the training and test set images and labels.\n",
    "    X_train = load_mnist_images(os.path.join(data_path,'train-images-idx3-ubyte.gz'))\n",
    "    y_train = load_mnist_labels(os.path.join(data_path,'train-labels-idx1-ubyte.gz'))\n",
    "    X_test = load_mnist_images(os.path.join(data_path,'t10k-images-idx3-ubyte.gz'))\n",
    "    y_test = load_mnist_labels(os.path.join(data_path,'t10k-labels-idx1-ubyte.gz'))\n",
    "\n",
    "    # We reserve the last 10000 training examples for validation.\n",
    "    X_train, X_val = X_train[:-10000], X_train[-10000:]\n",
    "    y_train, y_val = y_train[:-10000], y_train[-10000:]\n",
    "\n",
    "    # We just return all the arrays in order, as expected in main().\n",
    "    # (It doesn't matter how we do this as long as we can read them again.)\n",
    "    return X_train, y_train, X_val, y_val, X_test, y_test\n",
    "\n",
    "\n",
    "data_path = '/Users/juliankimura/Desktop/data/MNIST'\n",
    "X_train, y_train, X_val, y_val, X_test, y_test = load_dataset(data_path)\n"
   ]
  },
  {
   "cell_type": "code",
   "execution_count": 13,
   "metadata": {
    "collapsed": false
   },
   "outputs": [
    {
     "data": {
      "text/plain": [
       "(50000, 784)"
      ]
     },
     "execution_count": 13,
     "metadata": {},
     "output_type": "execute_result"
    }
   ],
   "source": [
    "X_train.shape"
   ]
  },
  {
   "cell_type": "code",
   "execution_count": 14,
   "metadata": {
    "collapsed": true
   },
   "outputs": [],
   "source": [
    "shape = (None, X_train.shape[1])\n",
    "network, placeholders, optimization = vae_model.model(shape)"
   ]
  },
  {
   "cell_type": "code",
   "execution_count": 16,
   "metadata": {
    "collapsed": false
   },
   "outputs": [
    {
     "name": "stdout",
     "output_type": "stream",
     "text": [
      "----------------------------------------------------------------------------\n",
      "Network architecture:\n",
      "----------------------------------------------------------------------------\n",
      "layer1: \n",
      "<lasagne.layers.input.InputLayer object at 0x12c8cc588>\n",
      "shape:(None, 784)\n",
      "layer2: \n",
      "<lasagne.layers.dense.DenseLayer object at 0x12c8cc5f8>\n",
      "shape:(None, 200)\n",
      "parameters: W\n",
      "layer3: \n",
      "<lasagne.layers.normalization.BatchNormLayer object at 0x12c8cc5c0>\n",
      "shape:(None, 200)\n",
      "parameters: beta, gamma, mean, inv_std\n",
      "layer4: \n",
      "<lasagne.layers.special.NonlinearityLayer object at 0x12c8cccf8>\n",
      "shape:(None, 200)\n",
      "layer5: \n",
      "<lasagne.layers.noise.DropoutLayer object at 0x12c8cceb8>\n",
      "shape:(None, 200)\n",
      "layer6: \n",
      "<lasagne.layers.dense.DenseLayer object at 0x12c8ccf60>\n",
      "shape:(None, 100)\n",
      "parameters: W\n",
      "layer7: \n",
      "<lasagne.layers.normalization.BatchNormLayer object at 0x12c8ccf28>\n",
      "shape:(None, 100)\n",
      "parameters: beta, gamma, mean, inv_std\n",
      "layer8: \n",
      "<lasagne.layers.special.NonlinearityLayer object at 0x12c8bd6a0>\n",
      "shape:(None, 100)\n",
      "layer9: \n",
      "<lasagne.layers.noise.DropoutLayer object at 0x12c8bd860>\n",
      "shape:(None, 100)\n",
      "layer10: \n",
      "<lasagne.layers.dense.DenseLayer object at 0x12c8bd8d0>\n",
      "shape:(None, 4)\n",
      "parameters: W, b\n",
      "layer11: \n",
      "<lasagne.layers.dense.DenseLayer object at 0x12c8bfda0>\n",
      "shape:(None, 4)\n",
      "parameters: W, b\n",
      "layer12: \n",
      "<deepomics.build_network.VariationalSampleLayer object at 0x12c8bf470>\n",
      "shape:(None, 4)\n",
      "layer13: \n",
      "<lasagne.layers.special.NonlinearityLayer object at 0x12c8bf5c0>\n",
      "shape:(None, 4)\n",
      "layer14: \n",
      "<lasagne.layers.dense.DenseLayer object at 0x12c8bf2e8>\n",
      "shape:(None, 100)\n",
      "parameters: W\n",
      "layer15: \n",
      "<lasagne.layers.special.BiasLayer object at 0x12c8bf400>\n",
      "shape:(None, 100)\n",
      "parameters: b\n",
      "layer16: \n",
      "<lasagne.layers.special.NonlinearityLayer object at 0x12c8bf748>\n",
      "shape:(None, 100)\n",
      "layer17: \n",
      "<lasagne.layers.dense.DenseLayer object at 0x12c8bf7f0>\n",
      "shape:(None, 200)\n",
      "parameters: W\n",
      "layer18: \n",
      "<lasagne.layers.special.BiasLayer object at 0x12c8bf6a0>\n",
      "shape:(None, 200)\n",
      "parameters: b\n",
      "layer19: \n",
      "<lasagne.layers.special.NonlinearityLayer object at 0x12c8bfac8>\n",
      "shape:(None, 200)\n",
      "layer20: \n",
      "<lasagne.layers.dense.DenseLayer object at 0x12c8bfeb8>\n",
      "shape:(None, 784)\n",
      "parameters: W\n",
      "layer21: \n",
      "<lasagne.layers.special.BiasLayer object at 0x12c8bf8d0>\n",
      "shape:(None, 784)\n",
      "parameters: b\n",
      "layer22: \n",
      "<lasagne.layers.special.NonlinearityLayer object at 0x12c8ba1d0>\n",
      "shape:(None, 784)\n",
      "----------------------------------------------------------------------------\n",
      "making directory: /Users/juliankimura/Desktop/data/MNIST/Results/MNIST_vae\n",
      "compiling model\n"
     ]
    }
   ],
   "source": [
    "# build neural network class\n",
    "nnmodel = nn.NeuralNet(network, placeholders)\n",
    "nnmodel.inspect_layers()\n",
    "\n",
    "# set output file paths\n",
    "output_name = 'MNIST_vae'\n",
    "results_path = utils.make_directory(data_path, 'Results')\n",
    "results_path = utils.make_directory(results_path, output_name)\n",
    "file_path = os.path.join(results_path, output_name)\n",
    "nntrainer = nn.NeuralTrainer(nnmodel, optimization, save='best', file_path=file_path)"
   ]
  },
  {
   "cell_type": "code",
   "execution_count": 18,
   "metadata": {
    "collapsed": false
   },
   "outputs": [
    {
     "name": "stdout",
     "output_type": "stream",
     "text": [
      "\r",
      "Epoch 1 out of 500 \n"
     ]
    },
    {
     "ename": "TypeError",
     "evalue": "Too many parameter passed to theano function",
     "output_type": "error",
     "traceback": [
      "\u001b[0;31m---------------------------------------------------------------------------\u001b[0m",
      "\u001b[0;31mTypeError\u001b[0m                                 Traceback (most recent call last)",
      "\u001b[0;32m<ipython-input-18-b67afc6043e1>\u001b[0m in \u001b[0;36m<module>\u001b[0;34m()\u001b[0m\n\u001b[1;32m      1\u001b[0m \u001b[0;31m# train model\u001b[0m\u001b[0;34m\u001b[0m\u001b[0;34m\u001b[0m\u001b[0m\n\u001b[1;32m      2\u001b[0m learn.train_minibatch(nntrainer, data={'train': X_train, 'valid': X_val}, \n\u001b[0;32m----> 3\u001b[0;31m                               batch_size=100, num_epochs=500, patience=10, verbose=1)\n\u001b[0m",
      "\u001b[0;32m/Users/juliankimura/Desktop/deepomics/deepomics/learn.py\u001b[0m in \u001b[0;36mtrain_minibatch\u001b[0;34m(nntrainer, data, batch_size, num_epochs, patience, verbose, shuffle)\u001b[0m\n\u001b[1;32m     26\u001b[0m \u001b[0;34m\u001b[0m\u001b[0m\n\u001b[1;32m     27\u001b[0m                 \u001b[0;31m# training set\u001b[0m\u001b[0;34m\u001b[0m\u001b[0;34m\u001b[0m\u001b[0m\n\u001b[0;32m---> 28\u001b[0;31m                 \u001b[0mtrain_loss\u001b[0m \u001b[0;34m=\u001b[0m \u001b[0mnntrainer\u001b[0m\u001b[0;34m.\u001b[0m\u001b[0mtrain_step\u001b[0m\u001b[0;34m(\u001b[0m\u001b[0mdata\u001b[0m\u001b[0;34m[\u001b[0m\u001b[0;34m'train'\u001b[0m\u001b[0;34m]\u001b[0m\u001b[0;34m,\u001b[0m \u001b[0mbatch_size\u001b[0m\u001b[0;34m,\u001b[0m \u001b[0mverbose\u001b[0m\u001b[0;34m,\u001b[0m \u001b[0mshuffle\u001b[0m\u001b[0;34m)\u001b[0m\u001b[0;34m\u001b[0m\u001b[0m\n\u001b[0m\u001b[1;32m     29\u001b[0m                 \u001b[0mnntrainer\u001b[0m\u001b[0;34m.\u001b[0m\u001b[0madd_loss\u001b[0m\u001b[0;34m(\u001b[0m\u001b[0mtrain_loss\u001b[0m\u001b[0;34m,\u001b[0m \u001b[0;34m'train'\u001b[0m\u001b[0;34m)\u001b[0m\u001b[0;34m\u001b[0m\u001b[0m\n\u001b[1;32m     30\u001b[0m \u001b[0;34m\u001b[0m\u001b[0m\n",
      "\u001b[0;32m/Users/juliankimura/Desktop/deepomics/deepomics/neuralnetwork.py\u001b[0m in \u001b[0;36mtrain_step\u001b[0;34m(self, train, batch_size, verbose, shuffle)\u001b[0m\n\u001b[1;32m    232\u001b[0m                 \u001b[0;32mfor\u001b[0m \u001b[0mi\u001b[0m \u001b[0;32min\u001b[0m \u001b[0mrange\u001b[0m\u001b[0;34m(\u001b[0m\u001b[0mnum_batches\u001b[0m\u001b[0;34m)\u001b[0m\u001b[0;34m:\u001b[0m\u001b[0;34m\u001b[0m\u001b[0m\n\u001b[1;32m    233\u001b[0m                         \u001b[0mX\u001b[0m \u001b[0;34m=\u001b[0m \u001b[0mnext\u001b[0m\u001b[0;34m(\u001b[0m\u001b[0mbatches\u001b[0m\u001b[0;34m)\u001b[0m\u001b[0;34m\u001b[0m\u001b[0m\n\u001b[0;32m--> 234\u001b[0;31m                         \u001b[0mloss\u001b[0m\u001b[0;34m,\u001b[0m \u001b[0mprediction\u001b[0m \u001b[0;34m=\u001b[0m \u001b[0mself\u001b[0m\u001b[0;34m.\u001b[0m\u001b[0mtrain_fun\u001b[0m\u001b[0;34m(\u001b[0m\u001b[0;34m*\u001b[0m\u001b[0mX\u001b[0m\u001b[0;34m)\u001b[0m\u001b[0;34m\u001b[0m\u001b[0m\n\u001b[0m\u001b[1;32m    235\u001b[0m                         \u001b[0mvalue\u001b[0m \u001b[0;34m+=\u001b[0m \u001b[0mself\u001b[0m\u001b[0;34m.\u001b[0m\u001b[0mtrain_metric\u001b[0m\u001b[0;34m(\u001b[0m\u001b[0mprediction\u001b[0m\u001b[0;34m,\u001b[0m \u001b[0mX\u001b[0m\u001b[0;34m[\u001b[0m\u001b[0;34m-\u001b[0m\u001b[0;36m1\u001b[0m\u001b[0;34m]\u001b[0m\u001b[0;34m)\u001b[0m\u001b[0;34m\u001b[0m\u001b[0m\n\u001b[1;32m    236\u001b[0m                         \u001b[0mperformance\u001b[0m\u001b[0;34m.\u001b[0m\u001b[0madd_loss\u001b[0m\u001b[0;34m(\u001b[0m\u001b[0mloss\u001b[0m\u001b[0;34m)\u001b[0m\u001b[0;34m\u001b[0m\u001b[0m\n",
      "\u001b[0;32m/Users/juliankimura/anaconda/lib/python3.5/site-packages/theano/compile/function_module.py\u001b[0m in \u001b[0;36m__call__\u001b[0;34m(self, *args, **kwargs)\u001b[0m\n\u001b[1;32m    777\u001b[0m \u001b[0;34m\u001b[0m\u001b[0m\n\u001b[1;32m    778\u001b[0m             \u001b[0;32mif\u001b[0m \u001b[0mlen\u001b[0m\u001b[0;34m(\u001b[0m\u001b[0margs\u001b[0m\u001b[0;34m)\u001b[0m \u001b[0;34m+\u001b[0m \u001b[0mlen\u001b[0m\u001b[0;34m(\u001b[0m\u001b[0mkwargs\u001b[0m\u001b[0;34m)\u001b[0m \u001b[0;34m>\u001b[0m \u001b[0mlen\u001b[0m\u001b[0;34m(\u001b[0m\u001b[0mself\u001b[0m\u001b[0;34m.\u001b[0m\u001b[0minput_storage\u001b[0m\u001b[0;34m)\u001b[0m\u001b[0;34m:\u001b[0m\u001b[0;34m\u001b[0m\u001b[0m\n\u001b[0;32m--> 779\u001b[0;31m                 \u001b[0;32mraise\u001b[0m \u001b[0mTypeError\u001b[0m\u001b[0;34m(\u001b[0m\u001b[0;34m\"Too many parameter passed to theano function\"\u001b[0m\u001b[0;34m)\u001b[0m\u001b[0;34m\u001b[0m\u001b[0m\n\u001b[0m\u001b[1;32m    780\u001b[0m \u001b[0;34m\u001b[0m\u001b[0m\n\u001b[1;32m    781\u001b[0m             \u001b[0;31m# Set positional arguments\u001b[0m\u001b[0;34m\u001b[0m\u001b[0;34m\u001b[0m\u001b[0m\n",
      "\u001b[0;31mTypeError\u001b[0m: Too many parameter passed to theano function"
     ]
    }
   ],
   "source": [
    "# train model\n",
    "learn.train_minibatch(nntrainer, data={'train': X_train, 'valid': X_val}, \n",
    "                              batch_size=100, num_epochs=500, patience=10, verbose=1)"
   ]
  },
  {
   "cell_type": "code",
   "execution_count": 48,
   "metadata": {
    "collapsed": false
   },
   "outputs": [
    {
     "name": "stdout",
     "output_type": "stream",
     "text": [
      "Starting training...\n",
      "Epoch 1 of 10 took 32.593s\n",
      "  training loss:\t\t[ 0.96025641  0.99959936]\n",
      "Epoch 2 of 10 took 32.969s\n",
      "  training loss:\t\t[ 0.94058494  0.99953926]\n",
      "Epoch 3 of 10 took 32.854s\n",
      "  training loss:\t\t[ 0.95222356  0.99897837]\n",
      "Epoch 4 of 10 took 32.921s\n",
      "  training loss:\t\t[ 0.96442308  0.99919872]\n",
      "Epoch 5 of 10 took 33.268s\n",
      "  training loss:\t\t[ 0.95250401  0.99789663]\n",
      "Epoch 6 of 10 took 32.721s\n",
      "  training loss:\t\t[ 0.93984375  0.99829728]\n",
      "Epoch 7 of 10 took 32.951s\n",
      "  training loss:\t\t[ 0.0072516  0.9974359]\n",
      "Epoch 8 of 10 took 32.625s\n",
      "  training loss:\t\t[ 0.62822516  0.97516026]\n",
      "Epoch 9 of 10 took 32.624s\n",
      "  training loss:\t\t[ 0.9219351   0.98052885]\n",
      "Epoch 10 of 10 took 32.601s\n",
      "  training loss:\t\t[ 0.92059295  0.99665465]\n"
     ]
    }
   ],
   "source": [
    "z_var = T.vector()\n",
    "generated_x = layers.get_output(net['decode_mu'], {net['encode_mu']:z_var}, deterministic=True)\n",
    "gen_fn = theano.function([z_var], generated_x)\n",
    "\n",
    "num_grid = 20\n",
    "pos = np.linspace(-2, 2, num_grid)\n",
    "samples = []\n",
    "for i in range(num_grid):\n",
    "    for j in range(num_grid):\n",
    "        z = np.asarray([pos[i], pos[j]], dtype=theano.config.floatX)\n",
    "        samples.append(gen_fn(z))\n",
    "samples = np.array(samples)        \n",
    "                \n",
    "plt.imsave(os.path.join(results_path,'MNIST_manifold.png'),\n",
    "           (samples.reshape(num_grid, num_grid, 28, 20).transpose(0, 2, 1, 3)\n",
    "            .reshape(num_grid*28, num_grid*20)), cmap='gray')"
   ]
  },
  {
   "cell_type": "code",
   "execution_count": 49,
   "metadata": {
    "collapsed": false
   },
   "outputs": [
    {
     "data": {
      "image/png": "[encoded data removed]",
      "text/plain": [
       "<matplotlib.figure.Figure at 0x7fb1721f7350>"
      ]
     },
     "metadata": {},
     "output_type": "display_data"
    }
   ],
   "source": [
    "fig = plt.figure()\n",
    "plt.imshow((samples.reshape(num_grid, num_grid, 28, 20)\n",
    "                   .transpose(0, 2, 1, 3)\n",
    "                   .reshape(num_grid*28, num_grid*20)), cmap='gray')\n",
    "plt.axis('off')\n",
    "fig.set_size_inches(20,20)"
   ]
  },
  {
   "cell_type": "code",
   "execution_count": 71,
   "metadata": {
    "collapsed": false
   },
   "outputs": [],
   "source": [
    "num_steps = 10\n",
    "samples = X_train[:num_steps*num_steps]\n",
    "plt.imsave(os.path.join(results_path,'MNIST_raw.png'), \n",
    "           (samples.reshape(num_steps, num_steps, 28, 20).transpose(0, 2, 1, 3)\n",
    "            .reshape(num_steps*28, num_steps*20)), cmap='gray')"
   ]
  },
  {
   "cell_type": "code",
   "execution_count": 69,
   "metadata": {
    "collapsed": false
   },
   "outputs": [],
   "source": []
  },
  {
   "cell_type": "code",
   "execution_count": 70,
   "metadata": {
    "collapsed": true
   },
   "outputs": [],
   "source": []
  },
  {
   "cell_type": "code",
   "execution_count": null,
   "metadata": {
    "collapsed": true
   },
   "outputs": [],
   "source": []
  }
 ],
 "metadata": {
  "anaconda-cloud": {},
  "kernelspec": {
   "display_name": "Python [Root]",
   "language": "python",
   "name": "Python [Root]"
  },
  "language_info": {
   "codemirror_mode": {
    "name": "ipython",
    "version": 3
   },
   "file_extension": ".py",
   "mimetype": "text/x-python",
   "name": "python",
   "nbconvert_exporter": "python",
   "pygments_lexer": "ipython3",
   "version": "3.5.2"
  }
 },
 "nbformat": 4,
 "nbformat_minor": 1
}
