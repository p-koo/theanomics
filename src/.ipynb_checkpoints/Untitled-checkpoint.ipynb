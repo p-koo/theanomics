{
 "cells": [
  {
   "cell_type": "code",
   "execution_count": 1,
   "metadata": {
    "collapsed": false
   },
   "outputs": [
    {
     "name": "stderr",
     "output_type": "stream",
     "text": [
      "Using gpu device 0: GeForce GTX 980 (CNMeM is disabled, CuDNN 4007)\n"
     ]
    },
    {
     "name": "stdout",
     "output_type": "stream",
     "text": [
      "loading data from: /home/peter/Data/SequenceMotif/N=100000_S=200_M=10_G=20_data.pickle\n",
      "loading train data\n",
      "loading cross-validation data\n",
      "loading test data\n"
     ]
    }
   ],
   "source": [
    "#/bin/python\n",
    "import sys\n",
    "import os\n",
    "import numpy as np\n",
    "sys.path.append('..')\n",
    "from src import NeuralNet\n",
    "from src import train as fit\n",
    "from src import make_directory \n",
    "from models import load_model\n",
    "from data import load_data\n",
    "np.random.seed(247) # for reproducibility\n",
    "\n",
    "#------------------------------------------------------------------------------\n",
    "# load data\n",
    "\n",
    "name = 'MotifSimulation_categorical'\n",
    "datapath = '/home/peter/Data/SequenceMotif'\n",
    "filepath = os.path.join(datapath, 'N=100000_S=200_M=10_G=20_data.pickle')\n",
    "train, valid, test = load_data(name, filepath)\n",
    "shape = (None, train[0].shape[1], train[0].shape[2], train[0].shape[3])\n",
    "num_labels = max(train[1])+1\n",
    "\n",
    "#-------------------------------------------------------------------------------------\n",
    "\n",
    "# load model parameters\n",
    "model_name = \"categorical_genome_motif_model\"\n",
    "nnmodel = NeuralNet(model_name, shape, num_labels)"
   ]
  },
  {
   "cell_type": "code",
   "execution_count": 2,
   "metadata": {
    "collapsed": false
   },
   "outputs": [
    {
     "data": {
      "text/plain": [
       "'/home/peter/Data/SequenceMotif/N=100000_S=200_M=10_G=20_data.pickle'"
      ]
     },
     "execution_count": 2,
     "metadata": {},
     "output_type": "execute_result"
    }
   ],
   "source": [
    "filepath"
   ]
  },
  {
   "cell_type": "code",
   "execution_count": 10,
   "metadata": {
    "collapsed": false
   },
   "outputs": [],
   "source": [
    "from six.moves import cPickle\n",
    "outputname = 'new'\n",
    "filepath = os.path.join(datapath, 'Results', outputname)\n",
    "savepath = filepath + \"_best.pickle\"\n",
    "f = open(savepath, 'rb')\n",
    "best_parameters = cPickle.load(f)\n",
    "f.close()"
   ]
  },
  {
   "cell_type": "code",
   "execution_count": 5,
   "metadata": {
    "collapsed": false
   },
   "outputs": [],
   "source": [
    "nnmodel.reinitialize()\n",
    "\n",
    "# load model parameters for a given training epoch\n",
    "savepath = filepath + \"_epoch_\" + str(1) + \".pickle\"\n",
    "f = open(savepath, 'rb')\n",
    "best_parameters = cPickle.load(f)\n",
    "f.close()\n",
    "\n",
    "# get test metrics \n",
    "nnmodel.set_model_parameters(best_parameters)"
   ]
  },
  {
   "cell_type": "code",
   "execution_count": 35,
   "metadata": {
    "collapsed": false
   },
   "outputs": [],
   "source": [
    "\n",
    "def get_performance(savepath):\n",
    "    with open(savepath, 'rb') as f:\n",
    "        name = cPickle.load(f)\n",
    "        cost = cPickle.load(f)\n",
    "        metric = cPickle.load(f)\n",
    "        metric_std = cPickle.load(f)\n",
    "        roc = cPickle.load(f)\n",
    "        pr = cPickle.load(f)\n",
    "    return cost, metric, metric_std, roc, pr\n",
    "\n",
    "savepath = filepath + \"_train_performance.pickle\"\n",
    "train_cost, train_metric, train_metric_std, train_roc, trian_pr = get_performance(savepath)\n",
    "\n",
    "savepath = filepath + \"_cross-validation_performance.pickle\"\n",
    "valid_cost, valid_metric, valid_metric_std, valid_roc, valid_pr = get_performance(savepath)\n",
    "\n",
    "savepath = filepath + \"_test_performance.pickle\"\n",
    "best_cost, best_metric, best_metric_std, best_roc, best_pr = get_performance(savepath)\n",
    "\n",
    "savepath = filepath + \"_test_all_performance.pickle\"\n",
    "test_cost, test_metric, test_metric_std, test_roc, test_pr = get_performance(savepath)\n",
    "\n"
   ]
  },
  {
   "cell_type": "code",
   "execution_count": null,
   "metadata": {
    "collapsed": false
   },
   "outputs": [],
   "source": [
    "from matplotlib import pyplot as plt\n",
    "def plot_loss(loss):\n",
    "    \"\"\"Plot trainig/validation/test loss during training\"\"\"\n",
    "\n",
    "    fig = plt.figure()\n",
    "    num_data_types = len(loss)\n",
    "    if num_data_types == 2:\n",
    "        plt.plot(loss[0], label='train loss')\n",
    "        plt.plot(loss[1], label='valid loss')\n",
    "    elif num_data_types == 3:\n",
    "        plt.plot(loss[0], label='train loss')\n",
    "        plt.plot(loss[1], label='valid loss')\n",
    "        plt.plot(loss[2], label='test loss')\n",
    "\n",
    "        plt.xlabel('epoch')\n",
    "        plt.ylabel('loss')\n",
    "        plt.legend(loc='best', frameon=False)\n",
    "        plt.show()\n",
    "    return plt\n",
    "\n",
    "plot_loss([train_cost, valid_cost, test_cost])\n",
    "plt.set_fontsize(20)\n",
    "plt..set_linewidth(1.0)\n"
   ]
  },
  {
   "cell_type": "code",
   "execution_count": 22,
   "metadata": {
    "collapsed": false
   },
   "outputs": [
    {
     "data": {
      "text/plain": [
       "array([[ 0.        ,  0.        ,  0.        ],\n",
       "       [ 0.00560875,  0.00271855,  0.05303741]])"
      ]
     },
     "execution_count": 22,
     "metadata": {},
     "output_type": "execute_result"
    }
   ],
   "source": [
    "metric_std"
   ]
  },
  {
   "cell_type": "code",
   "execution_count": null,
   "metadata": {
    "collapsed": true
   },
   "outputs": [],
   "source": []
  }
 ],
 "metadata": {
  "kernelspec": {
   "display_name": "Python 2",
   "language": "python",
   "name": "python2"
  },
  "language_info": {
   "codemirror_mode": {
    "name": "ipython",
    "version": 2
   },
   "file_extension": ".py",
   "mimetype": "text/x-python",
   "name": "python",
   "nbconvert_exporter": "python",
   "pygments_lexer": "ipython2",
   "version": "2.7.11"
  }
 },
 "nbformat": 4,
 "nbformat_minor": 0
}
