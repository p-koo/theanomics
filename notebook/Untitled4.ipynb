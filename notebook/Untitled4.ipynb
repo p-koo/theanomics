{
 "cells": [
  {
   "cell_type": "code",
   "execution_count": 1,
   "metadata": {
    "collapsed": false
   },
   "outputs": [
    {
     "name": "stderr",
     "output_type": "stream",
     "text": [
      "Using gpu device 0: GeForce GTX 980 (CNMeM is disabled, CuDNN 4007)\n"
     ]
    }
   ],
   "source": [
    "import os, sys, gzip\n",
    "import numpy as np\n",
    "from six.moves import cPickle\n",
    "sys.setrecursionlimit(10000)\n",
    "\n",
    "from lasagne import layers, nonlinearities, updates, objectives, init \n",
    "from lasagne.layers import get_output, get_output_shape, get_all_params\n",
    "import theano.tensor as T\n",
    "import theano\n",
    "from theano.tensor.shared_randomstreams import RandomStreams\n",
    "from lasagne.layers import Conv2DLayer, DenseLayer, InputLayer, ExpressionLayer, BiasLayer\n",
    "from lasagne.layers import NonlinearityLayer, MaxPool2DLayer, DropoutLayer, BatchNormLayer\n",
    "\n",
    "\n",
    "sys.path.append('..')\n",
    "from src import NeuralNet\n",
    "from src import train as fit\n",
    "from src import make_directory \n",
    "from models import load_model\n",
    "from data import load_data\n",
    "\n",
    "from subprocess import call\n",
    "\n",
    "np.random.seed(247) # for reproducibility\n",
    "\n",
    "import matplotlib.pyplot as plt\n",
    "from matplotlib import cm\n",
    "import matplotlib as mpl\n",
    "from matplotlib import rcParams\n",
    "rcParams.update({'figure.autolayout': True})\n",
    "%matplotlib inline\n",
    "from scipy.misc import imresize\n",
    "\n",
    "datadir = '/home/peter/Data/SequenceMotif/networkcomparison'\n",
    "savedir = make_directory(datadir, 'deep')\n",
    "\n",
    "from tsne import bh_sne\n",
    "from subprocess import call"
   ]
  },
  {
   "cell_type": "code",
   "execution_count": 2,
   "metadata": {
    "collapsed": false
   },
   "outputs": [
    {
     "name": "stdout",
     "output_type": "stream",
     "text": [
      "loading data from: /home/peter/Data/SequenceMotif/Unlocalized_N=100000_S=200_M=50_G=20_data.pickle\n",
      "loading train data\n",
      "loading cross-validation data\n",
      "loading test data\n"
     ]
    }
   ],
   "source": [
    "filename = 'Localized_N=100000_S=200_M=50_G=20_data.pickle'\n",
    "datapath = '/home/peter/Data/SequenceMotif'\n",
    "filepath = os.path.join(datapath, filename)\n",
    "\n",
    "# load training set\n",
    "print \"loading data from: \" + filepath\n",
    "f = open(filepath, 'rb')\n",
    "print \"loading train data\"\n",
    "train = cPickle.load(f)\n",
    "print \"loading cross-validation data\"\n",
    "cross_validation = cPickle.load(f)\n",
    "print \"loading test data\"\n",
    "test = cPickle.load(f)\n",
    "f.close()\n",
    "\n",
    "X_train = train[0].transpose((0,1,2)).astype(np.float32)\n",
    "y_train = train[1].astype(np.int32)\n",
    "X_val = cross_validation[0].transpose((0,1,2)).astype(np.float32)\n",
    "y_val = cross_validation[1].astype(np.int32)\n",
    "X_test = test[0].transpose((0,1,2)).astype(np.float32)\n",
    "y_test = test[1].astype(np.int32)\n",
    "\n",
    "X_train = np.expand_dims(X_train, axis=3)\n",
    "X_val = np.expand_dims(X_val, axis=3)\n",
    "X_test = np.expand_dims(X_test, axis=3)\n",
    "\n",
    "train = (X_train, y_train, train[2])\n",
    "valid = (X_val, y_val, cross_validation[2])\n",
    "test = (X_test, y_test, test[2])\n",
    "\n",
    "shape = (None, train[0].shape[1], train[0].shape[2], train[0].shape[3])\n",
    "num_labels = train[1].shape[1]"
   ]
  },
  {
   "cell_type": "code",
   "execution_count": null,
   "metadata": {
    "collapsed": false
   },
   "outputs": [],
   "source": [
    "\"\"\"model_name = \"deepsea_model\"\n",
    "nnmodel = NeuralNet(model_name, shape, num_labels)\n",
    "\n",
    "nnmodel = fit.train_minibatch(nnmodel, train, valid, batch_size=128, num_epochs=500, \n",
    "                        patience=3, verbose=1, filepath=filepath)\n",
    "\n",
    "# save best model --> lowest cross-validation error\n",
    "min_loss, min_index = nnmodel.get_min_loss()\n",
    "savepath = filepath + \"_epoch_\" + str(min_index) + \".pickle\"\n",
    "nnmodel.set_parameters_from_file(savepath)\n",
    "\n",
    "# test model\n",
    "nnmodel.test_model(test, 512, \"test\")"
   ]
  },
  {
   "cell_type": "code",
   "execution_count": null,
   "metadata": {
    "collapsed": false
   },
   "outputs": [],
   "source": [
    "model_name = \"autoencode_motif_model\"\n",
    "nnmodel = NeuralNet(model_name, shape, num_labels)\n",
    "\n",
    "nnmodel = fit.train_minibatch(nnmodel, train, valid, batch_size=128, num_epochs=500, \n",
    "                        patience=3, verbose=1, filepath=filepath)\n",
    "\n",
    "# save best model --> lowest cross-validation error\n",
    "min_loss, min_index = nnmodel.get_min_loss()\n",
    "savepath = filepath + \"_epoch_\" + str(min_index) + \".pickle\"\n",
    "nnmodel.set_parameters_from_file(savepath)\n",
    "\n",
    "# test model\n",
    "nnmodel.test_model(test, 512, \"test\")"
   ]
  },
  {
   "cell_type": "code",
   "execution_count": 3,
   "metadata": {
    "collapsed": false
   },
   "outputs": [
    {
     "name": "stdout",
     "output_type": "stream",
     "text": [
      "Epoch 1 out of 500 \n",
      "[==============================] 100.0% -- time=0s -- loss=0.41746 -- accuracy=96.34%  \n",
      "  valid loss:\t\t0.28745\n",
      "  valid accuracy:\t0.96704+/-0.02111\n",
      "  valid auc-roc:\t0.92560+/-0.06341\n",
      "  valid auc-pr:\t\t0.58827+/-0.29510\n",
      "saving model parameters to: /home/peter/Data/SequenceMotif/Unlocalized_N=100000_S=200_M=50_G=20_data.pickle_epoch_0.pickle\n",
      "Epoch 2 out of 500 \n",
      "[==============================] 100.0% -- time=0s -- loss=0.23668 -- accuracy=97.48%  \n",
      "  valid loss:\t\t0.22797\n",
      "  valid accuracy:\t0.97320+/-0.01963\n",
      "  valid auc-roc:\t0.95153+/-0.04403\n",
      "  valid auc-pr:\t\t0.68397+/-0.25874\n",
      "saving model parameters to: /home/peter/Data/SequenceMotif/Unlocalized_N=100000_S=200_M=50_G=20_data.pickle_epoch_1.pickle\n",
      "Epoch 3 out of 500 \n",
      "[==============================] 100.0% -- time=0s -- loss=0.20240 -- accuracy=97.77%  \n",
      "  valid loss:\t\t0.19460\n",
      "  valid accuracy:\t0.97595+/-0.01592\n",
      "  valid auc-roc:\t0.96237+/-0.03649\n",
      "  valid auc-pr:\t\t0.72789+/-0.24032\n",
      "saving model parameters to: /home/peter/Data/SequenceMotif/Unlocalized_N=100000_S=200_M=50_G=20_data.pickle_epoch_2.pickle\n",
      "Epoch 4 out of 500 \n",
      "[==============================] 100.0% -- time=0s -- loss=0.17427 -- accuracy=97.96%  \n",
      "  valid loss:\t\t0.15662\n",
      "  valid accuracy:\t0.98012+/-0.01494\n",
      "  valid auc-roc:\t0.96888+/-0.03244\n",
      "  valid auc-pr:\t\t0.75784+/-0.23280\n",
      "saving model parameters to: /home/peter/Data/SequenceMotif/Unlocalized_N=100000_S=200_M=50_G=20_data.pickle_epoch_3.pickle\n",
      "Epoch 5 out of 500 \n",
      "[==============================] 100.0% -- time=0s -- loss=0.13901 -- accuracy=98.12%  \n",
      "  valid loss:\t\t0.12255\n",
      "  valid accuracy:\t0.98086+/-0.01519\n",
      "  valid auc-roc:\t0.97385+/-0.02660\n",
      "  valid auc-pr:\t\t0.77642+/-0.22574\n",
      "saving model parameters to: /home/peter/Data/SequenceMotif/Unlocalized_N=100000_S=200_M=50_G=20_data.pickle_epoch_4.pickle\n",
      "Epoch 6 out of 500 \n",
      "[==============================] 100.0% -- time=0s -- loss=0.11068 -- accuracy=98.22%  \n",
      "  valid loss:\t\t0.10390\n",
      "  valid accuracy:\t0.98207+/-0.01472\n",
      "  valid auc-roc:\t0.97433+/-0.02608\n",
      "  valid auc-pr:\t\t0.79092+/-0.21154\n",
      "saving model parameters to: /home/peter/Data/SequenceMotif/Unlocalized_N=100000_S=200_M=50_G=20_data.pickle_epoch_5.pickle\n",
      "Epoch 7 out of 500 \n",
      "[==============================] 100.0% -- time=0s -- loss=0.09724 -- accuracy=98.29%  \n",
      "  valid loss:\t\t0.09646\n",
      "  valid accuracy:\t0.98210+/-0.01420\n",
      "  valid auc-roc:\t0.97672+/-0.02308\n",
      "  valid auc-pr:\t\t0.79855+/-0.19979\n",
      "saving model parameters to: /home/peter/Data/SequenceMotif/Unlocalized_N=100000_S=200_M=50_G=20_data.pickle_epoch_6.pickle\n",
      "Epoch 8 out of 500 \n",
      "[==============================] 100.0% -- time=0s -- loss=0.09025 -- accuracy=98.34%  \n",
      "  valid loss:\t\t0.09170\n",
      "  valid accuracy:\t0.98254+/-0.01456\n",
      "  valid auc-roc:\t0.97807+/-0.02057\n",
      "  valid auc-pr:\t\t0.80413+/-0.19795\n",
      "saving model parameters to: /home/peter/Data/SequenceMotif/Unlocalized_N=100000_S=200_M=50_G=20_data.pickle_epoch_7.pickle\n",
      "Epoch 9 out of 500 \n",
      "[==============================] 100.0% -- time=0s -- loss=0.08570 -- accuracy=98.40%  \n",
      "  valid loss:\t\t0.08877\n",
      "  valid accuracy:\t0.98263+/-0.01402\n",
      "  valid auc-roc:\t0.97846+/-0.02079\n",
      "  valid auc-pr:\t\t0.80675+/-0.19130\n",
      "saving model parameters to: /home/peter/Data/SequenceMotif/Unlocalized_N=100000_S=200_M=50_G=20_data.pickle_epoch_8.pickle\n",
      "Epoch 10 out of 500 \n",
      "[==============================] 100.0% -- time=0s -- loss=0.08257 -- accuracy=98.43%  \n",
      "  valid loss:\t\t0.08766\n",
      "  valid accuracy:\t0.98251+/-0.01487\n",
      "  valid auc-roc:\t0.97773+/-0.02054\n",
      "  valid auc-pr:\t\t0.80663+/-0.19021\n",
      "saving model parameters to: /home/peter/Data/SequenceMotif/Unlocalized_N=100000_S=200_M=50_G=20_data.pickle_epoch_9.pickle\n",
      "Epoch 11 out of 500 \n",
      "[==============================] 100.0% -- time=0s -- loss=0.08010 -- accuracy=98.47%  \n",
      "  valid loss:\t\t0.08485\n",
      "  valid accuracy:\t0.98274+/-0.01423\n",
      "  valid auc-roc:\t0.97865+/-0.01944\n",
      "  valid auc-pr:\t\t0.80924+/-0.18880\n",
      "saving model parameters to: /home/peter/Data/SequenceMotif/Unlocalized_N=100000_S=200_M=50_G=20_data.pickle_epoch_10.pickle\n",
      "Epoch 12 out of 500 \n",
      "[==============================] 100.0% -- time=0s -- loss=0.07806 -- accuracy=98.50%  \n",
      "  valid loss:\t\t0.08418\n",
      "  valid accuracy:\t0.98284+/-0.01408\n",
      "  valid auc-roc:\t0.97836+/-0.02022\n",
      "  valid auc-pr:\t\t0.80949+/-0.18688\n",
      "saving model parameters to: /home/peter/Data/SequenceMotif/Unlocalized_N=100000_S=200_M=50_G=20_data.pickle_epoch_11.pickle\n",
      "Epoch 13 out of 500 \n",
      "[==============================] 100.0% -- time=0s -- loss=0.07672 -- accuracy=98.52%  \n",
      "  valid loss:\t\t0.08307\n",
      "  valid accuracy:\t0.98305+/-0.01425\n",
      "  valid auc-roc:\t0.97854+/-0.01908\n",
      "  valid auc-pr:\t\t0.81132+/-0.18444\n",
      "saving model parameters to: /home/peter/Data/SequenceMotif/Unlocalized_N=100000_S=200_M=50_G=20_data.pickle_epoch_12.pickle\n",
      "Epoch 14 out of 500 \n",
      "[==============================] 100.0% -- time=0s -- loss=0.07481 -- accuracy=98.56%  \n",
      "  valid loss:\t\t0.08305\n",
      "  valid accuracy:\t0.98292+/-0.01418\n",
      "  valid auc-roc:\t0.97903+/-0.01910\n",
      "  valid auc-pr:\t\t0.80695+/-0.19430\n",
      "saving model parameters to: /home/peter/Data/SequenceMotif/Unlocalized_N=100000_S=200_M=50_G=20_data.pickle_epoch_13.pickle\n",
      "Epoch 15 out of 500 \n",
      "[==============================] 100.0% -- time=0s -- loss=0.07391 -- accuracy=98.56%  \n",
      "  valid loss:\t\t0.08220\n",
      "  valid accuracy:\t0.98294+/-0.01411\n",
      "  valid auc-roc:\t0.97785+/-0.01999\n",
      "  valid auc-pr:\t\t0.81171+/-0.18477\n",
      "saving model parameters to: /home/peter/Data/SequenceMotif/Unlocalized_N=100000_S=200_M=50_G=20_data.pickle_epoch_14.pickle\n",
      "Epoch 16 out of 500 \n",
      "[==============================] 100.0% -- time=0s -- loss=0.07251 -- accuracy=98.60%  \n",
      "  valid loss:\t\t0.08393\n",
      "  valid accuracy:\t0.98249+/-0.01428\n",
      "  valid auc-roc:\t0.97741+/-0.02066\n",
      "  valid auc-pr:\t\t0.80804+/-0.18344\n",
      "saving model parameters to: /home/peter/Data/SequenceMotif/Unlocalized_N=100000_S=200_M=50_G=20_data.pickle_epoch_15.pickle\n",
      "Epoch 17 out of 500 \n",
      "[==============================] 100.0% -- time=0s -- loss=0.07163 -- accuracy=98.61%  \n",
      "  valid loss:\t\t0.08316\n",
      "  valid accuracy:\t0.98256+/-0.01443\n",
      "  valid auc-roc:\t0.97721+/-0.02133\n",
      "  valid auc-pr:\t\t0.80630+/-0.19087\n",
      "saving model parameters to: /home/peter/Data/SequenceMotif/Unlocalized_N=100000_S=200_M=50_G=20_data.pickle_epoch_16.pickle\n",
      "Epoch 18 out of 500 \n",
      "[==============================] 100.0% -- time=0s -- loss=0.07070 -- accuracy=98.64%  \n",
      "  valid loss:\t\t0.08236\n",
      "  valid accuracy:\t0.98287+/-0.01438\n",
      "  valid auc-roc:\t0.97773+/-0.01963\n",
      "  valid auc-pr:\t\t0.81133+/-0.17808\n",
      "saving model parameters to: /home/peter/Data/SequenceMotif/Unlocalized_N=100000_S=200_M=50_G=20_data.pickle_epoch_17.pickle\n",
      "Epoch 19 out of 500 \n",
      "[==============================] 100.0% -- time=0s -- loss=0.07007 -- accuracy=98.65%  \n",
      "  valid loss:\t\t0.08291\n",
      "  valid accuracy:\t0.98246+/-0.01460\n",
      "  valid auc-roc:\t0.97756+/-0.02061\n",
      "  valid auc-pr:\t\t0.80751+/-0.18680\n",
      "saving model parameters to: /home/peter/Data/SequenceMotif/Unlocalized_N=100000_S=200_M=50_G=20_data.pickle_epoch_18.pickle\n",
      "Patience ran out... Early stopping.\n",
      "  test loss:\t\t0.08296\n",
      "  test accuracy:\t0.98275+/-0.01458\n",
      "  test auc-roc:\t0.97795+/-0.01991\n",
      "  test auc-pr:\t\t0.81394+/-0.17843\n"
     ]
    },
    {
     "data": {
      "text/plain": [
       "0.082959803369206456"
      ]
     },
     "execution_count": 3,
     "metadata": {},
     "output_type": "execute_result"
    }
   ],
   "source": [
    "model_name = \"test_motif_model\"\n",
    "nnmodel = NeuralNet(model_name, shape, num_labels)\n",
    "\n",
    "nnmodel = fit.train_minibatch(nnmodel, train, valid, batch_size=128, num_epochs=500, \n",
    "                        patience=3, verbose=1, filepath=filepath)\n",
    "\n",
    "# save best model --> lowest cross-validation error\n",
    "min_loss, min_index = nnmodel.get_min_loss()\n",
    "savepath = filepath + \"_epoch_\" + str(min_index) + \".pickle\"\n",
    "nnmodel.set_parameters_from_file(savepath)\n",
    "\n",
    "# test model\n",
    "nnmodel.test_model(test, 512, \"test\")\n"
   ]
  },
  {
   "cell_type": "code",
   "execution_count": null,
   "metadata": {
    "collapsed": false
   },
   "outputs": [],
   "source": [
    "58/2\n"
   ]
  },
  {
   "cell_type": "code",
   "execution_count": null,
   "metadata": {
    "collapsed": true
   },
   "outputs": [],
   "source": []
  },
  {
   "cell_type": "code",
   "execution_count": null,
   "metadata": {
    "collapsed": true
   },
   "outputs": [],
   "source": []
  },
  {
   "cell_type": "code",
   "execution_count": null,
   "metadata": {
    "collapsed": true
   },
   "outputs": [],
   "source": []
  },
  {
   "cell_type": "code",
   "execution_count": null,
   "metadata": {
    "collapsed": true
   },
   "outputs": [],
   "source": []
  },
  {
   "cell_type": "code",
   "execution_count": null,
   "metadata": {
    "collapsed": true
   },
   "outputs": [],
   "source": []
  }
 ],
 "metadata": {
  "kernelspec": {
   "display_name": "Python 2",
   "language": "python",
   "name": "python2"
  },
  "language_info": {
   "codemirror_mode": {
    "name": "ipython",
    "version": 2
   },
   "file_extension": ".py",
   "mimetype": "text/x-python",
   "name": "python",
   "nbconvert_exporter": "python",
   "pygments_lexer": "ipython2",
   "version": "2.7.11"
  }
 },
 "nbformat": 4,
 "nbformat_minor": 0
}
