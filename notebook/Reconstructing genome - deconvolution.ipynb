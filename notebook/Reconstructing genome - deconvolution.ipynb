{
 "cells": [
  {
   "cell_type": "markdown",
   "metadata": {},
   "source": [
    "# Reconstructing the genome from a convolutional neural network\n",
    "\n",
    "In this notebook, I will go through using the weights and activations to reconstruct the genome using decorrelation and unpooling.  \n"
   ]
  },
  {
   "cell_type": "code",
   "execution_count": null,
   "metadata": {
    "collapsed": false
   },
   "outputs": [],
   "source": [
    "from __future__ import print_function\n",
    "import os, sys, urllib, gzip, matplotlib\n",
    "sys.setrecursionlimit(10000)\n",
    "import matplotlib.pyplot as plt\n",
    "from matplotlib import cm\n",
    "import matplotlib as mpl\n",
    "from matplotlib import rcParams\n",
    "rcParams.update({'figure.autolayout': True})\n",
    "\n",
    "%matplotlib inline\n",
    "from scipy.misc import imresize\n",
    "\n",
    "from six.moves import cPickle\n",
    "import h5py\n",
    "\n",
    "import numpy as np\n",
    "from IPython.display import Image as IPImage\n",
    "from PIL import Image\n",
    "import cPickle as pickle\n",
    "\n",
    "from lasagne import layers\n",
    "from lasagne.layers import get_output, get_output_shape, get_all_layers, get_all_params\n",
    "from lasagne.layers import get_all_param_values, set_all_param_values, get_all_layers\n",
    "from lasagne import nonlinearities\n",
    "from lasagne import updates \n",
    "from lasagne import objectives \n",
    "from lasagne import init \n",
    "import theano.tensor as T\n",
    "import theano\n",
    "\n",
    "sys.path.append('..')\n",
    "from src import NeuralNet\n",
    "from models import load_model\n",
    "from data import load_data"
   ]
  },
  {
   "cell_type": "code",
   "execution_count": null,
   "metadata": {
    "collapsed": false
   },
   "outputs": [],
   "source": [
    "# load data\n",
    "name = 'MotifSimulation_correlated'\n",
    "datapath = '/home/peter/Data/SequenceMotif'\n",
    "filepath = os.path.join(datapath, 'synthetic_correlated_motifs_300000.hdf5')\n",
    "train, valid, test = load_data(name, filepath)\n",
    "shape = (None, train[0].shape[1], train[0].shape[2], train[0].shape[3])\n",
    "num_labels = np.round(train[1].shape[1])"
   ]
  },
  {
   "cell_type": "code",
   "execution_count": null,
   "metadata": {
    "collapsed": false
   },
   "outputs": [],
   "source": [
    "# load model\n",
    "model_name = \"binary_genome_motif_model\"\n",
    "nnmodel = NeuralNet(model_name, shape, num_labels)"
   ]
  },
  {
   "cell_type": "code",
   "execution_count": null,
   "metadata": {
    "collapsed": false
   },
   "outputs": [],
   "source": [
    "# set the parameters of the model\n",
    "savepath = '/home/peter/Data/SequenceMotif/Results/binary_epoch_14.pickle'\n",
    "nnmodel.set_parameters_from_file(savepath)\n",
    "network = nnmodel.network"
   ]
  },
  {
   "cell_type": "code",
   "execution_count": null,
   "metadata": {
    "collapsed": false
   },
   "outputs": [],
   "source": [
    "# get the weights of each layer in the network\n",
    "all_layers = get_all_layers(network['output_bias'])\n",
    "W = []\n",
    "b = []\n",
    "active_index = []\n",
    "for index in range(len(all_layers)):\n",
    "    layer = all_layers[index]\n",
    "    output_shape = layer.output_shape\n",
    "    params = layer.params\n",
    "    if params:\n",
    "        keys = params.keys()\n",
    "        for j in range(len(keys)):\n",
    "            if 'b' == str(keys[j]): \n",
    "                b.append(layer.b.get_value())\n",
    "            if 'W' in str(keys[j]):\n",
    "                W.append(layer.W.get_value())\n",
    "            if 'alpha' == str(keys[j]):\n",
    "                active_index.append(index)"
   ]
  },
  {
   "cell_type": "code",
   "execution_count": null,
   "metadata": {
    "collapsed": false
   },
   "outputs": [],
   "source": [
    "# get feature maps of a given layer\n",
    "layer = all_layers[active_index[0]]\n",
    "map_shape = get_output_shape(layer)\n",
    "input_var = T.tensor4('input')\n",
    "fmap = get_output(all_layers[1])\n",
    "feature_maps = theano.function([input_var], [fmap], allow_input_downcast=True)"
   ]
  },
  {
   "cell_type": "code",
   "execution_count": null,
   "metadata": {
    "collapsed": false
   },
   "outputs": [],
   "source": [
    "#get_feature_maps(train[0][0]) \n",
    "\n",
    "map_shape"
   ]
  },
  {
   "cell_type": "code",
   "execution_count": null,
   "metadata": {
    "collapsed": false
   },
   "outputs": [],
   "source": []
  },
  {
   "cell_type": "code",
   "execution_count": null,
   "metadata": {
    "collapsed": true
   },
   "outputs": [],
   "source": []
  },
  {
   "cell_type": "code",
   "execution_count": null,
   "metadata": {
    "collapsed": true
   },
   "outputs": [],
   "source": []
  },
  {
   "cell_type": "code",
   "execution_count": null,
   "metadata": {
    "collapsed": true
   },
   "outputs": [],
   "source": []
  },
  {
   "cell_type": "code",
   "execution_count": null,
   "metadata": {
    "collapsed": true
   },
   "outputs": [],
   "source": []
  },
  {
   "cell_type": "code",
   "execution_count": null,
   "metadata": {
    "collapsed": true
   },
   "outputs": [],
   "source": []
  },
  {
   "cell_type": "code",
   "execution_count": null,
   "metadata": {
    "collapsed": true
   },
   "outputs": [],
   "source": []
  },
  {
   "cell_type": "code",
   "execution_count": null,
   "metadata": {
    "collapsed": true
   },
   "outputs": [],
   "source": []
  }
 ],
 "metadata": {
  "kernelspec": {
   "display_name": "Python 2",
   "language": "python",
   "name": "python2"
  },
  "language_info": {
   "codemirror_mode": {
    "name": "ipython",
    "version": 2
   },
   "file_extension": ".py",
   "mimetype": "text/x-python",
   "name": "python",
   "nbconvert_exporter": "python",
   "pygments_lexer": "ipython2",
   "version": "2.7.11"
  }
 },
 "nbformat": 4,
 "nbformat_minor": 0
}
