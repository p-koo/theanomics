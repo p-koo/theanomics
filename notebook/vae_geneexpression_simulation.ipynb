{
 "cells": [
  {
   "cell_type": "code",
   "execution_count": 1,
   "metadata": {
    "collapsed": false
   },
   "outputs": [
    {
     "name": "stderr",
     "output_type": "stream",
     "text": [
      "Using gpu device 0: GeForce GTX 980 (CNMeM is disabled, CuDNN 4007)\n"
     ]
    }
   ],
   "source": [
    "import os, sys, gzip\n",
    "import cPickle as pickle\n",
    "sys.setrecursionlimit(10000)\n",
    "\n",
    "import numpy as np\n",
    "np.random.seed(1004)   # for reproducibility\n",
    "import matplotlib.pyplot as plt\n",
    "from matplotlib import cm\n",
    "import matplotlib as mpl\n",
    "%matplotlib inline\n",
    "from scipy.misc import imresize\n",
    "\n",
    "import pandas as pd\n",
    "from lasagne import layers, nonlinearities, updates, objectives, init \n",
    "from lasagne.layers import get_output, get_output_shape, get_all_params\n",
    "import theano.tensor as T\n",
    "import theano\n",
    "#from theano.sandbox.rng_mrg import MRG_RandomStreams as RandomStreams\n",
    "from theano.tensor.shared_randomstreams import RandomStreams\n"
   ]
  },
  {
   "cell_type": "code",
   "execution_count": 2,
   "metadata": {
    "collapsed": true
   },
   "outputs": [],
   "source": [
    "datapath='/media/peter/storage/data/geneexpression/Network_1/Network_1_Configuration_9_knockouts.tsv'\n",
    "df = pd.read_csv(datapath, delimiter='\\t')\n",
    "knockouts = df.as_matrix()\n",
    "\n",
    "datapath='/media/peter/storage/data/geneexpression/Network_1/Network_1_Configuration_9_wildtype.tsv'\n",
    "df = pd.read_csv(datapath, delimiter='\\t')\n",
    "wildtype = df.as_matrix()\n",
    "\n",
    "genes = np.vstack([wildtype[:,0:-1], knockouts[:,0:-1]])"
   ]
  },
  {
   "cell_type": "code",
   "execution_count": 5,
   "metadata": {
    "collapsed": false
   },
   "outputs": [],
   "source": [
    "num_data, num_genes = genes.shape"
   ]
  },
  {
   "cell_type": "code",
   "execution_count": 6,
   "metadata": {
    "collapsed": false
   },
   "outputs": [],
   "source": [
    "num_train = 4000\n",
    "indices = np.arange(num_data)\n",
    "np.random.shuffle(indices)\n",
    "X_train = genes[indices[:num_train],:]\n",
    "X_valid = genes[indices[num_train:],:]"
   ]
  },
  {
   "cell_type": "code",
   "execution_count": 7,
   "metadata": {
    "collapsed": true
   },
   "outputs": [],
   "source": [
    "class VariationalSampleLayer(layers.MergeLayer):\n",
    "    def __init__(self, incoming_mu, incoming_logsigma, **kwargs):\n",
    "        super(VariationalSampleLayer, self).__init__(incomings=[incoming_mu, incoming_logsigma], **kwargs)\n",
    "        self.srng = RandomStreams(seed=234)\n",
    "\n",
    "    def get_output_shape_for(self, input_shapes):\n",
    "        return input_shapes[0]\n",
    "\n",
    "    def get_output_for(self, inputs, deterministic=False, **kwargs):\n",
    "        mu, logsigma = inputs\n",
    "        shape=(self.input_shapes[0][0] or inputs[0].shape[0],\n",
    "                self.input_shapes[0][1] or inputs[0].shape[1])\n",
    "        if deterministic:\n",
    "            return mu\n",
    "        return mu + T.exp(logsigma) * self.srng.normal(shape, avg=0.0, std=1).astype(theano.config.floatX)\n"
   ]
  },
  {
   "cell_type": "code",
   "execution_count": 14,
   "metadata": {
    "collapsed": true
   },
   "outputs": [],
   "source": [
    "num_units1=1000\n",
    "num_units2 = 500\n",
    "num_encode=20\n",
    "\n",
    "\n",
    "input_var = T.dmatrix('inputs')\n",
    "shape = (None, num_genes)\n",
    "net = {}\n",
    "net['input'] = layers.InputLayer(shape=shape, input_var=input_var)\n",
    "net['encode1'] = layers.DenseLayer(net['input'], num_units=num_units1, W=init.GlorotUniform(), \n",
    "                                  b=init.Constant(.0), nonlinearity=nonlinearities.softplus)\n",
    "net['encode2'] = layers.DenseLayer(net['encode1'], num_units=num_units2, W=init.GlorotUniform(), \n",
    "                                  b=init.Constant(.0), nonlinearity=nonlinearities.softplus)\n",
    "net['encode_mu'] = layers.DenseLayer(net['encode2'], num_units=num_encode, W=init.GlorotUniform(), \n",
    "                                  b=init.Constant(.0), nonlinearity=nonlinearities.linear)\n",
    "net['encode_logsigma'] = layers.DenseLayer(net['encode2'], num_units=num_encode, W=init.GlorotUniform(), \n",
    "                                  b=init.Constant(.0), nonlinearity=nonlinearities.linear)\n",
    "net['Z'] = VariationalSampleLayer(net['encode_mu'], net['encode_logsigma'])\n",
    "\n",
    "net['decode1'] = layers.DenseLayer(net['Z'], num_units=num_units2, W=init.GlorotUniform(), \n",
    "                                  b=init.Constant(.0), nonlinearity=nonlinearities.softplus)\n",
    "net['decode2'] = layers.DenseLayer(net['decode1'], num_units=num_units1, W=init.GlorotUniform(), \n",
    "                                  b=init.Constant(.0), nonlinearity=nonlinearities.softplus)\n",
    "net['X'] = layers.DenseLayer(net['decode2'], num_units=num_genes,  W=init.GlorotUniform(), \n",
    "                                  b=init.Constant(.0), nonlinearity=nonlinearities.sigmoid)\n",
    "#net['decode_logsigma'] = layers.DenseLayer(net['decode2'], num_units=x_dim, nonlinearity=nonlinearities.linear)\n",
    "#net['X'] = VariationalSampleLayer(net['decode_mu'], net['decode_logsigma'])"
   ]
  },
  {
   "cell_type": "code",
   "execution_count": 15,
   "metadata": {
    "collapsed": true
   },
   "outputs": [],
   "source": [
    "def build_loss(net, target_var, deterministic):\n",
    "    \n",
    "    z_mu = get_output(net['encode_mu'], deterministic=deterministic)\n",
    "    z_logsigma = get_output(net['encode_logsigma'], deterministic=deterministic)\n",
    "    x_mu = get_output(net['X'], deterministic=deterministic)\n",
    "    x_mu = T.clip(x_mu, 1e-7, 1-1e-7)\n",
    "    x_logsigma = T.log(T.sqrt(x_mu*(1-x_mu)))\n",
    "    kl_divergence = 0.5*T.sum(1 + 2*z_logsigma - T.sqr(z_mu) - T.exp(2*z_logsigma), axis=1)\n",
    "    log_likelihood = T.sum(-0.5*T.log(2*np.float32(np.pi))- x_logsigma - 0.5*T.sqr(target_var-x_mu)/T.exp(2*x_logsigma),axis=1)\n",
    "    variational_lower_bound = -log_likelihood - kl_divergence\n",
    "    prediction = x_mu\n",
    "    return variational_lower_bound.mean()\n",
    "train_loss = build_loss(net, input_var, deterministic=False)\n",
    "test_loss = build_loss(net, input_var, deterministic=True)\n",
    "\n",
    "# ADAM updates\n",
    "params = get_all_params(net['X'], trainable=True)\n",
    "update_op = updates.adam(train_loss, params, learning_rate=1e-3)\n",
    "train_fun = theano.function([input_var], train_loss , updates=update_op)\n",
    "valid_fun = theano.function([input_var], test_loss)\n",
    "\n",
    "def batch_generator(X, batch_size=128, shuffle=True):\n",
    "    if shuffle:\n",
    "        indices = np.arange(len(X))\n",
    "        np.random.shuffle(indices)\n",
    "    for start_idx in range(0, len(X)-batch_size+1, batch_size):\n",
    "        if shuffle:\n",
    "            excerpt = indices[start_idx:start_idx+batch_size]\n",
    "        else:\n",
    "            excerpt = slice(start_idx, start_idx+batch_size)\n",
    "        yield X[excerpt].astype(np.float32)\n",
    "        "
   ]
  },
  {
   "cell_type": "code",
   "execution_count": 16,
   "metadata": {
    "collapsed": false
   },
   "outputs": [
    {
     "name": "stdout",
     "output_type": "stream",
     "text": [
      "Epoch 1 of 60\n",
      "  training loss:\t\t973.463435\n",
      "  validation loss:\t\t743.341968\n",
      "Epoch 2 of 60\n",
      "  training loss:\t\t704.919015\n",
      "  validation loss:\t\t714.051122\n",
      "Epoch 3 of 60\n",
      "  training loss:\t\t837.803673\n",
      "  validation loss:\t\t681.909363\n",
      "Epoch 4 of 60\n",
      "  training loss:\t\t683.400683\n",
      "  validation loss:\t\t720.202736\n",
      "Epoch 5 of 60\n",
      "  training loss:\t\t674.629131\n",
      "  validation loss:\t\t688.601350\n",
      "Epoch 6 of 60\n",
      "  training loss:\t\t667.905179\n",
      "  validation loss:\t\t691.479349\n",
      "Epoch 7 of 60\n",
      "  training loss:\t\t668.496330\n",
      "  validation loss:\t\t675.682626\n",
      "Epoch 8 of 60\n",
      "  training loss:\t\t669.071701\n",
      "  validation loss:\t\t690.728518\n",
      "Epoch 9 of 60\n",
      "  training loss:\t\t667.141443\n",
      "  validation loss:\t\t682.124462\n",
      "Epoch 10 of 60\n",
      "  training loss:\t\t666.449878\n",
      "  validation loss:\t\t696.147109\n",
      "Epoch 11 of 60\n",
      "  training loss:\t\t666.970032\n",
      "  validation loss:\t\t675.412615\n",
      "Epoch 12 of 60\n",
      "  training loss:\t\t667.482353\n",
      "  validation loss:\t\t692.836424\n",
      "Epoch 13 of 60\n",
      "  training loss:\t\t665.307615\n",
      "  validation loss:\t\t685.476601\n",
      "Epoch 14 of 60\n",
      "  training loss:\t\t665.519221\n",
      "  validation loss:\t\t684.830651\n"
     ]
    },
    {
     "ename": "KeyboardInterrupt",
     "evalue": "",
     "output_type": "error",
     "traceback": [
      "\u001b[1;31m---------------------------------------------------------------------------\u001b[0m",
      "\u001b[1;31mKeyboardInterrupt\u001b[0m                         Traceback (most recent call last)",
      "\u001b[1;32m<ipython-input-16-d5954dac0b91>\u001b[0m in \u001b[0;36m<module>\u001b[1;34m()\u001b[0m\n\u001b[0;32m     10\u001b[0m     \u001b[0mtrain_loss\u001b[0m \u001b[1;33m=\u001b[0m \u001b[1;36m0\u001b[0m\u001b[1;33m\u001b[0m\u001b[0m\n\u001b[0;32m     11\u001b[0m     \u001b[1;32mfor\u001b[0m \u001b[0mindex\u001b[0m \u001b[1;32min\u001b[0m \u001b[0mrange\u001b[0m\u001b[1;33m(\u001b[0m\u001b[0mnum_train_batches\u001b[0m\u001b[1;33m)\u001b[0m\u001b[1;33m:\u001b[0m\u001b[1;33m\u001b[0m\u001b[0m\n\u001b[1;32m---> 12\u001b[1;33m         \u001b[0mloss\u001b[0m \u001b[1;33m=\u001b[0m \u001b[0mtrain_fun\u001b[0m\u001b[1;33m(\u001b[0m\u001b[0mnext\u001b[0m\u001b[1;33m(\u001b[0m\u001b[0mtrain_batches\u001b[0m\u001b[1;33m)\u001b[0m\u001b[1;33m)\u001b[0m\u001b[1;33m\u001b[0m\u001b[0m\n\u001b[0m\u001b[0;32m     13\u001b[0m         \u001b[0mtrain_loss\u001b[0m \u001b[1;33m+=\u001b[0m \u001b[0mloss\u001b[0m\u001b[1;33m\u001b[0m\u001b[0m\n\u001b[0;32m     14\u001b[0m \u001b[1;33m\u001b[0m\u001b[0m\n",
      "\u001b[1;32m/home/peter/anaconda2/lib/python2.7/site-packages/theano/compile/function_module.pyc\u001b[0m in \u001b[0;36m__call__\u001b[1;34m(self, *args, **kwargs)\u001b[0m\n\u001b[0;32m    857\u001b[0m         \u001b[0mt0_fn\u001b[0m \u001b[1;33m=\u001b[0m \u001b[0mtime\u001b[0m\u001b[1;33m.\u001b[0m\u001b[0mtime\u001b[0m\u001b[1;33m(\u001b[0m\u001b[1;33m)\u001b[0m\u001b[1;33m\u001b[0m\u001b[0m\n\u001b[0;32m    858\u001b[0m         \u001b[1;32mtry\u001b[0m\u001b[1;33m:\u001b[0m\u001b[1;33m\u001b[0m\u001b[0m\n\u001b[1;32m--> 859\u001b[1;33m             \u001b[0moutputs\u001b[0m \u001b[1;33m=\u001b[0m \u001b[0mself\u001b[0m\u001b[1;33m.\u001b[0m\u001b[0mfn\u001b[0m\u001b[1;33m(\u001b[0m\u001b[1;33m)\u001b[0m\u001b[1;33m\u001b[0m\u001b[0m\n\u001b[0m\u001b[0;32m    860\u001b[0m         \u001b[1;32mexcept\u001b[0m \u001b[0mException\u001b[0m\u001b[1;33m:\u001b[0m\u001b[1;33m\u001b[0m\u001b[0m\n\u001b[0;32m    861\u001b[0m             \u001b[1;32mif\u001b[0m \u001b[0mhasattr\u001b[0m\u001b[1;33m(\u001b[0m\u001b[0mself\u001b[0m\u001b[1;33m.\u001b[0m\u001b[0mfn\u001b[0m\u001b[1;33m,\u001b[0m \u001b[1;34m'position_of_error'\u001b[0m\u001b[1;33m)\u001b[0m\u001b[1;33m:\u001b[0m\u001b[1;33m\u001b[0m\u001b[0m\n",
      "\u001b[1;31mKeyboardInterrupt\u001b[0m: "
     ]
    }
   ],
   "source": [
    "num_epochs = 60\n",
    "batch_size = 64\n",
    "num_train_batches = X_train.shape[0] // batch_size\n",
    "num_valid_batches = X_valid.shape[0] // batch_size\n",
    "    \n",
    "for epoch in range(num_epochs):\n",
    "    train_batches = batch_generator(X_train, batch_size, shuffle=True)\n",
    "    valid_batches = batch_generator(X_valid, batch_size, shuffle=False)\n",
    "\n",
    "    train_loss = 0\n",
    "    for index in range(num_train_batches):\n",
    "        loss = train_fun(next(train_batches))\n",
    "        train_loss += loss\n",
    "        \n",
    "    valid_loss = 0\n",
    "    for index in range(num_valid_batches):\n",
    "        loss = valid_fun(next(valid_batches))\n",
    "        valid_loss += loss\n",
    "\n",
    "    print(\"Epoch {} of {}\".format(epoch+1, num_epochs))\n",
    "    print(\"  training loss:\\t\\t{:.6f}\".format(train_loss/num_train_batches))\n",
    "    print(\"  validation loss:\\t\\t{:.6f}\".format(valid_loss/num_valid_batches))"
   ]
  },
  {
   "cell_type": "code",
   "execution_count": 17,
   "metadata": {
    "collapsed": true
   },
   "outputs": [],
   "source": [
    "def statistics(net, target_var):\n",
    "    z_mu = get_output(net['encode_mu'], deterministic=True)\n",
    "    z_logsigma = get_output(net['encode_logsigma'], deterministic=True)\n",
    "    x_mu = get_output(net['X'], deterministic=True)\n",
    "    x_mu = T.clip(x_mu, 1e-7, 1-1e-7)\n",
    "    x_logsigma = T.log(T.sqrt(x_mu*(1-x_mu)))\n",
    "    kl_divergence = 0.5*(1 + 2*z_logsigma - T.sqr(z_mu) - T.exp(2*z_logsigma))\n",
    "    log_likelihood = -0.5*T.log(2*np.float32(np.pi))- x_logsigma - 0.5*T.sqr(target_var-x_mu)/T.exp(2*x_logsigma)\n",
    "    return kl_divergence, log_likelihood\n",
    "kl_divergence, log_likelihood = statistics(net, input_var)\n",
    "\n",
    "statistics_fun = theano.function([input_var],[kl_divergence, log_likelihood])"
   ]
  },
  {
   "cell_type": "code",
   "execution_count": 18,
   "metadata": {
    "collapsed": true
   },
   "outputs": [],
   "source": [
    "batch_size = 25\n",
    "num_test_batches = X_valid.shape[0] // batch_size\n",
    "test_batches = batch_generator(X_valid, batch_size, shuffle=False)\n",
    "\n",
    "kldiv = []\n",
    "logL = []\n",
    "for index in range(num_test_batches):\n",
    "    stats = statistics_fun(next(test_batches))\n",
    "    kldiv.append(stats[0])\n",
    "    logL.append(stats[1])\n",
    "\n",
    "kldiv = np.array(kldiv).reshape([-1,stats[0].shape[1]])\n",
    "logL = np.array(logL).reshape([-1,stats[1].shape[1]])"
   ]
  },
  {
   "cell_type": "code",
   "execution_count": 19,
   "metadata": {
    "collapsed": false
   },
   "outputs": [
    {
     "data": {
      "image/png": "[encoded data removed]",
      "text/plain": [
       "<matplotlib.figure.Figure at 0x7fabe87e6b90>"
      ]
     },
     "metadata": {},
     "output_type": "display_data"
    }
   ],
   "source": [
    "plt.figure\n",
    "plt.errorbar(range(num_encode),-np.mean(kldiv,axis=0),np.std(kldiv,axis=0), fmt='o', markersize=12)\n",
    "plt.xlim([-.3, num_encode-.7])\n",
    "plt.xlabel('z', fontsize=18)\n",
    "plt.ylabel('-KLD', fontsize=18)\n",
    "#plt.yticks([0, 1, 2, 3], fontsize = 18)\n",
    "plt.xticks(fontsize = 18)\n",
    "plt.savefig('Genes_vae_kldivergence_'+ str(num_encode) +'.eps', format='eps', dpi=200)"
   ]
  },
  {
   "cell_type": "code",
   "execution_count": null,
   "metadata": {
    "collapsed": true
   },
   "outputs": [],
   "source": []
  }
 ],
 "metadata": {
  "kernelspec": {
   "display_name": "Python 2",
   "language": "python",
   "name": "python2"
  },
  "language_info": {
   "codemirror_mode": {
    "name": "ipython",
    "version": 2
   },
   "file_extension": ".py",
   "mimetype": "text/x-python",
   "name": "python",
   "nbconvert_exporter": "python",
   "pygments_lexer": "ipython2",
   "version": "2.7.11"
  }
 },
 "nbformat": 4,
 "nbformat_minor": 0
}
