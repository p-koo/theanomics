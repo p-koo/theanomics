{
 "cells": [
  {
   "cell_type": "code",
   "execution_count": 1,
   "metadata": {
    "collapsed": false
   },
   "outputs": [
    {
     "name": "stderr",
     "output_type": "stream",
     "text": [
      "Using gpu device 0: GeForce GTX 980 (CNMeM is disabled, CuDNN 4007)\n"
     ]
    }
   ],
   "source": [
    "import sys\n",
    "import os\n",
    "import numpy as np\n",
    "sys.path.append('..')\n",
    "from src import NeuralNet\n",
    "from src import train as fit\n",
    "from src import make_directory \n",
    "\n",
    "from models import load_model\n",
    "from data import load_data\n",
    "from six.moves import cPickle\n",
    "np.random.seed(247) # for reproducibility\n",
    "\n",
    "import pandas as pd\n",
    "import matplotlib.pyplot as plt\n",
    "from matplotlib import cm\n",
    "import matplotlib as mpl\n",
    "from matplotlib import rcParams\n",
    "rcParams.update({'figure.autolayout': True})\n",
    "%matplotlib inline\n",
    "from scipy.misc import imresize\n",
    "\n",
    "from lasagne import layers, nonlinearities, updates, objectives, init \n",
    "from lasagne.layers import Conv2DLayer, TransposedConv2DLayer, DenseLayer, InputLayer, ExpressionLayer, BiasLayer\n",
    "from theano.tensor.shared_randomstreams import RandomStreams\n",
    "from lasagne.layers import get_output, get_output_shape, get_all_params\n",
    "import theano.tensor as T\n",
    "import theano\n",
    "np.random.seed(247) # for reproducibility"
   ]
  },
  {
   "cell_type": "code",
   "execution_count": 2,
   "metadata": {
    "collapsed": false
   },
   "outputs": [
    {
     "name": "stdout",
     "output_type": "stream",
     "text": [
      "loading data from: /home/peter/Data/SequenceMotif/Unlocalized_N=300000_S=200_M=50_G=20_data.pickle\n",
      "loading train data\n",
      "loading cross-validation data\n",
      "loading test data\n"
     ]
    }
   ],
   "source": [
    "filename = 'Unlocalized_N=300000_S=200_M=50_G=20_data.pickle'\n",
    "datapath = '/home/peter/Data/SequenceMotif'\n",
    "filepath = os.path.join(datapath, filename)\n",
    "\n",
    "# load training set\n",
    "print \"loading data from: \" + filepath\n",
    "f = open(filepath, 'rb')\n",
    "print \"loading train data\"\n",
    "train = cPickle.load(f)\n",
    "print \"loading cross-validation data\"\n",
    "cross_validation = cPickle.load(f)\n",
    "print \"loading test data\"\n",
    "test = cPickle.load(f)\n",
    "f.close()\n",
    "\n",
    "X_train = train[0].transpose((0,1,2)).astype(np.float32)\n",
    "y_train = train[1].astype(np.int32)\n",
    "X_val = cross_validation[0].transpose((0,1,2)).astype(np.float32)\n",
    "y_val = cross_validation[1].astype(np.int32)\n",
    "X_test = test[0].transpose((0,1,2)).astype(np.float32)\n",
    "y_test = test[1].astype(np.int32)\n",
    "\n",
    "X_train = np.expand_dims(X_train, axis=3)\n",
    "X_val = np.expand_dims(X_val, axis=3)\n",
    "X_test = np.expand_dims(X_test, axis=3)\n",
    "\n",
    "train = (X_train, y_train, train[2])\n",
    "valid = (X_val, y_val, cross_validation[2])\n",
    "test = (X_test, y_test, test[2])\n",
    "\n",
    "shape = (None, train[0].shape[1], train[0].shape[2], train[0].shape[3])\n",
    "num_labels = train[1].shape[1]"
   ]
  },
  {
   "cell_type": "code",
   "execution_count": 3,
   "metadata": {
    "collapsed": false
   },
   "outputs": [],
   "source": [
    "model_name = \"autoencode_motif_model\"\n",
    "nnmodel = NeuralNet(model_name, shape, num_labels)"
   ]
  },
  {
   "cell_type": "code",
   "execution_count": 4,
   "metadata": {
    "collapsed": false
   },
   "outputs": [
    {
     "name": "stdout",
     "output_type": "stream",
     "text": [
      "Epoch 1 out of 500 \n",
      "[==============================] 100.0% -- time=0s -- loss=0.10234 -- accuracy=96.62%  \n",
      "  valid loss:\t\t0.06805\n",
      "  valid accuracy:\t0.97655+/-0.01865\n",
      "  valid auc-roc:\t0.95600+/-0.04224\n",
      "  valid auc-pr:\t\t0.69412+/-0.27493\n",
      "saving model parameters to: /home/peter/Data/SequenceMotif/Unlocalized_N=300000_S=200_M=50_G=20_data.pickle_epoch_0.pickle\n",
      "Epoch 2 out of 500 \n",
      "[==============================] 100.0% -- time=0s -- loss=0.05795 -- accuracy=97.99%  \n",
      "  valid loss:\t\t0.05644\n",
      "  valid accuracy:\t0.98033+/-0.01662\n",
      "  valid auc-roc:\t0.97071+/-0.03012\n",
      "  valid auc-pr:\t\t0.75935+/-0.24818\n",
      "saving model parameters to: /home/peter/Data/SequenceMotif/Unlocalized_N=300000_S=200_M=50_G=20_data.pickle_epoch_1.pickle\n",
      "Epoch 3 out of 500 \n",
      "[==============================] 100.0% -- time=0s -- loss=0.04787 -- accuracy=98.31%  \n",
      "  valid loss:\t\t0.05338\n",
      "  valid accuracy:\t0.98127+/-0.01622\n",
      "  valid auc-roc:\t0.97516+/-0.02589\n",
      "  valid auc-pr:\t\t0.78235+/-0.23618\n",
      "saving model parameters to: /home/peter/Data/SequenceMotif/Unlocalized_N=300000_S=200_M=50_G=20_data.pickle_epoch_2.pickle\n",
      "Epoch 4 out of 500 \n",
      "[==============================] 100.0% -- time=0s -- loss=0.04191 -- accuracy=98.50%  \n",
      "  valid loss:\t\t0.05192\n",
      "  valid accuracy:\t0.98184+/-0.01580\n",
      "  valid auc-roc:\t0.97593+/-0.02518\n",
      "  valid auc-pr:\t\t0.79064+/-0.22468\n",
      "saving model parameters to: /home/peter/Data/SequenceMotif/Unlocalized_N=300000_S=200_M=50_G=20_data.pickle_epoch_3.pickle\n",
      "Epoch 5 out of 500 \n",
      "[==============================] 100.0% -- time=0s -- loss=0.03689 -- accuracy=98.68%  \n",
      "  valid loss:\t\t0.05220\n",
      "  valid accuracy:\t0.98202+/-0.01581\n",
      "  valid auc-roc:\t0.97663+/-0.02404\n",
      "  valid auc-pr:\t\t0.79355+/-0.22282\n",
      "saving model parameters to: /home/peter/Data/SequenceMotif/Unlocalized_N=300000_S=200_M=50_G=20_data.pickle_epoch_4.pickle\n",
      "Epoch 6 out of 500 \n",
      "[==============================] 100.0% -- time=0s -- loss=0.03215 -- accuracy=98.84%  \n",
      "  valid loss:\t\t0.05526\n",
      "  valid accuracy:\t0.98130+/-0.01635\n",
      "  valid auc-roc:\t0.97522+/-0.02559\n",
      "  valid auc-pr:\t\t0.78934+/-0.22580\n",
      "saving model parameters to: /home/peter/Data/SequenceMotif/Unlocalized_N=300000_S=200_M=50_G=20_data.pickle_epoch_5.pickle\n",
      "Epoch 7 out of 500 \n",
      "[==============================] 100.0% -- time=0s -- loss=0.02772 -- accuracy=99.01%  \n",
      "  valid loss:\t\t0.05750\n",
      "  valid accuracy:\t0.98127+/-0.01660\n",
      "  valid auc-roc:\t0.97394+/-0.02681\n",
      "  valid auc-pr:\t\t0.78471+/-0.23022\n",
      "saving model parameters to: /home/peter/Data/SequenceMotif/Unlocalized_N=300000_S=200_M=50_G=20_data.pickle_epoch_6.pickle\n",
      "Epoch 8 out of 500 \n",
      "[==============================] 100.0% -- time=0s -- loss=0.02340 -- accuracy=99.16%  \n",
      "  valid loss:\t\t0.06206\n",
      "  valid accuracy:\t0.98058+/-0.01708\n",
      "  valid auc-roc:\t0.97246+/-0.02818\n",
      "  valid auc-pr:\t\t0.77768+/-0.23305\n",
      "saving model parameters to: /home/peter/Data/SequenceMotif/Unlocalized_N=300000_S=200_M=50_G=20_data.pickle_epoch_7.pickle\n",
      "Patience ran out... Early stopping.\n"
     ]
    }
   ],
   "source": [
    "nnmodel = fit.train_minibatch(nnmodel, train, valid, batch_size=128, num_epochs=500, \n",
    "                        patience=3, verbose=1, filepath=filepath)"
   ]
  },
  {
   "cell_type": "code",
   "execution_count": 5,
   "metadata": {
    "collapsed": false
   },
   "outputs": [
    {
     "data": {
      "text/plain": [
       "{'conv1': <lasagne.layers.dnn.Conv2DDNNLayer at 0x7f1cecc4fa50>,\n",
       " 'conv1_active': <lasagne.layers.special.NonlinearityLayer at 0x7f1c88f548d0>,\n",
       " 'conv1_batch': <lasagne.layers.normalization.BatchNormLayer at 0x7f1cecc4f050>,\n",
       " 'conv1_bias': <lasagne.layers.special.BiasLayer at 0x7f1cecc4fa90>,\n",
       " 'conv1_pool': <lasagne.layers.pool.MaxPool2DLayer at 0x7f1c7f587110>,\n",
       " 'conv2': <lasagne.layers.dnn.Conv2DDNNLayer at 0x7f1c88f54810>,\n",
       " 'conv2_active': <lasagne.layers.special.NonlinearityLayer at 0x7f1c7f5872d0>,\n",
       " 'conv2_batch': <lasagne.layers.normalization.BatchNormLayer at 0x7f1c7f587290>,\n",
       " 'conv2_bias': <lasagne.layers.special.BiasLayer at 0x7f1c7f587150>,\n",
       " 'conv2_pool': <lasagne.layers.pool.MaxPool2DLayer at 0x7f1c7f587810>,\n",
       " 'conv3': <lasagne.layers.dnn.Conv2DDNNLayer at 0x7f1c7f587850>,\n",
       " 'conv3_active': <lasagne.layers.special.NonlinearityLayer at 0x7f1c7f587ad0>,\n",
       " 'conv3_batch': <lasagne.layers.normalization.BatchNormLayer at 0x7f1c7f587a90>,\n",
       " 'conv3_bias': <lasagne.layers.special.BiasLayer at 0x7f1c7f587890>,\n",
       " 'conv3_pool': <lasagne.layers.pool.MaxPool2DLayer at 0x7f1c7f58d050>,\n",
       " 'conv4': <lasagne.layers.dnn.Conv2DDNNLayer at 0x7f1c7f58d090>,\n",
       " 'conv4_active': <lasagne.layers.special.NonlinearityLayer at 0x7f1c7f58d250>,\n",
       " 'conv4_batch': <lasagne.layers.normalization.BatchNormLayer at 0x7f1c7f58d210>,\n",
       " 'conv4_bias': <lasagne.layers.special.BiasLayer at 0x7f1c7f58d0d0>,\n",
       " 'conv4_pool': <lasagne.layers.pool.MaxPool2DLayer at 0x7f1c7f58d790>,\n",
       " 'dense': <lasagne.layers.dense.DenseLayer at 0x7f1c7f58d7d0>,\n",
       " 'dense_active': <lasagne.layers.special.NonlinearityLayer at 0x7f1c7f58dcd0>,\n",
       " 'dense_bias': <lasagne.layers.special.BiasLayer at 0x7f1c7f58d810>,\n",
       " 'input': <lasagne.layers.input.InputLayer at 0x7f1cecc4f9d0>,\n",
       " 'output': <lasagne.layers.special.NonlinearityLayer at 0x7f1c7f58dcd0>}"
      ]
     },
     "execution_count": 5,
     "metadata": {},
     "output_type": "execute_result"
    }
   ],
   "source": [
    "network = nnmodel.network\n",
    "network"
   ]
  },
  {
   "cell_type": "code",
   "execution_count": 6,
   "metadata": {
    "collapsed": true
   },
   "outputs": [],
   "source": [
    "class VariationalSampleLayer(layers.MergeLayer):\n",
    "    def __init__(self, incoming_mu, incoming_logsigma, **kwargs):\n",
    "        super(VariationalSampleLayer, self).__init__(incomings=[incoming_mu, incoming_logsigma], **kwargs)\n",
    "        self.srng = RandomStreams(seed=234)\n",
    "\n",
    "    def get_output_shape_for(self, input_shapes):\n",
    "        return input_shapes[0]\n",
    "\n",
    "    def get_output_for(self, inputs, deterministic=False, **kwargs):\n",
    "        mu, logsigma = inputs\n",
    "        shape=(self.input_shapes[0][0] or inputs[0].shape[0],\n",
    "                self.input_shapes[0][1] or inputs[0].shape[1])\n",
    "        if deterministic:\n",
    "            return mu\n",
    "        return mu + T.exp(logsigma) * self.srng.normal(shape, avg=0.0, std=1).astype(theano.config.floatX)\n"
   ]
  },
  {
   "cell_type": "code",
   "execution_count": 34,
   "metadata": {
    "collapsed": false
   },
   "outputs": [],
   "source": [
    "num_encode = 30\n",
    "\n",
    "input_var = T.tensor4('inputs')\n",
    "net = {}\n",
    "\n",
    "# inference network\n",
    "net['input'] = layers.InputLayer(shape=shape, input_var=input_var)\n",
    "net['conv1'] = layers.Conv2DLayer(net['input'],  num_filters=network['conv1'].output_shape[1],\n",
    "                                  filter_size=network['conv1'].filter_size,\n",
    "                                  W=network['conv1'].W,\n",
    "                                  b=None, \n",
    "                                  pad='same',\n",
    "                                  nonlinearity=None, flip_filters=False)\n",
    "net['conv1_norm'] = layers.BatchNormLayer(net['conv1'])\n",
    "net['conv1_active'] = layers.NonlinearityLayer(net['conv1_norm'], nonlinearity=nonlinearities.rectify) \n",
    "net['conv1_pool'] = layers.MaxPool2DLayer(net['conv1_active'], pool_size=network['conv1_pool'].pool_size)\n",
    "\n",
    "net['conv2'] = layers.Conv2DLayer(net['conv1_pool'],  num_filters=network['conv2'].output_shape[1],\n",
    "                                  filter_size=network['conv2'].filter_size,\n",
    "                                  W=network['conv2'].W,\n",
    "                                  b=None, \n",
    "                                  pad='same',\n",
    "                                  nonlinearity=None, flip_filters=False)\n",
    "net['conv2_norm'] = layers.BatchNormLayer(net['conv2'])\n",
    "net['conv2_active'] = layers.NonlinearityLayer(net['conv2_norm'], nonlinearity=nonlinearities.rectify) \n",
    "net['conv2_pool'] = layers.MaxPool2DLayer(net['conv2_active'], pool_size=network['conv2_pool'].pool_size)\n",
    "\n",
    "net['conv3'] = layers.Conv2DLayer(net['conv2_pool'],  num_filters=network['conv3'].output_shape[1],\n",
    "                                  filter_size=network['conv3'].filter_size,\n",
    "                                  W=network['conv3'].W,\n",
    "                                  b=None, \n",
    "                                  pad='same',\n",
    "                                  nonlinearity=None, flip_filters=False)\n",
    "net['conv3_norm'] = layers.BatchNormLayer(net['conv3'])\n",
    "net['conv3_active'] = layers.NonlinearityLayer(net['conv3_norm'], nonlinearity=nonlinearities.rectify) \n",
    "net['conv3_pool'] = layers.MaxPool2DLayer(net['conv3_active'], pool_size=network['conv3_pool'].pool_size)\n",
    "\n",
    "net['conv4'] = layers.Conv2DLayer(net['conv3_pool'],  num_filters=network['conv4'].output_shape[1],\n",
    "                                  filter_size=network['conv4'].filter_size,\n",
    "                                  W=network['conv4'].W,\n",
    "                                  b=None,\n",
    "                                  pad='same',\n",
    "                                  nonlinearity=None, flip_filters=False)\n",
    "net['conv4_norm'] = layers.BatchNormLayer(net['conv4'])\n",
    "net['conv4_active'] = layers.NonlinearityLayer(net['conv4_norm'], nonlinearity=nonlinearities.rectify) \n",
    "net['conv4_pool'] = layers.MaxPool2DLayer(net['conv4_active'], pool_size=network['conv4_pool'].pool_size)\n",
    "\n",
    "\n",
    "# variational layer\n",
    "net['encode_mu'] = layers.DenseLayer(net['conv4_pool'], num_units=num_encode, W=init.GlorotUniform(), \n",
    "                                  b=init.Constant(.0), nonlinearity=nonlinearities.linear)\n",
    "net['encode_logsigma'] = layers.DenseLayer(net['conv4_pool'], num_units=num_encode, W=init.GlorotUniform(), \n",
    "                                  b=init.Constant(.0), nonlinearity=nonlinearities.linear)\n",
    "net['Z'] = VariationalSampleLayer(net['encode_mu'], net['encode_logsigma'])\n",
    "\n",
    "\n",
    "# generative network\n",
    "num_units = np.prod(list(network['dense'].input_shape)[1:])\n",
    "net['dense'] = layers.DenseLayer(net['Z'], num_units=num_units, W=init.GlorotUniform(), \n",
    "                                  b=init.Constant(.0), nonlinearity=nonlinearities.rectify)\n",
    "shape2 = list(get_output_shape(net['conv4_pool']))\n",
    "shape2[0] = -1\n",
    "net['reshape'] = layers.ReshapeLayer(net['dense'], shape=tuple(shape2))\n",
    "\n",
    "#net['invpool4'] = layers.Upscale2DLayer(net['reshape'], net['conv4_pool'].pool_size)\n",
    "net['invpool4'] = layers.InverseLayer(net['reshape'], net['conv4_pool'])\n",
    "net['invconv4']  = Conv2DLayer(net['invpool4'], num_filters=net['conv4'].input_shape[1],\n",
    "                                          filter_size=net['conv4'].filter_size,\n",
    "                                          W=network['conv4'].W.dimshuffle([1,0,2,3]),\n",
    "                                          b=init.Constant(0.05), \n",
    "                                          pad='same',\n",
    "                                          nonlinearity=None,\n",
    "                                          flip_filters=True)\n",
    "net['invconv4_active'] = layers.NonlinearityLayer(net['invconv4'], nonlinearity=nonlinearities.rectify) \n",
    "\n",
    "#net['invpool3'] = layers.Upscale2DLayer(net['invconv4_active'], net['conv3_pool'].pool_size)\n",
    "net['invpool3'] = layers.InverseLayer(net['invconv4_active'], net['conv3_pool'])\n",
    "net['invconv3']  = Conv2DLayer(net['invpool3'], num_filters=net['conv3'].input_shape[1],\n",
    "                                          filter_size=net['conv3'].filter_size,\n",
    "                                          W=network['conv3'].W.dimshuffle([1,0,2,3]),\n",
    "                                          b=init.Constant(0.05), \n",
    "                                          pad='same',\n",
    "                                          nonlinearity=None,\n",
    "                                          flip_filters=True)\n",
    "net['invconv3_active'] = layers.NonlinearityLayer(net['invconv3'], nonlinearity=nonlinearities.rectify) \n",
    "\n",
    "#net['invpool2'] = layers.Upscale2DLayer(net['invconv3_active'], net['conv2_pool'].pool_size)\n",
    "net['invpool2'] = layers.InverseLayer(net['invconv3_active'], net['conv2_pool'])\n",
    "net['invconv2']  = Conv2DLayer(net['invpool2'], num_filters=net['conv2'].input_shape[1],\n",
    "                                          filter_size=net['conv2'].filter_size,\n",
    "                                          W=network['conv2'].W.dimshuffle([1,0,2,3]),\n",
    "                                          b=init.Constant(0.05), \n",
    "                                          pad='same',\n",
    "                                          nonlinearity=None,\n",
    "                                          flip_filters=True)\n",
    "net['invconv2_active'] = layers.NonlinearityLayer(net['invconv2'], nonlinearity=nonlinearities.rectify) \n",
    "\n",
    "\n",
    "#net['invpool1'] = layers.Upscale2DLayer(net['invconv2_active'], net['conv1_pool'].pool_size)\n",
    "net['invpool1'] = layers.InverseLayer(net['invconv2_active'], net['conv1_pool'])\n",
    "net['invconv1']  = Conv2DLayer(net['invpool1'], num_filters=net['conv1'].input_shape[1],\n",
    "                                          filter_size=net['conv1'].filter_size,\n",
    "                                          W=network['conv1'].W.dimshuffle([1,0,2,3]),\n",
    "                                          b=init.Constant(0.05), \n",
    "                                          pad='same',\n",
    "                                          nonlinearity=None,\n",
    "                                          flip_filters=True)\n",
    "net['invconv1_active'] = layers.NonlinearityLayer(net['invconv1'], nonlinearity=nonlinearities.sigmoid) \n",
    "\n",
    "net['X'] = net['invconv1_active']\n"
   ]
  },
  {
   "cell_type": "code",
   "execution_count": null,
   "metadata": {
    "collapsed": false
   },
   "outputs": [],
   "source": [
    "def build_loss(net, target_var, deterministic):\n",
    "    \n",
    "    z_mu = get_output(net['encode_mu'], deterministic=deterministic)\n",
    "    z_logsigma = get_output(net['encode_logsigma'], deterministic=deterministic)\n",
    "    kl_divergence = 0.5*T.sum(1 + 2*z_logsigma - T.sqr(z_mu) - T.exp(2*z_logsigma), axis=1)\n",
    "    x_mu = get_output(net['X'], deterministic=deterministic)\n",
    "    x_mu = T.clip(x_mu, 1e-7, 1-1e-7)\n",
    "    x_logsigma = .5#T.log(T.sqrt(x_mu*(1-x_mu)))\n",
    "\n",
    "    target_var = target_var.reshape((target_var.shape[0],-1))\n",
    "    x_mu = x_mu.reshape((x_mu.shape[0],-1))\n",
    "\n",
    "    log_likelihood = T.sum(-0.5*T.log(2*np.float32(np.pi))- x_logsigma - 0.5*T.sqr(target_var-x_mu)/T.exp(2*x_logsigma), axis=1)\n",
    "    variational_lower_bound = -log_likelihood - kl_divergence\n",
    "    prediction = x_mu\n",
    "    return variational_lower_bound.mean(), prediction, kl_divergence, log_likelihood \n",
    "\n",
    "train_loss, train_prediction, train_kl, train_like = build_loss(net, input_var, deterministic=False)\n",
    "test_loss, test_prediction, test_kl, test_like = build_loss(net, input_var, deterministic=True)\n",
    "\n",
    "\n",
    "# ADAM updates\n",
    "params = get_all_params(net['X'], trainable=True)\n",
    "update_op = updates.adam(train_loss, params, learning_rate=.0001)\n",
    "train_fun = theano.function([input_var], [train_loss] , updates=update_op)\n",
    "valid_fun = theano.function([input_var], [test_loss, test_prediction, test_kl, test_like])"
   ]
  },
  {
   "cell_type": "code",
   "execution_count": null,
   "metadata": {
    "collapsed": false
   },
   "outputs": [],
   "source": [
    "def batch_generator(X, batch_size=128, shuffle=True):\n",
    "    if shuffle:\n",
    "        indices = np.arange(len(X))\n",
    "        np.random.shuffle(indices)\n",
    "    for start_idx in range(0, len(X)-batch_size+1, batch_size):\n",
    "        if shuffle:\n",
    "            excerpt = indices[start_idx:start_idx+batch_size]\n",
    "        else:\n",
    "            excerpt = slice(start_idx, start_idx+batch_size)\n",
    "        yield X[excerpt].astype(np.float32)\n",
    "        \n",
    "        \n",
    "num_epochs = 100\n",
    "batch_size = 100\n",
    "num_train_batches = X_train.shape[0] // batch_size\n",
    "num_valid_batches = X_val.shape[0] // batch_size\n",
    "    \n",
    "for epoch in range(num_epochs):\n",
    "    train_batches = batch_generator(X_train, batch_size, shuffle=True)\n",
    "    valid_batches = batch_generator(X_val, batch_size, shuffle=False)\n",
    "\n",
    "    train_loss = 0\n",
    "    for index in range(num_train_batches):\n",
    "        loss = train_fun(next(train_batches))\n",
    "        train_loss += loss[0]\n",
    "        \n",
    "    print(\"Epoch {} of {}\".format(epoch+1, num_epochs))\n",
    "    print(\"  training loss:\\t\\t{:.6f}\".format(train_loss/num_train_batches))"
   ]
  },
  {
   "cell_type": "code",
   "execution_count": null,
   "metadata": {
    "collapsed": true
   },
   "outputs": [],
   "source": [
    "import pandas as pd\n",
    "def seq_logo(pwm, height=100, nt_width=20, norm=0, rna=1, filepath='.'):\n",
    "    \"\"\"generate a sequence logo from a pwm\"\"\"\n",
    "    \n",
    "    def load_alphabet(filepath, rna):\n",
    "        \"\"\"load images of nucleotide alphabet \"\"\"\n",
    "        df = pd.read_table(os.path.join(filepath, 'A.txt'), header=None);\n",
    "        A_img = df.as_matrix()\n",
    "        A_img = np.reshape(A_img, [72, 65, 3], order=\"F\").astype(np.uint8)\n",
    "\n",
    "        df = pd.read_table(os.path.join(filepath, 'C.txt'), header=None);\n",
    "        C_img = df.as_matrix()\n",
    "        C_img = np.reshape(C_img, [76, 64, 3], order=\"F\").astype(np.uint8)\n",
    "\n",
    "        df = pd.read_table(os.path.join(filepath, 'G.txt'), header=None);\n",
    "        G_img = df.as_matrix()\n",
    "        G_img = np.reshape(G_img, [76, 67, 3], order=\"F\").astype(np.uint8)\n",
    "\n",
    "        if rna == 1:\n",
    "            df = pd.read_table(os.path.join(filepath, 'U.txt'), header=None);\n",
    "            T_img = df.as_matrix()\n",
    "            T_img = np.reshape(T_img, [74, 57, 3], order=\"F\").astype(np.uint8)\n",
    "        else:\n",
    "            df = pd.read_table(os.path.join(filepath, 'T.txt'), header=None);\n",
    "            T_img = df.as_matrix()\n",
    "            T_img = np.reshape(T_img, [72, 59, 3], order=\"F\").astype(np.uint8)\n",
    "\n",
    "        return A_img, C_img, G_img, T_img\n",
    "\n",
    "\n",
    "    def get_nt_height(pwm, height, norm):\n",
    "        \"\"\"get the heights of each nucleotide\"\"\"\n",
    "\n",
    "        def entropy(p):\n",
    "            \"\"\"calculate entropy of each nucleotide\"\"\"\n",
    "            s = 0\n",
    "            for i in range(4):\n",
    "                if p[i] > 0:\n",
    "                    s -= p[i]*np.log2(p[i])\n",
    "            return s\n",
    "\n",
    "        num_nt, num_seq = pwm.shape\n",
    "        heights = np.zeros((num_nt,num_seq));\n",
    "        for i in range(num_seq):\n",
    "            if norm == 1:\n",
    "                total_height = height\n",
    "            else:\n",
    "                total_height = (np.log2(4) - entropy(pwm[:, i]))*height;\n",
    "            heights[:,i] = np.floor(pwm[:,i]*total_height);\n",
    "        return heights.astype(int)\n",
    "\n",
    "    \n",
    "    # get the alphabet images of each nucleotide\n",
    "    A_img, C_img, G_img, T_img = load_alphabet(filepath='.', rna=1)\n",
    "    \n",
    "    \n",
    "    # get the heights of each nucleotide\n",
    "    heights = get_nt_height(pwm, height, norm)\n",
    "    \n",
    "    # resize nucleotide images for each base of sequence and stack\n",
    "    num_nt, num_seq = pwm.shape\n",
    "    width = np.ceil(nt_width*num_seq).astype(int)\n",
    "    \n",
    "    total_height = np.sum(heights,axis=0)\n",
    "    max_height = np.max(total_height)\n",
    "    logo = np.ones((height*2, width, 3)).astype(int)*255;\n",
    "    for i in range(num_seq):\n",
    "        remaining_height = total_height[i];\n",
    "        offset = max_height-remaining_height\n",
    "        nt_height = np.sort(heights[:,i]);\n",
    "        index = np.argsort(heights[:,i])\n",
    "\n",
    "        for j in range(num_nt):\n",
    "            if nt_height[j] > 0:\n",
    "                # resized dimensions of image\n",
    "                resize = (nt_height[j], nt_width)\n",
    "                if index[j] == 0:\n",
    "                    nt_img = imresize(A_img, resize)\n",
    "                elif index[j] == 1:\n",
    "                    nt_img = imresize(C_img, resize)\n",
    "                elif index[j] == 2:\n",
    "                    nt_img = imresize(G_img, resize)\n",
    "                elif index[j] == 3:\n",
    "                    nt_img = imresize(T_img, resize)\n",
    "\n",
    "                # determine location of image\n",
    "                height_range = range(remaining_height-nt_height[j], remaining_height)\n",
    "                width_range = range(i*nt_width, i*nt_width+nt_width)\n",
    "\n",
    "                # 'annoying' way to broadcast resized nucleotide image\n",
    "                if height_range:\n",
    "                    for k in range(3):\n",
    "                        for m in range(len(width_range)):\n",
    "                            logo[height_range+offset, width_range[m],k] = nt_img[:,m,k];\n",
    "\n",
    "                remaining_height -= nt_height[j]\n",
    "\n",
    "    return logo.astype(np.uint8)\n"
   ]
  },
  {
   "cell_type": "code",
   "execution_count": null,
   "metadata": {
    "collapsed": false
   },
   "outputs": [],
   "source": [
    "# save some example pictures so we can see what it's done \n",
    "pred_fn = theano.function([input_var], get_output(net['X'], deterministic=True))\n"
   ]
  },
  {
   "cell_type": "code",
   "execution_count": null,
   "metadata": {
    "collapsed": false
   },
   "outputs": [],
   "source": [
    "\n",
    "index=8\n",
    "prediction = pred_fn(np.expand_dims(test[0][index],0).astype(np.float32))\n",
    "prediction = prediction.reshape([4,200])\n",
    "class_index = np.argmax(test[1][index])\n",
    "model = test[2][index]\n",
    "\n",
    "height=100\n",
    "bp_width=20\n",
    "num_seq = prediction.shape[1]\n",
    "width = bp_width*num_seq\n",
    "size = (25.,10.0)\n",
    "\n",
    "logo = seq_logo(np.squeeze(test[0][index]), height, bp_width, norm=0, rna=1, filepath='.')\n",
    "fig = plt.figure(figsize=size);\n",
    "plt.imshow(logo, interpolation='none');\n",
    "plt.axis('off');\n",
    "\n",
    "logo = seq_logo(model, height, bp_width, norm=0, rna=1, filepath='.')\n",
    "fig = plt.figure(figsize=size);\n",
    "plt.imshow(logo, interpolation='none');\n",
    "plt.axis('off');\n",
    "plt.title(str(class_index))\n",
    "\n",
    "pwm = prediction\n",
    "MAX = np.max(pwm)\n",
    "pwm = pwm/np.outer(np.ones(4), np.sum(pwm,axis=0))\n",
    "\n",
    "logo = seq_logo(pwm, height, bp_width, norm=0, rna=1, filepath='.')\n",
    "fig = plt.figure(figsize=size);\n",
    "plt.imshow(logo, interpolation='none');\n",
    "plt.axis('off');\n"
   ]
  },
  {
   "cell_type": "code",
   "execution_count": 30,
   "metadata": {
    "collapsed": false
   },
   "outputs": [
    {
     "data": {
      "text/plain": [
       "<Container object of 3 artists>"
      ]
     },
     "execution_count": 30,
     "metadata": {},
     "output_type": "execute_result"
    },
    {
     "data": {
      "image/png": "[encoded data removed]",
      "text/plain": [
       "<matplotlib.figure.Figure at 0x7f1c34690e90>"
      ]
     },
     "metadata": {},
     "output_type": "display_data"
    }
   ],
   "source": [
    "def statistics(net, target_var):\n",
    "    z_mu = get_output(net['encode_mu'], deterministic=True)\n",
    "    z_logsigma = get_output(net['encode_logsigma'], deterministic=True)\n",
    "    x_mu = get_output(net['X'], deterministic=True)\n",
    "    x_mu = T.clip(x_mu, 1e-7, 1-1e-7)\n",
    "    x_logsigma = .5#T.log(T.sqrt(x_mu*(1-x_mu)))\n",
    "    kl_divergence = 0.5*(1 + 2*z_logsigma - T.sqr(z_mu) - T.exp(2*z_logsigma))\n",
    "    log_likelihood = -0.5*T.log(2*np.float32(np.pi))- x_logsigma - 0.5*T.sqr(target_var-x_mu)/T.exp(2*x_logsigma)\n",
    "    return kl_divergence, log_likelihood\n",
    "kl_divergence, log_likelihood = statistics(net, input_var)\n",
    "\n",
    "statistics_fun = theano.function([input_var],[kl_divergence, log_likelihood])\n",
    "\n",
    "batch_size = 100\n",
    "num_test_batches = X_val.shape[0] // batch_size\n",
    "test_batches = batch_generator(X_val, batch_size, shuffle=False)\n",
    "\n",
    "kldiv = []\n",
    "logL = []\n",
    "for index in range(num_test_batches):\n",
    "    stats = statistics_fun(next(test_batches))\n",
    "    kldiv.append(stats[0])\n",
    "    logL.append(stats[1])\n",
    "\n",
    "kldiv = np.array(kldiv).reshape([-1,stats[0].shape[1]])\n",
    "logL = np.array(logL).reshape([-1,stats[1].shape[1]])\n",
    "\n",
    "\n",
    "plt.figure\n",
    "plt.errorbar(range(num_encode),-np.mean(kldiv,axis=0),np.std(kldiv,axis=0), fmt='o', markersize=12)\n"
   ]
  },
  {
   "cell_type": "code",
   "execution_count": 31,
   "metadata": {
    "collapsed": false
   },
   "outputs": [],
   "source": [
    "z = get_output(net['Z'], deterministic=True)\n",
    "test_fun = theano.function([input_var], z)\n",
    "\n",
    "batch_size = 100\n",
    "num_test_batches = test[0].shape[0] // batch_size\n",
    "test_batches = batch_generator(test[0], batch_size, shuffle=False)\n",
    "    \n",
    "prediction = []\n",
    "for index in range(num_test_batches):\n",
    "    prediction.append(test_fun(next(test_batches)))\n",
    "    \n",
    "prediction = np.array(prediction)\n",
    "prediction = prediction.reshape([-1,num_encode])"
   ]
  },
  {
   "cell_type": "code",
   "execution_count": 32,
   "metadata": {
    "collapsed": false
   },
   "outputs": [
    {
     "data": {
      "text/plain": [
       "<matplotlib.colorbar.Colorbar at 0x7f1be682b610>"
      ]
     },
     "execution_count": 32,
     "metadata": {},
     "output_type": "execute_result"
    },
    {
     "data": {
      "image/png": "[encoded data removed]",
      "text/plain": [
       "<matplotlib.figure.Figure at 0x7f1be6dae910>"
      ]
     },
     "metadata": {},
     "output_type": "display_data"
    }
   ],
   "source": [
    "y = np.argmax(test[1],axis=1)\n",
    "\n",
    "plt.figure(figsize=(8, 6)) \n",
    "plt.scatter(prediction[:,0], prediction[:,1], c=y[:prediction.shape[0]], cmap=plt.cm.get_cmap(\"jet\", 10),  edgecolor='none')\n",
    "plt.colorbar()"
   ]
  },
  {
   "cell_type": "code",
   "execution_count": 33,
   "metadata": {
    "collapsed": false
   },
   "outputs": [
    {
     "ename": "MissingInputError",
     "evalue": "(\"An input of the graph, used to compute AbstractConv2d{border_mode='half', subsample=(1, 1), filter_flip=False, imshp=(None, 4, 200, 1), kshp=(64, 4, 11, 1)}(inputs, HostFromGpu.0), was not provided and not given a value.Use the Theano flag exception_verbosity='high',for more information on this error.\", inputs)",
     "output_type": "error",
     "traceback": [
      "\u001b[1;31m---------------------------------------------------------------------------\u001b[0m",
      "\u001b[1;31mMissingInputError\u001b[0m                         Traceback (most recent call last)",
      "\u001b[1;32m<ipython-input-33-c6cc6d0f5fdd>\u001b[0m in \u001b[0;36m<module>\u001b[1;34m()\u001b[0m\n\u001b[0;32m      1\u001b[0m \u001b[0mz_var\u001b[0m \u001b[1;33m=\u001b[0m \u001b[0mT\u001b[0m\u001b[1;33m.\u001b[0m\u001b[0mvector\u001b[0m\u001b[1;33m(\u001b[0m\u001b[1;33m)\u001b[0m\u001b[1;33m\u001b[0m\u001b[0m\n\u001b[0;32m      2\u001b[0m \u001b[0mgenerated_x\u001b[0m \u001b[1;33m=\u001b[0m \u001b[0mget_output\u001b[0m\u001b[1;33m(\u001b[0m\u001b[0mnet\u001b[0m\u001b[1;33m[\u001b[0m\u001b[1;34m'X'\u001b[0m\u001b[1;33m]\u001b[0m\u001b[1;33m,\u001b[0m \u001b[1;33m{\u001b[0m\u001b[0mnet\u001b[0m\u001b[1;33m[\u001b[0m\u001b[1;34m'encode_mu'\u001b[0m\u001b[1;33m]\u001b[0m\u001b[1;33m:\u001b[0m\u001b[0mz_var\u001b[0m\u001b[1;33m}\u001b[0m\u001b[1;33m,\u001b[0m \u001b[0mdeterministic\u001b[0m\u001b[1;33m=\u001b[0m\u001b[0mTrue\u001b[0m\u001b[1;33m)\u001b[0m\u001b[1;33m\u001b[0m\u001b[0m\n\u001b[1;32m----> 3\u001b[1;33m \u001b[0mgen_fn\u001b[0m \u001b[1;33m=\u001b[0m \u001b[0mtheano\u001b[0m\u001b[1;33m.\u001b[0m\u001b[0mfunction\u001b[0m\u001b[1;33m(\u001b[0m\u001b[1;33m[\u001b[0m\u001b[0mz_var\u001b[0m\u001b[1;33m]\u001b[0m\u001b[1;33m,\u001b[0m \u001b[0mgenerated_x\u001b[0m\u001b[1;33m,\u001b[0m \u001b[0mallow_input_downcast\u001b[0m\u001b[1;33m=\u001b[0m\u001b[0mTrue\u001b[0m\u001b[1;33m)\u001b[0m\u001b[1;33m\u001b[0m\u001b[0m\n\u001b[0m",
      "\u001b[1;32m/home/peter/anaconda2/lib/python2.7/site-packages/theano/compile/function.pyc\u001b[0m in \u001b[0;36mfunction\u001b[1;34m(inputs, outputs, mode, updates, givens, no_default_updates, accept_inplace, name, rebuild_strict, allow_input_downcast, profile, on_unused_input)\u001b[0m\n\u001b[0;32m    318\u001b[0m                    \u001b[0mon_unused_input\u001b[0m\u001b[1;33m=\u001b[0m\u001b[0mon_unused_input\u001b[0m\u001b[1;33m,\u001b[0m\u001b[1;33m\u001b[0m\u001b[0m\n\u001b[0;32m    319\u001b[0m                    \u001b[0mprofile\u001b[0m\u001b[1;33m=\u001b[0m\u001b[0mprofile\u001b[0m\u001b[1;33m,\u001b[0m\u001b[1;33m\u001b[0m\u001b[0m\n\u001b[1;32m--> 320\u001b[1;33m                    output_keys=output_keys)\n\u001b[0m\u001b[0;32m    321\u001b[0m     \u001b[1;31m# We need to add the flag check_aliased inputs if we have any mutable or\u001b[0m\u001b[1;33m\u001b[0m\u001b[1;33m\u001b[0m\u001b[0m\n\u001b[0;32m    322\u001b[0m     \u001b[1;31m# borrowed used defined inputs\u001b[0m\u001b[1;33m\u001b[0m\u001b[1;33m\u001b[0m\u001b[0m\n",
      "\u001b[1;32m/home/peter/anaconda2/lib/python2.7/site-packages/theano/compile/pfunc.pyc\u001b[0m in \u001b[0;36mpfunc\u001b[1;34m(params, outputs, mode, updates, givens, no_default_updates, accept_inplace, name, rebuild_strict, allow_input_downcast, profile, on_unused_input, output_keys)\u001b[0m\n\u001b[0;32m    477\u001b[0m                          \u001b[0maccept_inplace\u001b[0m\u001b[1;33m=\u001b[0m\u001b[0maccept_inplace\u001b[0m\u001b[1;33m,\u001b[0m \u001b[0mname\u001b[0m\u001b[1;33m=\u001b[0m\u001b[0mname\u001b[0m\u001b[1;33m,\u001b[0m\u001b[1;33m\u001b[0m\u001b[0m\n\u001b[0;32m    478\u001b[0m                          \u001b[0mprofile\u001b[0m\u001b[1;33m=\u001b[0m\u001b[0mprofile\u001b[0m\u001b[1;33m,\u001b[0m \u001b[0mon_unused_input\u001b[0m\u001b[1;33m=\u001b[0m\u001b[0mon_unused_input\u001b[0m\u001b[1;33m,\u001b[0m\u001b[1;33m\u001b[0m\u001b[0m\n\u001b[1;32m--> 479\u001b[1;33m                          output_keys=output_keys)\n\u001b[0m\u001b[0;32m    480\u001b[0m \u001b[1;33m\u001b[0m\u001b[0m\n\u001b[0;32m    481\u001b[0m \u001b[1;33m\u001b[0m\u001b[0m\n",
      "\u001b[1;32m/home/peter/anaconda2/lib/python2.7/site-packages/theano/compile/function_module.pyc\u001b[0m in \u001b[0;36morig_function\u001b[1;34m(inputs, outputs, mode, accept_inplace, name, profile, on_unused_input, output_keys)\u001b[0m\n\u001b[0;32m   1774\u001b[0m                    \u001b[0mprofile\u001b[0m\u001b[1;33m=\u001b[0m\u001b[0mprofile\u001b[0m\u001b[1;33m,\u001b[0m\u001b[1;33m\u001b[0m\u001b[0m\n\u001b[0;32m   1775\u001b[0m                    \u001b[0mon_unused_input\u001b[0m\u001b[1;33m=\u001b[0m\u001b[0mon_unused_input\u001b[0m\u001b[1;33m,\u001b[0m\u001b[1;33m\u001b[0m\u001b[0m\n\u001b[1;32m-> 1776\u001b[1;33m                    \u001b[0moutput_keys\u001b[0m\u001b[1;33m=\u001b[0m\u001b[0moutput_keys\u001b[0m\u001b[1;33m)\u001b[0m\u001b[1;33m.\u001b[0m\u001b[0mcreate\u001b[0m\u001b[1;33m(\u001b[0m\u001b[1;33m\u001b[0m\u001b[0m\n\u001b[0m\u001b[0;32m   1777\u001b[0m             defaults)\n\u001b[0;32m   1778\u001b[0m \u001b[1;33m\u001b[0m\u001b[0m\n",
      "\u001b[1;32m/home/peter/anaconda2/lib/python2.7/site-packages/theano/compile/function_module.pyc\u001b[0m in \u001b[0;36m__init__\u001b[1;34m(self, inputs, outputs, mode, accept_inplace, function_builder, profile, on_unused_input, fgraph, output_keys)\u001b[0m\n\u001b[0;32m   1426\u001b[0m             \u001b[1;31m# OUTPUT VARIABLES)\u001b[0m\u001b[1;33m\u001b[0m\u001b[1;33m\u001b[0m\u001b[0m\n\u001b[0;32m   1427\u001b[0m             fgraph, additional_outputs = std_fgraph(inputs, outputs,\n\u001b[1;32m-> 1428\u001b[1;33m                                                     accept_inplace)\n\u001b[0m\u001b[0;32m   1429\u001b[0m             \u001b[0mfgraph\u001b[0m\u001b[1;33m.\u001b[0m\u001b[0mprofile\u001b[0m \u001b[1;33m=\u001b[0m \u001b[0mprofile\u001b[0m\u001b[1;33m\u001b[0m\u001b[0m\n\u001b[0;32m   1430\u001b[0m         \u001b[1;32melse\u001b[0m\u001b[1;33m:\u001b[0m\u001b[1;33m\u001b[0m\u001b[0m\n",
      "\u001b[1;32m/home/peter/anaconda2/lib/python2.7/site-packages/theano/compile/function_module.pyc\u001b[0m in \u001b[0;36mstd_fgraph\u001b[1;34m(input_specs, output_specs, accept_inplace)\u001b[0m\n\u001b[0;32m    175\u001b[0m \u001b[1;33m\u001b[0m\u001b[0m\n\u001b[0;32m    176\u001b[0m     fgraph = gof.fg.FunctionGraph(orig_inputs, orig_outputs,\n\u001b[1;32m--> 177\u001b[1;33m                                   update_mapping=update_mapping)\n\u001b[0m\u001b[0;32m    178\u001b[0m \u001b[1;33m\u001b[0m\u001b[0m\n\u001b[0;32m    179\u001b[0m     \u001b[1;32mfor\u001b[0m \u001b[0mnode\u001b[0m \u001b[1;32min\u001b[0m \u001b[0mfgraph\u001b[0m\u001b[1;33m.\u001b[0m\u001b[0mapply_nodes\u001b[0m\u001b[1;33m:\u001b[0m\u001b[1;33m\u001b[0m\u001b[0m\n",
      "\u001b[1;32m/home/peter/anaconda2/lib/python2.7/site-packages/theano/gof/fg.pyc\u001b[0m in \u001b[0;36m__init__\u001b[1;34m(self, inputs, outputs, features, clone, update_mapping)\u001b[0m\n\u001b[0;32m    169\u001b[0m \u001b[1;33m\u001b[0m\u001b[0m\n\u001b[0;32m    170\u001b[0m         \u001b[1;32mfor\u001b[0m \u001b[0moutput\u001b[0m \u001b[1;32min\u001b[0m \u001b[0moutputs\u001b[0m\u001b[1;33m:\u001b[0m\u001b[1;33m\u001b[0m\u001b[0m\n\u001b[1;32m--> 171\u001b[1;33m             \u001b[0mself\u001b[0m\u001b[1;33m.\u001b[0m\u001b[0m__import_r__\u001b[0m\u001b[1;33m(\u001b[0m\u001b[0moutput\u001b[0m\u001b[1;33m,\u001b[0m \u001b[0mreason\u001b[0m\u001b[1;33m=\u001b[0m\u001b[1;34m\"init\"\u001b[0m\u001b[1;33m)\u001b[0m\u001b[1;33m\u001b[0m\u001b[0m\n\u001b[0m\u001b[0;32m    172\u001b[0m         \u001b[1;32mfor\u001b[0m \u001b[0mi\u001b[0m\u001b[1;33m,\u001b[0m \u001b[0moutput\u001b[0m \u001b[1;32min\u001b[0m \u001b[0menumerate\u001b[0m\u001b[1;33m(\u001b[0m\u001b[0moutputs\u001b[0m\u001b[1;33m)\u001b[0m\u001b[1;33m:\u001b[0m\u001b[1;33m\u001b[0m\u001b[0m\n\u001b[0;32m    173\u001b[0m             \u001b[0moutput\u001b[0m\u001b[1;33m.\u001b[0m\u001b[0mclients\u001b[0m\u001b[1;33m.\u001b[0m\u001b[0mappend\u001b[0m\u001b[1;33m(\u001b[0m\u001b[1;33m(\u001b[0m\u001b[1;34m'output'\u001b[0m\u001b[1;33m,\u001b[0m \u001b[0mi\u001b[0m\u001b[1;33m)\u001b[0m\u001b[1;33m)\u001b[0m\u001b[1;33m\u001b[0m\u001b[0m\n",
      "\u001b[1;32m/home/peter/anaconda2/lib/python2.7/site-packages/theano/gof/fg.pyc\u001b[0m in \u001b[0;36m__import_r__\u001b[1;34m(self, variable, reason)\u001b[0m\n\u001b[0;32m    358\u001b[0m         \u001b[1;31m# Imports the owners of the variables\u001b[0m\u001b[1;33m\u001b[0m\u001b[1;33m\u001b[0m\u001b[0m\n\u001b[0;32m    359\u001b[0m         \u001b[1;32mif\u001b[0m \u001b[0mvariable\u001b[0m\u001b[1;33m.\u001b[0m\u001b[0mowner\u001b[0m \u001b[1;32mand\u001b[0m \u001b[0mvariable\u001b[0m\u001b[1;33m.\u001b[0m\u001b[0mowner\u001b[0m \u001b[1;32mnot\u001b[0m \u001b[1;32min\u001b[0m \u001b[0mself\u001b[0m\u001b[1;33m.\u001b[0m\u001b[0mapply_nodes\u001b[0m\u001b[1;33m:\u001b[0m\u001b[1;33m\u001b[0m\u001b[0m\n\u001b[1;32m--> 360\u001b[1;33m                 \u001b[0mself\u001b[0m\u001b[1;33m.\u001b[0m\u001b[0m__import__\u001b[0m\u001b[1;33m(\u001b[0m\u001b[0mvariable\u001b[0m\u001b[1;33m.\u001b[0m\u001b[0mowner\u001b[0m\u001b[1;33m,\u001b[0m \u001b[0mreason\u001b[0m\u001b[1;33m=\u001b[0m\u001b[0mreason\u001b[0m\u001b[1;33m)\u001b[0m\u001b[1;33m\u001b[0m\u001b[0m\n\u001b[0m\u001b[0;32m    361\u001b[0m         if (variable.owner is None and\n\u001b[0;32m    362\u001b[0m                 \u001b[1;32mnot\u001b[0m \u001b[0misinstance\u001b[0m\u001b[1;33m(\u001b[0m\u001b[0mvariable\u001b[0m\u001b[1;33m,\u001b[0m \u001b[0mgraph\u001b[0m\u001b[1;33m.\u001b[0m\u001b[0mConstant\u001b[0m\u001b[1;33m)\u001b[0m \u001b[1;32mand\u001b[0m\u001b[1;33m\u001b[0m\u001b[0m\n",
      "\u001b[1;32m/home/peter/anaconda2/lib/python2.7/site-packages/theano/gof/fg.pyc\u001b[0m in \u001b[0;36m__import__\u001b[1;34m(self, apply_node, check, reason)\u001b[0m\n\u001b[0;32m    472\u001b[0m                             \u001b[1;34m\"for more information on this error.\"\u001b[0m\u001b[1;33m\u001b[0m\u001b[0m\n\u001b[0;32m    473\u001b[0m                             % str(node)),\n\u001b[1;32m--> 474\u001b[1;33m                             r)\n\u001b[0m\u001b[0;32m    475\u001b[0m \u001b[1;33m\u001b[0m\u001b[0m\n\u001b[0;32m    476\u001b[0m         \u001b[1;32mfor\u001b[0m \u001b[0mnode\u001b[0m \u001b[1;32min\u001b[0m \u001b[0mnew_nodes\u001b[0m\u001b[1;33m:\u001b[0m\u001b[1;33m\u001b[0m\u001b[0m\n",
      "\u001b[1;31mMissingInputError\u001b[0m: (\"An input of the graph, used to compute AbstractConv2d{border_mode='half', subsample=(1, 1), filter_flip=False, imshp=(None, 4, 200, 1), kshp=(64, 4, 11, 1)}(inputs, HostFromGpu.0), was not provided and not given a value.Use the Theano flag exception_verbosity='high',for more information on this error.\", inputs)"
     ]
    }
   ],
   "source": [
    "z_var = T.vector()\n",
    "generated_x = get_output(net['X'], {net['encode_mu']:z_var}, deterministic=True)\n",
    "gen_fn = theano.function([z_var], generated_x, allow_input_downcast=True)"
   ]
  },
  {
   "cell_type": "code",
   "execution_count": 17,
   "metadata": {
    "collapsed": false
   },
   "outputs": [
    {
     "ename": "TypeError",
     "evalue": "('Bad input argument to theano function with name \"<ipython-input-16-c6cc6d0f5fdd>:3\"  at index 0(0-based)', 'Wrong number of dimensions: expected 1, got 4 with shape (1, 4, 200, 1).')",
     "output_type": "error",
     "traceback": [
      "\u001b[1;31m---------------------------------------------------------------------------\u001b[0m",
      "\u001b[1;31mTypeError\u001b[0m                                 Traceback (most recent call last)",
      "\u001b[1;32m<ipython-input-17-0c172e3d04f3>\u001b[0m in \u001b[0;36m<module>\u001b[1;34m()\u001b[0m\n\u001b[1;32m----> 1\u001b[1;33m \u001b[0mprediction\u001b[0m \u001b[1;33m=\u001b[0m \u001b[0mgen_fn\u001b[0m\u001b[1;33m(\u001b[0m\u001b[0mnp\u001b[0m\u001b[1;33m.\u001b[0m\u001b[0mones\u001b[0m\u001b[1;33m(\u001b[0m\u001b[1;33m(\u001b[0m\u001b[1;36m1\u001b[0m\u001b[1;33m,\u001b[0m\u001b[1;36m4\u001b[0m\u001b[1;33m,\u001b[0m\u001b[1;36m200\u001b[0m\u001b[1;33m,\u001b[0m\u001b[1;36m1\u001b[0m\u001b[1;33m)\u001b[0m\u001b[1;33m)\u001b[0m\u001b[1;33m,\u001b[0m \u001b[0mnp\u001b[0m\u001b[1;33m.\u001b[0m\u001b[0marray\u001b[0m\u001b[1;33m(\u001b[0m\u001b[1;33m[\u001b[0m\u001b[1;36m0.\u001b[0m\u001b[1;33m,\u001b[0m\u001b[1;36m.5\u001b[0m\u001b[1;33m]\u001b[0m\u001b[1;33m)\u001b[0m\u001b[1;33m)\u001b[0m\u001b[1;33m\u001b[0m\u001b[0m\n\u001b[0m\u001b[0;32m      2\u001b[0m \u001b[1;33m\u001b[0m\u001b[0m\n\u001b[0;32m      3\u001b[0m \u001b[0mpwm\u001b[0m \u001b[1;33m=\u001b[0m \u001b[0mnp\u001b[0m\u001b[1;33m.\u001b[0m\u001b[0msqueeze\u001b[0m\u001b[1;33m(\u001b[0m\u001b[0mprediction\u001b[0m\u001b[1;33m[\u001b[0m\u001b[1;36m0\u001b[0m\u001b[1;33m]\u001b[0m\u001b[1;33m)\u001b[0m\u001b[1;33m\u001b[0m\u001b[0m\n\u001b[0;32m      4\u001b[0m \u001b[0mpwm\u001b[0m \u001b[1;33m=\u001b[0m \u001b[0mpwm\u001b[0m\u001b[1;33m/\u001b[0m\u001b[0mnp\u001b[0m\u001b[1;33m.\u001b[0m\u001b[0mouter\u001b[0m\u001b[1;33m(\u001b[0m\u001b[0mnp\u001b[0m\u001b[1;33m.\u001b[0m\u001b[0mones\u001b[0m\u001b[1;33m(\u001b[0m\u001b[1;36m4\u001b[0m\u001b[1;33m)\u001b[0m\u001b[1;33m,\u001b[0m \u001b[0mnp\u001b[0m\u001b[1;33m.\u001b[0m\u001b[0msum\u001b[0m\u001b[1;33m(\u001b[0m\u001b[0mpwm\u001b[0m\u001b[1;33m,\u001b[0m\u001b[0maxis\u001b[0m\u001b[1;33m=\u001b[0m\u001b[1;36m0\u001b[0m\u001b[1;33m)\u001b[0m\u001b[1;33m)\u001b[0m\u001b[1;33m\u001b[0m\u001b[0m\n\u001b[0;32m      5\u001b[0m \u001b[1;33m\u001b[0m\u001b[0m\n",
      "\u001b[1;32m/home/peter/anaconda2/lib/python2.7/site-packages/theano/compile/function_module.pyc\u001b[0m in \u001b[0;36m__call__\u001b[1;34m(self, *args, **kwargs)\u001b[0m\n\u001b[0;32m    784\u001b[0m                         s.storage[0] = s.type.filter(\n\u001b[0;32m    785\u001b[0m                             \u001b[0marg\u001b[0m\u001b[1;33m,\u001b[0m \u001b[0mstrict\u001b[0m\u001b[1;33m=\u001b[0m\u001b[0ms\u001b[0m\u001b[1;33m.\u001b[0m\u001b[0mstrict\u001b[0m\u001b[1;33m,\u001b[0m\u001b[1;33m\u001b[0m\u001b[0m\n\u001b[1;32m--> 786\u001b[1;33m                             allow_downcast=s.allow_downcast)\n\u001b[0m\u001b[0;32m    787\u001b[0m \u001b[1;33m\u001b[0m\u001b[0m\n\u001b[0;32m    788\u001b[0m                     \u001b[1;32mexcept\u001b[0m \u001b[0mException\u001b[0m \u001b[1;32mas\u001b[0m \u001b[0me\u001b[0m\u001b[1;33m:\u001b[0m\u001b[1;33m\u001b[0m\u001b[0m\n",
      "\u001b[1;32m/home/peter/anaconda2/lib/python2.7/site-packages/theano/tensor/type.pyc\u001b[0m in \u001b[0;36mfilter\u001b[1;34m(self, data, strict, allow_downcast)\u001b[0m\n\u001b[0;32m    175\u001b[0m             raise TypeError(\"Wrong number of dimensions: expected %s,\"\n\u001b[0;32m    176\u001b[0m                             \" got %s with shape %s.\" % (self.ndim, data.ndim,\n\u001b[1;32m--> 177\u001b[1;33m                                                         data.shape))\n\u001b[0m\u001b[0;32m    178\u001b[0m         \u001b[1;32mif\u001b[0m \u001b[1;32mnot\u001b[0m \u001b[0mdata\u001b[0m\u001b[1;33m.\u001b[0m\u001b[0mflags\u001b[0m\u001b[1;33m.\u001b[0m\u001b[0maligned\u001b[0m\u001b[1;33m:\u001b[0m\u001b[1;33m\u001b[0m\u001b[0m\n\u001b[0;32m    179\u001b[0m             \u001b[1;32mtry\u001b[0m\u001b[1;33m:\u001b[0m\u001b[1;33m\u001b[0m\u001b[0m\n",
      "\u001b[1;31mTypeError\u001b[0m: ('Bad input argument to theano function with name \"<ipython-input-16-c6cc6d0f5fdd>:3\"  at index 0(0-based)', 'Wrong number of dimensions: expected 1, got 4 with shape (1, 4, 200, 1).')"
     ]
    }
   ],
   "source": [
    "prediction = gen_fn(np.ones((1,4,200,1)), np.array([0.,.5]))\n",
    "\n",
    "pwm = np.squeeze(prediction[0])\n",
    "pwm = pwm/np.outer(np.ones(4), np.sum(pwm,axis=0))\n",
    "\n",
    "logo = seq_logo(pwm, height, bp_width, norm=0, rna=1, filepath='.')\n",
    "fig = plt.figure(figsize=size);\n",
    "plt.imshow(logo, interpolation='none');\n",
    "plt.axis('off');\n",
    "\n",
    "\n",
    "prediction = gen_fn(np.zeros((1,4,200,1)), np.array([0., 0.]))\n",
    "\n",
    "pwm = np.squeeze(prediction[0])\n",
    "pwm = pwm/np.outer(np.ones(4), np.sum(pwm,axis=0))\n",
    "\n",
    "logo = seq_logo(pwm, height, bp_width, norm=0, rna=1, filepath='.')\n",
    "fig = plt.figure(figsize=size);\n",
    "plt.imshow(logo, interpolation='none');\n",
    "plt.axis('off');\n",
    "\n"
   ]
  },
  {
   "cell_type": "code",
   "execution_count": null,
   "metadata": {
    "collapsed": false
   },
   "outputs": [],
   "source": [
    "np.max(prediction,axis=0)"
   ]
  },
  {
   "cell_type": "code",
   "execution_count": null,
   "metadata": {
    "collapsed": true
   },
   "outputs": [],
   "source": []
  },
  {
   "cell_type": "code",
   "execution_count": null,
   "metadata": {
    "collapsed": false
   },
   "outputs": [],
   "source": []
  },
  {
   "cell_type": "code",
   "execution_count": null,
   "metadata": {
    "collapsed": false,
    "scrolled": true
   },
   "outputs": [],
   "source": []
  },
  {
   "cell_type": "code",
   "execution_count": null,
   "metadata": {
    "collapsed": true
   },
   "outputs": [],
   "source": []
  },
  {
   "cell_type": "code",
   "execution_count": null,
   "metadata": {
    "collapsed": true
   },
   "outputs": [],
   "source": []
  },
  {
   "cell_type": "code",
   "execution_count": null,
   "metadata": {
    "collapsed": true
   },
   "outputs": [],
   "source": []
  },
  {
   "cell_type": "code",
   "execution_count": null,
   "metadata": {
    "collapsed": true
   },
   "outputs": [],
   "source": []
  },
  {
   "cell_type": "code",
   "execution_count": null,
   "metadata": {
    "collapsed": true
   },
   "outputs": [],
   "source": []
  },
  {
   "cell_type": "code",
   "execution_count": null,
   "metadata": {
    "collapsed": true
   },
   "outputs": [],
   "source": []
  },
  {
   "cell_type": "code",
   "execution_count": null,
   "metadata": {
    "collapsed": true
   },
   "outputs": [],
   "source": []
  },
  {
   "cell_type": "code",
   "execution_count": null,
   "metadata": {
    "collapsed": true
   },
   "outputs": [],
   "source": []
  },
  {
   "cell_type": "code",
   "execution_count": null,
   "metadata": {
    "collapsed": true
   },
   "outputs": [],
   "source": []
  },
  {
   "cell_type": "code",
   "execution_count": null,
   "metadata": {
    "collapsed": true
   },
   "outputs": [],
   "source": []
  },
  {
   "cell_type": "code",
   "execution_count": null,
   "metadata": {
    "collapsed": true
   },
   "outputs": [],
   "source": []
  },
  {
   "cell_type": "markdown",
   "metadata": {},
   "source": [
    "# MNIST "
   ]
  },
  {
   "cell_type": "code",
   "execution_count": null,
   "metadata": {
    "collapsed": true
   },
   "outputs": [],
   "source": [
    "# load mnist data\n",
    "fname = '/home/peter/Data/mnist/mnist.pkl.gz'\n",
    "f = gzip.open(fname, 'rb')\n",
    "train_set, valid_set, test_set = pickle.load(f)\n",
    "f.close()\n",
    "X_train, y_train = train_set\n",
    "X_valid, y_valid = valid_set\n",
    "X_test, y_test = test_set\n",
    "\n",
    "num_labels = 10\n",
    "num_train = len(y_train)\n",
    "num_valid = len(y_valid)\n",
    "num_test = len(y_test)\n",
    "X_train = X_train.reshape([-1,1,28,28])"
   ]
  },
  {
   "cell_type": "code",
   "execution_count": null,
   "metadata": {
    "collapsed": true
   },
   "outputs": [],
   "source": [
    "class VariationalSampleLayer(layers.MergeLayer):\n",
    "    def __init__(self, incoming_mu, incoming_logsigma, **kwargs):\n",
    "        super(VariationalSampleLayer, self).__init__(incomings=[incoming_mu, incoming_logsigma], **kwargs)\n",
    "        self.srng = RandomStreams(seed=234)\n",
    "\n",
    "    def get_output_shape_for(self, input_shapes):\n",
    "        return input_shapes[0]\n",
    "\n",
    "    def get_output_for(self, inputs, deterministic=False, **kwargs):\n",
    "        mu, logsigma = inputs\n",
    "        shape=(self.input_shapes[0][0] or inputs[0].shape[0],\n",
    "                self.input_shapes[0][1] or inputs[0].shape[1])\n",
    "        if deterministic:\n",
    "            return mu\n",
    "        return mu + T.exp(logsigma) * self.srng.normal(shape, avg=0.0, std=1).astype(theano.config.floatX)\n"
   ]
  },
  {
   "cell_type": "code",
   "execution_count": null,
   "metadata": {
    "collapsed": false
   },
   "outputs": [],
   "source": [
    "num_encode=2\n",
    "num_units=500\n",
    "x_dim = 28*28\n",
    "\n",
    "input_var = T.tensor4('inputs')\n",
    "net = {}\n",
    "net['input'] = layers.InputLayer(shape=(None,1,28,28), input_var=input_var)\n",
    "net['conv1'] = layers.Conv2DLayer(net['input'],  num_filters=25,\n",
    "                                  filter_size=(5,5),\n",
    "                                  W=init.GlorotUniform(),\n",
    "                                  b=None, \n",
    "                                  pad='same')\n",
    "\n",
    "net['conv1_bias'] = layers.BiasLayer(net['conv1'], b=init.Constant(0.05))\n",
    "net['conv1_norm'] = layers.BatchNormLayer(net['conv1_bias'])\n",
    "net['conv1_active'] = layers.NonlinearityLayer(net['conv1_norm'],nonlinearity=nonlinearities.rectify) \n",
    "net['conv1_pool'] = layers.MaxPool2DLayer(net['conv1_active'], pool_size=(2,2))\n",
    "\n",
    "net['conv2'] = layers.Conv2DLayer(net['conv1_pool'],  num_filters=50,\n",
    "                                  filter_size=(3,3),\n",
    "                                  W=init.GlorotUniform(),\n",
    "                                  b=None, \n",
    "                                  pad='same')\n",
    "net['conv2_bias'] = layers.BiasLayer(net['conv2'], b=init.Constant(0.05))\n",
    "net['conv2_norm'] = layers.BatchNormLayer(net['conv2_bias'])\n",
    "net['conv2_active'] = layers.NonlinearityLayer(net['conv2_norm'],nonlinearity=nonlinearities.rectify)                          \n",
    "net['conv2_pool'] = layers.MaxPool2DLayer(net['conv2_active'], pool_size=(2,2))\n",
    "                                            \n",
    "         \n",
    "net['dense1'] = layers.DenseLayer(net['conv2_pool'], num_units=100, W=init.GlorotUniform(), \n",
    "                                  b=init.Constant(.0), nonlinearity=nonlinearities.rectify)\n",
    "net['dense2'] = layers.DenseLayer(net['dense1'], num_units=100, W=init.GlorotUniform(), \n",
    "                                  b=init.Constant(.0), nonlinearity=nonlinearities.rectify)\n",
    "                                  \n",
    "net['encode_mu'] = layers.DenseLayer(net['dense2'], num_units=num_encode, W=init.GlorotUniform(), \n",
    "                                  b=init.Constant(.0), nonlinearity=nonlinearities.linear)\n",
    "net['encode_logsigma'] = layers.DenseLayer(net['dense2'], num_units=num_encode, W=init.GlorotUniform(), \n",
    "                                  b=init.Constant(.0), nonlinearity=nonlinearities.linear)\n",
    "net['Z'] = VariationalSampleLayer(net['encode_mu'], net['encode_logsigma'])\n",
    "                                  \n",
    "net['invline'] = layers.DenseLayer(net['Z'], num_units=net['dense2'].input_shape[1], W=init.GlorotUniform(), \n",
    "                                  b=init.Constant(.0), nonlinearity=nonlinearities.linear)\n",
    "net['invdense2'] = layers.DenseLayer(net['invline'], num_units=net['dense2'].input_shape[1], W=net['dense2'].W.dimshuffle([1,0]), \n",
    "                                  b=init.Constant(.0), nonlinearity=nonlinearities.rectify)\n",
    "num_units = np.prod(list(net['dense1'].input_shape)[1:])\n",
    "net['invdense1'] = layers.DenseLayer(net['invdense2'], num_units=num_units, W=net['dense1'].W.dimshuffle([1,0]), \n",
    "                                  b=init.Constant(.0), nonlinearity=nonlinearities.rectify)\n",
    "shape = list(get_output_shape(net['conv2_pool']))\n",
    "shape[0] = -1\n",
    "net['reshape'] = layers.ReshapeLayer(net['invdense1'], shape=tuple(shape))\n",
    "\n",
    "net['invpool2'] = layers.Upscale2DLayer(net['reshape'], (2,2))\n",
    "net['invconv2']  = Conv2DLayer(net['invpool2'], num_filters=net['conv2'].input_shape[1],\n",
    "                                          filter_size=net['conv2'].filter_size,\n",
    "                                          W=net['conv2'].W.dimshuffle([1,0,2,3]), #W2_inv, #\n",
    "                                          b=init.Constant(0.05), \n",
    "                                          pad='same',\n",
    "                                          nonlinearity=nonlinearities.rectify, flip_filters=True)\n",
    "\n",
    "\n",
    "net['invpool1'] = layers.Upscale2DLayer(net['invconv2'], (2,2))\n",
    "net['X']  = Conv2DLayer(net['invpool1'], num_filters=net['conv1'].input_shape[1],\n",
    "                                          filter_size=net['conv1'].filter_size,\n",
    "                                          W=net['conv1'].W.dimshuffle([1,0,2,3]), #W2_inv, #\n",
    "                                          b=init.Constant(0.05), \n",
    "                                          pad='same',\n",
    "                                          nonlinearity=nonlinearities.sigmoid, flip_filters=True)"
   ]
  },
  {
   "cell_type": "code",
   "execution_count": null,
   "metadata": {
    "collapsed": false
   },
   "outputs": [],
   "source": [
    "def build_loss(net, target_var, deterministic):\n",
    "    \n",
    "    z_mu = get_output(net['encode_mu'], deterministic=deterministic)\n",
    "    z_logsigma = get_output(net['encode_logsigma'], deterministic=deterministic)\n",
    "    kl_divergence = 0.5*T.sum(1 + 2*z_logsigma - T.sqr(z_mu) - T.exp(2*z_logsigma), axis=1)\n",
    "    \n",
    "    x_mu = get_output(net['X'], deterministic=deterministic)\n",
    "    x_mu = T.clip(x_mu, 1e-7, 1-1e-7)\n",
    "    \n",
    "    num_data = target_var.shape[0]\n",
    "    target_var = target_var.reshape([num_data,-1])\n",
    "    x_mu = x_mu.reshape([num_data, -1])\n",
    "    log_likelihood = T.sum(target_var*T.log(1e-10+x_mu) + (1.0-target_var)*T.log(1e-10+1.0-x_mu), axis=1)\n",
    "    variational_lower_bound = -log_likelihood - kl_divergence\n",
    "    prediction = x_mu\n",
    "    return variational_lower_bound.mean(), prediction\n",
    "\n",
    "train_loss, train_prediction = build_loss(net, input_var, deterministic=False)\n",
    "\n",
    "# ADAM updates\n",
    "params = get_all_params(net['X'], trainable=True)\n",
    "update_op = updates.adam(train_loss, params, learning_rate=1e-3)\n",
    "train_fun = theano.function([input_var], train_loss, updates=update_op)"
   ]
  },
  {
   "cell_type": "code",
   "execution_count": null,
   "metadata": {
    "collapsed": false
   },
   "outputs": [],
   "source": [
    "def batch_generator(X, batch_size=128, shuffle=True):\n",
    "    if shuffle:\n",
    "        indices = np.arange(len(X))\n",
    "        np.random.shuffle(indices)\n",
    "    for start_idx in range(0, len(X)-batch_size+1, batch_size):\n",
    "        if shuffle:\n",
    "            excerpt = indices[start_idx:start_idx+batch_size]\n",
    "        else:\n",
    "            excerpt = slice(start_idx, start_idx+batch_size)\n",
    "        yield X[excerpt].astype(np.float32)\n",
    "        \n",
    "num_epochs = 60\n",
    "batch_size = 100\n",
    "num_train_batches = X_train.shape[0] // batch_size\n",
    "    \n",
    "for epoch in range(num_epochs):\n",
    "    train_batches = batch_generator(X_train, batch_size, shuffle=True)\n",
    "\n",
    "    train_loss = 0\n",
    "    for index in range(num_train_batches):\n",
    "        loss = train_fun(next(train_batches))\n",
    "        train_loss += loss\n",
    "        \n",
    "    print(\"Epoch {} of {}\".format(epoch+1, num_epochs))\n",
    "    print(\"  training loss:\\t\\t{:.6f}\".format(train_loss/num_train_batches))"
   ]
  },
  {
   "cell_type": "code",
   "execution_count": null,
   "metadata": {
    "collapsed": false
   },
   "outputs": [],
   "source": [
    "# save some example pictures so we can see what it's done \n",
    "example_batch_size = 100\n",
    "X_comp = X_test[:example_batch_size]\n",
    "X_comp = X_comp.reshape([-1,1,28,28])\n",
    "pred_fn = theano.function([input_var], get_output(net['X'], deterministic=True))\n",
    "X_pred = pred_fn(X_comp)\n",
    "\n",
    "width = 10\n",
    "height = 10\n",
    "\n",
    "plt.figure(figsize = (height,width))\n",
    "fig = plt.gcf()\n",
    "fig.set_size_inches(100, 100, forward=True)\n",
    "gs = mpl.gridspec.GridSpec(height, width)\n",
    "gs.update(wspace=0.1, hspace=0.1, left=0.1, right=0.2, bottom=0.1, top=0.2) \n",
    "for i in range(width*height):\n",
    "    img = np.reshape(X_comp[i], [28,28])\n",
    "    plt.subplot(gs[i])\n",
    "    plt.imshow(np.squeeze(img), cmap='gray', interpolation='nearest')\n",
    "    plt.axis('off')\n",
    "plt.show()\n",
    "\n",
    "\n",
    "\n",
    "plt.figure(figsize = (height,width))\n",
    "fig = plt.gcf()\n",
    "fig.set_size_inches(100, 100, forward=True)\n",
    "gs = mpl.gridspec.GridSpec(height, width)\n",
    "gs.update(wspace=0.1, hspace=0.1, left=0.1, right=0.2, bottom=0.1, top=0.2) \n",
    "for i in range(width*height):\n",
    "    img = np.reshape(X_pred[i], [28,28])\n",
    "    plt.subplot(gs[i])\n",
    "    plt.imshow(np.squeeze(img), cmap='gray', interpolation='nearest')\n",
    "    plt.axis('off')\n",
    "plt.show()\n"
   ]
  },
  {
   "cell_type": "code",
   "execution_count": null,
   "metadata": {
    "collapsed": false
   },
   "outputs": [],
   "source": [
    "z = get_output(net['Z'], deterministic=True)\n",
    "test_fun = theano.function([input_var], z)\n",
    "\n",
    "batch_size = 100\n",
    "num_test_batches = X_test.shape[0] // batch_size\n",
    "test_batches = batch_generator(X_test.reshape([-1,1,28,28]), batch_size, shuffle=False)\n",
    "    \n",
    "prediction = []\n",
    "for index in range(num_test_batches):\n",
    "    prediction.append(test_fun(next(test_batches)))\n",
    "    \n",
    "prediction = np.array(prediction).reshape([-1,2])\n",
    "\n",
    "plt.figure(figsize=(8, 6)) \n",
    "plt.scatter(prediction[:,0], prediction[:,1], c=y_test, cmap=plt.cm.get_cmap(\"jet\", 10),  edgecolor='none')\n",
    "plt.colorbar()"
   ]
  },
  {
   "cell_type": "code",
   "execution_count": null,
   "metadata": {
    "collapsed": false,
    "scrolled": true
   },
   "outputs": [],
   "source": [
    "z_var = T.vector()\n",
    "generated_x = get_output(net['X'], {net['encode_mu']:z_var}, \n",
    "            deterministic=True)\n",
    "gen_fn = theano.function([z_var], generated_x)\n",
    "\n",
    "num_grid = 20\n",
    "width = 28\n",
    "height = 28\n",
    "tile_img = np.zeros((width*num_grid,height*num_grid))\n",
    "MIN = np.min(prediction)\n",
    "MAX = np.max(prediction)\n",
    "pos = np.linspace(MIN,MAX,num_grid)\n",
    "for i in range(num_grid):\n",
    "    for j in range(num_grid):\n",
    "        z = np.asarray([pos[i], pos[j]], dtype=theano.config.floatX)\n",
    "        x_gen = gen_fn(z).reshape(-1, 1, width, height)\n",
    "        tile_img[i*height:(i+1)*height, j*width:(j+1)*width] = x_gen\n",
    "        \n",
    "plt.figure(figsize=(10, 10))\n",
    "plt.imshow(tile_img, cmap='gray')\n",
    "plt.axis('off')"
   ]
  }
 ],
 "metadata": {
  "kernelspec": {
   "display_name": "Python 2",
   "language": "python",
   "name": "python2"
  },
  "language_info": {
   "codemirror_mode": {
    "name": "ipython",
    "version": 2
   },
   "file_extension": ".py",
   "mimetype": "text/x-python",
   "name": "python",
   "nbconvert_exporter": "python",
   "pygments_lexer": "ipython2",
   "version": "2.7.11"
  }
 },
 "nbformat": 4,
 "nbformat_minor": 0
}
