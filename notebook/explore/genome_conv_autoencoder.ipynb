{
 "cells": [
  {
   "cell_type": "code",
   "execution_count": 1,
   "metadata": {
    "collapsed": false
   },
   "outputs": [
    {
     "name": "stderr",
     "output_type": "stream",
     "text": [
      "/home/peter/anaconda2/lib/python2.7/site-packages/matplotlib/__init__.py:1350: UserWarning:  This call to matplotlib.use() has no effect\n",
      "because the backend has already been chosen;\n",
      "matplotlib.use() must be called *before* pylab, matplotlib.pyplot,\n",
      "or matplotlib.backends is imported for the first time.\n",
      "\n",
      "  warnings.warn(_use_error_msg)\n",
      "Using gpu device 0: GeForce GTX 980 (CNMeM is disabled, CuDNN 4007)\n"
     ]
    }
   ],
   "source": [
    "from __future__ import print_function\n",
    "import os, sys, urllib, gzip, matplotlib\n",
    "sys.setrecursionlimit(10000)\n",
    "%matplotlib inline\n",
    "matplotlib.use('Agg') # Change matplotlib backend, in case we have no X server running..\n",
    "import matplotlib.pyplot as plt\n",
    "import numpy as np\n",
    "from IPython.display import Image as IPImage\n",
    "from PIL import Image\n",
    "\n",
    "import cPickle as pickle\n",
    "\n",
    "from lasagne import layers\n",
    "from lasagne.layers import get_output, get_output_shape, get_all_layers, get_all_params\n",
    "from lasagne.layers import get_all_param_values, set_all_param_values\n",
    "from lasagne import nonlinearities\n",
    "from lasagne import updates \n",
    "from lasagne import objectives \n",
    "from lasagne import init \n",
    "import theano.tensor as T\n",
    "import theano\n",
    "\n",
    "sys.path.append('..')\n",
    "from src import NeuralNet\n",
    "from src import train as fit\n",
    "from src import make_directory \n",
    "from models import load_model\n",
    "from data import load_data"
   ]
  },
  {
   "cell_type": "code",
   "execution_count": 3,
   "metadata": {
    "collapsed": false
   },
   "outputs": [
    {
     "name": "stdout",
     "output_type": "stream",
     "text": [
      "loading data from: /home/peter/Data/SequenceMotif/N=100000_S=200_M=10_G=20_data.pickle\n",
      "loading train data\n",
      "loading cross-validation data\n",
      "loading test data\n"
     ]
    }
   ],
   "source": [
    "\"\"\"\n",
    "name = 'Basset' # 'DeepSea'\n",
    "datapath = '/home/peter/Data/'+name\n",
    "options = {\"class_range\": range(3)}# \n",
    "train, valid, test = load_data(name, datapath, options)\n",
    "shape = (None, train[0].shape[1], train[0].shape[2], train[0].shape[3])\n",
    "num_labels = np.round(train[1].shape[1])\n",
    "\n",
    "\"\"\"\n",
    "name = 'MotifSimulation_binary'\n",
    "datapath = '/home/peter/Data/SequenceMotif'\n",
    "filepath = os.path.join(datapath, 'N=100000_S=200_M=10_G=20_data.pickle')\n",
    "train, valid, test = load_data(name, filepath)\n",
    "shape = (None, train[0].shape[1], train[0].shape[2], train[0].shape[3])\n",
    "num_labels = np.round(train[1].shape[1])\n",
    "#\"\"\"\n",
    "\n",
    "def batch_generator(X, y, N):\n",
    "    while True:\n",
    "        idx = np.random.choice(len(y), N)\n",
    "        yield X[idx].astype('float32'), y[idx].astype('float32')\n",
    "\n"
   ]
  },
  {
   "cell_type": "code",
   "execution_count": 8,
   "metadata": {
    "collapsed": true
   },
   "outputs": [],
   "source": [
    "# build model\n",
    "input_var = T.tensor4('input')\n",
    "\n",
    "l_in = layers.InputLayer(shape=shape, input_var=input_var, name='input')\n",
    "l_conv1 = layers.Conv2DLayer(l_in, num_filters=200, filter_size=(8,1), W=init.GlorotUniform(), \n",
    "                             nonlinearity=None, b=None, pad='valid', name='conv1')\n",
    "l_norm1 = layers.BatchNormLayer(l_conv1)\n",
    "l_bias1 = layers.BiasLayer(l_norm1, b=init.Constant(0.05))\n",
    "l_nonlin1 = layers.NonlinearityLayer(l_bias1, nonlinearity=nonlinearities.rectify)\n",
    "l_pool1 = layers.MaxPool2DLayer(l_nonlin1, pool_size=(4,1))\n",
    "\n",
    "l_conv3 = layers.Conv2DLayer(l_pool1, num_filters=200, filter_size=(8,1), W=init.GlorotUniform(), \n",
    "                             nonlinearity=None, b=None, pad='valid', name='conv1')\n",
    "l_norm3 = layers.BatchNormLayer(l_conv3)\n",
    "l_bias3 = layers.BiasLayer(l_norm3, b=init.Constant(0.05))\n",
    "l_nonlin3 = layers.NonlinearityLayer(l_bias3, nonlinearity=nonlinearities.rectify)\n",
    "l_pool3 = layers.MaxPool2DLayer(l_nonlin3, pool_size=(4,1))\n",
    "l_drop3 = layers.DropoutLayer(l_pool3, p=0.3)\n",
    "\n",
    "l_dense3 = layers.DenseLayer(l_drop3, num_units=200, W=init.GlorotUniform(), name='inter')\n",
    "l_norm4 = layers.BatchNormLayer(l_dense3)\n",
    "l_bias3 = layers.BiasLayer(l_norm4, init.Constant(0.05))\n",
    "l_nonlin3 = layers.NonlinearityLayer(l_bias3, nonlinearity=nonlinearities.sigmoid)\n",
    "l_drop4 = layers.DropoutLayer(l_nonlin3, p=0.5)\n",
    "\n",
    "l_dense4 = layers.DenseLayer(l_drop4, num_units=20, W=init.GlorotUniform(), name='inter')\n",
    "l_bias4 = layers.BiasLayer(l_dense4, init.Constant(0.05))\n",
    "l_nonlin4 = layers.NonlinearityLayer(l_bias4, nonlinearity=nonlinearities.sigmoid)\n",
    "\n",
    "l_enc = layers.NonlinearityLayer(l_nonlin4, nonlinearity=None)\n",
    "\n",
    "l_dec5 = layers.InverseLayer(l_enc, l_dense4, name='decode')\n",
    "l_bias5 = layers.BiasLayer(l_dec5, init.Constant(0.05))\n",
    "l_nonlin5 = layers.NonlinearityLayer(l_bias5, nonlinearity=nonlinearities.sigmoid)\n",
    "\n",
    "l_dec6 = layers.InverseLayer(l_nonlin5, l_dense3, name='decode')\n",
    "l_norm6 = layers.BatchNormLayer(l_dec6)\n",
    "l_bias6 = layers.BiasLayer(l_norm6, init.Constant(0.05))\n",
    "l_nonlin6 = layers.NonlinearityLayer(l_bias6, nonlinearity=nonlinearities.sigmoid)\n",
    "\n",
    "l_depool9 = layers.InverseLayer(l_nonlin6, l_pool3, name='depool')\n",
    "l_deconv9 = layers.InverseLayer(l_depool9, l_conv3, name='deconv')\n",
    "l_norm9 = layers.BatchNormLayer(l_deconv9)\n",
    "l_bias9 = layers.BiasLayer(l_norm9, init.Constant(0.05))\n",
    "l_nonlin9 = layers.NonlinearityLayer(l_bias9, nonlinearity=nonlinearities.rectify)\n",
    "                           \n",
    "l_depool8 = layers.InverseLayer(l_nonlin9, l_pool1, name='depool')\n",
    "l_deconv8 = layers.InverseLayer(l_depool8, l_conv1, name='deconv')\n",
    "l_norm8 = layers.BatchNormLayer(l_deconv8)\n",
    "l_bias8 = layers.BiasLayer(l_norm8, init.Constant(0.05))\n",
    "l_out = layers.NonlinearityLayer(l_bias8, nonlinearity=nonlinearities.rectify)\n",
    "\n",
    "\n",
    "prediction = get_output(l_out)\n",
    "train_loss = objectives.squared_error(prediction, input_var)\n",
    "train_loss = train_loss.mean()\n",
    "\n",
    "valid_prediction = get_output(l_out, deterministic=True)\n",
    "valid_loss = objectives.squared_error(valid_prediction, input_var)\n",
    "valid_loss = valid_loss.mean()\n",
    "\n",
    "params = get_all_params(l_out, trainable=True)\n",
    "update_op = updates.adam(train_loss, params)\n",
    "\n",
    "train_function = theano.function([input_var], train_loss, updates=update_op)\n",
    "valid_function = theano.function([input_var], valid_loss)\n"
   ]
  },
  {
   "cell_type": "code",
   "execution_count": 9,
   "metadata": {
    "collapsed": false
   },
   "outputs": [
    {
     "name": "stdout",
     "output_type": "stream",
     "text": [
      "train: 0.004879\n",
      "train: 0.003433\n",
      "train: 0.002892\n",
      "train: 0.002520\n",
      "train: 0.002515\n",
      "train: 0.002492\n",
      "train: 0.002357\n",
      "train: 0.002450\n",
      "train: 0.002502\n"
     ]
    },
    {
     "ename": "KeyboardInterrupt",
     "evalue": "",
     "output_type": "error",
     "traceback": [
      "\u001b[1;31m---------------------------------------------------------------------------\u001b[0m",
      "\u001b[1;31mKeyboardInterrupt\u001b[0m                         Traceback (most recent call last)",
      "\u001b[1;32m<ipython-input-9-6ec26f23d293>\u001b[0m in \u001b[0;36m<module>\u001b[1;34m()\u001b[0m\n\u001b[0;32m      8\u001b[0m     \u001b[1;32mfor\u001b[0m \u001b[0mindex\u001b[0m \u001b[1;32min\u001b[0m \u001b[0mrange\u001b[0m\u001b[1;33m(\u001b[0m\u001b[0mnum_train_batches\u001b[0m\u001b[1;33m)\u001b[0m\u001b[1;33m:\u001b[0m\u001b[1;33m\u001b[0m\u001b[0m\n\u001b[0;32m      9\u001b[0m         \u001b[0mX_batch\u001b[0m\u001b[1;33m,\u001b[0m \u001b[0my_batch\u001b[0m \u001b[1;33m=\u001b[0m \u001b[0mnext\u001b[0m\u001b[1;33m(\u001b[0m\u001b[0mtrain_batches\u001b[0m\u001b[1;33m)\u001b[0m\u001b[1;33m\u001b[0m\u001b[0m\n\u001b[1;32m---> 10\u001b[1;33m         \u001b[0mtrain_loss\u001b[0m \u001b[1;33m=\u001b[0m \u001b[0mtrain_function\u001b[0m\u001b[1;33m(\u001b[0m\u001b[0mX_batch\u001b[0m\u001b[1;33m)\u001b[0m\u001b[1;33m\u001b[0m\u001b[0m\n\u001b[0m\u001b[0;32m     11\u001b[0m     \u001b[1;32mprint\u001b[0m\u001b[1;33m(\u001b[0m\u001b[1;34m\"train: %f\"\u001b[0m \u001b[1;33m%\u001b[0m \u001b[0mtrain_loss\u001b[0m\u001b[1;33m)\u001b[0m\u001b[1;33m\u001b[0m\u001b[0m\n",
      "\u001b[1;32m/home/peter/anaconda2/lib/python2.7/site-packages/theano/compile/function_module.pyc\u001b[0m in \u001b[0;36m__call__\u001b[1;34m(self, *args, **kwargs)\u001b[0m\n\u001b[0;32m    857\u001b[0m         \u001b[0mt0_fn\u001b[0m \u001b[1;33m=\u001b[0m \u001b[0mtime\u001b[0m\u001b[1;33m.\u001b[0m\u001b[0mtime\u001b[0m\u001b[1;33m(\u001b[0m\u001b[1;33m)\u001b[0m\u001b[1;33m\u001b[0m\u001b[0m\n\u001b[0;32m    858\u001b[0m         \u001b[1;32mtry\u001b[0m\u001b[1;33m:\u001b[0m\u001b[1;33m\u001b[0m\u001b[0m\n\u001b[1;32m--> 859\u001b[1;33m             \u001b[0moutputs\u001b[0m \u001b[1;33m=\u001b[0m \u001b[0mself\u001b[0m\u001b[1;33m.\u001b[0m\u001b[0mfn\u001b[0m\u001b[1;33m(\u001b[0m\u001b[1;33m)\u001b[0m\u001b[1;33m\u001b[0m\u001b[0m\n\u001b[0m\u001b[0;32m    860\u001b[0m         \u001b[1;32mexcept\u001b[0m \u001b[0mException\u001b[0m\u001b[1;33m:\u001b[0m\u001b[1;33m\u001b[0m\u001b[0m\n\u001b[0;32m    861\u001b[0m             \u001b[1;32mif\u001b[0m \u001b[0mhasattr\u001b[0m\u001b[1;33m(\u001b[0m\u001b[0mself\u001b[0m\u001b[1;33m.\u001b[0m\u001b[0mfn\u001b[0m\u001b[1;33m,\u001b[0m \u001b[1;34m'position_of_error'\u001b[0m\u001b[1;33m)\u001b[0m\u001b[1;33m:\u001b[0m\u001b[1;33m\u001b[0m\u001b[0m\n",
      "\u001b[1;32m/home/peter/anaconda2/lib/python2.7/site-packages/theano/gof/op.pyc\u001b[0m in \u001b[0;36mrval\u001b[1;34m(p, i, o, n)\u001b[0m\n\u001b[0;32m    909\u001b[0m         \u001b[1;32mif\u001b[0m \u001b[0mparams\u001b[0m \u001b[1;32mis\u001b[0m \u001b[0mgraph\u001b[0m\u001b[1;33m.\u001b[0m\u001b[0mNoParams\u001b[0m\u001b[1;33m:\u001b[0m\u001b[1;33m\u001b[0m\u001b[0m\n\u001b[0;32m    910\u001b[0m             \u001b[1;31m# default arguments are stored in the closure of `rval`\u001b[0m\u001b[1;33m\u001b[0m\u001b[1;33m\u001b[0m\u001b[0m\n\u001b[1;32m--> 911\u001b[1;33m             \u001b[1;32mdef\u001b[0m \u001b[0mrval\u001b[0m\u001b[1;33m(\u001b[0m\u001b[0mp\u001b[0m\u001b[1;33m=\u001b[0m\u001b[0mp\u001b[0m\u001b[1;33m,\u001b[0m \u001b[0mi\u001b[0m\u001b[1;33m=\u001b[0m\u001b[0mnode_input_storage\u001b[0m\u001b[1;33m,\u001b[0m \u001b[0mo\u001b[0m\u001b[1;33m=\u001b[0m\u001b[0mnode_output_storage\u001b[0m\u001b[1;33m,\u001b[0m \u001b[0mn\u001b[0m\u001b[1;33m=\u001b[0m\u001b[0mnode\u001b[0m\u001b[1;33m)\u001b[0m\u001b[1;33m:\u001b[0m\u001b[1;33m\u001b[0m\u001b[0m\n\u001b[0m\u001b[0;32m    912\u001b[0m                 \u001b[0mr\u001b[0m \u001b[1;33m=\u001b[0m \u001b[0mp\u001b[0m\u001b[1;33m(\u001b[0m\u001b[0mn\u001b[0m\u001b[1;33m,\u001b[0m \u001b[1;33m[\u001b[0m\u001b[0mx\u001b[0m\u001b[1;33m[\u001b[0m\u001b[1;36m0\u001b[0m\u001b[1;33m]\u001b[0m \u001b[1;32mfor\u001b[0m \u001b[0mx\u001b[0m \u001b[1;32min\u001b[0m \u001b[0mi\u001b[0m\u001b[1;33m]\u001b[0m\u001b[1;33m,\u001b[0m \u001b[0mo\u001b[0m\u001b[1;33m)\u001b[0m\u001b[1;33m\u001b[0m\u001b[0m\n\u001b[0;32m    913\u001b[0m                 \u001b[1;32mfor\u001b[0m \u001b[0mo\u001b[0m \u001b[1;32min\u001b[0m \u001b[0mnode\u001b[0m\u001b[1;33m.\u001b[0m\u001b[0moutputs\u001b[0m\u001b[1;33m:\u001b[0m\u001b[1;33m\u001b[0m\u001b[0m\n",
      "\u001b[1;31mKeyboardInterrupt\u001b[0m: "
     ]
    }
   ],
   "source": [
    "batch_size = 128\n",
    "\n",
    "num_train_batches = len(train[0]) // batch_size\n",
    "train_batches = batch_generator(train[0], train[1], batch_size)\n",
    "\n",
    "n_epochs = 15\n",
    "for e in range(n_epochs):\n",
    "    for index in range(num_train_batches):\n",
    "        X_batch, y_batch = next(train_batches)\n",
    "        train_loss = train_function(X_batch)\n",
    "    print(\"train: %f\" % train_loss)\n"
   ]
  },
  {
   "cell_type": "code",
   "execution_count": 10,
   "metadata": {
    "collapsed": true
   },
   "outputs": [],
   "source": [
    "full = theano.function([input_var], layers.get_output(l_out), allow_input_downcast=True)\n",
    "encode = theano.function([input_var], layers.get_output(l_enc), allow_input_downcast=True)\n",
    "\n",
    "target_var = T.dmatrix('codes')\n",
    "out_expr = layers.get_output(l_out, {l_enc:target_var})\n",
    "fn = theano.function([target_var, l_in.input_var], out_expr, allow_input_downcast=True)"
   ]
  },
  {
   "cell_type": "code",
   "execution_count": 13,
   "metadata": {
    "collapsed": false
   },
   "outputs": [
    {
     "name": "stdout",
     "output_type": "stream",
     "text": [
      "[ 0.8265124   0.92895764  0.53943282  0.71296102  0.7897808   0.7608757\n",
      "  0.56352985  0.78462529  0.44714594  0.53536981  0.96264875  0.76974922\n",
      "  0.73713291  0.55756795  0.53973943  0.99704713  0.99407142  0.99282891\n",
      "  0.93909556  0.93308097]\n",
      "Reconstruction with Image = Original Image\n",
      "Full pass through Autoencoder\n"
     ]
    },
    {
     "data": {
      "text/plain": [
       "<matplotlib.image.AxesImage at 0x7f386ef12f10>"
      ]
     },
     "execution_count": 13,
     "metadata": {},
     "output_type": "execute_result"
    },
    {
     "data": {
      "image/png": "[encoded data removed]",
      "text/plain": [
       "<matplotlib.figure.Figure at 0x7f3867470810>"
      ]
     },
     "metadata": {},
     "output_type": "display_data"
    },
    {
     "data": {
      "image/png": "[encoded data removed]",
      "text/plain": [
       "<matplotlib.figure.Figure at 0x7f3870632950>"
      ]
     },
     "metadata": {},
     "output_type": "display_data"
    },
    {
     "data": {
      "image/png": "[encoded data removed]",
      "text/plain": [
       "<matplotlib.figure.Figure at 0x7f386e963690>"
      ]
     },
     "metadata": {},
     "output_type": "display_data"
    }
   ],
   "source": [
    "index = 2\n",
    "orig_image = np.expand_dims(train[0][index], axis=0) \n",
    "#zero_image=np.random.rand((1,1,28,28))\n",
    "\n",
    "# reconstruction from encoding layer\n",
    "code = encode(orig_image)\n",
    "print(str(np.squeeze(code)))\n",
    "encode_image = fn(code, orig_image)\n",
    "\n",
    "# full pass\n",
    "#full_image = full(orig_image)\n",
    "\n",
    "plt.figure()\n",
    "plt.imshow(np.squeeze(orig_image), cmap='gray')\n",
    "\n",
    "#print(\"Reconstruction with Image = Zeros\")\n",
    "#plt.figure()\n",
    "#plt.imshow(np.squeeze(fn(code,zero_image)), cmap='gray')\n",
    "\n",
    "print(\"Reconstruction with Image = Original Image\")\n",
    "plt.figure()\n",
    "plt.imshow(np.squeeze(encode_image), cmap='gray')\n",
    "\n",
    "print(\"Full pass through Autoencoder\")\n",
    "plt.figure()\n",
    "plt.imshow(np.squeeze(full(orig_image)), cmap='gray')\n",
    "\n",
    "#plt.figure()\n",
    "#plt.imshow(np.squeeze(full_image), cmap='gray')"
   ]
  },
  {
   "cell_type": "code",
   "execution_count": 14,
   "metadata": {
    "collapsed": true
   },
   "outputs": [],
   "source": [
    "all_params = get_all_param_values(l_nonlin4)"
   ]
  },
  {
   "cell_type": "code",
   "execution_count": 17,
   "metadata": {
    "collapsed": true
   },
   "outputs": [],
   "source": [
    "input_var = T.tensor4('input')\n",
    "target_var = T.dmatrix('output')\n",
    "\n",
    "net = []\n",
    "net = layers.InputLayer(shape=shape, input_var=input_var, name='input')\n",
    "net = layers.Conv2DLayer(net, num_filters=200, filter_size=(8,1), W=init.GlorotUniform(), \n",
    "                             nonlinearity=None, b=None, pad='valid', name='conv1')\n",
    "net = layers.BatchNormLayer(net)\n",
    "net = layers.BiasLayer(net, b=init.Constant(0.05))\n",
    "net = layers.NonlinearityLayer(net, nonlinearity=nonlinearities.rectify)\n",
    "net = layers.MaxPool2DLayer(net, pool_size=(4,1))\n",
    "\n",
    "net = layers.Conv2DLayer(net, num_filters=200, filter_size=(8,1), W=init.GlorotUniform(), \n",
    "                             nonlinearity=None, b=None, pad='valid', name='conv1')\n",
    "net = layers.BatchNormLayer(net)\n",
    "net = layers.BiasLayer(net, b=init.Constant(0.05))\n",
    "net = layers.NonlinearityLayer(net, nonlinearity=nonlinearities.rectify)\n",
    "net = layers.MaxPool2DLayer(net, pool_size=(4,1))\n",
    "#net = layers.DropoutLayer(net, p=0.3)\n",
    "\n",
    "net = layers.DenseLayer(net, num_units=200, W=init.GlorotUniform(), name='inter')\n",
    "net = layers.BatchNormLayer(net)\n",
    "net = layers.BiasLayer(net, init.Constant(0.05))\n",
    "net = layers.NonlinearityLayer(net, nonlinearity=nonlinearities.sigmoid)\n",
    "#net = layers.DropoutLayer(net, p=0.5)\n",
    "\n",
    "net = layers.DenseLayer(net, num_units=20, W=init.GlorotUniform(), name='inter')\n",
    "net = layers.BiasLayer(net, init.Constant(0.05))\n",
    "net = layers.NonlinearityLayer(net, nonlinearity=nonlinearities.sigmoid)\n"
   ]
  },
  {
   "cell_type": "code",
   "execution_count": 18,
   "metadata": {
    "collapsed": false
   },
   "outputs": [],
   "source": [
    "set_all_param_values(net, all_params)"
   ]
  },
  {
   "cell_type": "code",
   "execution_count": 19,
   "metadata": {
    "collapsed": true
   },
   "outputs": [],
   "source": [
    "prediction = get_output(net)\n",
    "train_loss = objectives.binary_crossentropy(prediction, target_var)\n",
    "train_loss = train_loss.mean()\n",
    "\n",
    "valid_prediction = get_output(net, deterministic=True)\n",
    "valid_loss = objectives.binary_crossentropy(valid_prediction, target_var)\n",
    "valid_loss = valid_loss.mean()\n",
    "\n",
    "valid_acc = objectives.binary_accuracy(valid_prediction, target_var)\n",
    "valid_acc = valid_acc.mean()\n",
    "\n",
    "params = get_all_params(net, trainable=True)\n",
    "update_op = updates.adam(train_loss, params)\n",
    "\n",
    "train_fn = theano.function([input_var, target_var], train_loss, updates=update_op, allow_input_downcast=True)\n",
    "val_fn = theano.function([input_var, target_var], [valid_loss, valid_acc], allow_input_downcast=True)\n"
   ]
  },
  {
   "cell_type": "code",
   "execution_count": 20,
   "metadata": {
    "collapsed": false
   },
   "outputs": [
    {
     "name": "stdout",
     "output_type": "stream",
     "text": [
      "train: 0.640928\n",
      "valid: 0.517883\n",
      "accuracy: 0.954063\n",
      "train: 0.449153\n",
      "valid: 0.390563\n",
      "accuracy: 0.954010\n",
      "train: 0.343769\n",
      "valid: 0.305715\n",
      "accuracy: 0.957979\n",
      "train: 0.277016\n",
      "valid: 0.254072\n",
      "accuracy: 0.958330\n",
      "train: 0.234525\n",
      "valid: 0.218843\n",
      "accuracy: 0.959589\n",
      "train: 0.205561\n",
      "valid: 0.196030\n",
      "accuracy: 0.960116\n",
      "train: 0.187256\n",
      "valid: 0.182145\n",
      "accuracy: 0.959959\n"
     ]
    },
    {
     "ename": "KeyboardInterrupt",
     "evalue": "",
     "output_type": "error",
     "traceback": [
      "\u001b[1;31m---------------------------------------------------------------------------\u001b[0m",
      "\u001b[1;31mKeyboardInterrupt\u001b[0m                         Traceback (most recent call last)",
      "\u001b[1;32m<ipython-input-20-1436d2569fbd>\u001b[0m in \u001b[0;36m<module>\u001b[1;34m()\u001b[0m\n\u001b[0;32m     12\u001b[0m     \u001b[1;32mfor\u001b[0m \u001b[0mindex\u001b[0m \u001b[1;32min\u001b[0m \u001b[0mrange\u001b[0m\u001b[1;33m(\u001b[0m\u001b[0mnum_train_batches\u001b[0m\u001b[1;33m)\u001b[0m\u001b[1;33m:\u001b[0m\u001b[1;33m\u001b[0m\u001b[0m\n\u001b[0;32m     13\u001b[0m         \u001b[0mX_batch\u001b[0m\u001b[1;33m,\u001b[0m \u001b[0my_batch\u001b[0m \u001b[1;33m=\u001b[0m \u001b[0mnext\u001b[0m\u001b[1;33m(\u001b[0m\u001b[0mtrain_batches\u001b[0m\u001b[1;33m)\u001b[0m\u001b[1;33m\u001b[0m\u001b[0m\n\u001b[1;32m---> 14\u001b[1;33m         \u001b[0mtrain_loss\u001b[0m \u001b[1;33m=\u001b[0m \u001b[0mtrain_fn\u001b[0m\u001b[1;33m(\u001b[0m\u001b[0mX_batch\u001b[0m\u001b[1;33m,\u001b[0m \u001b[0my_batch\u001b[0m\u001b[1;33m)\u001b[0m\u001b[1;33m\u001b[0m\u001b[0m\n\u001b[0m\u001b[0;32m     15\u001b[0m         \u001b[0mave_loss\u001b[0m \u001b[1;33m+=\u001b[0m \u001b[0mtrain_loss\u001b[0m\u001b[1;33m\u001b[0m\u001b[0m\n\u001b[0;32m     16\u001b[0m     \u001b[1;32mprint\u001b[0m\u001b[1;33m(\u001b[0m\u001b[1;34m\"train: %f\"\u001b[0m \u001b[1;33m%\u001b[0m \u001b[0mfloat\u001b[0m\u001b[1;33m(\u001b[0m\u001b[0mave_loss\u001b[0m\u001b[1;33m/\u001b[0m\u001b[0mnum_train_batches\u001b[0m\u001b[1;33m)\u001b[0m\u001b[1;33m)\u001b[0m\u001b[1;33m\u001b[0m\u001b[0m\n",
      "\u001b[1;32m/home/peter/anaconda2/lib/python2.7/site-packages/theano/compile/function_module.pyc\u001b[0m in \u001b[0;36m__call__\u001b[1;34m(self, *args, **kwargs)\u001b[0m\n\u001b[0;32m    857\u001b[0m         \u001b[0mt0_fn\u001b[0m \u001b[1;33m=\u001b[0m \u001b[0mtime\u001b[0m\u001b[1;33m.\u001b[0m\u001b[0mtime\u001b[0m\u001b[1;33m(\u001b[0m\u001b[1;33m)\u001b[0m\u001b[1;33m\u001b[0m\u001b[0m\n\u001b[0;32m    858\u001b[0m         \u001b[1;32mtry\u001b[0m\u001b[1;33m:\u001b[0m\u001b[1;33m\u001b[0m\u001b[0m\n\u001b[1;32m--> 859\u001b[1;33m             \u001b[0moutputs\u001b[0m \u001b[1;33m=\u001b[0m \u001b[0mself\u001b[0m\u001b[1;33m.\u001b[0m\u001b[0mfn\u001b[0m\u001b[1;33m(\u001b[0m\u001b[1;33m)\u001b[0m\u001b[1;33m\u001b[0m\u001b[0m\n\u001b[0m\u001b[0;32m    860\u001b[0m         \u001b[1;32mexcept\u001b[0m \u001b[0mException\u001b[0m\u001b[1;33m:\u001b[0m\u001b[1;33m\u001b[0m\u001b[0m\n\u001b[0;32m    861\u001b[0m             \u001b[1;32mif\u001b[0m \u001b[0mhasattr\u001b[0m\u001b[1;33m(\u001b[0m\u001b[0mself\u001b[0m\u001b[1;33m.\u001b[0m\u001b[0mfn\u001b[0m\u001b[1;33m,\u001b[0m \u001b[1;34m'position_of_error'\u001b[0m\u001b[1;33m)\u001b[0m\u001b[1;33m:\u001b[0m\u001b[1;33m\u001b[0m\u001b[0m\n",
      "\u001b[1;31mKeyboardInterrupt\u001b[0m: "
     ]
    }
   ],
   "source": [
    "batch_size = 128\n",
    "\n",
    "num_train_batches = len(train[0]) // batch_size\n",
    "train_batches = batch_generator(train[0], train[1], batch_size)\n",
    "\n",
    "num_valid_batches = len(valid[0]) // batch_size\n",
    "valid_batches = batch_generator(valid[0], valid[1], batch_size)\n",
    "\n",
    "n_epochs = 10\n",
    "for e in range(n_epochs):\n",
    "    ave_loss = 0\n",
    "    for index in range(num_train_batches):\n",
    "        X_batch, y_batch = next(train_batches)\n",
    "        train_loss = train_fn(X_batch, y_batch)\n",
    "        ave_loss += train_loss\n",
    "    print(\"train: %f\" % float(ave_loss/num_train_batches))\n",
    "\n",
    "    ave_loss = 0\n",
    "    ave_acc = 0\n",
    "    for index in range(num_valid_batches):\n",
    "        X_batch, y_batch = next(valid_batches)\n",
    "        valid_loss, valid_acc = val_fn(X_batch, y_batch)\n",
    "        ave_loss += valid_loss\n",
    "        ave_acc += valid_acc\n",
    "    print(\"valid: %f\" % float(ave_loss/num_valid_batches))\n",
    "    print(\"accuracy: %f\" % float(ave_acc/num_valid_batches))\n",
    "    \n",
    "    "
   ]
  },
  {
   "cell_type": "code",
   "execution_count": null,
   "metadata": {
    "collapsed": true
   },
   "outputs": [],
   "source": []
  },
  {
   "cell_type": "code",
   "execution_count": 21,
   "metadata": {
    "collapsed": false
   },
   "outputs": [
    {
     "name": "stdout",
     "output_type": "stream",
     "text": [
      "train: 0.603613\n",
      "valid: 0.506383\n",
      "accuracy: 0.957385\n",
      "train: 0.437341\n",
      "valid: 0.378542\n",
      "accuracy: 0.957225\n",
      "train: 0.335457\n",
      "valid: 0.299383\n",
      "accuracy: 0.957348\n"
     ]
    },
    {
     "ename": "KeyboardInterrupt",
     "evalue": "",
     "output_type": "error",
     "traceback": [
      "\u001b[1;31m---------------------------------------------------------------------------\u001b[0m",
      "\u001b[1;31mKeyboardInterrupt\u001b[0m                         Traceback (most recent call last)",
      "\u001b[1;32m<ipython-input-21-b0abe48dbf59>\u001b[0m in \u001b[0;36m<module>\u001b[1;34m()\u001b[0m\n\u001b[0;32m     59\u001b[0m     \u001b[1;32mfor\u001b[0m \u001b[0mindex\u001b[0m \u001b[1;32min\u001b[0m \u001b[0mrange\u001b[0m\u001b[1;33m(\u001b[0m\u001b[0mnum_train_batches\u001b[0m\u001b[1;33m)\u001b[0m\u001b[1;33m:\u001b[0m\u001b[1;33m\u001b[0m\u001b[0m\n\u001b[0;32m     60\u001b[0m         \u001b[0mX_batch\u001b[0m\u001b[1;33m,\u001b[0m \u001b[0my_batch\u001b[0m \u001b[1;33m=\u001b[0m \u001b[0mnext\u001b[0m\u001b[1;33m(\u001b[0m\u001b[0mtrain_batches\u001b[0m\u001b[1;33m)\u001b[0m\u001b[1;33m\u001b[0m\u001b[0m\n\u001b[1;32m---> 61\u001b[1;33m         \u001b[0mtrain_loss\u001b[0m \u001b[1;33m=\u001b[0m \u001b[0mtrain_fn\u001b[0m\u001b[1;33m(\u001b[0m\u001b[0mX_batch\u001b[0m\u001b[1;33m,\u001b[0m \u001b[0my_batch\u001b[0m\u001b[1;33m)\u001b[0m\u001b[1;33m\u001b[0m\u001b[0m\n\u001b[0m\u001b[0;32m     62\u001b[0m         \u001b[0mave_loss\u001b[0m \u001b[1;33m+=\u001b[0m \u001b[0mtrain_loss\u001b[0m\u001b[1;33m\u001b[0m\u001b[0m\n\u001b[0;32m     63\u001b[0m     \u001b[1;32mprint\u001b[0m\u001b[1;33m(\u001b[0m\u001b[1;34m\"train: %f\"\u001b[0m \u001b[1;33m%\u001b[0m \u001b[0mfloat\u001b[0m\u001b[1;33m(\u001b[0m\u001b[0mave_loss\u001b[0m\u001b[1;33m/\u001b[0m\u001b[0mnum_train_batches\u001b[0m\u001b[1;33m)\u001b[0m\u001b[1;33m)\u001b[0m\u001b[1;33m\u001b[0m\u001b[0m\n",
      "\u001b[1;32m/home/peter/anaconda2/lib/python2.7/site-packages/theano/compile/function_module.pyc\u001b[0m in \u001b[0;36m__call__\u001b[1;34m(self, *args, **kwargs)\u001b[0m\n\u001b[0;32m    857\u001b[0m         \u001b[0mt0_fn\u001b[0m \u001b[1;33m=\u001b[0m \u001b[0mtime\u001b[0m\u001b[1;33m.\u001b[0m\u001b[0mtime\u001b[0m\u001b[1;33m(\u001b[0m\u001b[1;33m)\u001b[0m\u001b[1;33m\u001b[0m\u001b[0m\n\u001b[0;32m    858\u001b[0m         \u001b[1;32mtry\u001b[0m\u001b[1;33m:\u001b[0m\u001b[1;33m\u001b[0m\u001b[0m\n\u001b[1;32m--> 859\u001b[1;33m             \u001b[0moutputs\u001b[0m \u001b[1;33m=\u001b[0m \u001b[0mself\u001b[0m\u001b[1;33m.\u001b[0m\u001b[0mfn\u001b[0m\u001b[1;33m(\u001b[0m\u001b[1;33m)\u001b[0m\u001b[1;33m\u001b[0m\u001b[0m\n\u001b[0m\u001b[0;32m    860\u001b[0m         \u001b[1;32mexcept\u001b[0m \u001b[0mException\u001b[0m\u001b[1;33m:\u001b[0m\u001b[1;33m\u001b[0m\u001b[0m\n\u001b[0;32m    861\u001b[0m             \u001b[1;32mif\u001b[0m \u001b[0mhasattr\u001b[0m\u001b[1;33m(\u001b[0m\u001b[0mself\u001b[0m\u001b[1;33m.\u001b[0m\u001b[0mfn\u001b[0m\u001b[1;33m,\u001b[0m \u001b[1;34m'position_of_error'\u001b[0m\u001b[1;33m)\u001b[0m\u001b[1;33m:\u001b[0m\u001b[1;33m\u001b[0m\u001b[0m\n",
      "\u001b[1;31mKeyboardInterrupt\u001b[0m: "
     ]
    }
   ],
   "source": [
    "input_var = T.tensor4('input')\n",
    "target_var = T.dmatrix('output')\n",
    "\n",
    "net = []\n",
    "net = layers.InputLayer(shape=shape, input_var=input_var, name='input')\n",
    "net = layers.Conv2DLayer(net, num_filters=200, filter_size=(8,1), W=init.GlorotUniform(), \n",
    "                             nonlinearity=None, b=None, pad='valid', name='conv1')\n",
    "net = layers.BatchNormLayer(net)\n",
    "net = layers.BiasLayer(net, b=init.Constant(0.05))\n",
    "net = layers.NonlinearityLayer(net, nonlinearity=nonlinearities.rectify)\n",
    "net = layers.MaxPool2DLayer(net, pool_size=(4,1))\n",
    "\n",
    "net = layers.Conv2DLayer(net, num_filters=200, filter_size=(8,1), W=init.GlorotUniform(), \n",
    "                             nonlinearity=None, b=None, pad='valid', name='conv1')\n",
    "net = layers.BatchNormLayer(net)\n",
    "net = layers.BiasLayer(net, b=init.Constant(0.05))\n",
    "net = layers.NonlinearityLayer(net, nonlinearity=nonlinearities.rectify)\n",
    "net = layers.MaxPool2DLayer(net, pool_size=(4,1))\n",
    "#net = layers.DropoutLayer(net, p=0.3)\n",
    "\n",
    "net = layers.DenseLayer(net, num_units=200, W=init.GlorotUniform(), name='inter')\n",
    "net = layers.BatchNormLayer(net)\n",
    "net = layers.BiasLayer(net, init.Constant(0.05))\n",
    "net = layers.NonlinearityLayer(net, nonlinearity=nonlinearities.sigmoid)\n",
    "#net = layers.DropoutLayer(net, p=0.5)\n",
    "\n",
    "net = layers.DenseLayer(net, num_units=20, W=init.GlorotUniform(), name='inter')\n",
    "net = layers.BiasLayer(net, init.Constant(0.05))\n",
    "net = layers.NonlinearityLayer(net, nonlinearity=nonlinearities.sigmoid)\n",
    "\n",
    "prediction = get_output(net)\n",
    "train_loss = objectives.binary_crossentropy(prediction, target_var)\n",
    "train_loss = train_loss.mean()\n",
    "\n",
    "valid_prediction = get_output(net, deterministic=True)\n",
    "valid_loss = objectives.binary_crossentropy(valid_prediction, target_var)\n",
    "valid_loss = valid_loss.mean()\n",
    "\n",
    "valid_acc = objectives.binary_accuracy(valid_prediction, target_var)\n",
    "valid_acc = valid_acc.mean()\n",
    "\n",
    "params = get_all_params(net, trainable=True)\n",
    "update_op = updates.adam(train_loss, params)\n",
    "\n",
    "train_fn = theano.function([input_var, target_var], train_loss, updates=update_op, allow_input_downcast=True)\n",
    "val_fn = theano.function([input_var, target_var], [valid_loss, valid_acc], allow_input_downcast=True)\n",
    "\n",
    "batch_size = 128\n",
    "\n",
    "num_train_batches = len(train[0]) // batch_size\n",
    "train_batches = batch_generator(train[0], train[1], batch_size)\n",
    "\n",
    "num_valid_batches = len(valid[0]) // batch_size\n",
    "valid_batches = batch_generator(valid[0], valid[1], batch_size)\n",
    "\n",
    "n_epochs = 10\n",
    "for e in range(n_epochs):\n",
    "    ave_loss = 0\n",
    "    for index in range(num_train_batches):\n",
    "        X_batch, y_batch = next(train_batches)\n",
    "        train_loss = train_fn(X_batch, y_batch)\n",
    "        ave_loss += train_loss\n",
    "    print(\"train: %f\" % float(ave_loss/num_train_batches))\n",
    "\n",
    "    ave_loss = 0\n",
    "    ave_acc = 0\n",
    "    for index in range(num_valid_batches):\n",
    "        X_batch, y_batch = next(valid_batches)\n",
    "        valid_loss, valid_acc = val_fn(X_batch, y_batch)\n",
    "        ave_loss += valid_loss\n",
    "        ave_acc += valid_acc\n",
    "    print(\"valid: %f\" % float(ave_loss/num_valid_batches))\n",
    "    print(\"accuracy: %f\" % float(ave_acc/num_valid_batches))\n",
    "    \n",
    "    "
   ]
  },
  {
   "cell_type": "code",
   "execution_count": null,
   "metadata": {
    "collapsed": true
   },
   "outputs": [],
   "source": []
  }
 ],
 "metadata": {
  "kernelspec": {
   "display_name": "Python 2",
   "language": "python",
   "name": "python2"
  },
  "language_info": {
   "codemirror_mode": {
    "name": "ipython",
    "version": 2
   },
   "file_extension": ".py",
   "mimetype": "text/x-python",
   "name": "python",
   "nbconvert_exporter": "python",
   "pygments_lexer": "ipython2",
   "version": "2.7.11"
  }
 },
 "nbformat": 4,
 "nbformat_minor": 0
}
