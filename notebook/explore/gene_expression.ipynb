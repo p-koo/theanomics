{
 "cells": [
  {
   "cell_type": "code",
   "execution_count": 55,
   "metadata": {
    "collapsed": false
   },
   "outputs": [
    {
     "name": "stderr",
     "output_type": "stream",
     "text": [
      "Using gpu device 0: GeForce GTX 980 (CNMeM is disabled, CuDNN 4007)\n"
     ]
    }
   ],
   "source": [
    "from __future__ import print_function\n",
    "import os, sys, gzip\n",
    "import pandas as pd\n",
    "import cPickle as pickle\n",
    "sys.setrecursionlimit(10000)\n",
    "\n",
    "np.random.seed(1004)   # for reproducibility\n",
    "\n",
    "# stochastic neighbor embedding (to install --> pip install tsne)\n",
    "from tsne import bh_sne\n",
    "\n",
    "import matplotlib.pyplot as plt\n",
    "from matplotlib import cm\n",
    "import matplotlib as mpl\n",
    "%matplotlib inline\n",
    "from scipy.misc import imresize\n",
    "\n",
    "from lasagne import layers, nonlinearities, updates, objectives, init \n",
    "from lasagne.layers import get_output, get_output_shape, get_all_params\n",
    "import theano.tensor as T\n",
    "import theano"
   ]
  },
  {
   "cell_type": "code",
   "execution_count": 45,
   "metadata": {
    "collapsed": false
   },
   "outputs": [
    {
     "data": {
      "text/html": [
       "<div>\n",
       "<table border=\"1\" class=\"dataframe\">\n",
       "  <thead>\n",
       "    <tr style=\"text-align: right;\">\n",
       "      <th></th>\n",
       "      <th>G1</th>\n",
       "      <th>G2</th>\n",
       "      <th>G3</th>\n",
       "      <th>G4</th>\n",
       "      <th>G5</th>\n",
       "      <th>G6</th>\n",
       "      <th>G7</th>\n",
       "      <th>G8</th>\n",
       "      <th>G9</th>\n",
       "      <th>G10</th>\n",
       "      <th>...</th>\n",
       "      <th>G4992</th>\n",
       "      <th>G4993</th>\n",
       "      <th>G4994</th>\n",
       "      <th>G4995</th>\n",
       "      <th>G4996</th>\n",
       "      <th>G4997</th>\n",
       "      <th>G4998</th>\n",
       "      <th>G4999</th>\n",
       "      <th>G5000</th>\n",
       "      <th>Unnamed: 5000</th>\n",
       "    </tr>\n",
       "  </thead>\n",
       "  <tbody>\n",
       "    <tr>\n",
       "      <th>0</th>\n",
       "      <td>0.000000</td>\n",
       "      <td>0.063687</td>\n",
       "      <td>0.077386</td>\n",
       "      <td>0.063011</td>\n",
       "      <td>0.062566</td>\n",
       "      <td>0.060599</td>\n",
       "      <td>0.045470</td>\n",
       "      <td>0.889052</td>\n",
       "      <td>0.063623</td>\n",
       "      <td>0.047595</td>\n",
       "      <td>...</td>\n",
       "      <td>0.005927</td>\n",
       "      <td>0.080815</td>\n",
       "      <td>0.020563</td>\n",
       "      <td>0.045038</td>\n",
       "      <td>0.039849</td>\n",
       "      <td>0.042589</td>\n",
       "      <td>0.021239</td>\n",
       "      <td>0.043806</td>\n",
       "      <td>0.062454</td>\n",
       "      <td>NaN</td>\n",
       "    </tr>\n",
       "    <tr>\n",
       "      <th>1</th>\n",
       "      <td>0.065022</td>\n",
       "      <td>0.000000</td>\n",
       "      <td>0.080552</td>\n",
       "      <td>0.067826</td>\n",
       "      <td>0.063314</td>\n",
       "      <td>0.063417</td>\n",
       "      <td>0.048150</td>\n",
       "      <td>0.857127</td>\n",
       "      <td>0.064651</td>\n",
       "      <td>0.045210</td>\n",
       "      <td>...</td>\n",
       "      <td>0.007253</td>\n",
       "      <td>0.076590</td>\n",
       "      <td>0.021910</td>\n",
       "      <td>0.042727</td>\n",
       "      <td>0.043686</td>\n",
       "      <td>0.045363</td>\n",
       "      <td>0.021322</td>\n",
       "      <td>0.041736</td>\n",
       "      <td>0.063389</td>\n",
       "      <td>NaN</td>\n",
       "    </tr>\n",
       "    <tr>\n",
       "      <th>2</th>\n",
       "      <td>0.063673</td>\n",
       "      <td>0.066243</td>\n",
       "      <td>0.000000</td>\n",
       "      <td>0.059311</td>\n",
       "      <td>0.069221</td>\n",
       "      <td>0.062710</td>\n",
       "      <td>0.051341</td>\n",
       "      <td>0.784903</td>\n",
       "      <td>0.065072</td>\n",
       "      <td>0.041794</td>\n",
       "      <td>...</td>\n",
       "      <td>0.005937</td>\n",
       "      <td>0.087488</td>\n",
       "      <td>0.020521</td>\n",
       "      <td>0.044604</td>\n",
       "      <td>0.041984</td>\n",
       "      <td>0.043140</td>\n",
       "      <td>0.019675</td>\n",
       "      <td>0.044145</td>\n",
       "      <td>0.069649</td>\n",
       "      <td>NaN</td>\n",
       "    </tr>\n",
       "    <tr>\n",
       "      <th>3</th>\n",
       "      <td>0.063687</td>\n",
       "      <td>0.062515</td>\n",
       "      <td>0.074903</td>\n",
       "      <td>0.000000</td>\n",
       "      <td>0.065504</td>\n",
       "      <td>0.067427</td>\n",
       "      <td>0.052367</td>\n",
       "      <td>0.758373</td>\n",
       "      <td>0.060590</td>\n",
       "      <td>0.040716</td>\n",
       "      <td>...</td>\n",
       "      <td>0.007040</td>\n",
       "      <td>0.079408</td>\n",
       "      <td>0.022674</td>\n",
       "      <td>0.043219</td>\n",
       "      <td>0.042946</td>\n",
       "      <td>0.044174</td>\n",
       "      <td>0.021827</td>\n",
       "      <td>0.040556</td>\n",
       "      <td>0.068060</td>\n",
       "      <td>NaN</td>\n",
       "    </tr>\n",
       "    <tr>\n",
       "      <th>4</th>\n",
       "      <td>0.065150</td>\n",
       "      <td>0.067225</td>\n",
       "      <td>0.086093</td>\n",
       "      <td>0.068404</td>\n",
       "      <td>0.000000</td>\n",
       "      <td>0.065454</td>\n",
       "      <td>0.045319</td>\n",
       "      <td>0.816946</td>\n",
       "      <td>0.067466</td>\n",
       "      <td>0.045548</td>\n",
       "      <td>...</td>\n",
       "      <td>0.007033</td>\n",
       "      <td>0.079868</td>\n",
       "      <td>0.020495</td>\n",
       "      <td>0.043419</td>\n",
       "      <td>0.042411</td>\n",
       "      <td>0.041535</td>\n",
       "      <td>0.020285</td>\n",
       "      <td>0.044227</td>\n",
       "      <td>0.065812</td>\n",
       "      <td>NaN</td>\n",
       "    </tr>\n",
       "  </tbody>\n",
       "</table>\n",
       "<p>5 rows × 5001 columns</p>\n",
       "</div>"
      ],
      "text/plain": [
       "         G1        G2        G3        G4        G5        G6        G7  \\\n",
       "0  0.000000  0.063687  0.077386  0.063011  0.062566  0.060599  0.045470   \n",
       "1  0.065022  0.000000  0.080552  0.067826  0.063314  0.063417  0.048150   \n",
       "2  0.063673  0.066243  0.000000  0.059311  0.069221  0.062710  0.051341   \n",
       "3  0.063687  0.062515  0.074903  0.000000  0.065504  0.067427  0.052367   \n",
       "4  0.065150  0.067225  0.086093  0.068404  0.000000  0.065454  0.045319   \n",
       "\n",
       "         G8        G9       G10      ...           G4992     G4993     G4994  \\\n",
       "0  0.889052  0.063623  0.047595      ...        0.005927  0.080815  0.020563   \n",
       "1  0.857127  0.064651  0.045210      ...        0.007253  0.076590  0.021910   \n",
       "2  0.784903  0.065072  0.041794      ...        0.005937  0.087488  0.020521   \n",
       "3  0.758373  0.060590  0.040716      ...        0.007040  0.079408  0.022674   \n",
       "4  0.816946  0.067466  0.045548      ...        0.007033  0.079868  0.020495   \n",
       "\n",
       "      G4995     G4996     G4997     G4998     G4999     G5000  Unnamed: 5000  \n",
       "0  0.045038  0.039849  0.042589  0.021239  0.043806  0.062454            NaN  \n",
       "1  0.042727  0.043686  0.045363  0.021322  0.041736  0.063389            NaN  \n",
       "2  0.044604  0.041984  0.043140  0.019675  0.044145  0.069649            NaN  \n",
       "3  0.043219  0.042946  0.044174  0.021827  0.040556  0.068060            NaN  \n",
       "4  0.043419  0.042411  0.041535  0.020285  0.044227  0.065812            NaN  \n",
       "\n",
       "[5 rows x 5001 columns]"
      ]
     },
     "execution_count": 45,
     "metadata": {},
     "output_type": "execute_result"
    }
   ],
   "source": [
    "datapath='Network_1_data/Network_1_Configuration_1_knockouts.tsv'\n",
    "df = pd.read_csv(datapath, delimiter='\\t')\n",
    "df.head()"
   ]
  },
  {
   "cell_type": "code",
   "execution_count": 49,
   "metadata": {
    "collapsed": false
   },
   "outputs": [
    {
     "data": {
      "text/plain": [
       "G1               0.065022\n",
       "G2               0.000000\n",
       "G3               0.080552\n",
       "G4               0.067826\n",
       "G5               0.063314\n",
       "G6               0.063417\n",
       "G7               0.048150\n",
       "G8               0.857127\n",
       "G9               0.064651\n",
       "G10              0.045210\n",
       "G11              0.085755\n",
       "G12              0.009377\n",
       "G13              0.013085\n",
       "G14              0.036747\n",
       "G15              0.066073\n",
       "G16              0.044039\n",
       "G17              0.155478\n",
       "G18              0.067586\n",
       "G19              0.067938\n",
       "G20              0.122251\n",
       "G21              0.015457\n",
       "G22              0.022515\n",
       "G23              0.063357\n",
       "G24              0.065511\n",
       "G25              0.060288\n",
       "G26              0.066520\n",
       "G27              0.031188\n",
       "G28              0.090031\n",
       "G29              0.069395\n",
       "G30              0.066182\n",
       "                   ...   \n",
       "G4972            0.043693\n",
       "G4973            0.044081\n",
       "G4974            0.014837\n",
       "G4975            0.042556\n",
       "G4976            0.059585\n",
       "G4977            0.000023\n",
       "G4978            0.113372\n",
       "G4979            0.065395\n",
       "G4980            0.043986\n",
       "G4981            0.043561\n",
       "G4982            0.019435\n",
       "G4983            0.178823\n",
       "G4984            0.071060\n",
       "G4985            0.074665\n",
       "G4986            0.119187\n",
       "G4987            0.021071\n",
       "G4988            0.071466\n",
       "G4989            0.043662\n",
       "G4990            0.077566\n",
       "G4991            0.061814\n",
       "G4992            0.007253\n",
       "G4993            0.076590\n",
       "G4994            0.021910\n",
       "G4995            0.042727\n",
       "G4996            0.043686\n",
       "G4997            0.045363\n",
       "G4998            0.021322\n",
       "G4999            0.041736\n",
       "G5000            0.063389\n",
       "Unnamed: 5000         NaN\n",
       "Name: 1, dtype: float64"
      ]
     },
     "execution_count": 49,
     "metadata": {},
     "output_type": "execute_result"
    }
   ],
   "source": [
    "df.iloc[1]"
   ]
  },
  {
   "cell_type": "code",
   "execution_count": 51,
   "metadata": {
    "collapsed": false
   },
   "outputs": [],
   "source": [
    "num_genes = df.shape[0]\n",
    "\n",
    "ge = np.zeros((num_genes, num_genes))\n",
    "for i in range(num_genes):\n",
    "    ge[i,:] = df.iloc[i][0:num_genes]\n"
   ]
  },
  {
   "cell_type": "code",
   "execution_count": 56,
   "metadata": {
    "collapsed": false
   },
   "outputs": [
    {
     "data": {
      "text/plain": [
       "dtype('float64')"
      ]
     },
     "execution_count": 56,
     "metadata": {},
     "output_type": "execute_result"
    }
   ],
   "source": [
    "ge.dtype"
   ]
  },
  {
   "cell_type": "code",
   "execution_count": null,
   "metadata": {
    "collapsed": true
   },
   "outputs": [],
   "source": [
    "# perform t-SNE embedding\n",
    "coord = bh_sne(ge)"
   ]
  },
  {
   "cell_type": "code",
   "execution_count": null,
   "metadata": {
    "collapsed": true
   },
   "outputs": [],
   "source": [
    "vis_x = coord[:,0]\n",
    "vis_y = coord[:,1]\n",
    "plt.figure(figsize = (10,10))\n",
    "fig = plt.gcf()\n",
    "fig.set_size_inches(30,30, forward=True)\n",
    "plt.scatter(vis_x, vis_y, edgecolor = 'none')\n",
    "plt.axis('off')"
   ]
  },
  {
   "cell_type": "code",
   "execution_count": null,
   "metadata": {
    "collapsed": true
   },
   "outputs": [],
   "source": []
  },
  {
   "cell_type": "code",
   "execution_count": 57,
   "metadata": {
    "collapsed": true
   },
   "outputs": [],
   "source": [
    "input_var = T.dmatrix('input')\n",
    "target_var = T.dmatrix('target')\n",
    "\n",
    "l_in = layers.InputLayer(shape=(None,5000), input_var=input_var, name='input')\n",
    "\n",
    "l_dense1 = layers.DenseLayer(l_in, num_units=1000, W=init.GlorotUniform(), b=None, nonlinearity=None)\n",
    "l_bias1 = layers.BiasLayer(l_dense1, b=init.Constant(0.05))\n",
    "l_nonlin1 = layers.NonlinearityLayer(l_bias1, nonlinearity=nonlinearities.rectify)\n",
    "\n",
    "l_dense2 = layers.DenseLayer(l_nonlin1, num_units=200, W=init.GlorotUniform(), b=None, nonlinearity=None)\n",
    "l_bias2 = layers.BiasLayer(l_dense2, b=init.Constant(0.05))\n",
    "l_nonlin2 = layers.NonlinearityLayer(l_bias2, nonlinearity=nonlinearities.rectify)\n",
    "\n",
    "l_enc = layers.NonlinearityLayer(l_nonlin2, nonlinearity=None)\n",
    "\n",
    "l_dec3 = layers.InverseLayer(l_enc, l_dense2)\n",
    "l_bias3 = layers.BiasLayer(l_dec3, init.Constant(0.05))\n",
    "l_nonlin3 = layers.NonlinearityLayer(l_bias3, nonlinearity=nonlinearities.rectify)\n",
    "\n",
    "l_dec4 = layers.InverseLayer(l_nonlin3, l_dense1)\n",
    "l_bias4 = layers.BiasLayer(l_dec4, init.Constant(0.05))\n",
    "l_out = layers.NonlinearityLayer(l_bias4, nonlinearity=nonlinearities.rectify)\n",
    "\n",
    "\n",
    "# train and validation loss\n",
    "prediction = get_output(l_out)\n",
    "train_loss = objectives.squared_error(prediction, input_var)\n",
    "train_loss = train_loss.mean()\n",
    "\n",
    "valid_prediction = get_output(l_out, deterministic=True)\n",
    "valid_loss = objectives.squared_error(valid_prediction, input_var)\n",
    "valid_loss = valid_loss.mean()\n",
    "\n",
    "# optimizer\n",
    "params = get_all_params(l_out, trainable=True)\n",
    "update_op = updates.adam(train_loss, params, learning_rate=.0001)\n",
    "\n",
    "# theano function\n",
    "train_function = theano.function([input_var], train_loss, updates=update_op)\n",
    "valid_function = theano.function([input_var], valid_loss)"
   ]
  },
  {
   "cell_type": "code",
   "execution_count": null,
   "metadata": {
    "collapsed": false
   },
   "outputs": [
    {
     "name": "stdout",
     "output_type": "stream",
     "text": [
      "epoch 1\n",
      "train: 0.000785\n",
      "epoch 2\n",
      "train: 0.000145\n",
      "epoch 3\n",
      "train: 0.000078\n",
      "epoch 4\n",
      "train: 0.000072\n",
      "epoch 5\n",
      "train: 0.000072\n",
      "epoch 6\n",
      "train: 0.000072\n",
      "epoch 7\n",
      "train: 0.000072\n",
      "epoch 8\n",
      "train: 0.000072\n",
      "epoch 9\n",
      "train: 0.000072\n",
      "epoch 10\n",
      "train: 0.000072\n",
      "epoch 11\n",
      "train: 0.000072\n",
      "epoch 12\n",
      "train: 0.000072\n",
      "epoch 13\n",
      "train: 0.000072\n",
      "epoch 14\n",
      "train: 0.000072\n",
      "epoch 15\n",
      "train: 0.000072\n",
      "epoch 16\n",
      "train: 0.000072\n",
      "epoch 17\n",
      "train: 0.000072\n",
      "epoch 18\n",
      "train: 0.000072\n",
      "epoch 19\n",
      "train: 0.000072\n",
      "epoch 20\n",
      "train: 0.000072\n",
      "epoch 21\n",
      "train: 0.000072\n",
      "epoch 22\n"
     ]
    }
   ],
   "source": [
    "def batch_generator(X, batch_size=128, shuffle=True):\n",
    "    \"\"\"python generator to get a randomized minibatch\"\"\"\n",
    "    if shuffle:\n",
    "        indices = np.arange(len(X))\n",
    "        np.random.shuffle(indices)\n",
    "    for start_idx in range(0, len(X)-batch_size+1, batch_size):\n",
    "        if shuffle:\n",
    "            excerpt = indices[start_idx:start_idx+batch_size]\n",
    "        else:\n",
    "            excerpt = slice(start_idx, start_idx+batch_size)\n",
    "        yield X[excerpt].astype('float32')\n",
    "        \n",
    "batch_size = 128\n",
    "num_train_batches = len(ge) // batch_size\n",
    "\n",
    "# train network (for short time -- MNIST is quick to train)\n",
    "n_epochs = 50\n",
    "for e in range(n_epochs):\n",
    "    print('epoch %d' % (e+1))\n",
    "    train_batches = batch_generator(ge, batch_size)\n",
    "\n",
    "    ave_loss = 0\n",
    "    for index in range(num_train_batches):\n",
    "        X_batch = next(train_batches)\n",
    "        train_loss = train_function(X_batch)\n",
    "        ave_loss += train_loss\n",
    "    print(\"train: %f\" % float(ave_loss/num_train_batches))\n"
   ]
  },
  {
   "cell_type": "code",
   "execution_count": null,
   "metadata": {
    "collapsed": true
   },
   "outputs": [],
   "source": []
  },
  {
   "cell_type": "code",
   "execution_count": null,
   "metadata": {
    "collapsed": true
   },
   "outputs": [],
   "source": []
  },
  {
   "cell_type": "code",
   "execution_count": null,
   "metadata": {
    "collapsed": true
   },
   "outputs": [],
   "source": []
  },
  {
   "cell_type": "code",
   "execution_count": null,
   "metadata": {
    "collapsed": true
   },
   "outputs": [],
   "source": []
  },
  {
   "cell_type": "code",
   "execution_count": null,
   "metadata": {
    "collapsed": true
   },
   "outputs": [],
   "source": []
  },
  {
   "cell_type": "code",
   "execution_count": null,
   "metadata": {
    "collapsed": true
   },
   "outputs": [],
   "source": []
  }
 ],
 "metadata": {
  "kernelspec": {
   "display_name": "Python 2",
   "language": "python",
   "name": "python2"
  },
  "language_info": {
   "codemirror_mode": {
    "name": "ipython",
    "version": 2
   },
   "file_extension": ".py",
   "mimetype": "text/x-python",
   "name": "python",
   "nbconvert_exporter": "python",
   "pygments_lexer": "ipython2",
   "version": "2.7.11"
  }
 },
 "nbformat": 4,
 "nbformat_minor": 0
}
