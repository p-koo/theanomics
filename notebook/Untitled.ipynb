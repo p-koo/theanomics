{
 "cells": [
  {
   "cell_type": "code",
   "execution_count": 1,
   "metadata": {
    "collapsed": false
   },
   "outputs": [
    {
     "name": "stderr",
     "output_type": "stream",
     "text": [
      "Using gpu device 0: GeForce GTX 980 (CNMeM is disabled, CuDNN 4007)\n"
     ]
    }
   ],
   "source": [
    "#/bin/python\n",
    "import sys\n",
    "import os\n",
    "import numpy as np\n",
    "sys.path.append('..')\n",
    "from src import NeuralNet\n",
    "from src import train as fit\n",
    "from src import make_directory \n",
    "from models import load_model\n",
    "from data import load_data\n",
    "from six.moves import cPickle\n",
    "np.random.seed(247) # for reproducibility\n",
    "import theano\n",
    "import theano.tensor as T\n",
    "from lasagne import layers, objectives, updates, regularization\n",
    "import matplotlib.pyplot as plt\n",
    "%matplotlib inline\n"
   ]
  },
  {
   "cell_type": "code",
   "execution_count": 2,
   "metadata": {
    "collapsed": true
   },
   "outputs": [],
   "source": [
    "name = 'MotifSimulation_correlated'\n",
    "datapath = '/home/peter/Data/SequenceMotif'\n",
    "filepath = os.path.join(datapath, 'synthetic_correlated_motifs_100000.hdf5')"
   ]
  },
  {
   "cell_type": "code",
   "execution_count": 110,
   "metadata": {
    "collapsed": false
   },
   "outputs": [],
   "source": [
    "train, valid, test = load_data(name, filepath)\n",
    "shape = (None, train[0].shape[1], train[0].shape[2], train[0].shape[3])\n",
    "num_labels = np.round(train[1].shape[1])\n",
    "\n",
    "# calculate correlations\n",
    "labels = np.vstack([train[1], valid[1]])\n",
    "N = labels.shape[0]\n",
    "rho = np.zeros((num_labels, num_labels))\n",
    "for i in range(num_labels):\n",
    "    p_i = np.sum(labels[:,i])/N\n",
    "    for j in range(i):\n",
    "        p_j = np.sum(labels[:,j])/N    \n",
    "        p_ij = np.sum(labels[:,i]*labels[:,j])/N\n",
    "        norm = np.sqrt(p_i*(1-p_i)) * np.sqrt(p_j*(1-p_j))\n",
    "        rho[j,i] = (p_ij - p_i*p_j)/norm\n",
    "f = open('/home/peter/Code/Deepomics/examples/rho.pickle','wb')\n",
    "cPickle.dump(rho, f)\n",
    "f.close()\n"
   ]
  },
  {
   "cell_type": "code",
   "execution_count": 111,
   "metadata": {
    "collapsed": false
   },
   "outputs": [
    {
     "data": {
      "text/plain": [
       "<matplotlib.colorbar.Colorbar at 0x7f30bb0392d0>"
      ]
     },
     "execution_count": 111,
     "metadata": {},
     "output_type": "execute_result"
    },
    {
     "data": {
      "image/png": "[encoded data removed]",
      "text/plain": [
       "<matplotlib.figure.Figure at 0x7f307f141e10>"
      ]
     },
     "metadata": {},
     "output_type": "display_data"
    }
   ],
   "source": [
    "\n",
    "plt.imshow(rho, interpolation='none')\n",
    "plt.colorbar()"
   ]
  },
  {
   "cell_type": "code",
   "execution_count": 80,
   "metadata": {
    "collapsed": true
   },
   "outputs": [],
   "source": [
    "model_name = \"binary_genome_motif_model\"\n",
    "network, input_var, target_var, optimization = load_model(model_name, shape, num_labels)"
   ]
  },
  {
   "cell_type": "code",
   "execution_count": 107,
   "metadata": {
    "collapsed": false
   },
   "outputs": [],
   "source": [
    "# build loss function\n",
    "prediction = layers.get_output(network['output'], deterministic=False)\n",
    "prediction = T.clip(prediction, 1e-7, 1-1e-7)\n",
    "loss1 = -(target_var*T.log(prediction) + (1.0-target_var)*T.log(1.0-prediction))    \n",
    "u = T.abs_(target_var - prediction)/T.sqrt(prediction*(1-prediction))\n",
    "diag = T.diag(T.dot(optimization[\"rho\"], u.T).dot(u))\n",
    "loss = loss1 + T.log(1+T.sum(diag[1:])/prediction.shape[0])\n",
    "\n",
    "# calculate and clip gradients\n",
    "params = layers.get_all_params(network['output'], trainable=True)    \n",
    "grad = T.grad(loss.mean(), params)\n",
    "\n",
    "# setup parameter updates\n",
    "update_op = updates.adam(grad, params, \n",
    "                        learning_rate=optimization['learning_rate'], \n",
    "                        beta1=optimization['beta1'], \n",
    "                        beta2=optimization['beta2'], \n",
    "                        epsilon=optimization['epsilon'])\n",
    "\n",
    "# create theano function\n",
    "train_fun = theano.function([input_var, target_var], [loss, prediction, diag, u, loss1], updates=update_op)\n"
   ]
  },
  {
   "cell_type": "code",
   "execution_count": 108,
   "metadata": {
    "collapsed": false
   },
   "outputs": [],
   "source": [
    "def batch_generator(X, y, batch_size=128, shuffle=True):\n",
    "    \"\"\"python generator to get a randomized minibatch\"\"\"\n",
    "    \"\"\"\n",
    "    while True:\n",
    "        idx = np.random.choice(len(y), N)\n",
    "        yield X[idx].astype('float32'), y[idx].astype('int32')\n",
    "    \"\"\"\n",
    "    if shuffle:\n",
    "        indices = np.arange(len(X))\n",
    "        np.random.shuffle(indices)\n",
    "    for start_idx in range(0, len(X)-batch_size+1, batch_size):\n",
    "        if shuffle:\n",
    "            excerpt = indices[start_idx:start_idx+batch_size]\n",
    "        else:\n",
    "            excerpt = slice(start_idx, start_idx+batch_size)\n",
    "        yield X[excerpt], y[excerpt]\n",
    "        \n",
    "batch_size = 100\n",
    "num_batches = train[0].shape[0] // batch_size\n",
    "batches = batch_generator(train[0], train[1], batch_size)\n",
    "value = 0\n",
    "    "
   ]
  },
  {
   "cell_type": "code",
   "execution_count": 109,
   "metadata": {
    "collapsed": false
   },
   "outputs": [
    {
     "name": "stdout",
     "output_type": "stream",
     "text": [
      "8.02141300173\n",
      "8.53242705845\n",
      "7.54978901715\n",
      "7.12852073107\n",
      "6.77569772204\n",
      "6.49837039204\n",
      "6.4494918448\n",
      "6.37064693869\n",
      "6.19371280195\n",
      "6.09737128063\n",
      "6.01132766072\n",
      "6.03536843837\n",
      "5.97349479105\n",
      "6.39954173968\n",
      "6.17951781448\n",
      "6.14750544184\n",
      "6.69762183131\n",
      "6.16946580737\n",
      "5.85910625676\n",
      "5.90848836108\n",
      "6.02353997973\n",
      "6.14211114535\n",
      "6.15260898617\n",
      "6.07029464881\n",
      "5.96500482315\n",
      "5.89553095882\n",
      "5.83672663929\n",
      "6.04690018601\n",
      "6.17032943062\n",
      "5.94792945702\n",
      "5.84522112057\n",
      "5.94244743065\n",
      "5.98294020328\n",
      "5.72416396095\n",
      "6.03848592725\n",
      "5.68211383768\n",
      "5.82815543821\n",
      "5.78097482753\n",
      "5.69811396229\n",
      "5.68787035429\n",
      "5.93533598111\n",
      "6.18871391537\n",
      "5.95284417502\n",
      "5.75961951951\n",
      "5.79128918062\n",
      "6.0135649701\n",
      "6.04694750571\n",
      "5.76830436429\n",
      "5.78430248807\n",
      "5.8794365918\n",
      "5.68747025831\n",
      "5.9007782225\n",
      "5.96908071272\n",
      "5.81659020839\n",
      "5.91490226263\n",
      "5.83262013972\n",
      "5.86753456693\n",
      "5.66601266076\n",
      "5.92308459749\n",
      "6.04341745573\n",
      "5.85976067577\n",
      "5.76777590331\n",
      "5.82479588076\n",
      "5.67031150883\n",
      "5.88824872084\n",
      "5.79017203231\n",
      "5.80351581089\n",
      "5.81809287793\n",
      "5.79807363765\n",
      "5.91010343296\n",
      "5.8745886867\n",
      "5.78901559882\n",
      "5.77132519889\n",
      "5.62262086855\n",
      "5.9501286544\n",
      "5.85345512627\n",
      "5.87670686332\n",
      "5.81697446215\n",
      "5.79727519953\n",
      "5.72490905184\n",
      "5.82818014746\n",
      "5.87651588586\n",
      "5.7778545126\n",
      "5.60515736068\n",
      "5.61349902529\n",
      "5.61849517884\n",
      "5.81085692634\n",
      "5.69189012279\n",
      "5.7190360985\n",
      "5.56501109708\n",
      "5.65614208271\n",
      "5.85506975519\n",
      "5.58135574741\n",
      "5.66435946592\n",
      "5.71508460262\n",
      "5.8603233658\n",
      "5.66581981896\n",
      "5.95094129172\n",
      "5.80243228481\n",
      "5.77012764467\n",
      "5.73461602553\n",
      "5.82146386025\n",
      "5.68181574469\n",
      "5.82881048117\n",
      "5.78018847513\n",
      "5.71123116365\n",
      "5.58478342092\n"
     ]
    },
    {
     "ename": "KeyboardInterrupt",
     "evalue": "",
     "output_type": "error",
     "traceback": [
      "\u001b[1;31m---------------------------------------------------------------------------\u001b[0m",
      "\u001b[1;31mKeyboardInterrupt\u001b[0m                         Traceback (most recent call last)",
      "\u001b[1;32m<ipython-input-109-dc12954262e3>\u001b[0m in \u001b[0;36m<module>\u001b[1;34m()\u001b[0m\n\u001b[0;32m      1\u001b[0m \u001b[1;32mfor\u001b[0m \u001b[0mi\u001b[0m \u001b[1;32min\u001b[0m \u001b[0mrange\u001b[0m\u001b[1;33m(\u001b[0m\u001b[0mnum_batches\u001b[0m\u001b[1;33m)\u001b[0m\u001b[1;33m:\u001b[0m\u001b[1;33m\u001b[0m\u001b[0m\n\u001b[0;32m      2\u001b[0m     \u001b[0mX\u001b[0m\u001b[1;33m,\u001b[0m \u001b[0my\u001b[0m \u001b[1;33m=\u001b[0m \u001b[0mnext\u001b[0m\u001b[1;33m(\u001b[0m\u001b[0mbatches\u001b[0m\u001b[1;33m)\u001b[0m\u001b[1;33m\u001b[0m\u001b[0m\n\u001b[1;32m----> 3\u001b[1;33m     \u001b[0mloss\u001b[0m\u001b[1;33m,\u001b[0m \u001b[0mprediction\u001b[0m\u001b[1;33m,\u001b[0m \u001b[0mdiag\u001b[0m\u001b[1;33m,\u001b[0m \u001b[0mu\u001b[0m\u001b[1;33m,\u001b[0m \u001b[0mloss1\u001b[0m \u001b[1;33m=\u001b[0m \u001b[0mtrain_fun\u001b[0m\u001b[1;33m(\u001b[0m\u001b[0mX\u001b[0m\u001b[1;33m,\u001b[0m \u001b[0my\u001b[0m\u001b[1;33m)\u001b[0m\u001b[1;33m\u001b[0m\u001b[0m\n\u001b[0m\u001b[0;32m      4\u001b[0m     \u001b[1;32mprint\u001b[0m \u001b[0mloss\u001b[0m\u001b[1;33m.\u001b[0m\u001b[0mmean\u001b[0m\u001b[1;33m(\u001b[0m\u001b[1;33m)\u001b[0m\u001b[1;33m\u001b[0m\u001b[0m\n",
      "\u001b[1;32m/home/peter/anaconda2/lib/python2.7/site-packages/theano/compile/function_module.pyc\u001b[0m in \u001b[0;36m__call__\u001b[1;34m(self, *args, **kwargs)\u001b[0m\n\u001b[0;32m    857\u001b[0m         \u001b[0mt0_fn\u001b[0m \u001b[1;33m=\u001b[0m \u001b[0mtime\u001b[0m\u001b[1;33m.\u001b[0m\u001b[0mtime\u001b[0m\u001b[1;33m(\u001b[0m\u001b[1;33m)\u001b[0m\u001b[1;33m\u001b[0m\u001b[0m\n\u001b[0;32m    858\u001b[0m         \u001b[1;32mtry\u001b[0m\u001b[1;33m:\u001b[0m\u001b[1;33m\u001b[0m\u001b[0m\n\u001b[1;32m--> 859\u001b[1;33m             \u001b[0moutputs\u001b[0m \u001b[1;33m=\u001b[0m \u001b[0mself\u001b[0m\u001b[1;33m.\u001b[0m\u001b[0mfn\u001b[0m\u001b[1;33m(\u001b[0m\u001b[1;33m)\u001b[0m\u001b[1;33m\u001b[0m\u001b[0m\n\u001b[0m\u001b[0;32m    860\u001b[0m         \u001b[1;32mexcept\u001b[0m \u001b[0mException\u001b[0m\u001b[1;33m:\u001b[0m\u001b[1;33m\u001b[0m\u001b[0m\n\u001b[0;32m    861\u001b[0m             \u001b[1;32mif\u001b[0m \u001b[0mhasattr\u001b[0m\u001b[1;33m(\u001b[0m\u001b[0mself\u001b[0m\u001b[1;33m.\u001b[0m\u001b[0mfn\u001b[0m\u001b[1;33m,\u001b[0m \u001b[1;34m'position_of_error'\u001b[0m\u001b[1;33m)\u001b[0m\u001b[1;33m:\u001b[0m\u001b[1;33m\u001b[0m\u001b[0m\n",
      "\u001b[1;31mKeyboardInterrupt\u001b[0m: "
     ]
    }
   ],
   "source": [
    "for i in range(num_batches):\n",
    "    X, y = next(batches)\n",
    "    loss, prediction, diag, u, loss1 = train_fun(X, y)\n",
    "    print loss.mean()"
   ]
  },
  {
   "cell_type": "code",
   "execution_count": 55,
   "metadata": {
    "collapsed": false
   },
   "outputs": [
    {
     "data": {
      "text/plain": [
       "nan"
      ]
     },
     "execution_count": 55,
     "metadata": {},
     "output_type": "execute_result"
    }
   ],
   "source": [
    "loss = -(y*np.log(prediction) + (1.0-y)*np.log(1.0-prediction))\n",
    "prediction = np.clip(prediction, 1e-7, 1-1e-7)\n",
    "u = (y - prediction)/np.sqrt(prediction*(1-prediction))\n",
    "diag = np.diag(np.dot(optimization[\"rho\"], u.T).dot(u))\n",
    "loss += np.log(1+np.sum(diag[1:]))\n",
    "loss.mean()"
   ]
  },
  {
   "cell_type": "code",
   "execution_count": 78,
   "metadata": {
    "collapsed": false
   },
   "outputs": [
    {
     "data": {
      "text/plain": [
       "array([[ 2068.3654886 ,   537.72488747,  1248.90502485, ...,\n",
       "         2368.78781313,  2728.24371525,  2269.83789565],\n",
       "       [-2544.40966355,  1973.05147464,   233.51594094, ...,\n",
       "         2765.0460706 ,  2440.04907186,  2412.70345843],\n",
       "       [-1742.09783769, -1410.89666656, -1261.25881038, ...,\n",
       "        -2288.82084409, -1102.62623085,  1681.19265475],\n",
       "       ..., \n",
       "       [  126.77392314, -1211.24533121,  2593.41163324, ...,\n",
       "         2202.6971391 ,  1917.89167047, -2099.40473326],\n",
       "       [ 2330.10153577,  1757.51496301,  2961.24707724, ...,\n",
       "         -112.54254195,  1788.63388659,  1295.73891153],\n",
       "       [ -538.91569944, -2323.72651814, -1035.16382049, ...,\n",
       "         -537.26963901, -1605.17020939, -2194.48720916]])"
      ]
     },
     "execution_count": 78,
     "metadata": {},
     "output_type": "execute_result"
    }
   ],
   "source": [
    "u"
   ]
  },
  {
   "cell_type": "code",
   "execution_count": 69,
   "metadata": {
    "collapsed": false
   },
   "outputs": [
    {
     "data": {
      "text/plain": [
       "array([[ 0.71801245,  1.43099165,  0.21702613, ...,  0.30910468,\n",
       "         1.04342985,  2.22963452],\n",
       "       [ 1.00474834,  0.4768689 ,  1.79354262, ...,  0.54428101,\n",
       "         0.916255  ,  0.19549783],\n",
       "       [ 0.09007996,  1.13494444,  0.14259155, ...,  0.06944793,\n",
       "         0.37367162,  2.6532383 ],\n",
       "       ..., \n",
       "       [ 0.46270326,  1.51770461,  1.12974608, ...,  1.40639508,\n",
       "         1.75568771,  0.7714783 ],\n",
       "       [ 0.60144478,  0.99455178,  1.05356121, ...,  0.2294945 ,\n",
       "         1.64392853,  0.9570955 ],\n",
       "       [ 0.75623971,  0.127327  ,  0.25774029, ...,  0.2504077 ,\n",
       "         2.66497374,  1.57627904]], dtype=float32)"
      ]
     },
     "execution_count": 69,
     "metadata": {},
     "output_type": "execute_result"
    }
   ],
   "source": [
    "-(y*np.log(prediction) + (1.0-y)*np.log(1.0-prediction))"
   ]
  },
  {
   "cell_type": "code",
   "execution_count": null,
   "metadata": {
    "collapsed": true
   },
   "outputs": [],
   "source": []
  },
  {
   "cell_type": "code",
   "execution_count": null,
   "metadata": {
    "collapsed": true
   },
   "outputs": [],
   "source": []
  }
 ],
 "metadata": {
  "kernelspec": {
   "display_name": "Python 2",
   "language": "python",
   "name": "python2"
  },
  "language_info": {
   "codemirror_mode": {
    "name": "ipython",
    "version": 2
   },
   "file_extension": ".py",
   "mimetype": "text/x-python",
   "name": "python",
   "nbconvert_exporter": "python",
   "pygments_lexer": "ipython2",
   "version": "2.7.11"
  }
 },
 "nbformat": 4,
 "nbformat_minor": 0
}
