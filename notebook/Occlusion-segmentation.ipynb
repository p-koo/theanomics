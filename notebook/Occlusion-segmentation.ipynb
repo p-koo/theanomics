{
 "cells": [
  {
   "cell_type": "code",
   "execution_count": 1,
   "metadata": {
    "collapsed": false
   },
   "outputs": [
    {
     "name": "stderr",
     "output_type": "stream",
     "text": [
      "Using gpu device 0: GeForce GTX 980 (CNMeM is disabled, CuDNN 4007)\n"
     ]
    }
   ],
   "source": [
    "import sys\n",
    "import os\n",
    "import numpy as np\n",
    "sys.path.append('..')\n",
    "from src import NeuralNet\n",
    "from src import train as fit\n",
    "from src import make_directory \n",
    "from models import load_model\n",
    "from data import load_data\n",
    "from six.moves import cPickle\n",
    "np.random.seed(247) # for reproducibility\n",
    "\n",
    "import pandas as pd\n",
    "import matplotlib.pyplot as plt\n",
    "from matplotlib import cm\n",
    "import matplotlib as mpl\n",
    "from matplotlib import rcParams\n",
    "rcParams.update({'figure.autolayout': True})\n",
    "%matplotlib inline\n",
    "from scipy.misc import imresize\n",
    "\n",
    "from lasagne import layers, nonlinearities, updates, objectives, init \n",
    "from lasagne.layers import get_output, get_output_shape, get_all_params\n",
    "import theano.tensor as T\n",
    "import theano\n",
    "np.random.seed(247) # for reproducibility"
   ]
  },
  {
   "cell_type": "code",
   "execution_count": 2,
   "metadata": {
    "collapsed": false
   },
   "outputs": [
    {
     "name": "stdout",
     "output_type": "stream",
     "text": [
      "loading data from: /home/peter/Data/SequenceMotif/N=300000_S=200_M=20_G=20_data.pickle\n",
      "loading train data\n",
      "loading cross-validation data\n",
      "loading test data\n"
     ]
    }
   ],
   "source": [
    "name = 'MotifSimulation_binary'\n",
    "datapath = '/home/peter/Data/SequenceMotif'\n",
    "filepath = os.path.join(datapath, 'N=300000_S=200_M=20_G=20_data.pickle')\n",
    "train, valid, test = load_data(name, filepath)\n",
    "shape = (None, train[0].shape[1], train[0].shape[2], train[0].shape[3])\n",
    "num_labels = train[1].shape[1]"
   ]
  },
  {
   "cell_type": "code",
   "execution_count": 3,
   "metadata": {
    "collapsed": true
   },
   "outputs": [],
   "source": [
    "model_name = \"test_motif_model\"\n",
    "nnmodel = NeuralNet(model_name, shape, num_labels)"
   ]
  },
  {
   "cell_type": "code",
   "execution_count": 4,
   "metadata": {
    "collapsed": false
   },
   "outputs": [
    {
     "name": "stdout",
     "output_type": "stream",
     "text": [
      "Epoch 1 out of 500 \n",
      "[==============================] 100.0% -- time=0s -- loss=0.65317 -- accuracy=92.59%  \n",
      "  valid loss:\t\t0.25194\n",
      "  valid accuracy:\t0.97565+/-0.01132\n",
      "  valid auc-roc:\t0.98123+/-0.02609\n",
      "  valid auc-pr:\t\t0.82475+/-0.21381\n",
      "saving model parameters to: /home/peter/Data/SequenceMotif/N=300000_S=200_M=20_G=20_data.pickle_epoch_0.pickle\n",
      "Epoch 2 out of 500 \n",
      "[==============================] 100.0% -- time=0s -- loss=0.18600 -- accuracy=97.98%  \n",
      "  valid loss:\t\t0.13170\n",
      "  valid accuracy:\t0.98931+/-0.00659\n",
      "  valid auc-roc:\t0.99518+/-0.00843\n",
      "  valid auc-pr:\t\t0.93516+/-0.12688\n",
      "saving model parameters to: /home/peter/Data/SequenceMotif/N=300000_S=200_M=20_G=20_data.pickle_epoch_1.pickle\n",
      "Epoch 3 out of 500 \n",
      "[==============================] 100.0% -- time=0s -- loss=0.12755 -- accuracy=98.81%  \n",
      "  valid loss:\t\t0.10662\n",
      "  valid accuracy:\t0.99240+/-0.00533\n",
      "  valid auc-roc:\t0.99792+/-0.00287\n",
      "  valid auc-pr:\t\t0.96568+/-0.06510\n",
      "saving model parameters to: /home/peter/Data/SequenceMotif/N=300000_S=200_M=20_G=20_data.pickle_epoch_2.pickle\n",
      "Epoch 4 out of 500 \n",
      "[==============================] 100.0% -- time=0s -- loss=0.10876 -- accuracy=99.09%  \n",
      "  valid loss:\t\t0.09532\n",
      "  valid accuracy:\t0.99391+/-0.00432\n",
      "  valid auc-roc:\t0.99879+/-0.00127\n",
      "  valid auc-pr:\t\t0.97897+/-0.03145\n",
      "saving model parameters to: /home/peter/Data/SequenceMotif/N=300000_S=200_M=20_G=20_data.pickle_epoch_3.pickle\n",
      "Epoch 5 out of 500 \n",
      "[==============================] 100.0% -- time=0s -- loss=0.09977 -- accuracy=99.21%  \n",
      "  valid loss:\t\t0.08901\n",
      "  valid accuracy:\t0.99446+/-0.00414\n",
      "  valid auc-roc:\t0.99902+/-0.00102\n",
      "  valid auc-pr:\t\t0.98311+/-0.02335\n",
      "saving model parameters to: /home/peter/Data/SequenceMotif/N=300000_S=200_M=20_G=20_data.pickle_epoch_4.pickle\n",
      "Epoch 6 out of 500 \n",
      "[==============================] 100.0% -- time=0s -- loss=0.09498 -- accuracy=99.27%  \n",
      "  valid loss:\t\t0.08548\n",
      "  valid accuracy:\t0.99480+/-0.00402\n",
      "  valid auc-roc:\t0.99910+/-0.00094\n",
      "  valid auc-pr:\t\t0.98378+/-0.02282\n",
      "saving model parameters to: /home/peter/Data/SequenceMotif/N=300000_S=200_M=20_G=20_data.pickle_epoch_5.pickle\n",
      "Epoch 7 out of 500 \n",
      "[==============================] 100.0% -- time=0s -- loss=0.09201 -- accuracy=99.29%  \n",
      "  valid loss:\t\t0.08331\n",
      "  valid accuracy:\t0.99498+/-0.00369\n",
      "  valid auc-roc:\t0.99914+/-0.00090\n",
      "  valid auc-pr:\t\t0.98509+/-0.02034\n",
      "saving model parameters to: /home/peter/Data/SequenceMotif/N=300000_S=200_M=20_G=20_data.pickle_epoch_6.pickle\n",
      "Epoch 8 out of 500 \n",
      "[==============================] 100.0% -- time=0s -- loss=0.08990 -- accuracy=99.31%  \n",
      "  valid loss:\t\t0.08088\n",
      "  valid accuracy:\t0.99531+/-0.00357\n",
      "  valid auc-roc:\t0.99916+/-0.00089\n",
      "  valid auc-pr:\t\t0.98551+/-0.02025\n",
      "saving model parameters to: /home/peter/Data/SequenceMotif/N=300000_S=200_M=20_G=20_data.pickle_epoch_7.pickle\n",
      "Epoch 9 out of 500 \n",
      "[==============================] 100.0% -- time=0s -- loss=0.08804 -- accuracy=99.32%  \n",
      "  valid loss:\t\t0.07989\n",
      "  valid accuracy:\t0.99521+/-0.00351\n",
      "  valid auc-roc:\t0.99920+/-0.00083\n",
      "  valid auc-pr:\t\t0.98570+/-0.01992\n",
      "saving model parameters to: /home/peter/Data/SequenceMotif/N=300000_S=200_M=20_G=20_data.pickle_epoch_8.pickle\n",
      "Epoch 10 out of 500 \n",
      "[==============================] 100.0% -- time=0s -- loss=0.08658 -- accuracy=99.33%  \n",
      "  valid loss:\t\t0.07823\n",
      "  valid accuracy:\t0.99525+/-0.00362\n",
      "  valid auc-roc:\t0.99923+/-0.00082\n",
      "  valid auc-pr:\t\t0.98598+/-0.02019\n",
      "saving model parameters to: /home/peter/Data/SequenceMotif/N=300000_S=200_M=20_G=20_data.pickle_epoch_9.pickle\n",
      "Epoch 11 out of 500 \n",
      "[==============================] 100.0% -- time=0s -- loss=0.08529 -- accuracy=99.34%  \n",
      "  valid loss:\t\t0.07680\n",
      "  valid accuracy:\t0.99539+/-0.00338\n",
      "  valid auc-roc:\t0.99924+/-0.00081\n",
      "  valid auc-pr:\t\t0.98631+/-0.01991\n",
      "saving model parameters to: /home/peter/Data/SequenceMotif/N=300000_S=200_M=20_G=20_data.pickle_epoch_10.pickle\n",
      "Epoch 12 out of 500 \n",
      "[==============================] 100.0% -- time=0s -- loss=0.08427 -- accuracy=99.35%  \n",
      "  valid loss:\t\t0.07597\n",
      "  valid accuracy:\t0.99545+/-0.00353\n",
      "  valid auc-roc:\t0.99926+/-0.00080\n",
      "  valid auc-pr:\t\t0.98712+/-0.01850\n",
      "saving model parameters to: /home/peter/Data/SequenceMotif/N=300000_S=200_M=20_G=20_data.pickle_epoch_11.pickle\n",
      "Epoch 13 out of 500 \n",
      "[==============================] 100.0% -- time=0s -- loss=0.08333 -- accuracy=99.35%  \n",
      "  valid loss:\t\t0.07492\n",
      "  valid accuracy:\t0.99565+/-0.00318\n",
      "  valid auc-roc:\t0.99931+/-0.00072\n",
      "  valid auc-pr:\t\t0.98722+/-0.01876\n",
      "saving model parameters to: /home/peter/Data/SequenceMotif/N=300000_S=200_M=20_G=20_data.pickle_epoch_12.pickle\n",
      "Epoch 14 out of 500 \n",
      "[==============================] 100.0% -- time=0s -- loss=0.08241 -- accuracy=99.36%  \n",
      "  valid loss:\t\t0.07413\n",
      "  valid accuracy:\t0.99567+/-0.00332\n",
      "  valid auc-roc:\t0.99932+/-0.00073\n",
      "  valid auc-pr:\t\t0.98789+/-0.01760\n",
      "saving model parameters to: /home/peter/Data/SequenceMotif/N=300000_S=200_M=20_G=20_data.pickle_epoch_13.pickle\n",
      "Epoch 15 out of 500 \n",
      "[==============================] 100.0% -- time=0s -- loss=0.08167 -- accuracy=99.36%  \n",
      "  valid loss:\t\t0.07330\n",
      "  valid accuracy:\t0.99567+/-0.00312\n",
      "  valid auc-roc:\t0.99935+/-0.00069\n",
      "  valid auc-pr:\t\t0.98795+/-0.01804\n",
      "saving model parameters to: /home/peter/Data/SequenceMotif/N=300000_S=200_M=20_G=20_data.pickle_epoch_14.pickle\n",
      "Epoch 16 out of 500 \n",
      "[==============================] 100.0% -- time=0s -- loss=0.08085 -- accuracy=99.36%  \n",
      "  valid loss:\t\t0.07250\n",
      "  valid accuracy:\t0.99567+/-0.00293\n",
      "  valid auc-roc:\t0.99934+/-0.00070\n",
      "  valid auc-pr:\t\t0.98826+/-0.01667\n",
      "saving model parameters to: /home/peter/Data/SequenceMotif/N=300000_S=200_M=20_G=20_data.pickle_epoch_15.pickle\n",
      "Epoch 17 out of 500 \n",
      "[==============================] 100.0% -- time=0s -- loss=0.08008 -- accuracy=99.37%  \n",
      "  valid loss:\t\t0.07162\n",
      "  valid accuracy:\t0.99587+/-0.00310\n",
      "  valid auc-roc:\t0.99933+/-0.00072\n",
      "  valid auc-pr:\t\t0.98787+/-0.01849\n",
      "saving model parameters to: /home/peter/Data/SequenceMotif/N=300000_S=200_M=20_G=20_data.pickle_epoch_16.pickle\n",
      "Epoch 18 out of 500 \n",
      "[==============================] 100.0% -- time=0s -- loss=0.07924 -- accuracy=99.38%  \n",
      "  valid loss:\t\t0.07065\n",
      "  valid accuracy:\t0.99577+/-0.00314\n",
      "  valid auc-roc:\t0.99938+/-0.00065\n",
      "  valid auc-pr:\t\t0.98855+/-0.01696\n",
      "saving model parameters to: /home/peter/Data/SequenceMotif/N=300000_S=200_M=20_G=20_data.pickle_epoch_17.pickle\n",
      "Epoch 19 out of 500 \n",
      "[==============================] 100.0% -- time=0s -- loss=0.07859 -- accuracy=99.38%  \n",
      "  valid loss:\t\t0.06993\n",
      "  valid accuracy:\t0.99583+/-0.00315\n",
      "  valid auc-roc:\t0.99937+/-0.00066\n",
      "  valid auc-pr:\t\t0.98864+/-0.01684\n",
      "saving model parameters to: /home/peter/Data/SequenceMotif/N=300000_S=200_M=20_G=20_data.pickle_epoch_18.pickle\n",
      "Epoch 20 out of 500 \n",
      "[==============================] 100.0% -- time=0s -- loss=0.07787 -- accuracy=99.37%  \n",
      "  valid loss:\t\t0.06922\n",
      "  valid accuracy:\t0.99574+/-0.00346\n",
      "  valid auc-roc:\t0.99938+/-0.00066\n",
      "  valid auc-pr:\t\t0.98869+/-0.01675\n",
      "saving model parameters to: /home/peter/Data/SequenceMotif/N=300000_S=200_M=20_G=20_data.pickle_epoch_19.pickle\n",
      "Epoch 21 out of 500 \n",
      "[==============================] 100.0% -- time=0s -- loss=0.07712 -- accuracy=99.38%  \n",
      "  valid loss:\t\t0.06821\n",
      "  valid accuracy:\t0.99586+/-0.00311\n",
      "  valid auc-roc:\t0.99939+/-0.00065\n",
      "  valid auc-pr:\t\t0.98921+/-0.01600\n",
      "saving model parameters to: /home/peter/Data/SequenceMotif/N=300000_S=200_M=20_G=20_data.pickle_epoch_20.pickle\n",
      "Epoch 22 out of 500 \n",
      "[==============================] 100.0% -- time=0s -- loss=0.07655 -- accuracy=99.38%  \n",
      "  valid loss:\t\t0.06764\n",
      "  valid accuracy:\t0.99588+/-0.00329\n",
      "  valid auc-roc:\t0.99939+/-0.00066\n",
      "  valid auc-pr:\t\t0.98916+/-0.01628\n",
      "saving model parameters to: /home/peter/Data/SequenceMotif/N=300000_S=200_M=20_G=20_data.pickle_epoch_21.pickle\n",
      "Epoch 23 out of 500 \n",
      "[==============================] 100.0% -- time=0s -- loss=0.07591 -- accuracy=99.38%  \n",
      "  valid loss:\t\t0.06726\n",
      "  valid accuracy:\t0.99584+/-0.00327\n",
      "  valid auc-roc:\t0.99940+/-0.00064\n",
      "  valid auc-pr:\t\t0.98910+/-0.01631\n",
      "saving model parameters to: /home/peter/Data/SequenceMotif/N=300000_S=200_M=20_G=20_data.pickle_epoch_22.pickle\n",
      "Epoch 24 out of 500 \n",
      "[==============================] 100.0% -- time=0s -- loss=0.07529 -- accuracy=99.38%  \n",
      "  valid loss:\t\t0.06689\n",
      "  valid accuracy:\t0.99604+/-0.00292\n",
      "  valid auc-roc:\t0.99938+/-0.00067\n",
      "  valid auc-pr:\t\t0.98907+/-0.01608\n",
      "saving model parameters to: /home/peter/Data/SequenceMotif/N=300000_S=200_M=20_G=20_data.pickle_epoch_23.pickle\n",
      "Epoch 25 out of 500 \n",
      "[==============================] 100.0% -- time=0s -- loss=0.07477 -- accuracy=99.39%  \n",
      "  valid loss:\t\t0.06634\n",
      "  valid accuracy:\t0.99580+/-0.00324\n",
      "  valid auc-roc:\t0.99941+/-0.00062\n",
      "  valid auc-pr:\t\t0.98933+/-0.01651\n",
      "saving model parameters to: /home/peter/Data/SequenceMotif/N=300000_S=200_M=20_G=20_data.pickle_epoch_24.pickle\n",
      "Epoch 26 out of 500 \n",
      "[==============================] 100.0% -- time=0s -- loss=0.07412 -- accuracy=99.39%  \n",
      "  valid loss:\t\t0.06541\n",
      "  valid accuracy:\t0.99599+/-0.00281\n",
      "  valid auc-roc:\t0.99943+/-0.00060\n",
      "  valid auc-pr:\t\t0.98919+/-0.01658\n",
      "saving model parameters to: /home/peter/Data/SequenceMotif/N=300000_S=200_M=20_G=20_data.pickle_epoch_25.pickle\n",
      "Epoch 27 out of 500 \n",
      "[==============================] 100.0% -- time=0s -- loss=0.07367 -- accuracy=99.39%  \n",
      "  valid loss:\t\t0.06532\n",
      "  valid accuracy:\t0.99572+/-0.00329\n",
      "  valid auc-roc:\t0.99943+/-0.00061\n",
      "  valid auc-pr:\t\t0.98933+/-0.01640\n",
      "saving model parameters to: /home/peter/Data/SequenceMotif/N=300000_S=200_M=20_G=20_data.pickle_epoch_26.pickle\n",
      "Epoch 28 out of 500 \n",
      "[==============================] 100.0% -- time=0s -- loss=0.07315 -- accuracy=99.39%  \n",
      "  valid loss:\t\t0.06499\n",
      "  valid accuracy:\t0.99569+/-0.00326\n",
      "  valid auc-roc:\t0.99943+/-0.00061\n",
      "  valid auc-pr:\t\t0.98914+/-0.01721\n",
      "saving model parameters to: /home/peter/Data/SequenceMotif/N=300000_S=200_M=20_G=20_data.pickle_epoch_27.pickle\n",
      "Epoch 29 out of 500 \n",
      "[==============================] 100.0% -- time=0s -- loss=0.07260 -- accuracy=99.40%  \n",
      "  valid loss:\t\t0.06384\n",
      "  valid accuracy:\t0.99593+/-0.00309\n",
      "  valid auc-roc:\t0.99944+/-0.00058\n",
      "  valid auc-pr:\t\t0.98964+/-0.01563\n",
      "saving model parameters to: /home/peter/Data/SequenceMotif/N=300000_S=200_M=20_G=20_data.pickle_epoch_28.pickle\n",
      "Epoch 30 out of 500 \n",
      "[==============================] 100.0% -- time=0s -- loss=0.07202 -- accuracy=99.40%  \n",
      "  valid loss:\t\t0.06307\n",
      "  valid accuracy:\t0.99600+/-0.00282\n",
      "  valid auc-roc:\t0.99945+/-0.00060\n",
      "  valid auc-pr:\t\t0.98980+/-0.01555\n",
      "saving model parameters to: /home/peter/Data/SequenceMotif/N=300000_S=200_M=20_G=20_data.pickle_epoch_29.pickle\n",
      "Epoch 31 out of 500 \n",
      "[==============================] 100.0% -- time=0s -- loss=0.07131 -- accuracy=99.40%  \n",
      "  valid loss:\t\t0.06302\n",
      "  valid accuracy:\t0.99585+/-0.00288\n",
      "  valid auc-roc:\t0.99944+/-0.00059\n",
      "  valid auc-pr:\t\t0.98979+/-0.01578\n",
      "saving model parameters to: /home/peter/Data/SequenceMotif/N=300000_S=200_M=20_G=20_data.pickle_epoch_30.pickle\n",
      "Epoch 32 out of 500 \n",
      "[==============================] 100.0% -- time=0s -- loss=0.07093 -- accuracy=99.40%  \n",
      "  valid loss:\t\t0.06221\n",
      "  valid accuracy:\t0.99598+/-0.00280\n",
      "  valid auc-roc:\t0.99943+/-0.00062\n",
      "  valid auc-pr:\t\t0.98971+/-0.01567\n",
      "saving model parameters to: /home/peter/Data/SequenceMotif/N=300000_S=200_M=20_G=20_data.pickle_epoch_31.pickle\n",
      "Epoch 33 out of 500 \n",
      "[==============================] 100.0% -- time=0s -- loss=0.07042 -- accuracy=99.40%  \n",
      "  valid loss:\t\t0.06185\n",
      "  valid accuracy:\t0.99599+/-0.00299\n",
      "  valid auc-roc:\t0.99947+/-0.00056\n",
      "  valid auc-pr:\t\t0.98996+/-0.01555\n",
      "saving model parameters to: /home/peter/Data/SequenceMotif/N=300000_S=200_M=20_G=20_data.pickle_epoch_32.pickle\n",
      "Epoch 34 out of 500 \n",
      "[==============================] 100.0% -- time=0s -- loss=0.07006 -- accuracy=99.40%  \n",
      "  valid loss:\t\t0.06132\n",
      "  valid accuracy:\t0.99599+/-0.00286\n",
      "  valid auc-roc:\t0.99945+/-0.00059\n",
      "  valid auc-pr:\t\t0.98994+/-0.01548\n",
      "saving model parameters to: /home/peter/Data/SequenceMotif/N=300000_S=200_M=20_G=20_data.pickle_epoch_33.pickle\n",
      "Epoch 35 out of 500 \n",
      "[==============================] 100.0% -- time=0s -- loss=0.06953 -- accuracy=99.41%  \n",
      "  valid loss:\t\t0.06094\n",
      "  valid accuracy:\t0.99603+/-0.00280\n",
      "  valid auc-roc:\t0.99945+/-0.00058\n",
      "  valid auc-pr:\t\t0.98991+/-0.01602\n",
      "saving model parameters to: /home/peter/Data/SequenceMotif/N=300000_S=200_M=20_G=20_data.pickle_epoch_34.pickle\n",
      "Epoch 36 out of 500 \n",
      "[==============================] 100.0% -- time=0s -- loss=0.06921 -- accuracy=99.41%  \n",
      "  valid loss:\t\t0.06078\n",
      "  valid accuracy:\t0.99590+/-0.00316\n",
      "  valid auc-roc:\t0.99943+/-0.00061\n",
      "  valid auc-pr:\t\t0.98968+/-0.01613\n",
      "saving model parameters to: /home/peter/Data/SequenceMotif/N=300000_S=200_M=20_G=20_data.pickle_epoch_35.pickle\n",
      "Epoch 37 out of 500 \n",
      "[==============================] 100.0% -- time=0s -- loss=0.06890 -- accuracy=99.41%  \n",
      "  valid loss:\t\t0.06047\n",
      "  valid accuracy:\t0.99587+/-0.00293\n",
      "  valid auc-roc:\t0.99945+/-0.00057\n",
      "  valid auc-pr:\t\t0.98975+/-0.01587\n",
      "saving model parameters to: /home/peter/Data/SequenceMotif/N=300000_S=200_M=20_G=20_data.pickle_epoch_36.pickle\n",
      "Epoch 38 out of 500 \n",
      "[==============================] 100.0% -- time=0s -- loss=0.06852 -- accuracy=99.41%  \n",
      "  valid loss:\t\t0.06012\n",
      "  valid accuracy:\t0.99592+/-0.00312\n",
      "  valid auc-roc:\t0.99947+/-0.00058\n",
      "  valid auc-pr:\t\t0.98993+/-0.01585\n",
      "saving model parameters to: /home/peter/Data/SequenceMotif/N=300000_S=200_M=20_G=20_data.pickle_epoch_37.pickle\n",
      "Epoch 39 out of 500 \n",
      "[==============================] 100.0% -- time=0s -- loss=0.06815 -- accuracy=99.41%  \n",
      "  valid loss:\t\t0.05985\n",
      "  valid accuracy:\t0.99600+/-0.00283\n",
      "  valid auc-roc:\t0.99943+/-0.00061\n",
      "  valid auc-pr:\t\t0.98981+/-0.01578\n",
      "saving model parameters to: /home/peter/Data/SequenceMotif/N=300000_S=200_M=20_G=20_data.pickle_epoch_38.pickle\n",
      "Epoch 40 out of 500 \n",
      "[==============================] 100.0% -- time=0s -- loss=0.06793 -- accuracy=99.41%  \n",
      "  valid loss:\t\t0.05968\n",
      "  valid accuracy:\t0.99597+/-0.00283\n",
      "  valid auc-roc:\t0.99944+/-0.00061\n",
      "  valid auc-pr:\t\t0.98979+/-0.01648\n",
      "saving model parameters to: /home/peter/Data/SequenceMotif/N=300000_S=200_M=20_G=20_data.pickle_epoch_39.pickle\n",
      "Epoch 41 out of 500 \n",
      "[==============================] 100.0% -- time=0s -- loss=0.06762 -- accuracy=99.41%  \n",
      "  valid loss:\t\t0.05967\n",
      "  valid accuracy:\t0.99590+/-0.00280\n",
      "  valid auc-roc:\t0.99944+/-0.00060\n",
      "  valid auc-pr:\t\t0.98967+/-0.01590\n",
      "saving model parameters to: /home/peter/Data/SequenceMotif/N=300000_S=200_M=20_G=20_data.pickle_epoch_40.pickle\n",
      "Epoch 42 out of 500 \n",
      "[==============================] 100.0% -- time=0s -- loss=0.06752 -- accuracy=99.41%  \n",
      "  valid loss:\t\t0.05893\n",
      "  valid accuracy:\t0.99593+/-0.00327\n",
      "  valid auc-roc:\t0.99946+/-0.00059\n",
      "  valid auc-pr:\t\t0.99022+/-0.01561\n",
      "saving model parameters to: /home/peter/Data/SequenceMotif/N=300000_S=200_M=20_G=20_data.pickle_epoch_41.pickle\n",
      "Epoch 43 out of 500 \n",
      "[==============================] 100.0% -- time=0s -- loss=0.06713 -- accuracy=99.41%  \n",
      "  valid loss:\t\t0.05876\n",
      "  valid accuracy:\t0.99594+/-0.00300\n",
      "  valid auc-roc:\t0.99948+/-0.00055\n",
      "  valid auc-pr:\t\t0.99014+/-0.01571\n",
      "saving model parameters to: /home/peter/Data/SequenceMotif/N=300000_S=200_M=20_G=20_data.pickle_epoch_42.pickle\n",
      "Epoch 44 out of 500 \n",
      "[==============================] 100.0% -- time=0s -- loss=0.06694 -- accuracy=99.41%  \n",
      "  valid loss:\t\t0.05877\n",
      "  valid accuracy:\t0.99591+/-0.00269\n",
      "  valid auc-roc:\t0.99947+/-0.00057\n",
      "  valid auc-pr:\t\t0.99002+/-0.01623\n",
      "saving model parameters to: /home/peter/Data/SequenceMotif/N=300000_S=200_M=20_G=20_data.pickle_epoch_43.pickle\n",
      "Epoch 45 out of 500 \n",
      "[==============================] 100.0% -- time=0s -- loss=0.06677 -- accuracy=99.41%  \n",
      "  valid loss:\t\t0.05862\n",
      "  valid accuracy:\t0.99591+/-0.00276\n",
      "  valid auc-roc:\t0.99945+/-0.00060\n",
      "  valid auc-pr:\t\t0.98991+/-0.01639\n",
      "saving model parameters to: /home/peter/Data/SequenceMotif/N=300000_S=200_M=20_G=20_data.pickle_epoch_44.pickle\n",
      "Epoch 46 out of 500 \n",
      "[==============================] 100.0% -- time=0s -- loss=0.06651 -- accuracy=99.41%  \n",
      "  valid loss:\t\t0.05848\n",
      "  valid accuracy:\t0.99583+/-0.00319\n",
      "  valid auc-roc:\t0.99949+/-0.00054\n",
      "  valid auc-pr:\t\t0.99026+/-0.01533\n",
      "saving model parameters to: /home/peter/Data/SequenceMotif/N=300000_S=200_M=20_G=20_data.pickle_epoch_45.pickle\n",
      "Epoch 47 out of 500 \n",
      "[==============================] 100.0% -- time=0s -- loss=0.06636 -- accuracy=99.41%  \n",
      "  valid loss:\t\t0.05804\n",
      "  valid accuracy:\t0.99599+/-0.00291\n",
      "  valid auc-roc:\t0.99945+/-0.00059\n",
      "  valid auc-pr:\t\t0.99011+/-0.01533\n",
      "saving model parameters to: /home/peter/Data/SequenceMotif/N=300000_S=200_M=20_G=20_data.pickle_epoch_46.pickle\n",
      "Epoch 48 out of 500 \n",
      "[==============================] 100.0% -- time=0s -- loss=0.06603 -- accuracy=99.42%  \n",
      "  valid loss:\t\t0.05799\n",
      "  valid accuracy:\t0.99596+/-0.00276\n",
      "  valid auc-roc:\t0.99946+/-0.00058\n",
      "  valid auc-pr:\t\t0.98977+/-0.01680\n",
      "saving model parameters to: /home/peter/Data/SequenceMotif/N=300000_S=200_M=20_G=20_data.pickle_epoch_47.pickle\n",
      "Epoch 49 out of 500 \n",
      "[==============================] 100.0% -- time=0s -- loss=0.06583 -- accuracy=99.41%  \n",
      "  valid loss:\t\t0.05759\n",
      "  valid accuracy:\t0.99601+/-0.00278\n",
      "  valid auc-roc:\t0.99947+/-0.00056\n",
      "  valid auc-pr:\t\t0.99024+/-0.01584\n",
      "saving model parameters to: /home/peter/Data/SequenceMotif/N=300000_S=200_M=20_G=20_data.pickle_epoch_48.pickle\n",
      "Epoch 50 out of 500 \n",
      "[==============================] 100.0% -- time=0s -- loss=0.06568 -- accuracy=99.41%  \n",
      "  valid loss:\t\t0.05765\n",
      "  valid accuracy:\t0.99588+/-0.00280\n",
      "  valid auc-roc:\t0.99945+/-0.00060\n",
      "  valid auc-pr:\t\t0.98978+/-0.01658\n",
      "saving model parameters to: /home/peter/Data/SequenceMotif/N=300000_S=200_M=20_G=20_data.pickle_epoch_49.pickle\n",
      "Epoch 51 out of 500 \n",
      "[==============================] 100.0% -- time=0s -- loss=0.06553 -- accuracy=99.42%  \n",
      "  valid loss:\t\t0.05757\n",
      "  valid accuracy:\t0.99580+/-0.00288\n",
      "  valid auc-roc:\t0.99946+/-0.00058\n",
      "  valid auc-pr:\t\t0.98984+/-0.01691\n",
      "saving model parameters to: /home/peter/Data/SequenceMotif/N=300000_S=200_M=20_G=20_data.pickle_epoch_50.pickle\n",
      "Epoch 52 out of 500 \n",
      "[==============================] 100.0% -- time=0s -- loss=0.06528 -- accuracy=99.42%  \n",
      "  valid loss:\t\t0.05685\n",
      "  valid accuracy:\t0.99601+/-0.00299\n",
      "  valid auc-roc:\t0.99949+/-0.00054\n",
      "  valid auc-pr:\t\t0.99035+/-0.01572\n",
      "saving model parameters to: /home/peter/Data/SequenceMotif/N=300000_S=200_M=20_G=20_data.pickle_epoch_51.pickle\n",
      "Epoch 53 out of 500 \n",
      "[==============================] 100.0% -- time=0s -- loss=0.06517 -- accuracy=99.42%  \n",
      "  valid loss:\t\t0.05678\n",
      "  valid accuracy:\t0.99601+/-0.00264\n",
      "  valid auc-roc:\t0.99948+/-0.00054\n",
      "  valid auc-pr:\t\t0.99009+/-0.01590\n",
      "saving model parameters to: /home/peter/Data/SequenceMotif/N=300000_S=200_M=20_G=20_data.pickle_epoch_52.pickle\n",
      "Epoch 54 out of 500 \n",
      "[==============================] 100.0% -- time=0s -- loss=0.06496 -- accuracy=99.42%  \n",
      "  valid loss:\t\t0.05693\n",
      "  valid accuracy:\t0.99589+/-0.00317\n",
      "  valid auc-roc:\t0.99947+/-0.00056\n",
      "  valid auc-pr:\t\t0.98982+/-0.01619\n",
      "saving model parameters to: /home/peter/Data/SequenceMotif/N=300000_S=200_M=20_G=20_data.pickle_epoch_53.pickle\n",
      "Epoch 55 out of 500 \n",
      "[==============================] 100.0% -- time=0s -- loss=0.06477 -- accuracy=99.42%  \n",
      "  valid loss:\t\t0.05704\n",
      "  valid accuracy:\t0.99578+/-0.00336\n",
      "  valid auc-roc:\t0.99945+/-0.00059\n",
      "  valid auc-pr:\t\t0.98994+/-0.01621\n",
      "saving model parameters to: /home/peter/Data/SequenceMotif/N=300000_S=200_M=20_G=20_data.pickle_epoch_54.pickle\n",
      "Epoch 56 out of 500 \n",
      "[==============================] 100.0% -- time=0s -- loss=0.06479 -- accuracy=99.42%  \n",
      "  valid loss:\t\t0.05671\n",
      "  valid accuracy:\t0.99588+/-0.00311\n",
      "  valid auc-roc:\t0.99950+/-0.00053\n",
      "  valid auc-pr:\t\t0.99033+/-0.01562\n",
      "saving model parameters to: /home/peter/Data/SequenceMotif/N=300000_S=200_M=20_G=20_data.pickle_epoch_55.pickle\n",
      "Epoch 57 out of 500 \n",
      "[==============================] 100.0% -- time=0s -- loss=0.06464 -- accuracy=99.41%  \n",
      "  valid loss:\t\t0.05671\n",
      "  valid accuracy:\t0.99589+/-0.00299\n",
      "  valid auc-roc:\t0.99950+/-0.00054\n",
      "  valid auc-pr:\t\t0.99048+/-0.01483\n",
      "saving model parameters to: /home/peter/Data/SequenceMotif/N=300000_S=200_M=20_G=20_data.pickle_epoch_56.pickle\n",
      "Epoch 58 out of 500 \n",
      "[==============================] 100.0% -- time=0s -- loss=0.06458 -- accuracy=99.42%  \n",
      "  valid loss:\t\t0.05676\n",
      "  valid accuracy:\t0.99586+/-0.00295\n",
      "  valid auc-roc:\t0.99946+/-0.00058\n",
      "  valid auc-pr:\t\t0.99013+/-0.01571\n",
      "saving model parameters to: /home/peter/Data/SequenceMotif/N=300000_S=200_M=20_G=20_data.pickle_epoch_57.pickle\n",
      "Epoch 59 out of 500 \n",
      "[==============================] 100.0% -- time=0s -- loss=0.06449 -- accuracy=99.42%  \n",
      "  valid loss:\t\t0.05636\n",
      "  valid accuracy:\t0.99601+/-0.00281\n",
      "  valid auc-roc:\t0.99948+/-0.00055\n",
      "  valid auc-pr:\t\t0.99022+/-0.01541\n",
      "saving model parameters to: /home/peter/Data/SequenceMotif/N=300000_S=200_M=20_G=20_data.pickle_epoch_58.pickle\n",
      "Epoch 60 out of 500 \n",
      "[==============================] 100.0% -- time=0s -- loss=0.06431 -- accuracy=99.42%  \n",
      "  valid loss:\t\t0.05636\n",
      "  valid accuracy:\t0.99593+/-0.00296\n",
      "  valid auc-roc:\t0.99945+/-0.00058\n",
      "  valid auc-pr:\t\t0.98986+/-0.01700\n",
      "saving model parameters to: /home/peter/Data/SequenceMotif/N=300000_S=200_M=20_G=20_data.pickle_epoch_59.pickle\n",
      "Epoch 61 out of 500 \n",
      "[==============================] 100.0% -- time=0s -- loss=0.06432 -- accuracy=99.42%  \n",
      "  valid loss:\t\t0.05650\n",
      "  valid accuracy:\t0.99583+/-0.00272\n",
      "  valid auc-roc:\t0.99950+/-0.00053\n",
      "  valid auc-pr:\t\t0.99046+/-0.01479\n",
      "saving model parameters to: /home/peter/Data/SequenceMotif/N=300000_S=200_M=20_G=20_data.pickle_epoch_60.pickle\n",
      "Epoch 62 out of 500 \n",
      "[==============================] 100.0% -- time=0s -- loss=0.06414 -- accuracy=99.42%  \n",
      "  valid loss:\t\t0.05654\n",
      "  valid accuracy:\t0.99576+/-0.00294\n",
      "  valid auc-roc:\t0.99944+/-0.00060\n",
      "  valid auc-pr:\t\t0.99008+/-0.01561\n",
      "saving model parameters to: /home/peter/Data/SequenceMotif/N=300000_S=200_M=20_G=20_data.pickle_epoch_61.pickle\n",
      "Epoch 63 out of 500 \n",
      "[==============================] 100.0% -- time=0s -- loss=0.06416 -- accuracy=99.42%  \n",
      "  valid loss:\t\t0.05616\n",
      "  valid accuracy:\t0.99594+/-0.00274\n",
      "  valid auc-roc:\t0.99947+/-0.00056\n",
      "  valid auc-pr:\t\t0.99016+/-0.01566\n",
      "saving model parameters to: /home/peter/Data/SequenceMotif/N=300000_S=200_M=20_G=20_data.pickle_epoch_62.pickle\n",
      "Epoch 64 out of 500 \n",
      "[==============================] 100.0% -- time=0s -- loss=0.06387 -- accuracy=99.42%  \n",
      "  valid loss:\t\t0.05617\n",
      "  valid accuracy:\t0.99583+/-0.00271\n",
      "  valid auc-roc:\t0.99946+/-0.00058\n",
      "  valid auc-pr:\t\t0.99005+/-0.01608\n",
      "saving model parameters to: /home/peter/Data/SequenceMotif/N=300000_S=200_M=20_G=20_data.pickle_epoch_63.pickle\n",
      "Epoch 65 out of 500 \n",
      "[==============================] 100.0% -- time=0s -- loss=0.06397 -- accuracy=99.42%  \n",
      "  valid loss:\t\t0.05586\n",
      "  valid accuracy:\t0.99587+/-0.00318\n",
      "  valid auc-roc:\t0.99946+/-0.00060\n",
      "  valid auc-pr:\t\t0.99021+/-0.01589\n",
      "saving model parameters to: /home/peter/Data/SequenceMotif/N=300000_S=200_M=20_G=20_data.pickle_epoch_64.pickle\n",
      "Epoch 66 out of 500 \n",
      "[==============================] 100.0% -- time=0s -- loss=0.06384 -- accuracy=99.42%  \n",
      "  valid loss:\t\t0.05574\n",
      "  valid accuracy:\t0.99600+/-0.00275\n",
      "  valid auc-roc:\t0.99949+/-0.00054\n",
      "  valid auc-pr:\t\t0.99017+/-0.01640\n",
      "saving model parameters to: /home/peter/Data/SequenceMotif/N=300000_S=200_M=20_G=20_data.pickle_epoch_65.pickle\n",
      "Epoch 67 out of 500 \n",
      "[==============================] 100.0% -- time=0s -- loss=0.06381 -- accuracy=99.42%  \n",
      "  valid loss:\t\t0.05620\n",
      "  valid accuracy:\t0.99573+/-0.00294\n",
      "  valid auc-roc:\t0.99949+/-0.00053\n",
      "  valid auc-pr:\t\t0.99039+/-0.01488\n",
      "saving model parameters to: /home/peter/Data/SequenceMotif/N=300000_S=200_M=20_G=20_data.pickle_epoch_66.pickle\n",
      "Epoch 68 out of 500 \n",
      "[==============================] 100.0% -- time=0s -- loss=0.06377 -- accuracy=99.42%  \n",
      "  valid loss:\t\t0.05592\n",
      "  valid accuracy:\t0.99591+/-0.00295\n",
      "  valid auc-roc:\t0.99947+/-0.00053\n",
      "  valid auc-pr:\t\t0.99006+/-0.01581\n",
      "saving model parameters to: /home/peter/Data/SequenceMotif/N=300000_S=200_M=20_G=20_data.pickle_epoch_67.pickle\n",
      "Epoch 69 out of 500 \n",
      "[==============================] 100.0% -- time=0s -- loss=0.06374 -- accuracy=99.42%  \n",
      "  valid loss:\t\t0.05578\n",
      "  valid accuracy:\t0.99594+/-0.00297\n",
      "  valid auc-roc:\t0.99947+/-0.00056\n",
      "  valid auc-pr:\t\t0.99036+/-0.01517\n",
      "saving model parameters to: /home/peter/Data/SequenceMotif/N=300000_S=200_M=20_G=20_data.pickle_epoch_68.pickle\n",
      "Epoch 70 out of 500 \n",
      "[==============================] 100.0% -- time=0s -- loss=0.06368 -- accuracy=99.42%  \n",
      "  valid loss:\t\t0.05582\n",
      "  valid accuracy:\t0.99588+/-0.00292\n",
      "  valid auc-roc:\t0.99949+/-0.00053\n",
      "  valid auc-pr:\t\t0.99025+/-0.01598\n",
      "saving model parameters to: /home/peter/Data/SequenceMotif/N=300000_S=200_M=20_G=20_data.pickle_epoch_69.pickle\n",
      "Patience ran out... Early stopping.\n"
     ]
    }
   ],
   "source": [
    "nnmodel = fit.train_minibatch(nnmodel, train, valid, batch_size=128, num_epochs=500, \n",
    "                        patience=3, verbose=1, filepath=filepath)"
   ]
  },
  {
   "cell_type": "code",
   "execution_count": 5,
   "metadata": {
    "collapsed": false
   },
   "outputs": [
    {
     "name": "stdout",
     "output_type": "stream",
     "text": [
      "----------------------------------------------------------------------------\n",
      "Network architecture:\n",
      "----------------------------------------------------------------------------\n",
      "layer1: \n",
      "<lasagne.layers.input.InputLayer object at 0x7f57d9d05b50>\n",
      "shape:(None, 4, 200, 1)\n",
      "layer2: \n",
      "<lasagne.layers.dnn.Conv2DDNNLayer object at 0x7f57d9d05c10>\n",
      "shape:(None, 20, 200, 1)\n",
      "parameters: W\n",
      "layer3: \n",
      "<lasagne.layers.special.BiasLayer object at 0x7f57e4964810>\n",
      "shape:(None, 20, 200, 1)\n",
      "parameters: b\n",
      "layer4: \n",
      "<lasagne.layers.normalization.BatchNormLayer object at 0x7f57d9d3e350>\n",
      "shape:(None, 20, 200, 1)\n",
      "parameters: beta, gamma, mean, inv_std\n",
      "layer5: \n",
      "<lasagne.layers.special.NonlinearityLayer object at 0x7f57d9d762d0>\n",
      "shape:(None, 20, 200, 1)\n",
      "layer6: \n",
      "<lasagne.layers.pool.MaxPool2DLayer object at 0x7f57c734e410>\n",
      "shape:(None, 20, 50, 1)\n",
      "layer7: \n",
      "<lasagne.layers.dnn.Conv2DDNNLayer object at 0x7f57c734e450>\n",
      "shape:(None, 40, 50, 1)\n",
      "parameters: W\n",
      "layer8: \n",
      "<lasagne.layers.special.BiasLayer object at 0x7f57c734e490>\n",
      "shape:(None, 40, 50, 1)\n",
      "parameters: b\n",
      "layer9: \n",
      "<lasagne.layers.normalization.BatchNormLayer object at 0x7f57c734e5d0>\n",
      "shape:(None, 40, 50, 1)\n",
      "parameters: beta, gamma, mean, inv_std\n",
      "layer10: \n",
      "<lasagne.layers.special.NonlinearityLayer object at 0x7f57c734e750>\n",
      "shape:(None, 40, 50, 1)\n",
      "layer11: \n",
      "<lasagne.layers.pool.MaxPool2DLayer object at 0x7f57c734ec90>\n",
      "shape:(None, 40, 25, 1)\n",
      "layer12: \n",
      "<lasagne.layers.dense.DenseLayer object at 0x7f57c734ecd0>\n",
      "shape:(None, 200)\n",
      "parameters: W\n",
      "layer13: \n",
      "<lasagne.layers.special.BiasLayer object at 0x7f57c734ed10>\n",
      "shape:(None, 200)\n",
      "parameters: b\n",
      "layer14: \n",
      "<lasagne.layers.normalization.BatchNormLayer object at 0x7f57c73582d0>\n",
      "shape:(None, 200)\n",
      "parameters: beta, gamma, mean, inv_std\n",
      "layer15: \n",
      "<lasagne.layers.special.NonlinearityLayer object at 0x7f57c7358450>\n",
      "shape:(None, 200)\n",
      "layer16: \n",
      "<lasagne.layers.noise.DropoutLayer object at 0x7f57c73589d0>\n",
      "shape:(None, 200)\n",
      "layer17: \n",
      "<lasagne.layers.dense.DenseLayer object at 0x7f57c734ed50>\n",
      "shape:(None, 20)\n",
      "parameters: W\n",
      "layer18: \n",
      "<lasagne.layers.special.BiasLayer object at 0x7f57c7358a50>\n",
      "shape:(None, 20)\n",
      "parameters: b\n",
      "layer19: \n",
      "<lasagne.layers.special.NonlinearityLayer object at 0x7f57c7358b90>\n",
      "shape:(None, 20)\n",
      "----------------------------------------------------------------------------\n"
     ]
    }
   ],
   "source": [
    "nnmodel.print_layers()"
   ]
  },
  {
   "cell_type": "code",
   "execution_count": 6,
   "metadata": {
    "collapsed": false
   },
   "outputs": [
    {
     "data": {
      "text/plain": [
       "{'conv1': <lasagne.layers.dnn.Conv2DDNNLayer at 0x7f57d9d05c10>,\n",
       " 'conv1_active': <lasagne.layers.special.NonlinearityLayer at 0x7f57d9d762d0>,\n",
       " 'conv1_batch': <lasagne.layers.normalization.BatchNormLayer at 0x7f57d9d3e350>,\n",
       " 'conv1_bias': <lasagne.layers.special.BiasLayer at 0x7f57e4964810>,\n",
       " 'conv1_pool': <lasagne.layers.pool.MaxPool2DLayer at 0x7f57c734e410>,\n",
       " 'conv2': <lasagne.layers.dnn.Conv2DDNNLayer at 0x7f57c734e450>,\n",
       " 'conv2_active': <lasagne.layers.special.NonlinearityLayer at 0x7f57c734e750>,\n",
       " 'conv2_batch': <lasagne.layers.normalization.BatchNormLayer at 0x7f57c734e5d0>,\n",
       " 'conv2_bias': <lasagne.layers.special.BiasLayer at 0x7f57c734e490>,\n",
       " 'conv2_pool': <lasagne.layers.pool.MaxPool2DLayer at 0x7f57c734ec90>,\n",
       " 'dense1': <lasagne.layers.dense.DenseLayer at 0x7f57c734ecd0>,\n",
       " 'dense1_active': <lasagne.layers.special.NonlinearityLayer at 0x7f57c7358450>,\n",
       " 'dense1_batch': <lasagne.layers.normalization.BatchNormLayer at 0x7f57c73582d0>,\n",
       " 'dense1_bias': <lasagne.layers.special.BiasLayer at 0x7f57c734ed10>,\n",
       " 'dense1_dropout': <lasagne.layers.noise.DropoutLayer at 0x7f57c73589d0>,\n",
       " 'input': <lasagne.layers.input.InputLayer at 0x7f57d9d05b50>,\n",
       " 'output': <lasagne.layers.special.NonlinearityLayer at 0x7f57c7358b90>,\n",
       " 'output_bias': <lasagne.layers.special.BiasLayer at 0x7f57c7358a50>}"
      ]
     },
     "execution_count": 6,
     "metadata": {},
     "output_type": "execute_result"
    }
   ],
   "source": [
    "network = nnmodel.network\n",
    "network"
   ]
  },
  {
   "cell_type": "code",
   "execution_count": 7,
   "metadata": {
    "collapsed": true
   },
   "outputs": [],
   "source": [
    "#X2, labels = reconstruct_layer2(network, train)\n",
    "map_index = range(10000)\n",
    "X = train[0][map_index]\n",
    "y = np.argmax(train[1][map_index], axis=1)"
   ]
  },
  {
   "cell_type": "code",
   "execution_count": 8,
   "metadata": {
    "collapsed": false
   },
   "outputs": [
    {
     "data": {
      "text/plain": [
       "(10000, 4, 200, 1)"
      ]
     },
     "execution_count": 8,
     "metadata": {},
     "output_type": "execute_result"
    }
   ],
   "source": [
    "X.shape"
   ]
  },
  {
   "cell_type": "code",
   "execution_count": 9,
   "metadata": {
    "collapsed": true
   },
   "outputs": [],
   "source": [
    "def get_feature_map(layer, input_var, X, index):\n",
    "    feature_maps = theano.function([input_var], layers.get_output(layer), allow_input_downcast=True)\n",
    "    return feature_maps(X[index])\n",
    "\n",
    "output = get_feature_map(network['output'], nnmodel.input_var, X, map_index)"
   ]
  },
  {
   "cell_type": "code",
   "execution_count": 10,
   "metadata": {
    "collapsed": false
   },
   "outputs": [],
   "source": [
    "prediction = theano.function([nnmodel.input_var], layers.get_output(network['output'],deterministic=True), allow_input_downcast=True)"
   ]
  },
  {
   "cell_type": "code",
   "execution_count": 11,
   "metadata": {
    "collapsed": false
   },
   "outputs": [
    {
     "name": "stdout",
     "output_type": "stream",
     "text": [
      "0\n",
      "0\n",
      "0\n"
     ]
    }
   ],
   "source": [
    "index = 18\n",
    "x = np.expand_dims(X[index],0)\n",
    "\n",
    "print np.argmax(prediction(x.astype(np.float32)))\n",
    "print np.argmax(output[index])\n",
    "print y[index]"
   ]
  },
  {
   "cell_type": "code",
   "execution_count": 12,
   "metadata": {
    "collapsed": false
   },
   "outputs": [
    {
     "name": "stdout",
     "output_type": "stream",
     "text": [
      "[  8.46332729e-01   1.00170576e-03   1.02266436e-03   3.39337741e-03\n",
      "   4.16899100e-03   3.00469436e-03   8.38111562e-04   5.27830736e-04\n",
      "   1.59300733e-04   9.67871689e-04   4.77989612e-04   2.82938383e-03\n",
      "   9.44233965e-04   2.31367606e-03   7.32840213e-04   4.49780404e-04\n",
      "   1.18369062e-03   9.53735667e-04   1.53963303e-03   5.34863619e-04]\n"
     ]
    },
    {
     "name": "stderr",
     "output_type": "stream",
     "text": [
      "/home/peter/anaconda2/lib/python2.7/site-packages/matplotlib/figure.py:1744: UserWarning: This figure includes Axes that are not compatible with tight_layout, so its results might be incorrect.\n",
      "  warnings.warn(\"This figure includes Axes that are not \"\n"
     ]
    },
    {
     "data": {
      "image/png": "[encoded data removed]",
      "text/plain": [
       "<matplotlib.figure.Figure at 0x7f57adc30c90>"
      ]
     },
     "metadata": {},
     "output_type": "display_data"
    }
   ],
   "source": [
    "p = prediction(x)\n",
    "plt.plot(p[0])\n",
    "print p[0]"
   ]
  },
  {
   "cell_type": "code",
   "execution_count": 13,
   "metadata": {
    "collapsed": false
   },
   "outputs": [
    {
     "data": {
      "text/plain": [
       "(4, 200)"
      ]
     },
     "execution_count": 13,
     "metadata": {},
     "output_type": "execute_result"
    }
   ],
   "source": [
    "index = 18\n",
    "N = 200\n",
    "window = 4\n",
    "x = np.squeeze(X[index])\n",
    "x.shape"
   ]
  },
  {
   "cell_type": "code",
   "execution_count": 14,
   "metadata": {
    "collapsed": false
   },
   "outputs": [],
   "source": [
    "window = 1\n",
    "\n",
    "def mutagenesis(x, window=6, N=200):\n",
    "    p = []\n",
    "    for i in range(N-window):\n",
    "        index = range(i, i+window)\n",
    "        val = np.copy(x)\n",
    "        val[:, index] = 0\n",
    "        val = np.expand_dims(val,3)\n",
    "        p.append(val)\n",
    "    p = np.array(p)\n",
    "    return p\n",
    "\n"
   ]
  },
  {
   "cell_type": "code",
   "execution_count": 15,
   "metadata": {
    "collapsed": false
   },
   "outputs": [],
   "source": [
    "p = mutagenesis(x, window=10, N=200)\n"
   ]
  },
  {
   "cell_type": "code",
   "execution_count": 16,
   "metadata": {
    "collapsed": false
   },
   "outputs": [],
   "source": [
    "output2 = get_feature_map(network['output'], nnmodel.input_var, p, range(len(p)))"
   ]
  },
  {
   "cell_type": "code",
   "execution_count": 17,
   "metadata": {
    "collapsed": false
   },
   "outputs": [
    {
     "data": {
      "text/plain": [
       "array([ 0,  0,  0,  0,  4,  0,  2,  0, 14, 14,  0, 16,  8, 14, 14,  0,  4,\n",
       "       14,  0, 14,  8,  4, 14, 14, 11,  8, 14, 14,  0,  4,  0,  0,  4,  0,\n",
       "       12,  0,  0,  0,  0,  0,  1, 13, 10, 19,  1, 12,  2,  3,  1, 12,  3,\n",
       "       17,  3,  7,  0,  3,  0,  0,  0,  8,  0, 15, 11,  0, 11,  0, 18,  8,\n",
       "       16, 10, 11,  3, 12,  8,  7, 11, 19,  3,  8, 19,  7,  9,  2, 11,  8,\n",
       "        1, 19,  9, 16, 11, 13,  0,  0,  9,  0,  0,  0,  0,  0,  1, 16,  0,\n",
       "       13, 13,  0,  2, 11,  0, 16,  0,  4,  0,  0,  6,  0,  4,  0,  6, 10,\n",
       "       11,  0, 11,  0, 11,  4,  0,  0, 10,  0,  0,  1,  0, 17,  0,  2, 11,\n",
       "        0,  6,  0, 13,  0,  0,  3,  0,  0,  0,  3,  4,  4,  4, 17,  4,  4,\n",
       "        4,  0, 12,  0, 12, 11,  0, 17,  0,  0, 17,  0, 17, 12,  0,  0,  1,\n",
       "       14,  0,  4,  4, 15, 17,  0, 11,  7,  2,  4,  0,  0,  0,  0, 19, 11,\n",
       "        0,  8,  0])"
      ]
     },
     "execution_count": 17,
     "metadata": {},
     "output_type": "execute_result"
    }
   ],
   "source": [
    "c = np.argmax(output2,axis=1)\n",
    "c"
   ]
  },
  {
   "cell_type": "code",
   "execution_count": 18,
   "metadata": {
    "collapsed": false
   },
   "outputs": [
    {
     "data": {
      "text/plain": [
       "[<matplotlib.lines.Line2D at 0x7f57a7aa3c10>]"
      ]
     },
     "execution_count": 18,
     "metadata": {},
     "output_type": "execute_result"
    },
    {
     "data": {
      "image/png": "[encoded data removed]",
      "text/plain": [
       "<matplotlib.figure.Figure at 0x7f57a7b27f90>"
      ]
     },
     "metadata": {},
     "output_type": "display_data"
    }
   ],
   "source": [
    "plt.figure()\n",
    "plt.plot(c)"
   ]
  },
  {
   "cell_type": "code",
   "execution_count": null,
   "metadata": {
    "collapsed": true
   },
   "outputs": [],
   "source": []
  },
  {
   "cell_type": "code",
   "execution_count": null,
   "metadata": {
    "collapsed": true
   },
   "outputs": [],
   "source": []
  },
  {
   "cell_type": "code",
   "execution_count": null,
   "metadata": {
    "collapsed": true
   },
   "outputs": [],
   "source": []
  },
  {
   "cell_type": "code",
   "execution_count": null,
   "metadata": {
    "collapsed": true
   },
   "outputs": [],
   "source": []
  },
  {
   "cell_type": "code",
   "execution_count": null,
   "metadata": {
    "collapsed": true
   },
   "outputs": [],
   "source": []
  },
  {
   "cell_type": "code",
   "execution_count": null,
   "metadata": {
    "collapsed": true
   },
   "outputs": [],
   "source": []
  },
  {
   "cell_type": "code",
   "execution_count": null,
   "metadata": {
    "collapsed": true
   },
   "outputs": [],
   "source": []
  },
  {
   "cell_type": "code",
   "execution_count": null,
   "metadata": {
    "collapsed": true
   },
   "outputs": [],
   "source": []
  },
  {
   "cell_type": "code",
   "execution_count": null,
   "metadata": {
    "collapsed": true
   },
   "outputs": [],
   "source": [
    "\n",
    "def seq_logo(pwm, height=100, width=200, norm=0, rna=1, filepath='.'):\n",
    "    \"\"\"generate a sequence logo from a pwm\"\"\"\n",
    "    \n",
    "    def load_alphabet(filepath, rna):\n",
    "        \"\"\"load images of nucleotide alphabet \"\"\"\n",
    "        df = pd.read_table(os.path.join(filepath, 'A.txt'), header=None);\n",
    "        A_img = df.as_matrix()\n",
    "        A_img = np.reshape(A_img, [72, 65, 3], order=\"F\").astype(np.uint8)\n",
    "\n",
    "        df = pd.read_table(os.path.join(filepath, 'C.txt'), header=None);\n",
    "        C_img = df.as_matrix()\n",
    "        C_img = np.reshape(C_img, [76, 64, 3], order=\"F\").astype(np.uint8)\n",
    "\n",
    "        df = pd.read_table(os.path.join(filepath, 'G.txt'), header=None);\n",
    "        G_img = df.as_matrix()\n",
    "        G_img = np.reshape(G_img, [76, 67, 3], order=\"F\").astype(np.uint8)\n",
    "\n",
    "        if rna == 1:\n",
    "            df = pd.read_table(os.path.join(filepath, 'U.txt'), header=None);\n",
    "            T_img = df.as_matrix()\n",
    "            T_img = np.reshape(T_img, [74, 57, 3], order=\"F\").astype(np.uint8)\n",
    "        else:\n",
    "            df = pd.read_table(os.path.join(filepath, 'T.txt'), header=None);\n",
    "            T_img = df.as_matrix()\n",
    "            T_img = np.reshape(T_img, [72, 59, 3], order=\"F\").astype(np.uint8)\n",
    "\n",
    "        return A_img, C_img, G_img, T_img\n",
    "\n",
    "\n",
    "    def get_nt_height(pwm, height, norm):\n",
    "        \"\"\"get the heights of each nucleotide\"\"\"\n",
    "\n",
    "        def entropy(p):\n",
    "            \"\"\"calculate entropy of each nucleotide\"\"\"\n",
    "            s = 0\n",
    "            for i in range(4):\n",
    "                if p[i] > 0:\n",
    "                    s -= p[i]*np.log2(p[i])\n",
    "            return s\n",
    "\n",
    "        num_nt, num_seq = pwm.shape\n",
    "        heights = np.zeros((num_nt,num_seq));\n",
    "        for i in range(num_seq):\n",
    "            if norm == 1:\n",
    "                total_height = height\n",
    "            else:\n",
    "                correction = 3/2\n",
    "                total_height = (np.log2(4) - entropy(pwm[:, i]))*height;\n",
    "            heights[:,i] = np.floor(pwm[:,i]*total_height);\n",
    "            \n",
    "        return heights.astype(int)\n",
    "\n",
    "    \n",
    "    # get the alphabet images of each nucleotide\n",
    "    A_img, C_img, G_img, T_img = load_alphabet(filepath='.', rna=1)\n",
    "    \n",
    "    \n",
    "    # get the heights of each nucleotide\n",
    "    heights = get_nt_height(pwm, height, norm)\n",
    "\n",
    "    # resize nucleotide images for each base of sequence and stack\n",
    "    num_nt, num_seq = pwm.shape\n",
    "    nt_width = np.floor(width/num_seq).astype(int)\n",
    "    logo = np.ones((height, width, 3)).astype(int)*255;\n",
    "    for i in range(num_seq):\n",
    "        remaining_height = height;\n",
    "        nt_height = np.sort(heights[:,i]);\n",
    "        index = np.argsort(heights[:,i])\n",
    "\n",
    "        \n",
    "        for j in range(num_nt):\n",
    "            # resized dimensions of image\n",
    "            if nt_height[j] > 0:\n",
    "                resize = (nt_height[j],nt_width)\n",
    "                if index[j] == 0:\n",
    "                    nt_img = imresize(A_img, resize)\n",
    "                elif index[j] == 1:\n",
    "                    nt_img = imresize(C_img, resize)\n",
    "                elif index[j] == 2:\n",
    "                    nt_img = imresize(G_img, resize)\n",
    "                elif index[j] == 3:\n",
    "                    nt_img = imresize(T_img, resize)\n",
    "\n",
    "                # determine location of image\n",
    "                height_range = range(remaining_height-nt_height[j], remaining_height)\n",
    "                width_range = range(i*nt_width, i*nt_width+nt_width)\n",
    "\n",
    "                # 'annoying' way to broadcast resized nucleotide image\n",
    "                for k in range(3):\n",
    "                    for m in range(len(width_range)):\n",
    "                        logo[height_range, width_range[m],k] = nt_img[:,m,k];\n",
    "\n",
    "                remaining_height -= nt_height[j]\n",
    "\n",
    "    return logo.astype(np.uint8)\n",
    "\n",
    "\n",
    "\n",
    "def plot_conv_filter(plt, pwm, height=200, bp_width=100, norm=0, rna=1, adjust=-1, filepath='.', showbar=0):\n",
    "    num_seq = pwm.shape[1]\n",
    "    width = bp_width*num_seq\n",
    "\n",
    "    logo = seq_logo(pwm, height, width, norm, rna, filepath)\n",
    "    \n",
    "    fig, axes = plt.subplots(nrows=2, ncols=1)\n",
    "    axes[0].imshow(logo, extent=[bp_width*2, width+bp_width, 0, height])\n",
    "    axes[0].set_axis_off()\n",
    "    im = axes[1].imshow(pwm, cmap='jet', vmin=0, vmax=1, interpolation='none') \n",
    "    axes[1].set_axis_off()\n",
    "    fig.subplots_adjust(bottom=adjust)\n",
    "    if showbar == 1:\n",
    "        cbar_ax = fig.add_axes([.85, 0.05, 0.05, 0.45])\n",
    "        cb = fig.colorbar(im, cax=cbar_ax, ticks=[0, 0.5, 1])\n",
    "        cb.ax.tick_params(labelsize=16)\n",
    "    return fig\n",
    "\n",
    "def fig_options(plt, options):\n",
    "    if 'figsize' in options:\n",
    "        fig = plt.gcf()\n",
    "        fig.set_size_inches(options['figsize'][0], options['figsize'][1], forward=True)\n",
    "    if 'ylim' in options:\n",
    "        plt.ylim(options['ylim'][0],options['ylim'][1])\n",
    "    if 'yticks' in options:\n",
    "        plt.yticks(options['yticks'])\n",
    "    if 'xticks' in options:\n",
    "        plt.xticks(options['xticks'])\n",
    "    if 'labelsize' in options:        \n",
    "        ax = plt.gca()\n",
    "        ax.tick_params(axis='x', labelsize=options['labelsize'])\n",
    "        ax.tick_params(axis='y', labelsize=options['labelsize'])\n",
    "    if 'axis' in options:\n",
    "        plt.axis(options['axis'])\n",
    "    if 'xlabel' in options:\n",
    "        plt.xlabel(options['xlabel'], fontsize=options['fontsize'])\n",
    "    if 'ylabel' in options:\n",
    "        plt.ylabel(options['ylabel'], fontsize=options['fontsize'])\n",
    "    if 'linewidth' in options:\n",
    "        plt.rc('axes', linewidth=options['linewidth'])\n",
    "        \n",
    "\n",
    "def subplot_grid(nrows, ncols):\n",
    "    grid= mpl.gridspec.GridSpec(nrows, ncols)\n",
    "    grid.update(wspace=0.2, hspace=0.2, left=0.1, right=0.2, bottom=0.1, top=0.2) \n",
    "    return grid\n",
    "\n",
    "\n",
    "def get_weights(layer, convert_pwm=0):\n",
    "    W =  np.squeeze(layer.W.get_value())\n",
    "    W_norm = W\n",
    "    if convert_pwm == 1:\n",
    "        for i in range(len(W)):\n",
    "            #weights = np.exp(W[i])\n",
    "            MIN = np.min(W[i])\n",
    "            weights = W[i] - MIN\n",
    "            Z = np.sum(weights, axis=0)\n",
    "            weights /= np.tile(Z, (W[i].shape[0],1))\n",
    "            W_norm[i] = weights\n",
    "    return W_norm\n",
    "\n",
    "def plot_conv_weights(W, options):\n",
    "    num_filters = W.shape[0]\n",
    "    nrows = np.ceil(np.sqrt(num_filters)).astype(int)\n",
    "    ncols = nrows\n",
    "    plt.figure()\n",
    "    grid = subplot_grid(nrows, ncols)\n",
    "    for i in range(num_filters):\n",
    "        plt.subplot(grid[i])\n",
    "        plt.imshow(W[i], cmap='hot_r', interpolation='nearest')\n",
    "        fig_options(plt, options)\n",
    "    return plt\n",
    "\n",
    "def batch_generator(X, y, batch_size=128, shuffle=True):\n",
    "    \"\"\"python generator to get a randomized minibatch\"\"\"\n",
    "    if shuffle:\n",
    "        indices = np.arange(len(X))\n",
    "        np.random.shuffle(indices)\n",
    "    for start_idx in range(0, len(X)-batch_size+1, batch_size):\n",
    "        if shuffle:\n",
    "            excerpt = indices[start_idx:start_idx+batch_size]\n",
    "        else:\n",
    "            excerpt = slice(start_idx, start_idx+batch_size)\n",
    "        yield X[excerpt].astype('float32'), y[excerpt].astype('int32')\n",
    "\n",
    "\n",
    "def get_feature_map_all(layer, input_var, X, batch_size=500):\n",
    "    num_data = len(X)\n",
    "    feature_maps = theano.function([input_var], layers.get_output(layer), allow_input_downcast=True)\n",
    "    map_shape = get_output_shape(layer)\n",
    "\n",
    "    # get feature maps in batches for speed (large batches may be too much memory for GPU)\n",
    "    batch_size=500\n",
    "    num_batches = num_data // batch_size\n",
    "    shape = list(map_shape)\n",
    "    shape[0] = num_data\n",
    "    fmaps = np.empty(tuple(shape))\n",
    "    for i in range(num_batches):\n",
    "        index = range(i*batch_size, (i+1)*batch_size)    \n",
    "        fmaps[index] = feature_maps(X[index])\n",
    "\n",
    "    # get the rest of the feature maps\n",
    "    excess = num_data-num_batches*batch_size\n",
    "    if excess:\n",
    "        index = range(num_data-excess, num_data)  \n",
    "        fmaps[index] = feature_maps(X[index])\n",
    "    return fmaps\n",
    "\n"
   ]
  },
  {
   "cell_type": "code",
   "execution_count": null,
   "metadata": {
    "collapsed": true
   },
   "outputs": [],
   "source": []
  },
  {
   "cell_type": "code",
   "execution_count": null,
   "metadata": {
    "collapsed": true
   },
   "outputs": [],
   "source": []
  },
  {
   "cell_type": "code",
   "execution_count": null,
   "metadata": {
    "collapsed": true
   },
   "outputs": [],
   "source": []
  },
  {
   "cell_type": "code",
   "execution_count": null,
   "metadata": {
    "collapsed": true
   },
   "outputs": [],
   "source": []
  },
  {
   "cell_type": "code",
   "execution_count": null,
   "metadata": {
    "collapsed": true
   },
   "outputs": [],
   "source": []
  },
  {
   "cell_type": "code",
   "execution_count": null,
   "metadata": {
    "collapsed": true
   },
   "outputs": [],
   "source": []
  },
  {
   "cell_type": "code",
   "execution_count": null,
   "metadata": {
    "collapsed": true
   },
   "outputs": [],
   "source": []
  },
  {
   "cell_type": "code",
   "execution_count": null,
   "metadata": {
    "collapsed": true
   },
   "outputs": [],
   "source": []
  },
  {
   "cell_type": "code",
   "execution_count": null,
   "metadata": {
    "collapsed": true
   },
   "outputs": [],
   "source": []
  },
  {
   "cell_type": "code",
   "execution_count": null,
   "metadata": {
    "collapsed": true
   },
   "outputs": [],
   "source": []
  },
  {
   "cell_type": "code",
   "execution_count": null,
   "metadata": {
    "collapsed": true
   },
   "outputs": [],
   "source": []
  },
  {
   "cell_type": "code",
   "execution_count": null,
   "metadata": {
    "collapsed": true
   },
   "outputs": [],
   "source": []
  },
  {
   "cell_type": "code",
   "execution_count": null,
   "metadata": {
    "collapsed": true
   },
   "outputs": [],
   "source": []
  },
  {
   "cell_type": "code",
   "execution_count": null,
   "metadata": {
    "collapsed": true
   },
   "outputs": [],
   "source": []
  },
  {
   "cell_type": "code",
   "execution_count": null,
   "metadata": {
    "collapsed": true
   },
   "outputs": [],
   "source": []
  },
  {
   "cell_type": "code",
   "execution_count": null,
   "metadata": {
    "collapsed": true
   },
   "outputs": [],
   "source": []
  },
  {
   "cell_type": "code",
   "execution_count": null,
   "metadata": {
    "collapsed": true
   },
   "outputs": [],
   "source": []
  },
  {
   "cell_type": "code",
   "execution_count": null,
   "metadata": {
    "collapsed": true
   },
   "outputs": [],
   "source": []
  },
  {
   "cell_type": "code",
   "execution_count": null,
   "metadata": {
    "collapsed": true
   },
   "outputs": [],
   "source": []
  }
 ],
 "metadata": {
  "kernelspec": {
   "display_name": "Python 2",
   "language": "python",
   "name": "python2"
  },
  "language_info": {
   "codemirror_mode": {
    "name": "ipython",
    "version": 2
   },
   "file_extension": ".py",
   "mimetype": "text/x-python",
   "name": "python",
   "nbconvert_exporter": "python",
   "pygments_lexer": "ipython2",
   "version": "2.7.11"
  }
 },
 "nbformat": 4,
 "nbformat_minor": 0
}
