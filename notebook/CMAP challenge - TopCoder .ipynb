{
 "cells": [
  {
   "cell_type": "code",
   "execution_count": 1,
   "metadata": {
    "collapsed": false
   },
   "outputs": [
    {
     "name": "stderr",
     "output_type": "stream",
     "text": [
      "Using gpu device 0: GeForce GTX 980 (CNMeM is disabled, cuDNN 4007)\n"
     ]
    }
   ],
   "source": [
    "import os, sys, gzip\n",
    "import cPickle as pickle\n",
    "sys.setrecursionlimit(10000)\n",
    "\n",
    "import numpy as np\n",
    "np.random.seed(1004)   # for reproducibility\n",
    "import matplotlib.pyplot as plt\n",
    "from matplotlib import cm\n",
    "import matplotlib as mpl\n",
    "%matplotlib inline\n",
    "from scipy.misc import imresize\n",
    "\n",
    "import pandas as pd\n",
    "import h5py\n",
    "\n",
    "from lasagne import layers, nonlinearities, updates, objectives, init, regularization\n",
    "from lasagne.layers import get_output, get_output_shape, get_all_params\n",
    "import theano.tensor as T\n",
    "import theano\n",
    "#from theano.sandbox.rng_mrg import MRG_RandomStreams as RandomStreams\n",
    "from theano.tensor.shared_randomstreams import RandomStreams\n"
   ]
  },
  {
   "cell_type": "code",
   "execution_count": null,
   "metadata": {
    "collapsed": false
   },
   "outputs": [],
   "source": [
    "datapath='/home/peter/Data/CMAP/training.csv'\n",
    "savepath='/home/peter/Data/CMAP/dataset.hd5f'\n",
    "\n",
    "f = h5py.File(savepath, \"w\")\n",
    "batch_size = 20000\n",
    "shuffle_index = np.random.permutation(100000)\n",
    "for i in range(0,5):\n",
    "    batch_index =range(i*batch_size, (i+1)*batch_size)\n",
    "    data = pd.read_csv(datapath, usecols=shuffle_index[batch_index], header=None, dtype=np.float32)\n",
    "    genes = data.as_matrix()\n",
    "    num_landmark = 970\n",
    "    num_nonlandmark = 11350\n",
    "    num_samples = genes.shape[1]\n",
    "    landmark = genes[:970,:]\n",
    "    nonlandmark = genes[970:,:]\n",
    "    del genes\n",
    "\n",
    "    dset = f.create_dataset(\"landmark\"+str(i), data=landmark)\n",
    "    dset = f.create_dataset(\"nonlandmark\"+str(i), data=nonlandmark)\n",
    "    del landmark\n",
    "    del nonlandmark\n",
    "f.close()"
   ]
  },
  {
   "cell_type": "code",
   "execution_count": null,
   "metadata": {
    "collapsed": false
   },
   "outputs": [],
   "source": [
    "\n",
    "def normalize_data(landmark, nonlandmark, mean_landmark, std_landmark, mean_nonlandmark, std_nonlandmark, num_samples):\n",
    "    landmark = (landmark - np.outer(mean_landmark,np.ones(num_samples)))/np.outer(std_landmark,np.ones(num_samples))\n",
    "    nonlandmark = (nonlandmark - np.outer(mean_nonlandmark,np.ones(num_samples)))/np.outer(std_nonlandmark,np.ones(num_samples))\n",
    "    landmark = landmark.transpose([1,0])\n",
    "    nonlandmark = nonlandmark.transpose([1,0])\n",
    "\n",
    "    return landmark, nonlandmark\n",
    "\n",
    "\n",
    "filepath='/home/peter/Data/CMAP/dataset.hd5f'\n",
    "trainmat = h5py.File(filepath, 'r')\n",
    "landmark= np.array(trainmat['landmark1']).astype(np.float32)\n",
    "nonlandmark = np.array(trainmat['nonlandmark1']).astype(np.float32)\n",
    "\n",
    "num_files = 5\n",
    "mean_landmark = 0\n",
    "std_landmark = 0\n",
    "mean_nonlandmark = 0\n",
    "std_nonlandmark = 0\n",
    "for i in range(num_files):\n",
    "    landmark= np.array(trainmat['landmark'+str(i)]).astype(np.float32)\n",
    "    nonlandmark = np.array(trainmat['nonlandmark'+str(i)]).astype(np.float32)\n",
    "    mean_landmark += np.mean(landmark, axis=1)\n",
    "    std_landmark += np.std(landmark,axis=1)\n",
    "    mean_nonlandmark += np.mean(nonlandmark, axis=1)\n",
    "    std_nonlandmark += np.std(nonlandmark, axis=1)\n",
    "\n",
    "mean_landmark /= num_files\n",
    "std_landmark /= num_files\n",
    "mean_nonlandmark /= num_files\n",
    "std_nonlandmark /= num_files\n",
    "\n",
    "savepath='/home/peter/Data/CMAP/dataset_norm.hd5f'\n",
    "f = h5py.File(savepath, \"w\")\n",
    "batch_size = 20000\n",
    "for i in range(0,5):\n",
    "    landmark = np.array(trainmat['landmark'+str(i)]).astype(np.float32)\n",
    "    nonlandmark = np.array(trainmat['nonlandmark'+str(i)]).astype(np.float32)\n",
    "    landmark, nonlandmark = normalize_data(landmark, nonlandmark, mean_landmark, std_landmark, mean_nonlandmark, std_nonlandmark, num_samples)\n",
    "    dset = f.create_dataset(\"landmark\"+str(i), data=landmark)\n",
    "    dset = f.create_dataset(\"nonlandmark\"+str(i), data=nonlandmark)\n",
    "dset = f.create_dataset(\"mean_landmark\", data=mean_landmark)\n",
    "dset = f.create_dataset(\"std_landmark\", data=std_landmark)\n",
    "dset = f.create_dataset(\"mean_nonlandmark\", data=mean_nonlandmark)\n",
    "dset = f.create_dataset(\"std_nonlandmark\", data=std_nonlandmark)\n",
    "f.close()\n"
   ]
  },
  {
   "cell_type": "code",
   "execution_count": null,
   "metadata": {
    "collapsed": false
   },
   "outputs": [],
   "source": [
    "filepath='/home/peter/Data/CMAP/dataset_norm.hd5f'\n",
    "trainmat = h5py.File(filepath, 'r')\n",
    "landmark= np.array(trainmat['landmark4']).astype(np.float32)\n",
    "nonlandmark = np.array(trainmat['nonlandmark4']).astype(np.float32)"
   ]
  },
  {
   "cell_type": "code",
   "execution_count": null,
   "metadata": {
    "collapsed": false
   },
   "outputs": [],
   "source": [
    "index = 2\n",
    "plt.hist(landmark[:,index]);"
   ]
  },
  {
   "cell_type": "code",
   "execution_count": null,
   "metadata": {
    "collapsed": true
   },
   "outputs": [],
   "source": [
    "C = np.cov(nonlandmark.T)"
   ]
  },
  {
   "cell_type": "code",
   "execution_count": null,
   "metadata": {
    "collapsed": false
   },
   "outputs": [],
   "source": [
    "plt.imshow(C)\n",
    "plt.colorbar()"
   ]
  },
  {
   "cell_type": "code",
   "execution_count": null,
   "metadata": {
    "collapsed": false
   },
   "outputs": [],
   "source": []
  },
  {
   "cell_type": "code",
   "execution_count": null,
   "metadata": {
    "collapsed": true
   },
   "outputs": [],
   "source": []
  },
  {
   "cell_type": "markdown",
   "metadata": {},
   "source": [
    "# linear regression"
   ]
  },
  {
   "cell_type": "code",
   "execution_count": null,
   "metadata": {
    "collapsed": true
   },
   "outputs": [],
   "source": [
    "input_var = T.dmatrix('inputs')\n",
    "shape = (None, landmark.shape[1])\n",
    "net = {}\n",
    "net['input'] = layers.InputLayer(shape=shape, input_var=input_var)\n",
    "net['dense1'] = layers.DenseLayer(net['input'], num_units=nonlandmark.shape[1], W=init.GlorotUniform(), \n",
    "                                  b=init.Constant(.0), nonlinearity=None)\n",
    "net['dense1_active'] = layers.NonlinearityLayer(net['dense1'], nonlinearity=nonlinearities.linear)\n",
    "net['output'] = net['dense1_active']"
   ]
  },
  {
   "cell_type": "code",
   "execution_count": null,
   "metadata": {
    "collapsed": false
   },
   "outputs": [],
   "source": [
    "target_var = T.dmatrix('inputs')\n",
    "prediction = get_output(net['output'], deterministic=False )\n",
    "loss = objectives.squared_error(target_var, prediction)\n",
    "loss = objectives.aggregate(loss, mode='mean')\n",
    "\n",
    "# ADAM updates\n",
    "params = get_all_params(net['output'], trainable=True)\n",
    "update_op = updates.adam(loss, params, learning_rate=1e-3)\n",
    "\n",
    "train_fun = theano.function([input_var, target_var], loss , updates=update_op, allow_input_downcast=True)\n"
   ]
  },
  {
   "cell_type": "code",
   "execution_count": null,
   "metadata": {
    "collapsed": false
   },
   "outputs": [],
   "source": [
    "def batch_generator(X, y, batch_size=128):\n",
    "    for start_idx in range(0, len(X)-batch_size+1, batch_size):\n",
    "        excerpt = slice(start_idx, start_idx+batch_size)\n",
    "        yield X[excerpt], y[excerpt]\n",
    "\n",
    "batch_size = 100        \n",
    "num_samples = 20000\n",
    "num_files = 5        \n",
    "num_epochs = 60    \n",
    "num_batches = num_samples // batch_size\n",
    "for epoch in range(num_epochs):\n",
    "    sys.stdout.write(\"\\rEpoch %d \\n\"%(epoch+1))\n",
    "\n",
    "    train_loss = 0\n",
    "    for i in range(num_files):\n",
    "        sys.stdout.write(\"\\r  File %d \\n\"%(i+1))\n",
    "        landmark= np.array(trainmat['landmark'+str(i)]).astype(np.float32)\n",
    "        nonlandmark = np.array(trainmat['nonlandmark'+str(i)]).astype(np.float32)\n",
    "        batches = batch_generator(landmark, nonlandmark, batch_size)\n",
    "        \n",
    "        loss = 0\n",
    "        for i in range(num_batches):\n",
    "            X, y = next(batches)\n",
    "            loss += train_fun(X, y)\n",
    "        print(\"    training loss:\\t\\t{:.6f}\".format(loss/num_batches))    \n",
    "        train_loss += loss/num_batches              \n",
    "    train_loss /= num_files\n",
    "    print(\"  training loss:\\t\\t{:.6f}\".format(train_loss))"
   ]
  },
  {
   "cell_type": "markdown",
   "metadata": {},
   "source": [
    "Epoch 1 \n",
    "  File 1 \n",
    "    training loss:\t\t0.588965\n",
    "  File 2 \n",
    "    training loss:\t\t0.599399\n",
    "  File 3 \n",
    "    training loss:\t\t0.509065\n",
    "  File 4 \n",
    "    training loss:\t\t0.578905\n",
    "  File 5 \n",
    "    training loss:\t\t0.566761\n",
    "  training loss:\t\t0.568619\n",
    "Epoch 2 \n",
    "  File 1 \n",
    "    training loss:\t\t0.464421\n",
    "  File 2 \n",
    "    training loss:\t\t0.486734\n",
    "  File 3 \n",
    "    training loss:\t\t0.432946\n",
    "  File 4 \n",
    "    training loss:\t\t0.476401\n",
    "  File 5 \n",
    "    training loss:\t\t0.494727\n",
    "  training loss:\t\t0.471046\n",
    "Epoch 3 \n",
    "  File 1 \n",
    "    training loss:\t\t0.448270\n",
    "  File 2 \n",
    "    training loss:\t\t0.484055\n",
    "  File 3 \n",
    "    training loss:\t\t0.431769\n",
    "  File 4 \n",
    "    training loss:\t\t0.487850\n",
    "  File 5 \n",
    "    training loss:\t\t0.504944\n",
    "  training loss:\t\t0.471378"
   ]
  },
  {
   "cell_type": "markdown",
   "metadata": {},
   "source": [
    "# Feed forward network"
   ]
  },
  {
   "cell_type": "code",
   "execution_count": null,
   "metadata": {
    "collapsed": true
   },
   "outputs": [],
   "source": [
    "num_encode=100\n",
    "\n",
    "input_var = T.dmatrix('inputs')\n",
    "shape = (None, landmark.shape[1])\n",
    "net = {}\n",
    "net['input'] = layers.InputLayer(shape=shape, input_var=input_var)\n",
    "net['dense1'] = layers.DenseLayer(net['input'], num_units=5000, W=init.GlorotUniform(), \n",
    "                                  b=init.Constant(.0), nonlinearity=None)\n",
    "net['dense1_active'] = layers.NonlinearityLayer(net['dense1'], nonlinearity=nonlinearities.rectify)\n",
    "#net['dense1_active'] = layers.ParametricRectifierLayer(net['dense1_norm'])\n",
    "#net['dense1_droput'] = layers.DropoutLayer(net['dense1_active'], p=0.5)\n",
    "\n",
    "\n",
    "net['dense2'] = layers.DenseLayer(net['dense1_active'], num_units=nonlandmark.shape[1], W=init.GlorotUniform(), \n",
    "                                  b=init.Constant(.0), nonlinearity=None)\n",
    "net['dense2_active'] = layers.NonlinearityLayer(net['dense2'], nonlinearity=nonlinearities.linear)\n",
    "#net['dense2_active'] = layers.ParametricRectifierLayer(net['dense2_norm'])\n",
    "#net['dense2_droput'] = layers.DropoutLayer(net['dense2_active'], p=0.5)\n",
    "\n",
    "net['output'] = net['dense2_active']"
   ]
  },
  {
   "cell_type": "code",
   "execution_count": null,
   "metadata": {
    "collapsed": false
   },
   "outputs": [],
   "source": [
    "target_var = T.dmatrix('inputs')\n",
    "prediction = get_output(net['output'], deterministic=False )\n",
    "loss = objectives.squared_error(target_var, prediction)\n",
    "loss = objectives.aggregate(loss, mode='mean')\n",
    "\n",
    "#l1_penalty = regularization.regularize_network_params(net, regularization.l1) * 1e-5\n",
    "#loss += l1_penalty\n",
    "#l2_penalty = regularization.regularize_network_params(net, regularization.l2) * 1e-6    \n",
    "#loss += l2_penalty \n",
    "    \n",
    "# ADAM updates\n",
    "params = get_all_params(net['output'], trainable=True)\n",
    "update_op = updates.adam(loss, params, learning_rate=1e-3)\n",
    "\n",
    "train_fun = theano.function([input_var, target_var], loss , updates=update_op, allow_input_downcast=True)"
   ]
  },
  {
   "cell_type": "code",
   "execution_count": null,
   "metadata": {
    "collapsed": false
   },
   "outputs": [],
   "source": [
    "def batch_generator(X, y, batch_size=128):\n",
    "    for start_idx in range(0, len(X)-batch_size+1, batch_size):\n",
    "        excerpt = slice(start_idx, start_idx+batch_size)\n",
    "        yield X[excerpt], y[excerpt]\n",
    "\n",
    "batch_size = 100        \n",
    "num_samples = 20000\n",
    "num_files = 5        \n",
    "num_epochs = 60    \n",
    "num_batches = num_samples // batch_size\n",
    "for epoch in range(num_epochs):\n",
    "    sys.stdout.write(\"\\rEpoch %d \\n\"%(epoch+1))\n",
    "\n",
    "    train_loss = 0\n",
    "    for i in range(num_files):\n",
    "        sys.stdout.write(\"\\r  File %d \\n\"%(i+1))\n",
    "        landmark= np.array(trainmat['landmark'+str(i)]).astype(np.float32)\n",
    "        nonlandmark = np.array(trainmat['nonlandmark'+str(i)]).astype(np.float32)\n",
    "        batches = batch_generator(landmark, nonlandmark, batch_size)\n",
    "        \n",
    "        loss = 0\n",
    "        for i in range(num_batches):\n",
    "            X, y = next(batches)\n",
    "            loss += train_fun(X, y)\n",
    "        print(\"    training loss:\\t\\t{:.6f}\".format(loss/num_batches))    \n",
    "        train_loss += loss/num_batches              \n",
    "    train_loss /= num_files\n",
    "    print(\"  training loss:\\t\\t{:.6f}\".format(train_loss))"
   ]
  },
  {
   "cell_type": "markdown",
   "metadata": {
    "collapsed": true
   },
   "source": [
    "# denoising autoencoder"
   ]
  },
  {
   "cell_type": "code",
   "execution_count": null,
   "metadata": {
    "collapsed": true
   },
   "outputs": [],
   "source": [
    "input_var = T.dmatrix('inputs')\n",
    "shape = (None, landmark.shape[1])\n",
    "net = {}\n",
    "net['input'] = layers.InputLayer(shape=shape, input_var=input_var)\n",
    "\n",
    "# encode layer 1\n",
    "net['corrupt1'] = layers.GaussianNoiseLayer(net['input'], sigma=0.1)\n",
    "net['encode1'] = layers.DenseLayer(net['corrupt1'], num_units=2000, W=init.GlorotUniform(), \n",
    "                                  b=init.Constant(.0), nonlinearity=None)\n",
    "net['encode1_active'] = layers.NonlinearityLayer(net['encode1'], nonlinearity=nonlinearities.rectify)\n",
    "\n",
    "# encode layer 2\n",
    "net['corrupt2'] = layers.GaussianNoiseLayer(net['encode1_active'], sigma=0.1)\n",
    "net['encode2'] = layers.DenseLayer(net['corrupt2'], num_units=4000, W=init.GlorotUniform(), \n",
    "                                  b=init.Constant(.0), nonlinearity=None)\n",
    "net['encode2_active'] = layers.NonlinearityLayer(net['encode2'], nonlinearity=nonlinearities.rectify)\n",
    "\n",
    "# encode layer\n",
    "net['encode'] = layers.DenseLayer(net['encode2_active'], num_units=nonlandmark.shape[1], W=init.GlorotUniform(), \n",
    "                                  b=init.Constant(.0), nonlinearity=None)\n",
    "net['encode_active'] = layers.NonlinearityLayer(net['encode'], nonlinearity=nonlinearities.linear)\n",
    "\n",
    "# decode layer\n",
    "net['decode'] = layers.DenseLayer(net['encode_active'], num_units=4000, W=net['encode'].W.T, \n",
    "                                  b=init.Constant(.0), nonlinearity=None)\n",
    "net['decode_active'] = layers.NonlinearityLayer(net['decode'], nonlinearity=nonlinearities.rectify)\n",
    "\n",
    "# decode layer 1\n",
    "net['decode1'] = layers.DenseLayer(net['decode_active'], num_units=2000, W=net['encode2'].W.T, \n",
    "                                  b=init.Constant(.0), nonlinearity=None)\n",
    "net['decode1_active'] = layers.NonlinearityLayer(net['decode1'], nonlinearity=nonlinearities.rectify)\n",
    "\n",
    "# decode layer 2\n",
    "net['decode2'] = layers.DenseLayer(net['decode1_active'], num_units=landmark.shape[1], W=net['encode1'].W.T, \n",
    "                                  b=init.Constant(.0), nonlinearity=None)\n",
    "net['decode2_active'] = layers.NonlinearityLayer(net['decode2'], nonlinearity=nonlinearities.linear)\n",
    "net['output'] = net['decode2_active']\n"
   ]
  },
  {
   "cell_type": "code",
   "execution_count": null,
   "metadata": {
    "collapsed": true
   },
   "outputs": [],
   "source": [
    "prediction = get_output(net['output'], deterministic=False )\n",
    "loss1 = objectives.squared_error(input_var, prediction)\n",
    "loss1 = objectives.aggregate(loss1, mode='mean')\n",
    "\n",
    "target_var = T.dmatrix('inputs')\n",
    "prediction = get_output(net['encode_active'], deterministic=False )\n",
    "loss2 = objectives.squared_error(target_var, prediction)\n",
    "loss2 = objectives.aggregate(loss2, mode='mean')\n",
    "\n",
    "loss = loss1 + loss2\n",
    "\n",
    "#l1_penalty = regularization.regularize_network_params(net, regularization.l1) * 1e-5\n",
    "#loss += l1_penalty\n",
    "#l2_penalty = regularization.regularize_network_params(net, regularization.l2) * 1e-6    \n",
    "#loss += l2_penalty \n",
    "    \n",
    "# ADAM updates\n",
    "params = get_all_params(net['output'], trainable=True)\n",
    "update_op = updates.adam(loss, params, learning_rate=1e-3)\n",
    "\n",
    "train_fun = theano.function([input_var, target_var], loss , updates=update_op, allow_input_downcast=True)"
   ]
  },
  {
   "cell_type": "code",
   "execution_count": null,
   "metadata": {
    "collapsed": false
   },
   "outputs": [],
   "source": [
    "def batch_generator(X, y, batch_size=128):\n",
    "    for start_idx in range(0, len(X)-batch_size+1, batch_size):\n",
    "        excerpt = slice(start_idx, start_idx+batch_size)\n",
    "        yield X[excerpt], y[excerpt]\n",
    "\n",
    "batch_size = 100        \n",
    "num_samples = 20000\n",
    "num_files = 5        \n",
    "num_epochs = 60    \n",
    "num_batches = num_samples // batch_size\n",
    "for epoch in range(num_epochs):\n",
    "    sys.stdout.write(\"\\rEpoch %d \\n\"%(epoch+1))\n",
    "\n",
    "    train_loss = 0\n",
    "    for i in range(num_files):\n",
    "        sys.stdout.write(\"\\r  File %d \\n\"%(i+1))\n",
    "        landmark= np.array(trainmat['landmark'+str(i)]).astype(np.float32)\n",
    "        nonlandmark = np.array(trainmat['nonlandmark'+str(i)]).astype(np.float32)\n",
    "        batches = batch_generator(landmark, nonlandmark, batch_size)\n",
    "        \n",
    "        loss = 0\n",
    "        for j in range(num_batches):\n",
    "            X, y = next(batches)\n",
    "            loss += train_fun(X, y)\n",
    "        print(\"    training loss:\\t\\t{:.6f}\".format(loss/num_batches))    \n",
    "        train_loss += loss/num_batches              \n",
    "    train_loss /= num_files\n",
    "    print(\"  training loss:\\t\\t{:.6f}\".format(train_loss))"
   ]
  },
  {
   "cell_type": "markdown",
   "metadata": {},
   "source": [
    "# test"
   ]
  },
  {
   "cell_type": "code",
   "execution_count": 2,
   "metadata": {
    "collapsed": false
   },
   "outputs": [],
   "source": [
    "\n",
    "savepath='/home/peter/Data/CMAP/dataset_norm.hd5f'\n",
    "trainmat = h5py.File(savepath, 'r')\n",
    "mean_landmark = np.array(trainmat['mean_landmark']).astype(np.float32)\n",
    "std_landmark = np.array(trainmat['std_landmark']).astype(np.float32)\n",
    "mean_nonlandmark = np.array(trainmat['mean_nonlandmark']).astype(np.float32)\n",
    "std_nonlandmark = np.array(trainmat['std_nonlandmark']).astype(np.float32)"
   ]
  },
  {
   "cell_type": "code",
   "execution_count": 3,
   "metadata": {
    "collapsed": false
   },
   "outputs": [
    {
     "data": {
      "text/plain": [
       "(970, 1000)"
      ]
     },
     "execution_count": 3,
     "metadata": {},
     "output_type": "execute_result"
    }
   ],
   "source": [
    "landmarkpath='/home/peter/Data/CMAP/test/landmarks.csv'\n",
    "data = pd.read_csv(landmarkpath, header=None, dtype=np.float32)\n",
    "landmark = data.as_matrix()\n",
    "landmark.shape"
   ]
  },
  {
   "cell_type": "code",
   "execution_count": 4,
   "metadata": {
    "collapsed": false
   },
   "outputs": [
    {
     "data": {
      "text/plain": [
       "(11350, 1000)"
      ]
     },
     "execution_count": 4,
     "metadata": {},
     "output_type": "execute_result"
    }
   ],
   "source": [
    "nonlandmarkpath='/home/peter/Data/CMAP/test/truth.csv'\n",
    "data = pd.read_csv(nonlandmarkpath, header=None, dtype=np.float32)\n",
    "nonlandmark = data.as_matrix()\n",
    "nonlandmark.shape"
   ]
  },
  {
   "cell_type": "code",
   "execution_count": 5,
   "metadata": {
    "collapsed": false
   },
   "outputs": [],
   "source": [
    "\n",
    "def normalize_data(landmark, nonlandmark, mean_landmark, std_landmark, mean_nonlandmark, std_nonlandmark, num_samples):\n",
    "    landmark = (landmark - np.outer(mean_landmark,np.ones(num_samples)))/np.outer(std_landmark,np.ones(num_samples))\n",
    "    nonlandmark = (nonlandmark - np.outer(mean_nonlandmark,np.ones(num_samples)))/np.outer(std_nonlandmark,np.ones(num_samples))\n",
    "    landmark = landmark.transpose([1,0])\n",
    "    nonlandmark = nonlandmark.transpose([1,0])\n",
    "\n",
    "    return landmark, nonlandmark\n",
    "\n",
    "landmark, nonlandmark = normalize_data(landmark, nonlandmark, mean_landmark, std_landmark, mean_nonlandmark, std_nonlandmark, landmark.shape[1])\n",
    "    "
   ]
  },
  {
   "cell_type": "code",
   "execution_count": 6,
   "metadata": {
    "collapsed": false
   },
   "outputs": [],
   "source": [
    "\n",
    "sys.path.append('..')\n",
    "from src import NeuralNet\n",
    "\n",
    "# build model\n",
    "model_name = \"CMAP_model\"\n",
    "nnmodel = NeuralNet(model_name, shape=[], num_labels=[])"
   ]
  },
  {
   "cell_type": "code",
   "execution_count": 7,
   "metadata": {
    "collapsed": false
   },
   "outputs": [],
   "source": [
    "weightpath = '/home/peter/Data/CMAP/Results/LinearRegression_epoch_0.pickle'\n",
    "nnmodel.set_parameters_from_file(weightpath)"
   ]
  },
  {
   "cell_type": "code",
   "execution_count": 8,
   "metadata": {
    "collapsed": false
   },
   "outputs": [
    {
     "data": {
      "text/plain": [
       "{'dense1': <lasagne.layers.dense.DenseLayer at 0x7f06003f4d90>,\n",
       " 'dense1_active': <lasagne.layers.special.NonlinearityLayer at 0x7f06003f4d10>,\n",
       " 'input': <lasagne.layers.input.InputLayer at 0x7f06003f4c90>,\n",
       " 'output': None}"
      ]
     },
     "execution_count": 8,
     "metadata": {},
     "output_type": "execute_result"
    }
   ],
   "source": [
    "network = nnmodel.network\n",
    "network"
   ]
  },
  {
   "cell_type": "code",
   "execution_count": 12,
   "metadata": {
    "collapsed": false
   },
   "outputs": [],
   "source": [
    "input_var = nnmodel.input_var\n",
    "prediction = get_output(network['dense1_active'], deterministic=True)\n",
    "\n",
    "get_prediction = theano.function([input_var], prediction, allow_input_downcast=True)\n"
   ]
  },
  {
   "cell_type": "code",
   "execution_count": 32,
   "metadata": {
    "collapsed": false
   },
   "outputs": [],
   "source": [
    "prediction = get_prediction(landmark)"
   ]
  },
  {
   "cell_type": "code",
   "execution_count": 28,
   "metadata": {
    "collapsed": false
   },
   "outputs": [],
   "source": [
    "from scipy import stats"
   ]
  },
  {
   "cell_type": "code",
   "execution_count": 15,
   "metadata": {
    "collapsed": false
   },
   "outputs": [
    {
     "data": {
      "text/plain": [
       "0.66719473471025448"
      ]
     },
     "execution_count": 15,
     "metadata": {},
     "output_type": "execute_result"
    }
   ],
   "source": [
    "R = []\n",
    "for i in range(prediction.shape[1]):\n",
    "    R.append(stats.spearmanr(prediction[:,i], nonlandmark[:,i])[0])\n",
    "    \n",
    "np.mean(R)\n"
   ]
  },
  {
   "cell_type": "code",
   "execution_count": 16,
   "metadata": {
    "collapsed": false
   },
   "outputs": [
    {
     "data": {
      "image/png": "[encoded data removed]",
      "text/plain": [
       "<matplotlib.figure.Figure at 0x7f05ec0ddcd0>"
      ]
     },
     "metadata": {},
     "output_type": "display_data"
    }
   ],
   "source": [
    "plt.hist(R,bins=20);"
   ]
  },
  {
   "cell_type": "code",
   "execution_count": 33,
   "metadata": {
    "collapsed": false
   },
   "outputs": [
    {
     "data": {
      "text/plain": [
       "(1000, 11350)"
      ]
     },
     "execution_count": 33,
     "metadata": {},
     "output_type": "execute_result"
    }
   ],
   "source": [
    "prediction.shape"
   ]
  },
  {
   "cell_type": "code",
   "execution_count": 34,
   "metadata": {
    "collapsed": false
   },
   "outputs": [],
   "source": [
    "prediction = prediction.transpose([1,0])"
   ]
  },
  {
   "cell_type": "code",
   "execution_count": 35,
   "metadata": {
    "collapsed": false
   },
   "outputs": [],
   "source": [
    "num_samples = prediction.shape[1]\n",
    "prediction = (prediction*np.outer(std_nonlandmark,np.ones(num_samples))) + np.outer(mean_nonlandmark,np.ones(num_samples))\n"
   ]
  },
  {
   "cell_type": "code",
   "execution_count": 20,
   "metadata": {
    "collapsed": false
   },
   "outputs": [
    {
     "data": {
      "text/plain": [
       "(array([  3.70000000e+01,   9.30000000e+01,   4.21000000e+02,\n",
       "          4.11410000e+04,   1.09059360e+07,   3.95344000e+05,\n",
       "          6.43200000e+03,   5.04000000e+02,   8.20000000e+01,\n",
       "          1.00000000e+01]),\n",
       " array([-21.10741553, -16.49719339, -11.88697125,  -7.27674911,\n",
       "         -2.66652697,   1.94369517,   6.55391731,  11.16413945,\n",
       "         15.7743616 ,  20.38458374,  24.99480588]),\n",
       " <a list of 10 Patch objects>)"
      ]
     },
     "execution_count": 20,
     "metadata": {},
     "output_type": "execute_result"
    },
    {
     "data": {
      "image/png": "[encoded data removed]",
      "text/plain": [
       "<matplotlib.figure.Figure at 0x7f05e968f350>"
      ]
     },
     "metadata": {},
     "output_type": "display_data"
    }
   ],
   "source": [
    "plt.hist(nonlandmark.reshape([-1]))"
   ]
  },
  {
   "cell_type": "code",
   "execution_count": 36,
   "metadata": {
    "collapsed": false
   },
   "outputs": [
    {
     "data": {
      "text/plain": [
       "(11350, 1000)"
      ]
     },
     "execution_count": 36,
     "metadata": {},
     "output_type": "execute_result"
    }
   ],
   "source": [
    "prediction.shape"
   ]
  },
  {
   "cell_type": "code",
   "execution_count": 37,
   "metadata": {
    "collapsed": true
   },
   "outputs": [],
   "source": [
    "df2 = pd.DataFrame(prediction)"
   ]
  },
  {
   "cell_type": "code",
   "execution_count": 31,
   "metadata": {
    "collapsed": false
   },
   "outputs": [],
   "source": [
    "df2.to_csv('/home/peter/Data/CMAP/test/prediction_ols.csv', header=None, index=False)"
   ]
  },
  {
   "cell_type": "code",
   "execution_count": null,
   "metadata": {
    "collapsed": true
   },
   "outputs": [],
   "source": [
    "\"\"\"\n",
    "Rscript cmap_scoring_function.R --inf_ds prediction_ols.csv \\\n",
    "    --truth_ds truth.csv \\\n",
    "    --reference_scores refScores.csv \\\n",
    "    --out here"
   ]
  },
  {
   "cell_type": "code",
   "execution_count": null,
   "metadata": {
    "collapsed": false
   },
   "outputs": [],
   "source": [
    "path='/home/peter/Data/CMAP/test/prediction.csv'\n",
    "data = pd.read_csv(path, header=None, dtype=np.float32)\n",
    "test = data.as_matrix()\n",
    "test.shape"
   ]
  },
  {
   "cell_type": "code",
   "execution_count": null,
   "metadata": {
    "collapsed": false
   },
   "outputs": [],
   "source": [
    "test[:,0]"
   ]
  },
  {
   "cell_type": "code",
   "execution_count": 25,
   "metadata": {
    "collapsed": false
   },
   "outputs": [
    {
     "data": {
      "text/plain": [
       "(11350, 1000)"
      ]
     },
     "execution_count": 25,
     "metadata": {},
     "output_type": "execute_result"
    }
   ],
   "source": [
    "nonlandmarkpath='/home/peter/Data/CMAP/test/truth.csv'\n",
    "data = pd.read_csv(nonlandmarkpath, header=None, dtype=np.float32)\n",
    "truth = data.as_matrix()\n",
    "truth.shape"
   ]
  },
  {
   "cell_type": "code",
   "execution_count": 26,
   "metadata": {
    "collapsed": false
   },
   "outputs": [
    {
     "data": {
      "text/plain": [
       "0.69230810242910368"
      ]
     },
     "execution_count": 26,
     "metadata": {},
     "output_type": "execute_result"
    }
   ],
   "source": [
    "R = []\n",
    "for i in range(prediction.shape[1]):\n",
    "    R.append(stats.spearmanr(prediction[i,:], truth[i,:])[0])\n",
    "np.mean(R)"
   ]
  },
  {
   "cell_type": "code",
   "execution_count": null,
   "metadata": {
    "collapsed": true
   },
   "outputs": [],
   "source": []
  }
 ],
 "metadata": {
  "kernelspec": {
   "display_name": "Python 2",
   "language": "python",
   "name": "python2"
  },
  "language_info": {
   "codemirror_mode": {
    "name": "ipython",
    "version": 2
   },
   "file_extension": ".py",
   "mimetype": "text/x-python",
   "name": "python",
   "nbconvert_exporter": "python",
   "pygments_lexer": "ipython2",
   "version": "2.7.11"
  }
 },
 "nbformat": 4,
 "nbformat_minor": 0
}
