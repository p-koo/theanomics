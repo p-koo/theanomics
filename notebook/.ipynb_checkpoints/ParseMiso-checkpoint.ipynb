{
 "cells": [
  {
   "cell_type": "code",
   "execution_count": 120,
   "metadata": {
    "collapsed": true
   },
   "outputs": [],
   "source": [
    "import pandas as pd\n",
    "import numpy as np\n",
    "import re"
   ]
  },
  {
   "cell_type": "code",
   "execution_count": 23,
   "metadata": {
    "collapsed": false
   },
   "outputs": [
    {
     "data": {
      "text/html": [
       "<div>\n",
       "<table border=\"1\" class=\"dataframe\">\n",
       "  <thead>\n",
       "    <tr style=\"text-align: right;\">\n",
       "      <th></th>\n",
       "      <th>event_name</th>\n",
       "      <th>miso_posterior_mean</th>\n",
       "      <th>ci_low</th>\n",
       "      <th>ci_high</th>\n",
       "      <th>isoforms</th>\n",
       "      <th>counts</th>\n",
       "      <th>assigned_counts</th>\n",
       "      <th>chrom</th>\n",
       "      <th>strand</th>\n",
       "      <th>mRNA_starts</th>\n",
       "      <th>mRNA_ends</th>\n",
       "    </tr>\n",
       "  </thead>\n",
       "  <tbody>\n",
       "    <tr>\n",
       "      <th>0</th>\n",
       "      <td>chr3L:9118272:9118319:-@chr3L:9116716:9116900:...</td>\n",
       "      <td>0.10</td>\n",
       "      <td>0.06</td>\n",
       "      <td>0.14</td>\n",
       "      <td>'chr3L:9118272:9118319:-@chr3L:9116716:9116900...</td>\n",
       "      <td>(0,0):15570,(1,0):22,(1,1):552</td>\n",
       "      <td>0:94,1:480</td>\n",
       "      <td>chr3L</td>\n",
       "      <td>-</td>\n",
       "      <td>9106146,9106146</td>\n",
       "      <td>9118319,9118319</td>\n",
       "    </tr>\n",
       "    <tr>\n",
       "      <th>1</th>\n",
       "      <td>chr3L:6189716:6189811:+@chr3L:6190137:6190212:...</td>\n",
       "      <td>0.46</td>\n",
       "      <td>0.07</td>\n",
       "      <td>0.92</td>\n",
       "      <td>'chr3L:6189716:6189811:+@chr3L:6190137:6190212...</td>\n",
       "      <td>(0,0):56,(1,1):3</td>\n",
       "      <td>0:3</td>\n",
       "      <td>chr3L</td>\n",
       "      <td>+</td>\n",
       "      <td>6189716,6189716</td>\n",
       "      <td>6190657,6190657</td>\n",
       "    </tr>\n",
       "    <tr>\n",
       "      <th>2</th>\n",
       "      <td>chr3L:1635186:1635237:-@chr3L:1633709:1633806:...</td>\n",
       "      <td>0.08</td>\n",
       "      <td>0.06</td>\n",
       "      <td>0.10</td>\n",
       "      <td>'chr3L:1635186:1635237:-@chr3L:1633709:1633806...</td>\n",
       "      <td>(0,0):6678,(0,1):348,(1,0):97,(1,1):1873</td>\n",
       "      <td>0:249,1:2069</td>\n",
       "      <td>chr3L</td>\n",
       "      <td>-</td>\n",
       "      <td>1632193,1632193</td>\n",
       "      <td>1635237,1635237</td>\n",
       "    </tr>\n",
       "    <tr>\n",
       "      <th>3</th>\n",
       "      <td>chr3L:19686083:19686194:-@chr3L:19685365:19685...</td>\n",
       "      <td>0.59</td>\n",
       "      <td>0.31</td>\n",
       "      <td>0.91</td>\n",
       "      <td>'chr3L:19686083:19686194:-@chr3L:19685365:1968...</td>\n",
       "      <td>(0,0):258,(1,0):13,(1,1):41</td>\n",
       "      <td>0:28,1:26</td>\n",
       "      <td>chr3L</td>\n",
       "      <td>-</td>\n",
       "      <td>19684909,19684909</td>\n",
       "      <td>19686194,19686194</td>\n",
       "    </tr>\n",
       "    <tr>\n",
       "      <th>4</th>\n",
       "      <td>chr3L:4326984:4327170:-@chr3L:4326209:4326244:...</td>\n",
       "      <td>0.40</td>\n",
       "      <td>0.34</td>\n",
       "      <td>0.46</td>\n",
       "      <td>'chr3L:4326984:4327170:-@chr3L:4326209:4326244...</td>\n",
       "      <td>(0,0):2567,(0,1):91,(1,0):110,(1,1):1537</td>\n",
       "      <td>0:708,1:1030</td>\n",
       "      <td>chr3L</td>\n",
       "      <td>-</td>\n",
       "      <td>4325061,4325061</td>\n",
       "      <td>4327170,4327170</td>\n",
       "    </tr>\n",
       "  </tbody>\n",
       "</table>\n",
       "</div>"
      ],
      "text/plain": [
       "                                          event_name  miso_posterior_mean  \\\n",
       "0  chr3L:9118272:9118319:-@chr3L:9116716:9116900:...                 0.10   \n",
       "1  chr3L:6189716:6189811:+@chr3L:6190137:6190212:...                 0.46   \n",
       "2  chr3L:1635186:1635237:-@chr3L:1633709:1633806:...                 0.08   \n",
       "3  chr3L:19686083:19686194:-@chr3L:19685365:19685...                 0.59   \n",
       "4  chr3L:4326984:4327170:-@chr3L:4326209:4326244:...                 0.40   \n",
       "\n",
       "   ci_low  ci_high                                           isoforms  \\\n",
       "0    0.06     0.14  'chr3L:9118272:9118319:-@chr3L:9116716:9116900...   \n",
       "1    0.07     0.92  'chr3L:6189716:6189811:+@chr3L:6190137:6190212...   \n",
       "2    0.06     0.10  'chr3L:1635186:1635237:-@chr3L:1633709:1633806...   \n",
       "3    0.31     0.91  'chr3L:19686083:19686194:-@chr3L:19685365:1968...   \n",
       "4    0.34     0.46  'chr3L:4326984:4327170:-@chr3L:4326209:4326244...   \n",
       "\n",
       "                                     counts assigned_counts  chrom strand  \\\n",
       "0            (0,0):15570,(1,0):22,(1,1):552      0:94,1:480  chr3L      -   \n",
       "1                          (0,0):56,(1,1):3             0:3  chr3L      +   \n",
       "2  (0,0):6678,(0,1):348,(1,0):97,(1,1):1873    0:249,1:2069  chr3L      -   \n",
       "3               (0,0):258,(1,0):13,(1,1):41       0:28,1:26  chr3L      -   \n",
       "4  (0,0):2567,(0,1):91,(1,0):110,(1,1):1537    0:708,1:1030  chr3L      -   \n",
       "\n",
       "         mRNA_starts          mRNA_ends  \n",
       "0    9106146,9106146    9118319,9118319  \n",
       "1    6189716,6189716    6190657,6190657  \n",
       "2    1632193,1632193    1635237,1635237  \n",
       "3  19684909,19684909  19686194,19686194  \n",
       "4    4325061,4325061    4327170,4327170  "
      ]
     },
     "execution_count": 23,
     "metadata": {},
     "output_type": "execute_result"
    }
   ],
   "source": [
    "filename = 'H_L_M1_1.miso_summary'\n",
    "df = pd.read_table(filename)\n",
    "df.head()"
   ]
  },
  {
   "cell_type": "code",
   "execution_count": 140,
   "metadata": {
    "collapsed": false
   },
   "outputs": [],
   "source": [
    "def parse_entry(entry):\n",
    "    def get_exon_coord(name):\n",
    "        r = re.compile('[:@+-]+')\n",
    "        parse_name = r.split(name) \n",
    "        ss1 = int(parse_name[1])\n",
    "        ss2 = int(parse_name[2])\n",
    "        ss3 = int(parse_name[4])\n",
    "        ss4 = int(parse_name[5])\n",
    "        ss5 = int(parse_name[7])\n",
    "        ss6 = int(parse_name[8])\n",
    "        exon_coord = [ss1, ss2, ss3, ss4, ss5, ss6]\n",
    "        return exon_coord\n",
    "    \n",
    "    name = entry[0]\n",
    "    exon_coord = get_exon_coord(name)\n",
    "    psi = entry[1]\n",
    "    lb = entry[2]\n",
    "    ub = entry[3]\n",
    "    chrom = entry[7]\n",
    "    strand = entry[8]\n",
    "    return chrom, exon_coord, strand, [psi, lb, ub]\n",
    "    \n",
    "alt_exon = 100\n",
    "alt_intron = 200\n",
    "neighbor_exon = 100\n",
    "neighbor_intron = 200\n",
    "\n",
    "num_entries = df.shape[0]\n",
    "for i in range(df.shape[0]):\n",
    "    chrom, exon_coord, strand, vals = parse_entry(df.iloc[i])\n",
    "    \n",
    "    \n",
    "    "
   ]
  },
  {
   "cell_type": "code",
   "execution_count": 141,
   "metadata": {
    "collapsed": false
   },
   "outputs": [
    {
     "data": {
      "text/plain": [
       "'chr2L'"
      ]
     },
     "execution_count": 141,
     "metadata": {},
     "output_type": "execute_result"
    }
   ],
   "source": [
    "chrom"
   ]
  },
  {
   "cell_type": "code",
   "execution_count": null,
   "metadata": {
    "collapsed": true
   },
   "outputs": [],
   "source": []
  }
 ],
 "metadata": {
  "kernelspec": {
   "display_name": "Python 2",
   "language": "python",
   "name": "python2"
  },
  "language_info": {
   "codemirror_mode": {
    "name": "ipython",
    "version": 2
   },
   "file_extension": ".py",
   "mimetype": "text/x-python",
   "name": "python",
   "nbconvert_exporter": "python",
   "pygments_lexer": "ipython2",
   "version": "2.7.11"
  }
 },
 "nbformat": 4,
 "nbformat_minor": 0
}
