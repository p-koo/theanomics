{
 "cells": [
  {
   "cell_type": "code",
   "execution_count": 1,
   "metadata": {
    "collapsed": false
   },
   "outputs": [
    {
     "name": "stderr",
     "output_type": "stream",
     "text": [
      "Using gpu device 0: GeForce GTX 980 (CNMeM is disabled, cuDNN 4007)\n"
     ]
    }
   ],
   "source": [
    "import os, sys, gzip\n",
    "import cPickle as pickle\n",
    "sys.setrecursionlimit(10000)\n",
    "\n",
    "import numpy as np\n",
    "np.random.seed(1004)   # for reproducibility\n",
    "import matplotlib.pyplot as plt\n",
    "from matplotlib import cm\n",
    "import matplotlib as mpl\n",
    "%matplotlib inline\n",
    "from scipy.misc import imresize\n",
    "\n",
    "import pandas as pd\n",
    "import h5py\n",
    "from scipy import stats\n",
    "from lasagne import layers, nonlinearities, updates, objectives, init, regularization\n",
    "from lasagne.layers import get_output, get_output_shape, get_all_params\n",
    "import theano.tensor as T\n",
    "import theano\n",
    "\n",
    "from six.moves import cPickle\n",
    "\n",
    "from theano.tensor.shared_randomstreams import RandomStreams\n",
    "import lasagne as nn\n",
    "from lasagne import layers, init, nonlinearities, utils, regularization, objectives, updates\n",
    "from lasagne.layers.base import Layer"
   ]
  },
  {
   "cell_type": "code",
   "execution_count": 2,
   "metadata": {
    "collapsed": true
   },
   "outputs": [],
   "source": [
    "\n",
    "\n",
    "class BatchNormLayer(Layer):\n",
    "    def __init__(self, incoming, axes='auto', epsilon=1e-4, alpha=0.1,\n",
    "                 beta=init.Constant(0), gamma=init.Constant(1),\n",
    "                 mean=init.Constant(0), inv_std=init.Constant(1), **kwargs):\n",
    "        super(BatchNormLayer, self).__init__(incoming, **kwargs)\n",
    "\n",
    "        if axes == 'auto':\n",
    "            # default: normalize over all but the second axis\n",
    "            axes = (0,) + tuple(range(2, len(self.input_shape)))\n",
    "        elif isinstance(axes, int):\n",
    "            axes = (axes,)\n",
    "        self.axes = axes\n",
    "\n",
    "        self.epsilon = utils.floatX(epsilon)\n",
    "        self.alpha = utils.floatX(alpha)\n",
    "\n",
    "        # create parameters, ignoring all dimensions in axes\n",
    "        shape = [size for axis, size in enumerate(self.input_shape)\n",
    "                 if axis not in self.axes]\n",
    "        if any(size is None for size in shape):\n",
    "            raise ValueError(\"BatchNormLayer needs specified input sizes for \"\n",
    "                             \"all axes not normalized over.\")\n",
    "        if beta is None:\n",
    "            self.beta = None\n",
    "        else:\n",
    "            self.beta = self.add_param(beta, shape, 'beta',\n",
    "                                       trainable=True, regularizable=False)\n",
    "        if gamma is None:\n",
    "            self.gamma = None\n",
    "        else:\n",
    "            self.gamma = self.add_param(gamma, shape, 'gamma',\n",
    "                                        trainable=True, regularizable=False)\n",
    "        self.mean = self.add_param(mean, shape, 'mean',\n",
    "                                   trainable=False, regularizable=False)\n",
    "        self.inv_std = self.add_param(inv_std, shape, 'inv_std',\n",
    "                                      trainable=False, regularizable=False)\n",
    "\n",
    "        self.beta = T.cast(self.beta, dtype='floatX')\n",
    "        self.gamma = T.cast(self.gamma, dtype='floatX')\n",
    "        self.mean = T.cast(self.mean, dtype='floatX')\n",
    "        self.inv_std = T.cast(self.inv_std, dtype='floatX')\n",
    "\n",
    "    def get_output_for(self, input, deterministic=False,\n",
    "                       batch_norm_use_averages=None,\n",
    "                       batch_norm_update_averages=None, **kwargs):\n",
    "        input_mean = input.mean(self.axes)\n",
    "        input_inv_std = T.inv(T.sqrt(input.var(self.axes) + self.epsilon))\n",
    "\n",
    "        # Decide whether to use the stored averages or mini-batch statistics\n",
    "        if batch_norm_use_averages is None:\n",
    "            batch_norm_use_averages = deterministic\n",
    "        use_averages = batch_norm_use_averages\n",
    "\n",
    "        if use_averages:\n",
    "            mean = self.mean\n",
    "            inv_std = self.inv_std\n",
    "        else:\n",
    "            mean = input_mean\n",
    "            inv_std = input_inv_std\n",
    "\n",
    "        # Decide whether to update the stored averages\n",
    "        if batch_norm_update_averages is None:\n",
    "            batch_norm_update_averages = not deterministic\n",
    "        update_averages = batch_norm_update_averages\n",
    "\n",
    "        if update_averages:\n",
    "            # Trick: To update the stored statistics, we create memory-aliased\n",
    "            # clones of the stored statistics:\n",
    "            running_mean = theano.clone(self.mean, share_inputs=False)\n",
    "            running_inv_std = theano.clone(self.inv_std, share_inputs=False)\n",
    "            # set a default update for them:\n",
    "            running_mean.default_update = ((1 - self.alpha) * running_mean +\n",
    "                                           self.alpha * input_mean)\n",
    "            running_inv_std.default_update = ((1 - self.alpha) *\n",
    "                                              running_inv_std +\n",
    "                                              self.alpha * input_inv_std)\n",
    "            # and make sure they end up in the graph without participating in\n",
    "            # the computation (this way their default_update will be collected\n",
    "            # and applied, but the computation will be optimized away):\n",
    "            mean += 0 * running_mean\n",
    "            inv_std += 0 * running_inv_std\n",
    "\n",
    "        # prepare dimshuffle pattern inserting broadcastable axes as needed\n",
    "        param_axes = iter(range(input.ndim - len(self.axes)))\n",
    "        pattern = ['x' if input_axis in self.axes\n",
    "                   else next(param_axes)\n",
    "                   for input_axis in range(input.ndim)]\n",
    "\n",
    "        # apply dimshuffle pattern to all parameters\n",
    "        beta = 0 if self.beta is None else self.beta.dimshuffle(pattern)\n",
    "        gamma = 1 if self.gamma is None else self.gamma.dimshuffle(pattern)\n",
    "        mean = mean.dimshuffle(pattern)\n",
    "        inv_std = inv_std.dimshuffle(pattern)\n",
    "\n",
    "        # normalize\n",
    "        normalized = (input - mean) * (gamma * inv_std) + beta\n",
    "        return normalized\n",
    "\n",
    "class GaussianSampleLayer(layers.MergeLayer):\n",
    "    def __init__(self, incoming_mu, incoming_logsigma, **kwargs):\n",
    "        super(GaussianSampleLayer, self).__init__(incomings=[incoming_mu, incoming_logsigma], **kwargs)\n",
    "        self.srng = RandomStreams(seed=234)\n",
    "\n",
    "    def get_output_shape_for(self, input_shapes):\n",
    "        return input_shapes[0]\n",
    "\n",
    "    def get_output_for(self, inputs, deterministic=False, **kwargs):\n",
    "        mu, logsigma = inputs\n",
    "        shape=(self.input_shapes[0][0] or inputs[0].shape[0],\n",
    "                self.input_shapes[0][1] or inputs[0].shape[1])\n",
    "        if deterministic:\n",
    "            return mu\n",
    "        return mu + T.exp(logsigma) * self.srng.normal(shape, avg=0.0, std=1).astype(theano.config.floatX)\n",
    "\n",
    "\n",
    "def vae_model(input_var):\n",
    "    net = {}\n",
    "    net['input'] = layers.InputLayer(shape=(None, 970), input_var=input_var)\n",
    "\n",
    "    # encode layer 1\n",
    "    net['encode1'] = layers.DenseLayer(net['input'], num_units=3000, W=init.GlorotUniform(), \n",
    "                                      b=init.Constant(0.05), nonlinearity=None)\n",
    "    net['encode1_norm'] = BatchNormLayer(net['encode1'])\n",
    "    net['encode1_active'] = layers.NonlinearityLayer(net['encode1_norm'], nonlinearity=nonlinearities.rectify)\n",
    "    net['encode1_dropout'] = layers.DropoutLayer(net['encode1_active'],p=0.5)\n",
    "\n",
    "    # encode layer\n",
    "    net['Z_mu'] = layers.DenseLayer(net['encode1_dropout'], num_units=11350, W=init.GlorotUniform(), \n",
    "                                      b=init.Constant(0.05), nonlinearity=nonlinearities.linear)\n",
    "    \n",
    "    net['Z_logsigma'] = layers.DenseLayer(net['encode1_dropout'], num_units=11350, W=init.GlorotUniform(), \n",
    "                                      b=init.Constant(0.05), nonlinearity=nonlinearities.linear)\n",
    "    net['Z'] = GaussianSampleLayer(net['Z_mu'], net['Z_logsigma'])\n",
    "\n",
    "    # encode layer 1\n",
    "    net['decode1'] = layers.DenseLayer(net['Z'], num_units=3000, W=init.GlorotUniform(), \n",
    "                                      b=init.Constant(0.05), nonlinearity=None)\n",
    "    net['decode1_norm'] = BatchNormLayer(net['decode1'])\n",
    "    net['decode1_active'] = layers.NonlinearityLayer(net['decode1_norm'], nonlinearity=nonlinearities.rectify)\n",
    "    net['decode1_dropout'] = layers.DropoutLayer(net['decode1_active'],p=0.5)\n",
    "\n",
    "\n",
    "    # encode layer\n",
    "    net['X_mu'] = layers.DenseLayer(net['decode1_dropout'], num_units=970, W=init.GlorotUniform(), \n",
    "                                      b=init.Constant(0.05), nonlinearity=nonlinearities.linear)\n",
    "    net['X_logsigma'] = layers.DenseLayer(net['decode1_dropout'], num_units=970, W=init.GlorotUniform(), \n",
    "                                      b=init.Constant(0.05), nonlinearity=nonlinearities.linear)\n",
    "    net['X'] = GaussianSampleLayer(net['X_mu'], net['X_logsigma'])\n",
    "    return net"
   ]
  },
  {
   "cell_type": "code",
   "execution_count": 31,
   "metadata": {
    "collapsed": false
   },
   "outputs": [],
   "source": [
    "def model_prediction(best_path, landmark, mean_nonlandmark, std_nonlandmark):\n",
    "    class MultiplicativeGatingLayer(nn.layers.MergeLayer):\n",
    "        \"\"\"\n",
    "        Generic layer that combines its 3 inputs t, h1, h2 as follows:\n",
    "        y = t * h1 + (1 - t) * h2\n",
    "        \"\"\"\n",
    "        def __init__(self, gate, input1, input2, **kwargs):\n",
    "            incomings = [gate, input1, input2]\n",
    "            super(MultiplicativeGatingLayer, self).__init__(incomings, **kwargs)\n",
    "            assert gate.output_shape == input1.output_shape == input2.output_shape\n",
    "\n",
    "        def get_output_shape_for(self, input_shapes):\n",
    "            return input_shapes[0]\n",
    "\n",
    "        def get_output_for(self, inputs, **kwargs):\n",
    "            return inputs[0] * inputs[1] + (1 - inputs[0]) * inputs[2]\n",
    "    def mlp_model(input_var):\n",
    "        net = {}\n",
    "        net['input'] = layers.InputLayer(shape=(None, 970), input_var=input_var)\n",
    "\n",
    "        # encode layer 1\n",
    "        net['encode1'] = layers.DenseLayer(net['input'], num_units=1000, W=init.GlorotUniform(), \n",
    "                                          b=init.Constant(0.05), nonlinearity=None)\n",
    "        net['encode1_norm'] = BatchNormLayer(net['encode1'])\n",
    "        net['encode1_active'] = layers.NonlinearityLayer(net['encode1_norm'], nonlinearity=nonlinearities.rectify)\n",
    "        net['encode1_dropout'] = layers.DropoutLayer(net['encode1_active'],p=0.5)\n",
    "\n",
    "        # encode layer 2\n",
    "        net['encode2'] = layers.DenseLayer(net['encode1_dropout'], num_units=3000, W=init.GlorotUniform(), \n",
    "                                          b=init.Constant(0.05), nonlinearity=None)\n",
    "        net['encode2_norm'] = BatchNormLayer(net['encode2'])\n",
    "        net['encode2_active'] = layers.NonlinearityLayer(net['encode2_norm'], nonlinearity=nonlinearities.rectify)\n",
    "        net['encode2_dropout'] = layers.DropoutLayer(net['encode2_active'],p=0.5)\n",
    "\n",
    "        # encode layer\n",
    "        net['output'] = layers.DenseLayer(net['encode2_dropout'], num_units=11350, W=init.GlorotUniform(), \n",
    "                                          b=init.Constant(0.05), nonlinearity=nonlinearities.linear)\n",
    "        return net\n",
    "    def dae_model(input_var):\n",
    "        net = {}\n",
    "        net['input'] = layers.InputLayer(shape=(None, 970), input_var=input_var)\n",
    "\n",
    "        # encode layer 1\n",
    "        net['encode1'] = layers.DenseLayer(net['input'], num_units=1000, W=init.GlorotUniform(), \n",
    "                                          b=init.Constant(0.05), nonlinearity=None)\n",
    "        net['encode1_norm'] = BatchNormLayer(net['encode1'])\n",
    "        net['encode1_active'] = layers.NonlinearityLayer(net['encode1_norm'], nonlinearity=nonlinearities.rectify)\n",
    "        net['encode1_dropout'] = layers.DropoutLayer(net['encode1_active'],p=0.5)\n",
    "\n",
    "        # encode layer 2\n",
    "        net['encode2'] = layers.DenseLayer(net['encode1_dropout'], num_units=2000, W=init.GlorotUniform(), \n",
    "                                          b=init.Constant(0.05), nonlinearity=None)\n",
    "        net['encode2_norm'] = BatchNormLayer(net['encode2'])\n",
    "        net['encode2_active'] = layers.NonlinearityLayer(net['encode2_norm'], nonlinearity=nonlinearities.rectify)\n",
    "        net['encode2_dropout'] = layers.DropoutLayer(net['encode2_active'],p=0.5)\n",
    "\n",
    "        # encode layer 2\n",
    "        net['encode3'] = layers.DenseLayer(net['encode2_dropout'], num_units=3000, W=init.GlorotUniform(), \n",
    "                                          b=init.Constant(0.05), nonlinearity=None)\n",
    "        net['encode3_norm'] = BatchNormLayer(net['encode3'])\n",
    "        net['encode3_active'] = layers.NonlinearityLayer(net['encode3_norm'], nonlinearity=nonlinearities.rectify)\n",
    "        net['encode3_dropout'] = layers.DropoutLayer(net['encode3_active'],p=0.5)\n",
    "\n",
    "        # encode layer\n",
    "        net['encode'] = layers.DenseLayer(net['encode3_dropout'], num_units=11350, W=init.GlorotUniform(), \n",
    "                                          b=init.Constant(0.05), nonlinearity=None)\n",
    "        net['output'] = layers.NonlinearityLayer(net['encode'], nonlinearity=nonlinearities.linear)\n",
    "        return net\n",
    "\n",
    "    def highway_dense(incoming, Wh=init.Orthogonal(), bh=init.Constant(0.0),\n",
    "                      Wt=init.Orthogonal(), bt=init.Constant(-4.0),\n",
    "                      nonlinearity=nonlinearities.rectify, **kwargs):\n",
    "        num_inputs = int(np.prod(incoming.output_shape[1:]))\n",
    "        # regular layer\n",
    "        l_h = layers.DenseLayer(incoming, num_units=num_inputs, W=Wh, b=bh,\n",
    "                                   nonlinearity=nonlinearity)\n",
    "        # gate layer\n",
    "        l_t = layers.DenseLayer(incoming, num_units=num_inputs, W=Wt, b=bt,\n",
    "                                   nonlinearity=T.nnet.sigmoid)\n",
    "\n",
    "        return MultiplicativeGatingLayer(gate=l_t, input1=l_h, input2=incoming)\n",
    "\n",
    "    def build_model(input_var, batch_size=100,\n",
    "                    num_hidden_units=500, num_hidden_layers=50):\n",
    "\n",
    "        l_in = layers.InputLayer(shape=(batch_size, 970), input_var=input_var)\n",
    "\n",
    "        # first, project it down to the desired number of units per layer\n",
    "        l_hidden1 = layers.DenseLayer(l_in, num_units=num_hidden_units)\n",
    "\n",
    "        # then stack highway layers on top of this\n",
    "        l_current = l_hidden1\n",
    "        for k in range(num_hidden_layers - 1):\n",
    "            l_current = highway_dense(l_current)\n",
    "\n",
    "\n",
    "        l_hidden2 = layers.DenseLayer(l_current, num_units=2000)\n",
    "\n",
    "        # finally add an output layer\n",
    "        l_out = layers.DenseLayer( l_hidden2, num_units=11350, nonlinearity=nonlinearities.linear)\n",
    "\n",
    "        return l_out\n",
    "\n",
    "\n",
    "    # setup model\n",
    "    input_var = T.dmatrix('landmark')\n",
    "    #network = build_model(input_var, batch_size=100, num_hidden_units=500, num_hidden_layers=50)\n",
    "    #network = build_model(input_var)\n",
    "    network = build_model(input_var)\n",
    "    \n",
    "    f = open(best_path, 'rb')\n",
    "    best_parameters = cPickle.load(f)\n",
    "    f.close()\n",
    "    layers.set_all_param_values(network, best_parameters)\n",
    "\n",
    "\n",
    "    prediction = layers.get_output(network, deterministic=True)\n",
    "\n",
    "    get_prediction = theano.function([input_var], prediction, allow_input_downcast=True)\n",
    "    prediction = get_prediction(landmark)\n",
    "\n",
    "    prediction = prediction.transpose([1,0]).astype(np.float64)\n",
    "    num_samples = prediction.shape[1]\n",
    "    prediction = (prediction*std_nonlandmark) + mean_nonlandmark\n",
    "    return prediction"
   ]
  },
  {
   "cell_type": "code",
   "execution_count": 41,
   "metadata": {
    "collapsed": false
   },
   "outputs": [
    {
     "data": {
      "text/plain": [
       "1.3917357"
      ]
     },
     "execution_count": 41,
     "metadata": {},
     "output_type": "execute_result"
    }
   ],
   "source": [
    "np.mean(std_landmark)"
   ]
  },
  {
   "cell_type": "code",
   "execution_count": 42,
   "metadata": {
    "collapsed": false
   },
   "outputs": [
    {
     "data": {
      "text/plain": [
       "2.0873799"
      ]
     },
     "execution_count": 42,
     "metadata": {},
     "output_type": "execute_result"
    }
   ],
   "source": [
    "np.std(landmark)"
   ]
  },
  {
   "cell_type": "code",
   "execution_count": 45,
   "metadata": {
    "collapsed": false
   },
   "outputs": [
    {
     "name": "stdout",
     "output_type": "stream",
     "text": [
      "(970, 1000)\n"
     ]
    }
   ],
   "source": [
    "landmarkpath='/home/peter/Data/CMAP/test/landmarks.csv'\n",
    "data = pd.read_csv(landmarkpath, header=None, dtype=np.float32)\n",
    "landmark = data.as_matrix()\n",
    "\n",
    "nonlandmarkpath='/home/peter/Data/CMAP/test/truth.csv'\n",
    "data = pd.read_csv(nonlandmarkpath, header=None, dtype=np.float32)\n",
    "nonlandmark = data.as_matrix()\n",
    "\n",
    "def normalize_data(landmark, mean_landmark, std_landmark, num_samples):\n",
    "    landmark = (landmark - mean_landmark)/std_landmark\n",
    "    landmark = landmark.transpose([1,0])\n",
    "    return landmark\n",
    "print landmark.shape\n",
    "landmark = normalize_data(landmark, np.mean(landmark), np.std(landmark), landmark.shape[1])"
   ]
  },
  {
   "cell_type": "code",
   "execution_count": 46,
   "metadata": {
    "collapsed": false
   },
   "outputs": [],
   "source": [
    "best_path = '/home/peter/Data/CMAP/Results/highway_corr2epoch_1.pickle'\n",
    "prediction = model_prediction(best_path, landmark, np.mean(landmark), np.std(landmark))\n",
    "\n",
    "df2 = pd.DataFrame(prediction)\n",
    "df2.to_csv('/home/peter/Data/CMAP/test/prediction_ff.csv', header=None, index=False)"
   ]
  },
  {
   "cell_type": "code",
   "execution_count": 47,
   "metadata": {
    "collapsed": false
   },
   "outputs": [
    {
     "data": {
      "text/plain": [
       "0.72821376516067882"
      ]
     },
     "execution_count": 47,
     "metadata": {},
     "output_type": "execute_result"
    }
   ],
   "source": [
    "path='/home/peter/Data/CMAP/test/prediction_ff.csv'\n",
    "data = pd.read_csv(path, header=None, dtype=np.float32)\n",
    "test = data.as_matrix()\n",
    "test.shape\n",
    "\n",
    "nonlandmarkpath='/home/peter/Data/CMAP/test/truth.csv'\n",
    "data = pd.read_csv(nonlandmarkpath, header=None, dtype=np.float32)\n",
    "truth = data.as_matrix()\n",
    "truth.shape\n",
    "\n",
    "R = []\n",
    "for i in range(prediction.shape[1]):\n",
    "    R.append(stats.spearmanr(prediction[i,:], truth[i,:])[0])\n",
    "np.mean(R)"
   ]
  },
  {
   "cell_type": "code",
   "execution_count": 48,
   "metadata": {
    "collapsed": false
   },
   "outputs": [
    {
     "data": {
      "text/plain": [
       "(array([   1.,    1.,    1.,    3.,    3.,    8.,   14.,    8.,   11.,\n",
       "          14.,   18.,   16.,   14.,   19.,   19.,   18.,   17.,   30.,\n",
       "          20.,   43.,   32.,   49.,   62.,   95.,  112.,  126.,  103.,\n",
       "          86.,   41.,   16.]),\n",
       " array([ 0.12912826,  0.15654416,  0.18396006,  0.21137596,  0.23879186,\n",
       "         0.26620776,  0.29362366,  0.32103956,  0.34845546,  0.37587136,\n",
       "         0.40328726,  0.43070316,  0.45811906,  0.48553496,  0.51295086,\n",
       "         0.54036676,  0.56778266,  0.59519856,  0.62261446,  0.65003036,\n",
       "         0.67744626,  0.70486216,  0.73227806,  0.75969396,  0.78710986,\n",
       "         0.81452576,  0.84194166,  0.86935756,  0.89677346,  0.92418936,\n",
       "         0.95160526]),\n",
       " <a list of 30 Patch objects>)"
      ]
     },
     "execution_count": 48,
     "metadata": {},
     "output_type": "execute_result"
    },
    {
     "data": {
      "image/png": "[encoded data removed]",
      "text/plain": [
       "<matplotlib.figure.Figure at 0x7f498c4f1ed0>"
      ]
     },
     "metadata": {},
     "output_type": "display_data"
    }
   ],
   "source": [
    "plt.hist(R,bins=30)"
   ]
  },
  {
   "cell_type": "code",
   "execution_count": null,
   "metadata": {
    "collapsed": false
   },
   "outputs": [],
   "source": [
    "\"\"\"\n",
    "Rscript cmap_scoring_function.R --inf_ds prediction_ff.csv \\\n",
    "     --truth_ds truth.csv \\\n",
    "     --reference_scores refScores.csv \\\n",
    "     --out here\n",
    "\n",
    "\n",
    "java ConnectivityMap prediction_ff.csv truth.csv refScores.csv\n",
    "\n"
   ]
  },
  {
   "cell_type": "markdown",
   "metadata": {},
   "source": [
    "# submission"
   ]
  },
  {
   "cell_type": "code",
   "execution_count": 25,
   "metadata": {
    "collapsed": false
   },
   "outputs": [],
   "source": [
    "savepath='/home/peter/Data/CMAP/data_set_norm.hd5f'\n",
    "trainmat = h5py.File(savepath, 'r')\n",
    "mean_landmark = np.array(trainmat['mean_landmark']).astype(np.float32)\n",
    "std_landmark = np.array(trainmat['std_landmark']).astype(np.float32)\n",
    "mean_nonlandmark = np.array(trainmat['mean_nonlandmark']).astype(np.float32)\n",
    "std_nonlandmark = np.array(trainmat['std_nonlandmark']).astype(np.float32)\n",
    "\n",
    "landmarkpath='/home/peter/Data/CMAP/test/testData.csv'\n",
    "data = pd.read_csv(landmarkpath, header=None, dtype=np.float32)\n",
    "landmark = data.as_matrix()\n",
    "\n",
    "\n",
    "def normalize_data(landmark, mean_landmark, std_landmark, num_samples):\n",
    "    landmark = (landmark - mean_landmark)/std_landmark\n",
    "    landmark = landmark.transpose([1,0])\n",
    "    return landmark\n",
    "\n",
    "landmark = normalize_data(landmark, np.mean(landmark), np.std(landmark), landmark.shape[1])"
   ]
  },
  {
   "cell_type": "code",
   "execution_count": 127,
   "metadata": {
    "collapsed": false
   },
   "outputs": [],
   "source": [
    "\n",
    "best_path = '/home/peter/Data/CMAP/Results/highway_corr2epoch_3.pickle'\n",
    "prediction = model_prediction(best_path, landmark, np.mean(landmark), np.std(landmark))\n",
    "\n",
    "filename = 'submission.csv'\n",
    "df2 = pd.DataFrame(prediction)\n",
    "df2.to_csv('/home/peter/Data/CMAP/test/'+filename, header=None, index=False)\n"
   ]
  },
  {
   "cell_type": "code",
   "execution_count": null,
   "metadata": {
    "collapsed": false
   },
   "outputs": [],
   "source": [
    "prediction.shape\n"
   ]
  },
  {
   "cell_type": "code",
   "execution_count": null,
   "metadata": {
    "collapsed": true
   },
   "outputs": [],
   "source": []
  },
  {
   "cell_type": "code",
   "execution_count": null,
   "metadata": {
    "collapsed": true
   },
   "outputs": [],
   "source": []
  },
  {
   "cell_type": "code",
   "execution_count": null,
   "metadata": {
    "collapsed": true
   },
   "outputs": [],
   "source": []
  },
  {
   "cell_type": "code",
   "execution_count": null,
   "metadata": {
    "collapsed": true
   },
   "outputs": [],
   "source": []
  },
  {
   "cell_type": "code",
   "execution_count": null,
   "metadata": {
    "collapsed": true
   },
   "outputs": [],
   "source": []
  }
 ],
 "metadata": {
  "kernelspec": {
   "display_name": "Python 2",
   "language": "python",
   "name": "python2"
  },
  "language_info": {
   "codemirror_mode": {
    "name": "ipython",
    "version": 2
   },
   "file_extension": ".py",
   "mimetype": "text/x-python",
   "name": "python",
   "nbconvert_exporter": "python",
   "pygments_lexer": "ipython2",
   "version": "2.7.11"
  }
 },
 "nbformat": 4,
 "nbformat_minor": 0
}
