{
 "cells": [
  {
   "cell_type": "markdown",
   "metadata": {},
   "source": [
    "# Process RNAcompete dataset\n",
    "\n",
    "In this noteobok, the RNAcompete dataset by (Alipahani et. al 2015, i.e. DeepBind) is preprocessed for analysis.  The sequences are converted to one-hot matrices and the targets are corrected to get rid of nan entries and normalized, either by log-normalization or by maximum/minimum clipping."
   ]
  },
  {
   "cell_type": "code",
   "execution_count": 1,
   "metadata": {
    "collapsed": true
   },
   "outputs": [],
   "source": [
    "import os.path\n",
    "import pandas as pd\n",
    "import numpy as np\n",
    "import matplotlib.pyplot as plt\n",
    "%matplotlib inline\n",
    "import h5py"
   ]
  },
  {
   "cell_type": "code",
   "execution_count": 23,
   "metadata": {
    "collapsed": false
   },
   "outputs": [],
   "source": [
    "# load targets\n",
    "filepath = '/home/peter/Data/DeepBind/rnac/'\n",
    "df = pd.read_csv(os.path.join(filepath,'targets.tsv'), sep='\\t')\n",
    "targets = df.as_matrix()\n",
    "targets = np.array(targets).astype(float)\n",
    "num_data, num_labels = targets.shape"
   ]
  },
  {
   "cell_type": "code",
   "execution_count": 59,
   "metadata": {
    "collapsed": false
   },
   "outputs": [],
   "source": [
    "# replace nan values with mean\n",
    "mu = np.mean(targets, axis=0)\n",
    "for i in range(num_labels):\n",
    "    targets[np.isnan(targets[:,i]),i] = mu[i]\n",
    "    \n",
    "# transform data to have less variance\n",
    "#pos_targets = targets - np.outer(np.ones(num_data), np.min(targets,axis=0)) + 1\n",
    "#log_targets = np.log(pos_targets)\n",
    "#log_targets -= np.outer(np.ones(num_data), np.mean(log_targets,axis=0))\n",
    "\n",
    "# clip targets\n",
    "MAX = 15\n",
    "MIN = -5\n",
    "log_targets = targets\n",
    "log_targets[log_targets > MAX] = MAX\n",
    "log_targets[log_targets < MIN] = MIN"
   ]
  },
  {
   "cell_type": "code",
   "execution_count": 60,
   "metadata": {
    "collapsed": false
   },
   "outputs": [
    {
     "data": {
      "text/plain": [
       "10.0"
      ]
     },
     "execution_count": 60,
     "metadata": {},
     "output_type": "execute_result"
    },
    {
     "data": {
      "image/png": "[encoded data removed]",
      "text/plain": [
       "<matplotlib.figure.Figure at 0x7f6bd0d8e610>"
      ]
     },
     "metadata": {},
     "output_type": "display_data"
    }
   ],
   "source": [
    "# plot distribution of binding affinities\n",
    "x = np.reshape(log_targets,(-1,))\n",
    "plt.figure()\n",
    "plt.hist(x,bins=20);\n",
    "np.max(log_targets)"
   ]
  },
  {
   "cell_type": "code",
   "execution_count": 64,
   "metadata": {
    "collapsed": false
   },
   "outputs": [],
   "source": [
    "# load sequence data\n",
    "df = pd.read_csv(os.path.join(filepath,'sequences.tsv'), sep='\\t')\n",
    "data = df.as_matrix()\n",
    "foldid = data[:,0]\n",
    "name = data[:,1]\n",
    "sequence = data[:,2]\n",
    "max_length = df.seq.str.len().max()"
   ]
  },
  {
   "cell_type": "code",
   "execution_count": 68,
   "metadata": {
    "collapsed": false
   },
   "outputs": [],
   "source": [
    "# loop through each label and generate a sequence \n",
    "def convert_one_hot(sequence, max_length):\n",
    "    nucleotide = 'ACGU'\n",
    "    one_hot_seq = []\n",
    "    for seq in sequence:\n",
    "        seq_length = len(seq)        \n",
    "        one_hot = np.zeros((4,seq_length))\n",
    "        one_hot[0,np.where(seq == 'A')[0]] = 1\n",
    "        one_hot[1,np.where(seq == 'C')[0]] = 1\n",
    "        one_hot[2,np.where(seq == 'G')[0]] = 1\n",
    "        one_hot[3,np.where(seq == 'U')[0]] = 1\n",
    "        offset1 = ((max_length - seq_length)/2).astype(int)\n",
    "        offset2 = max_length - seq_length - offset1\n",
    "\n",
    "        if offset1:\n",
    "            one_hot = np.hstack([np.ones((4,offset1))/4, one_hot])\n",
    "        if offset2:\n",
    "            one_hot = np.hstack([one_hot, np.ones((4,offset2))/4])\n",
    "\n",
    "        one_hot_seq.append(one_hot)\n",
    "\n",
    "    # convert to numpy array\n",
    "    one_hot_seq = np.array(one_hot_seq)\n",
    "    return one_hot_seq\n",
    "\n",
    "\n",
    "one_hot_seq = convert_one_hot(sequence, max_length)"
   ]
  },
  {
   "cell_type": "code",
   "execution_count": 69,
   "metadata": {
    "collapsed": false
   },
   "outputs": [],
   "source": [
    "def split_dataset(seq, labels, split_size):\n",
    "    # generate a shuffled subset of data for train, validation, and test\n",
    "    num_seq = len(seq)\n",
    "    num_labels = len(np.unique(labels))\n",
    "    \n",
    "    cum_index = np.cumsum(np.multiply([0, split_size[0], split_size[1], split_size[2]],num_seq)).astype(int) \n",
    "    shuffle = np.random.permutation(num_seq)\n",
    "    \n",
    "    train_index = shuffle[range(cum_index[0], cum_index[1])]\n",
    "    valid_index = shuffle[range(cum_index[1], cum_index[2])]\n",
    "    test_index = shuffle[range(cum_index[2], cum_index[3])]\n",
    "\n",
    "    # create subsets of data based on indices \n",
    "    train = (seq[train_index], labels[train_index])\n",
    "    valid = (seq[valid_index], labels[valid_index])\n",
    "    test = (seq[test_index], labels[test_index])\n",
    "    \n",
    "    return train, valid, test\n",
    "    \n",
    "# split dataset into training cross validation and testing\n",
    "train_size = 0.7\n",
    "valid_size = 0.15\n",
    "test_size = 0.15\n",
    "split_size = [train_size, valid_size, test_size]\n",
    "train, valid, test = split_dataset(one_hot_seq, log_targets, split_size)"
   ]
  },
  {
   "cell_type": "code",
   "execution_count": 70,
   "metadata": {
    "collapsed": false
   },
   "outputs": [],
   "source": [
    "def save_dataset(savepath, train, valid, test):\n",
    "    f = h5py.File(savepath, \"w\")\n",
    "    dset = f.create_dataset(\"trainx\", data=train[0])\n",
    "    dset = f.create_dataset(\"trainy\", data=train[1])\n",
    "    dset = f.create_dataset(\"validx\", data=valid[0])\n",
    "    dset = f.create_dataset(\"validy\", data=valid[1])\n",
    "    dset = f.create_dataset(\"testx\", data=test[0])\n",
    "    dset = f.create_dataset(\"testy\", data=test[1])\n",
    "    f.close()\n",
    "\n",
    "savename = \"rnac.hdf5\"\n",
    "save_dataset(os.path.join(filepath,savename), train, valid, test)"
   ]
  },
  {
   "cell_type": "code",
   "execution_count": 71,
   "metadata": {
    "collapsed": false
   },
   "outputs": [
    {
     "data": {
      "text/plain": [
       "'/home/peter/Data/DeepBind/rnac/rnac.hdf5'"
      ]
     },
     "execution_count": 71,
     "metadata": {},
     "output_type": "execute_result"
    }
   ],
   "source": [
    "os.path.join(filepath,savename)"
   ]
  },
  {
   "cell_type": "code",
   "execution_count": null,
   "metadata": {
    "collapsed": true
   },
   "outputs": [],
   "source": []
  }
 ],
 "metadata": {
  "kernelspec": {
   "display_name": "Python 2",
   "language": "python",
   "name": "python2"
  },
  "language_info": {
   "codemirror_mode": {
    "name": "ipython",
    "version": 2
   },
   "file_extension": ".py",
   "mimetype": "text/x-python",
   "name": "python",
   "nbconvert_exporter": "python",
   "pygments_lexer": "ipython2",
   "version": "2.7.11"
  }
 },
 "nbformat": 4,
 "nbformat_minor": 0
}
