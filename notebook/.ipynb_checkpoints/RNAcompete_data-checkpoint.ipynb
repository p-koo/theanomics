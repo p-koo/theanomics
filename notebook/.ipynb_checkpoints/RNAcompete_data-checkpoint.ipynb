{
 "cells": [
  {
   "cell_type": "markdown",
   "metadata": {},
   "source": [
    "# Process RNAcompete dataset\n",
    "\n",
    "In this noteobok, the RNAcompete dataset by (Alipahani et. al 2015, i.e. DeepBind) is preprocessed for analysis.  The sequences are converted to one-hot matrices and the targets are corrected to get rid of nan entries and normalized, either by log-normalization or by maximum/minimum clipping."
   ]
  },
  {
   "cell_type": "code",
   "execution_count": 1,
   "metadata": {
    "collapsed": true
   },
   "outputs": [],
   "source": [
    "import os.path\n",
    "import pandas as pd\n",
    "import numpy as np\n",
    "import matplotlib.pyplot as plt\n",
    "%matplotlib inline\n",
    "import h5py"
   ]
  },
  {
   "cell_type": "code",
   "execution_count": 2,
   "metadata": {
    "collapsed": false
   },
   "outputs": [
    {
     "name": "stderr",
     "output_type": "stream",
     "text": [
      "/home/peter/anaconda2/lib/python2.7/site-packages/IPython/core/interactiveshell.py:2723: DtypeWarning: Columns (0,1,2,3,4,6,7,8,9,10,11,13,14,16,17,19,23,24,25,26,27,30,31,32,33,34,35,37,39,40,41,42,45,46,47,92,93,94,96,97,98,99,100,101,103,104,105,106,107,108,110,111,112,113,114,115,116,118,119,120,121,122,123,124,125,127,128,129,130,131,132,134,135,136,137,138,139,140,141,142,144,145,146,147,148,149,152,153,154,155,159,160,161,162,163,164,165,166,167,168,169,172,179,180,181,187,192,193,200,208,211,212,221,223,224,227,232,235,238,239,240) have mixed types. Specify dtype option on import or set low_memory=False.\n",
      "  interactivity=interactivity, compiler=compiler, result=result)\n"
     ]
    }
   ],
   "source": [
    "# load targets\n",
    "filepath = '/home/peter/Data/DeepBind/rnac/'\n",
    "df = pd.read_csv(os.path.join(filepath,'targets.tsv'), sep='\\t')\n",
    "targets = df.as_matrix()\n",
    "targets = np.array(targets).astype(float)\n",
    "num_data, num_labels = targets.shape"
   ]
  },
  {
   "cell_type": "code",
   "execution_count": 3,
   "metadata": {
    "collapsed": false
   },
   "outputs": [
    {
     "data": {
      "text/plain": [
       "array([ 1.122218,  1.272641, -1.089717, ...,  2.549737,  6.358077,\n",
       "        1.825678])"
      ]
     },
     "execution_count": 3,
     "metadata": {},
     "output_type": "execute_result"
    }
   ],
   "source": [
    "index = np.isnan(targets)\n",
    "index1, index2 = np.where(np.isnan(targets)==False)\n",
    "targets[index1,index2]"
   ]
  },
  {
   "cell_type": "code",
   "execution_count": 4,
   "metadata": {
    "collapsed": false
   },
   "outputs": [],
   "source": [
    "# replace nan values with mean\n",
    "mu = np.nanmean(targets, axis=0)\n",
    "for i in range(num_labels):\n",
    "    targets[np.isnan(targets[:,i]),i] = mu[i]\n",
    "\n",
    "norm = 'clip'\n",
    "\n",
    "if norm == 'log':\n",
    "    # transform data to have less variance\n",
    "    pos_targets = targets - np.outer(np.ones(num_data), np.nanmin(targets,axis=0)) + 1\n",
    "    log_targets = np.log(pos_targets)\n",
    "    log_targets -= np.outer(np.ones(num_data), np.nanmean(log_targets,axis=0))\n",
    "else:\n",
    "    # clip targets\n",
    "    MAX = 15\n",
    "    MIN = -5\n",
    "    log_targets = targets\n",
    "    log_targets[log_targets > MAX] = MAX\n",
    "    log_targets[log_targets < MIN] = MIN"
   ]
  },
  {
   "cell_type": "code",
   "execution_count": 33,
   "metadata": {
    "collapsed": false
   },
   "outputs": [
    {
     "data": {
      "text/plain": [
       "array([  1.38667900e+00,  -2.36797000e-01,  -3.11350000e-02,\n",
       "        -9.97679000e-01,  -7.95470000e-02,   4.73447000e-01,\n",
       "         6.29698100e+00,   7.87708500e+00,   1.38806880e+01,\n",
       "         1.01659250e+01,  -2.48327100e+00,   8.01099000e-01,\n",
       "         7.76992000e-01,  -1.30911600e+00,  -1.24247000e-01,\n",
       "        -8.35040000e-01,   8.56332000e-01,  -1.66578000e-01,\n",
       "        -1.89108000e-01,   4.44059000e-01,  -8.69645000e-01,\n",
       "         9.63695000e-01,  -1.10783100e+00,   7.04100000e-01,\n",
       "         3.37763300e+00,   7.86126000e-01,   8.43113000e-01,\n",
       "         4.12906000e-01,  -1.46212800e+00,  -3.73984000e-01,\n",
       "         1.16011000e-01,   3.12565000e-01,  -1.38428900e+00,\n",
       "         1.73784900e+00,  -1.03130000e-02,  -4.12954000e-01,\n",
       "        -7.21267000e-01,   2.43428800e+00,  -5.36923000e-01,\n",
       "         1.92844000e+00,   1.34579200e+00,   1.48746200e+00,\n",
       "         8.67493000e-01,   2.18673740e-01,  -2.05924000e-01,\n",
       "        -8.41179000e-01,   1.66276400e+00,  -1.64914500e+00,\n",
       "         1.42479700e+00,  -1.11283400e+00,  -3.38374000e-01,\n",
       "         4.15113000e-01,   9.91389000e-01,  -1.17418500e+00,\n",
       "         5.39442000e-01,  -7.47681000e-01,   1.61177700e+00,\n",
       "         4.11712100e+00,  -3.90543000e-01,  -1.52592000e-01,\n",
       "         2.01731355e-01,   8.43740700e+00,   3.25125600e+00,\n",
       "         2.62786000e+00,   3.60296000e-01,   5.68327000e-01,\n",
       "        -7.75449000e-01,  -7.28212000e-01,  -5.96592000e-01,\n",
       "         1.34702600e+00,   6.79134000e-01,   4.59320000e-01,\n",
       "         8.15354000e-01,   7.96800000e-01,   7.89310000e-02,\n",
       "        -8.43360000e-02,  -1.93355000e-01,  -2.30800000e-01,\n",
       "        -8.73330000e-02,   1.86696000e-01,   2.96823000e-01,\n",
       "         7.20300000e-03,  -5.17050000e-02,   1.03306200e+00,\n",
       "         4.49350000e-02,   5.94731000e-01,  -6.25553000e-01,\n",
       "         5.75779000e-01,   4.67285000e-01,  -1.33686000e-01,\n",
       "        -8.72166000e-01,   1.37788400e+00,  -8.73314000e-01,\n",
       "         1.65670400e+00,   8.01682600e+00,  -4.90199000e-01,\n",
       "        -1.31449000e-01,  -3.71216000e-01,   1.45458000e-01,\n",
       "         1.40007200e+00,  -2.97825000e-01,   9.03080000e-02,\n",
       "         9.35882000e-01,   5.24441000e-01,  -6.14261000e-01,\n",
       "         8.11870000e-02,  -9.86509000e-01,   9.92304000e-01,\n",
       "        -3.54648000e-01,   3.36210000e-01,   5.25180000e-02,\n",
       "         2.75478000e-01,   1.78951100e+00,   3.32214500e+00,\n",
       "        -2.60999000e-01,   4.81870000e-01,  -8.80984000e-01,\n",
       "         4.55011000e-01,   2.02583000e+00,  -6.79959000e-01,\n",
       "        -2.65511000e-01,  -1.57217100e+00,  -2.07838000e-01,\n",
       "        -1.14403200e+00,   3.82859100e+00,  -5.71064000e-01,\n",
       "         2.49006200e+00,   3.07452800e+00,  -8.47385000e-01,\n",
       "        -4.92347000e-01,  -7.83344000e-01,   5.20017000e-01,\n",
       "        -7.13643000e-01,   3.96553000e-01,  -4.31230000e-02,\n",
       "         1.21871700e+00,  -6.63733000e-01,   1.50000000e+01,\n",
       "         2.31608000e-01,  -7.56608000e-01,  -2.63046000e-01,\n",
       "         3.51555000e-01,   2.42929500e+00,  -6.50793000e-01,\n",
       "         9.04374000e-01,  -1.72447000e-01,  -2.84028000e-01,\n",
       "        -3.14285000e-01,  -1.01072900e+00,  -1.01038800e+00,\n",
       "        -4.58888000e-01,   5.66230000e-01,   2.21253200e+00,\n",
       "         1.14555700e+00,  -1.74258200e+00,   3.76349400e+00,\n",
       "        -7.35023000e-01,   2.34629000e-01,  -3.03540000e-01,\n",
       "        -6.90010000e-01,   2.15857000e-01,  -5.78328000e-01,\n",
       "         1.28507700e+00,   1.22848000e-01,   7.48029000e-01,\n",
       "        -1.30427000e-01,   3.54105700e+00,   9.00921000e-01,\n",
       "        -4.50953000e-01,   9.04482000e-01,   2.75716200e+00,\n",
       "        -2.27611000e-01,  -4.34304000e-01,   2.81320000e-02,\n",
       "         1.26259000e+00,   2.06670000e-02,   3.18071300e+00,\n",
       "         4.90303000e-01,   1.09336600e+00,   7.90782000e-01,\n",
       "         7.97645000e-01,  -1.40941000e-01,  -1.51496000e-01,\n",
       "        -8.90276000e-01,   4.32172400e+00,  -2.47398000e-01,\n",
       "         4.38379000e-01,  -7.39988000e-01,  -7.68030000e-02,\n",
       "         1.77612100e+00,  -3.60296000e-01,   3.26376500e+00,\n",
       "         4.93360000e-02,  -2.56839000e-01,  -5.33949000e-01,\n",
       "        -2.07406000e-01,   4.82928200e+00,   7.13221000e-01,\n",
       "        -6.67675000e-01,   1.61762522e-01,   8.24347500e+00,\n",
       "        -1.10972400e+00,   8.68650000e-02,  -4.06207000e-01,\n",
       "         2.47854100e+00,   3.03620000e-01,  -6.51697000e-01,\n",
       "        -4.36435000e-01,   1.04766630e+01,   4.61040000e-01,\n",
       "        -1.03643000e-01,  -6.13600000e-03,   1.50000000e+01,\n",
       "         1.57310000e-01,   5.00080000e-02,   6.38543300e+00,\n",
       "         1.10279900e+00,   1.94328600e+00,   1.14930300e+00,\n",
       "         3.79546300e+00,  -1.05637600e+00,   3.83329000e+00,\n",
       "        -1.56808000e-01,   3.31837900e+00,  -9.15500000e-03,\n",
       "        -1.21188300e+00,   3.62822000e-01,   9.77641000e-01,\n",
       "         1.17320100e+00,   3.31368000e-01,  -4.70250000e-02,\n",
       "         2.77024000e-01,   6.80004300e+00,   1.19876600e+00,\n",
       "         2.56793198e-01,   1.12175400e+00,   1.00948400e+00,\n",
       "         4.50070000e-01,  -1.10699900e+00,   1.61740700e+00,\n",
       "         2.72935000e-01,   6.21780000e-01,   6.43033000e-01,\n",
       "         1.78686693e-02])"
      ]
     },
     "execution_count": 33,
     "metadata": {},
     "output_type": "execute_result"
    }
   ],
   "source": [
    "log_targets[3]"
   ]
  },
  {
   "cell_type": "code",
   "execution_count": 5,
   "metadata": {
    "collapsed": false
   },
   "outputs": [
    {
     "data": {
      "image/png": "[encoded data removed]",
      "text/plain": [
       "<matplotlib.figure.Figure at 0x7ffa8b885f50>"
      ]
     },
     "metadata": {},
     "output_type": "display_data"
    }
   ],
   "source": [
    "# plot distribution of binding affinities\n",
    "index1, index2 = np.where(np.isnan(log_targets) == False)\n",
    "x = np.reshape(log_targets[index1,index2],(-1,))\n",
    "plt.figure()\n",
    "plt.hist(x,bins=20);"
   ]
  },
  {
   "cell_type": "code",
   "execution_count": 6,
   "metadata": {
    "collapsed": false
   },
   "outputs": [
    {
     "data": {
      "text/plain": [
       "'\\nnum_data = log_targets.shape[0]\\nnum_labels = log_targets.shape[1]\\n\\nmu = np.nanmean(log_targets, axis=0)\\nMU = np.outer(np.ones(num_data),mu)\\ndelta = log_targets-MU\\nC = np.zeros((num_labels,num_labels))\\nfor i in range(num_labels):\\n    index1 = np.where(np.isnan(delta[:,i])==False)[0]\\n    for j in range(num_labels):\\n        index2 = np.where(np.isnan(delta[index1,j])==False)[0]\\n        index = index1[index2]\\n        C[i,j] = np.dot(delta[index,i],delta[index,j])/len(index)\\nC\\n'"
      ]
     },
     "execution_count": 6,
     "metadata": {},
     "output_type": "execute_result"
    }
   ],
   "source": [
    "\"\"\"\n",
    "num_data = log_targets.shape[0]\n",
    "num_labels = log_targets.shape[1]\n",
    "\n",
    "mu = np.nanmean(log_targets, axis=0)\n",
    "MU = np.outer(np.ones(num_data),mu)\n",
    "delta = log_targets-MU\n",
    "C = np.zeros((num_labels,num_labels))\n",
    "for i in range(num_labels):\n",
    "    index1 = np.where(np.isnan(delta[:,i])==False)[0]\n",
    "    for j in range(num_labels):\n",
    "        index2 = np.where(np.isnan(delta[index1,j])==False)[0]\n",
    "        index = index1[index2]\n",
    "        C[i,j] = np.dot(delta[index,i],delta[index,j])/len(index)\n",
    "C\n",
    "\"\"\""
   ]
  },
  {
   "cell_type": "code",
   "execution_count": null,
   "metadata": {
    "collapsed": false
   },
   "outputs": [],
   "source": [
    "from six.moves import cPickle\n",
    "# calculate cholesky decomposition of covariance matrix and save\n",
    "L = np.linalg.cholesky(C)\n",
    "Linv = np.linalg.inv(L)\n",
    "f = open('/home/peter/Code/Deepomics/examples/Linv_nan.pickle','wb')\n",
    "cPickle.dump(Linv, f)\n",
    "cPickle.dump(C, f)\n",
    "f.close()"
   ]
  },
  {
   "cell_type": "code",
   "execution_count": null,
   "metadata": {
    "collapsed": false
   },
   "outputs": [],
   "source": [
    "C = np.cov(log_targets.T)\n",
    "plt.imshow(C)\n",
    "plt.colorbar()"
   ]
  },
  {
   "cell_type": "code",
   "execution_count": 18,
   "metadata": {
    "collapsed": false
   },
   "outputs": [],
   "source": [
    "# load sequence data\n",
    "df = pd.read_csv(os.path.join(filepath,'sequences.tsv'), sep='\\t')\n",
    "data = df.as_matrix()\n",
    "foldid = data[:,0]\n",
    "name = data[:,1]\n",
    "sequence = data[:,2]\n",
    "max_length = df.seq.str.len().max()"
   ]
  },
  {
   "cell_type": "code",
   "execution_count": 27,
   "metadata": {
    "collapsed": false
   },
   "outputs": [
    {
     "data": {
      "text/plain": [
       "'AGAGGUCGAGUAUUAGUGAUAUUAGAGUGAGGUCCAUC'"
      ]
     },
     "execution_count": 27,
     "metadata": {},
     "output_type": "execute_result"
    }
   ],
   "source": [
    "sequence[1]"
   ]
  },
  {
   "cell_type": "code",
   "execution_count": 8,
   "metadata": {
    "collapsed": false
   },
   "outputs": [],
   "source": [
    "# loop through each label and generate a sequence \n",
    "def convert_one_hot(sequence, max_length):\n",
    "    nucleotide = 'ACGU'\n",
    "    one_hot_seq = []\n",
    "    for seq in sequence:\n",
    "        seq_length = len(seq)        \n",
    "        one_hot = np.zeros((4,seq_length))\n",
    "        index = [j for j in xrange(seq_length) if seq[j] == 'A']\n",
    "        one_hot[0,index] = 1\n",
    "        index = [j for j in xrange(seq_length) if seq[j] == 'C']\n",
    "        one_hot[1,index] = 1\n",
    "        index = [j for j in xrange(seq_length) if seq[j] == 'G']\n",
    "        one_hot[2,index] = 1\n",
    "        index = [j for j in xrange(seq_length) if seq[j] == 'U']\n",
    "        one_hot[3,index] = 1\n",
    "        offset1 = ((max_length - seq_length)/2).astype(int)\n",
    "        offset2 = max_length - seq_length - offset1\n",
    "\n",
    "        if offset1:\n",
    "            one_hot = np.hstack([np.ones((4,offset1))/4, one_hot])\n",
    "        if offset2:\n",
    "            one_hot = np.hstack([one_hot, np.ones((4,offset2))/4])\n",
    "\n",
    "        one_hot_seq.append(one_hot)\n",
    "\n",
    "    # convert to numpy array\n",
    "    one_hot_seq = np.array(one_hot_seq)\n",
    "    return one_hot_seq\n",
    "\n",
    "\n",
    "one_hot_seq = convert_one_hot(sequence, max_length)"
   ]
  },
  {
   "cell_type": "code",
   "execution_count": 30,
   "metadata": {
    "collapsed": false
   },
   "outputs": [
    {
     "data": {
      "text/plain": [
       "array([[ 0.25,  0.25,  0.25,  0.25],\n",
       "       [ 1.  ,  0.  ,  0.  ,  0.  ],\n",
       "       [ 0.  ,  0.  ,  1.  ,  0.  ],\n",
       "       [ 1.  ,  0.  ,  0.  ,  0.  ],\n",
       "       [ 0.  ,  0.  ,  1.  ,  0.  ],\n",
       "       [ 1.  ,  0.  ,  0.  ,  0.  ],\n",
       "       [ 0.  ,  0.  ,  0.  ,  1.  ],\n",
       "       [ 0.  ,  0.  ,  1.  ,  0.  ],\n",
       "       [ 1.  ,  0.  ,  0.  ,  0.  ],\n",
       "       [ 0.  ,  1.  ,  0.  ,  0.  ],\n",
       "       [ 0.  ,  0.  ,  0.  ,  1.  ],\n",
       "       [ 1.  ,  0.  ,  0.  ,  0.  ],\n",
       "       [ 0.  ,  0.  ,  0.  ,  1.  ],\n",
       "       [ 0.  ,  0.  ,  1.  ,  0.  ],\n",
       "       [ 0.  ,  1.  ,  0.  ,  0.  ],\n",
       "       [ 1.  ,  0.  ,  0.  ,  0.  ],\n",
       "       [ 0.  ,  0.  ,  0.  ,  1.  ],\n",
       "       [ 0.  ,  0.  ,  1.  ,  0.  ],\n",
       "       [ 0.  ,  1.  ,  0.  ,  0.  ],\n",
       "       [ 0.  ,  0.  ,  1.  ,  0.  ],\n",
       "       [ 1.  ,  0.  ,  0.  ,  0.  ],\n",
       "       [ 0.  ,  0.  ,  0.  ,  1.  ],\n",
       "       [ 0.  ,  0.  ,  1.  ,  0.  ],\n",
       "       [ 0.  ,  1.  ,  0.  ,  0.  ],\n",
       "       [ 0.  ,  0.  ,  0.  ,  1.  ],\n",
       "       [ 1.  ,  0.  ,  0.  ,  0.  ],\n",
       "       [ 0.  ,  1.  ,  0.  ,  0.  ],\n",
       "       [ 0.  ,  0.  ,  1.  ,  0.  ],\n",
       "       [ 0.  ,  1.  ,  0.  ,  0.  ],\n",
       "       [ 0.  ,  0.  ,  0.  ,  1.  ],\n",
       "       [ 0.  ,  0.  ,  1.  ,  0.  ],\n",
       "       [ 1.  ,  0.  ,  0.  ,  0.  ],\n",
       "       [ 0.  ,  0.  ,  0.  ,  1.  ],\n",
       "       [ 0.  ,  1.  ,  0.  ,  0.  ],\n",
       "       [ 0.  ,  1.  ,  0.  ,  0.  ],\n",
       "       [ 0.  ,  1.  ,  0.  ,  0.  ],\n",
       "       [ 0.  ,  0.  ,  0.  ,  1.  ],\n",
       "       [ 0.  ,  0.  ,  1.  ,  0.  ],\n",
       "       [ 0.  ,  0.  ,  1.  ,  0.  ],\n",
       "       [ 0.25,  0.25,  0.25,  0.25],\n",
       "       [ 0.25,  0.25,  0.25,  0.25]])"
      ]
     },
     "execution_count": 30,
     "metadata": {},
     "output_type": "execute_result"
    }
   ],
   "source": [
    "one_hot_seq[2].T"
   ]
  },
  {
   "cell_type": "code",
   "execution_count": 10,
   "metadata": {
    "collapsed": false
   },
   "outputs": [],
   "source": [
    "def split_dataset(seq, labels, split_size):\n",
    "    # generate a shuffled subset of data for train, validation, and test\n",
    "    num_seq = len(seq)\n",
    "    num_labels = len(np.unique(labels))\n",
    "    \n",
    "    cum_index = np.cumsum(np.multiply([0, split_size[0], split_size[1], split_size[2]],num_seq)).astype(int) \n",
    "    shuffle = np.random.permutation(num_seq)\n",
    "    \n",
    "    train_index = shuffle[range(cum_index[0], cum_index[1])]\n",
    "    valid_index = shuffle[range(cum_index[1], cum_index[2])]\n",
    "    test_index = shuffle[range(cum_index[2], cum_index[3])]\n",
    "\n",
    "    # create subsets of data based on indices \n",
    "    train = (seq[train_index], labels[train_index])\n",
    "    valid = (seq[valid_index], labels[valid_index])\n",
    "    test = (seq[test_index], labels[test_index])\n",
    "    \n",
    "    return train, valid, test\n",
    "    \n",
    "# split dataset into training cross validation and testing\n",
    "train_size = 0.7\n",
    "valid_size = 0.15\n",
    "test_size = 0.15\n",
    "split_size = [train_size, valid_size, test_size]\n",
    "train, valid, test = split_dataset(one_hot_seq, log_targets, split_size)"
   ]
  },
  {
   "cell_type": "code",
   "execution_count": 11,
   "metadata": {
    "collapsed": false
   },
   "outputs": [],
   "source": [
    "def save_dataset(savepath, train, valid, test):\n",
    "    f = h5py.File(savepath, \"w\")\n",
    "    dset = f.create_dataset(\"trainx\", data=train[0])\n",
    "    dset = f.create_dataset(\"trainy\", data=train[1])\n",
    "    dset = f.create_dataset(\"validx\", data=valid[0])\n",
    "    dset = f.create_dataset(\"validy\", data=valid[1])\n",
    "    dset = f.create_dataset(\"testx\", data=test[0])\n",
    "    dset = f.create_dataset(\"testy\", data=test[1])\n",
    "    f.close()\n",
    "\n",
    "savename = \"rnac.hdf5\"\n",
    "save_dataset(os.path.join(filepath,savename), train, valid, test)"
   ]
  },
  {
   "cell_type": "code",
   "execution_count": 13,
   "metadata": {
    "collapsed": false
   },
   "outputs": [
    {
     "data": {
      "text/plain": [
       "array([[[ 0.25,  1.  ,  0.  , ...,  0.  ,  0.25,  0.25],\n",
       "        [ 0.25,  0.  ,  0.  , ...,  0.  ,  0.25,  0.25],\n",
       "        [ 0.25,  0.  ,  1.  , ...,  1.  ,  0.25,  0.25],\n",
       "        [ 0.25,  0.  ,  0.  , ...,  0.  ,  0.25,  0.25]],\n",
       "\n",
       "       [[ 0.25,  1.  ,  0.  , ...,  0.  ,  0.25,  0.25],\n",
       "        [ 0.25,  0.  ,  0.  , ...,  0.  ,  0.25,  0.25],\n",
       "        [ 0.25,  0.  ,  1.  , ...,  0.  ,  0.25,  0.25],\n",
       "        [ 0.25,  0.  ,  0.  , ...,  1.  ,  0.25,  0.25]],\n",
       "\n",
       "       [[ 0.25,  1.  ,  0.  , ...,  1.  ,  0.25,  0.25],\n",
       "        [ 0.25,  0.  ,  0.  , ...,  0.  ,  0.25,  0.25],\n",
       "        [ 0.25,  0.  ,  1.  , ...,  0.  ,  0.25,  0.25],\n",
       "        [ 0.25,  0.  ,  0.  , ...,  0.  ,  0.25,  0.25]],\n",
       "\n",
       "       ..., \n",
       "       [[ 0.25,  1.  ,  0.  , ...,  0.  ,  0.25,  0.25],\n",
       "        [ 0.25,  0.  ,  0.  , ...,  1.  ,  0.25,  0.25],\n",
       "        [ 0.25,  0.  ,  1.  , ...,  0.  ,  0.25,  0.25],\n",
       "        [ 0.25,  0.  ,  0.  , ...,  0.  ,  0.25,  0.25]],\n",
       "\n",
       "       [[ 0.25,  0.25,  0.25, ...,  0.25,  0.25,  0.25],\n",
       "        [ 0.25,  0.25,  0.25, ...,  0.25,  0.25,  0.25],\n",
       "        [ 0.25,  0.25,  0.25, ...,  0.25,  0.25,  0.25],\n",
       "        [ 0.25,  0.25,  0.25, ...,  0.25,  0.25,  0.25]],\n",
       "\n",
       "       [[ 0.25,  1.  ,  0.  , ...,  0.  ,  0.25,  0.25],\n",
       "        [ 0.25,  0.  ,  0.  , ...,  1.  ,  0.25,  0.25],\n",
       "        [ 0.25,  0.  ,  1.  , ...,  0.  ,  0.25,  0.25],\n",
       "        [ 0.25,  0.  ,  0.  , ...,  0.  ,  0.25,  0.25]]])"
      ]
     },
     "execution_count": 13,
     "metadata": {},
     "output_type": "execute_result"
    }
   ],
   "source": [
    "train[0]"
   ]
  },
  {
   "cell_type": "code",
   "execution_count": 34,
   "metadata": {
    "collapsed": false
   },
   "outputs": [
    {
     "data": {
      "text/plain": [
       "'/home/peter/Data/DeepBind/rnac/rnac.hdf5'"
      ]
     },
     "execution_count": 34,
     "metadata": {},
     "output_type": "execute_result"
    }
   ],
   "source": [
    "os.path.join(filepath,savename)"
   ]
  },
  {
   "cell_type": "code",
   "execution_count": null,
   "metadata": {
    "collapsed": true
   },
   "outputs": [],
   "source": []
  }
 ],
 "metadata": {
  "kernelspec": {
   "display_name": "Python 2",
   "language": "python",
   "name": "python2"
  },
  "language_info": {
   "codemirror_mode": {
    "name": "ipython",
    "version": 2
   },
   "file_extension": ".py",
   "mimetype": "text/x-python",
   "name": "python",
   "nbconvert_exporter": "python",
   "pygments_lexer": "ipython2",
   "version": "2.7.11"
  }
 },
 "nbformat": 4,
 "nbformat_minor": 0
}
