{
 "cells": [
  {
   "cell_type": "markdown",
   "metadata": {},
   "source": [
    "# Process RNAcompete dataset\n",
    "\n",
    "In this noteobok, the RNAcompete dataset by (Alipahani et. al 2015, i.e. DeepBind) is preprocessed for analysis.  The sequences are converted to one-hot matrices and the targets are corrected to get rid of nan entries and normalized, either by log-normalization or by maximum/minimum clipping."
   ]
  },
  {
   "cell_type": "code",
   "execution_count": 1,
   "metadata": {
    "collapsed": true
   },
   "outputs": [],
   "source": [
    "import os.path\n",
    "import pandas as pd\n",
    "import numpy as np\n",
    "import matplotlib.pyplot as plt\n",
    "%matplotlib inline\n",
    "import h5py"
   ]
  },
  {
   "cell_type": "code",
   "execution_count": 2,
   "metadata": {
    "collapsed": false
   },
   "outputs": [
    {
     "name": "stderr",
     "output_type": "stream",
     "text": [
      "/home/peter/anaconda2/lib/python2.7/site-packages/IPython/core/interactiveshell.py:2723: DtypeWarning: Columns (0,1,2,3,4,6,7,8,9,10,11,13,14,16,17,19,23,24,25,26,27,30,31,32,33,34,35,37,39,40,41,42,45,46,47,92,93,94,96,97,98,99,100,101,103,104,105,106,107,108,110,111,112,113,114,115,116,118,119,120,121,122,123,124,125,127,128,129,130,131,132,134,135,136,137,138,139,140,141,142,144,145,146,147,148,149,152,153,154,155,159,160,161,162,163,164,165,166,167,168,169,172,179,180,181,187,192,193,200,208,211,212,221,223,224,227,232,235,238,239,240) have mixed types. Specify dtype option on import or set low_memory=False.\n",
      "  interactivity=interactivity, compiler=compiler, result=result)\n"
     ]
    }
   ],
   "source": [
    "# load targets\n",
    "filepath = '/home/peter/Data/DeepBind/rnac/'\n",
    "df = pd.read_csv(os.path.join(filepath,'targets.tsv'), sep='\\t')\n",
    "targets = df.as_matrix()\n",
    "targets = np.array(targets).astype(float)\n",
    "num_data, num_labels = targets.shape"
   ]
  },
  {
   "cell_type": "code",
   "execution_count": 23,
   "metadata": {
    "collapsed": false
   },
   "outputs": [
    {
     "data": {
      "text/plain": [
       "(58103945,)"
      ]
     },
     "execution_count": 23,
     "metadata": {},
     "output_type": "execute_result"
    }
   ],
   "source": [
    "index = np.isnan(targets)\n",
    "index1, index2 = np.where(np.isnan(targets)==False)\n",
    "targets[index1,index2]"
   ]
  },
  {
   "cell_type": "code",
   "execution_count": 42,
   "metadata": {
    "collapsed": false
   },
   "outputs": [],
   "source": [
    "# replace nan values with mean\n",
    "#mu = np.mean(targets, axis=0)\n",
    "#for i in range(num_labels):\n",
    "#    targets[np.isnan(targets[:,i]),i] = 0 #mu[i]\n",
    "\n",
    "norm = 'log'\n",
    "\n",
    "if norm == 'log':\n",
    "    # transform data to have less variance\n",
    "    pos_targets = targets - np.outer(np.ones(num_data), np.nanmin(targets,axis=0)) + 1\n",
    "    log_targets = np.log(pos_targets)\n",
    "    log_targets -= np.outer(np.ones(num_data), np.nanmean(log_targets,axis=0))\n",
    "else:\n",
    "    # clip targets\n",
    "    MAX = 15\n",
    "    MIN = -5\n",
    "    log_targets = targets\n",
    "    log_targets[log_targets > MAX] = MAX\n",
    "    log_targets[log_targets < MIN] = MIN"
   ]
  },
  {
   "cell_type": "code",
   "execution_count": 43,
   "metadata": {
    "collapsed": false
   },
   "outputs": [
    {
     "data": {
      "image/png": "[encoded data removed]",
      "text/plain": [
       "<matplotlib.figure.Figure at 0x7fbd876f3250>"
      ]
     },
     "metadata": {},
     "output_type": "display_data"
    }
   ],
   "source": [
    "# plot distribution of binding affinities\n",
    "index1, index2 = np.where(np.isnan(log_targets) == False)\n",
    "x = np.reshape(log_targets[index1,index2],(-1,))\n",
    "plt.figure()\n",
    "plt.hist(x,bins=20);"
   ]
  },
  {
   "cell_type": "code",
   "execution_count": null,
   "metadata": {
    "collapsed": false
   },
   "outputs": [],
   "source": [
    "num_data = log_targets.shape[0]\n",
    "num_labels = log_targets.shape[1]\n",
    "\n",
    "mu = np.nanmean(log_targets, axis=0)\n",
    "MU = np.outer(np.ones(num_data),mu)\n",
    "delta = log_targets-MU\n",
    "C = np.zeros((num_labels,num_labels))\n",
    "for i in range(num_labels):\n",
    "    index1 = np.where(np.isnan(delta[:,i])==False)[0]\n",
    "    for j in range(num_labels):\n",
    "        index2 = np.where(np.isnan(delta[index1,j])==False)[0]\n",
    "        index = index1[index2]\n",
    "        C[i,j] = np.dot(delta[index,i],delta[index,j])/len(index)\n",
    "C"
   ]
  },
  {
   "cell_type": "code",
   "execution_count": 62,
   "metadata": {
    "collapsed": false
   },
   "outputs": [
    {
     "ename": "ValueError",
     "evalue": "total size of new array must be unchanged",
     "output_type": "error",
     "traceback": [
      "\u001b[1;31m---------------------------------------------------------------------------\u001b[0m",
      "\u001b[1;31mValueError\u001b[0m                                Traceback (most recent call last)",
      "\u001b[1;32m<ipython-input-62-2986adc04c21>\u001b[0m in \u001b[0;36m<module>\u001b[1;34m()\u001b[0m\n\u001b[0;32m      1\u001b[0m \u001b[0mindex1\u001b[0m\u001b[1;33m,\u001b[0m \u001b[0mindex2\u001b[0m \u001b[1;33m=\u001b[0m \u001b[0mnp\u001b[0m\u001b[1;33m.\u001b[0m\u001b[0mwhere\u001b[0m\u001b[1;33m(\u001b[0m\u001b[0mnp\u001b[0m\u001b[1;33m.\u001b[0m\u001b[0misnan\u001b[0m\u001b[1;33m(\u001b[0m\u001b[0mtargets\u001b[0m\u001b[1;33m)\u001b[0m\u001b[1;33m==\u001b[0m\u001b[0mFalse\u001b[0m\u001b[1;33m)\u001b[0m\u001b[1;33m\u001b[0m\u001b[0m\n\u001b[1;32m----> 2\u001b[1;33m \u001b[0mnp\u001b[0m\u001b[1;33m.\u001b[0m\u001b[0mreshape\u001b[0m\u001b[1;33m(\u001b[0m\u001b[0mtargets\u001b[0m\u001b[1;33m[\u001b[0m\u001b[0mindex1\u001b[0m\u001b[1;33m,\u001b[0m\u001b[0mindex2\u001b[0m\u001b[1;33m]\u001b[0m\u001b[1;33m,\u001b[0m \u001b[1;33m(\u001b[0m\u001b[0mlen\u001b[0m\u001b[1;33m(\u001b[0m\u001b[0mindex1\u001b[0m\u001b[1;33m)\u001b[0m\u001b[1;33m,\u001b[0m \u001b[0mlen\u001b[0m\u001b[1;33m(\u001b[0m\u001b[0mindex2\u001b[0m\u001b[1;33m)\u001b[0m\u001b[1;33m)\u001b[0m\u001b[1;33m)\u001b[0m\u001b[1;33m.\u001b[0m\u001b[0mshape\u001b[0m\u001b[1;33m\u001b[0m\u001b[0m\n\u001b[0m",
      "\u001b[1;32m/home/peter/anaconda2/lib/python2.7/site-packages/numpy/core/fromnumeric.pyc\u001b[0m in \u001b[0;36mreshape\u001b[1;34m(a, newshape, order)\u001b[0m\n\u001b[0;32m    223\u001b[0m     \u001b[1;32mexcept\u001b[0m \u001b[0mAttributeError\u001b[0m\u001b[1;33m:\u001b[0m\u001b[1;33m\u001b[0m\u001b[0m\n\u001b[0;32m    224\u001b[0m         \u001b[1;32mreturn\u001b[0m \u001b[0m_wrapit\u001b[0m\u001b[1;33m(\u001b[0m\u001b[0ma\u001b[0m\u001b[1;33m,\u001b[0m \u001b[1;34m'reshape'\u001b[0m\u001b[1;33m,\u001b[0m \u001b[0mnewshape\u001b[0m\u001b[1;33m,\u001b[0m \u001b[0morder\u001b[0m\u001b[1;33m=\u001b[0m\u001b[0morder\u001b[0m\u001b[1;33m)\u001b[0m\u001b[1;33m\u001b[0m\u001b[0m\n\u001b[1;32m--> 225\u001b[1;33m     \u001b[1;32mreturn\u001b[0m \u001b[0mreshape\u001b[0m\u001b[1;33m(\u001b[0m\u001b[0mnewshape\u001b[0m\u001b[1;33m,\u001b[0m \u001b[0morder\u001b[0m\u001b[1;33m=\u001b[0m\u001b[0morder\u001b[0m\u001b[1;33m)\u001b[0m\u001b[1;33m\u001b[0m\u001b[0m\n\u001b[0m\u001b[0;32m    226\u001b[0m \u001b[1;33m\u001b[0m\u001b[0m\n\u001b[0;32m    227\u001b[0m \u001b[1;33m\u001b[0m\u001b[0m\n",
      "\u001b[1;31mValueError\u001b[0m: total size of new array must be unchanged"
     ]
    }
   ],
   "source": [
    "# calculate cholesky decomposition of covariance matrix and save\n",
    "L = np.linalg.cholesky(C)\n",
    "Linv = np.linalg.inv(L)\n",
    "f = open('/home/peter/Code/Deepomics/examples/C.pickle','wb')\n",
    "f = open('/home/peter/Code/Deepomics/examples/Linv.pickle','wb')\n",
    "cPickle.dump(Linv, f)\n",
    "f.close()"
   ]
  },
  {
   "cell_type": "code",
   "execution_count": null,
   "metadata": {
    "collapsed": true
   },
   "outputs": [],
   "source": []
  },
  {
   "cell_type": "code",
   "execution_count": 64,
   "metadata": {
    "collapsed": false
   },
   "outputs": [],
   "source": [
    "# load sequence data\n",
    "df = pd.read_csv(os.path.join(filepath,'sequences.tsv'), sep='\\t')\n",
    "data = df.as_matrix()\n",
    "foldid = data[:,0]\n",
    "name = data[:,1]\n",
    "sequence = data[:,2]\n",
    "max_length = df.seq.str.len().max()"
   ]
  },
  {
   "cell_type": "code",
   "execution_count": 68,
   "metadata": {
    "collapsed": false
   },
   "outputs": [],
   "source": [
    "# loop through each label and generate a sequence \n",
    "def convert_one_hot(sequence, max_length):\n",
    "    nucleotide = 'ACGU'\n",
    "    one_hot_seq = []\n",
    "    for seq in sequence:\n",
    "        seq_length = len(seq)        \n",
    "        one_hot = np.zeros((4,seq_length))\n",
    "        one_hot[0,np.where(seq == 'A')[0]] = 1\n",
    "        one_hot[1,np.where(seq == 'C')[0]] = 1\n",
    "        one_hot[2,np.where(seq == 'G')[0]] = 1\n",
    "        one_hot[3,np.where(seq == 'U')[0]] = 1\n",
    "        offset1 = ((max_length - seq_length)/2).astype(int)\n",
    "        offset2 = max_length - seq_length - offset1\n",
    "\n",
    "        if offset1:\n",
    "            one_hot = np.hstack([np.ones((4,offset1))/4, one_hot])\n",
    "        if offset2:\n",
    "            one_hot = np.hstack([one_hot, np.ones((4,offset2))/4])\n",
    "\n",
    "        one_hot_seq.append(one_hot)\n",
    "\n",
    "    # convert to numpy array\n",
    "    one_hot_seq = np.array(one_hot_seq)\n",
    "    return one_hot_seq\n",
    "\n",
    "\n",
    "one_hot_seq = convert_one_hot(sequence, max_length)"
   ]
  },
  {
   "cell_type": "code",
   "execution_count": 69,
   "metadata": {
    "collapsed": false
   },
   "outputs": [],
   "source": [
    "def split_dataset(seq, labels, split_size):\n",
    "    # generate a shuffled subset of data for train, validation, and test\n",
    "    num_seq = len(seq)\n",
    "    num_labels = len(np.unique(labels))\n",
    "    \n",
    "    cum_index = np.cumsum(np.multiply([0, split_size[0], split_size[1], split_size[2]],num_seq)).astype(int) \n",
    "    shuffle = np.random.permutation(num_seq)\n",
    "    \n",
    "    train_index = shuffle[range(cum_index[0], cum_index[1])]\n",
    "    valid_index = shuffle[range(cum_index[1], cum_index[2])]\n",
    "    test_index = shuffle[range(cum_index[2], cum_index[3])]\n",
    "\n",
    "    # create subsets of data based on indices \n",
    "    train = (seq[train_index], labels[train_index])\n",
    "    valid = (seq[valid_index], labels[valid_index])\n",
    "    test = (seq[test_index], labels[test_index])\n",
    "    \n",
    "    return train, valid, test\n",
    "    \n",
    "# split dataset into training cross validation and testing\n",
    "train_size = 0.7\n",
    "valid_size = 0.15\n",
    "test_size = 0.15\n",
    "split_size = [train_size, valid_size, test_size]\n",
    "train, valid, test = split_dataset(one_hot_seq, log_targets, split_size)"
   ]
  },
  {
   "cell_type": "code",
   "execution_count": 70,
   "metadata": {
    "collapsed": false
   },
   "outputs": [],
   "source": [
    "def save_dataset(savepath, train, valid, test):\n",
    "    f = h5py.File(savepath, \"w\")\n",
    "    dset = f.create_dataset(\"trainx\", data=train[0])\n",
    "    dset = f.create_dataset(\"trainy\", data=train[1])\n",
    "    dset = f.create_dataset(\"validx\", data=valid[0])\n",
    "    dset = f.create_dataset(\"validy\", data=valid[1])\n",
    "    dset = f.create_dataset(\"testx\", data=test[0])\n",
    "    dset = f.create_dataset(\"testy\", data=test[1])\n",
    "    f.close()\n",
    "\n",
    "savename = \"rnac.hdf5\"\n",
    "save_dataset(os.path.join(filepath,savename), train, valid, test)"
   ]
  },
  {
   "cell_type": "code",
   "execution_count": 71,
   "metadata": {
    "collapsed": false
   },
   "outputs": [
    {
     "data": {
      "text/plain": [
       "'/home/peter/Data/DeepBind/rnac/rnac.hdf5'"
      ]
     },
     "execution_count": 71,
     "metadata": {},
     "output_type": "execute_result"
    }
   ],
   "source": [
    "os.path.join(filepath,savename)"
   ]
  },
  {
   "cell_type": "code",
   "execution_count": null,
   "metadata": {
    "collapsed": true
   },
   "outputs": [],
   "source": []
  }
 ],
 "metadata": {
  "kernelspec": {
   "display_name": "Python 2",
   "language": "python",
   "name": "python2"
  },
  "language_info": {
   "codemirror_mode": {
    "name": "ipython",
    "version": 2
   },
   "file_extension": ".py",
   "mimetype": "text/x-python",
   "name": "python",
   "nbconvert_exporter": "python",
   "pygments_lexer": "ipython2",
   "version": "2.7.11"
  }
 },
 "nbformat": 4,
 "nbformat_minor": 0
}
