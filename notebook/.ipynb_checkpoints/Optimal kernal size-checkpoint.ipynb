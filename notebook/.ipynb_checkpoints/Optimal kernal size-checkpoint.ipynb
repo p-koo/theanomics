{
 "cells": [
  {
   "cell_type": "code",
   "execution_count": 12,
   "metadata": {
    "collapsed": false
   },
   "outputs": [],
   "source": [
    "import sys\n",
    "import os\n",
    "import numpy as np\n",
    "import pandas as pd\n",
    "import matplotlib.pyplot as plt\n",
    "from matplotlib import cm\n",
    "import matplotlib as mpl\n",
    "from matplotlib import rcParams\n",
    "rcParams.update({'figure.autolayout': True})\n",
    "import scipy.misc \n",
    "%matplotlib inline\n",
    "from scipy.misc import imresize\n",
    "from six.moves import cPickle"
   ]
  },
  {
   "cell_type": "code",
   "execution_count": 13,
   "metadata": {
    "collapsed": true
   },
   "outputs": [],
   "source": [
    "# load motif list from file\n",
    "f = open(motiflist, 'rb')\n",
    "motif_set = cPickle.load(f)\n",
    "f.close()"
   ]
  },
  {
   "cell_type": "code",
   "execution_count": 157,
   "metadata": {
    "collapsed": false
   },
   "outputs": [],
   "source": [
    "def generate_pwm_model(filter_size, motif):\n",
    "    motif_len = motif.shape[1]\n",
    "    if filter_size > motif_len:\n",
    "        offset = (filter_size - motif_len)\n",
    "        pwm_model = np.hstack((motif, np.ones((4,offset))/4))\n",
    "    elif filter_size < motif_len:\n",
    "        pwm_model = motif[:,:filter_size]\n",
    "    else:\n",
    "        pwm_model = motif\n",
    "    return pwm_model\n",
    "\n",
    "def simulate_sequence(pwm_model, num_sim):\n",
    "    N = pwm_model.shape[1]\n",
    "    seq_data = []\n",
    "    for k in xrange(num_sim):\n",
    "        Z = np.random.uniform(0,1,N)\n",
    "        cum_prob = pwm_model.cumsum(axis=0)\n",
    "        sequence = np.zeros(pwm_model.shape)\n",
    "        for i in xrange(N):\n",
    "            index=[j for j in xrange(4) if Z[i] < cum_prob[j,i]][0]\n",
    "            sequence[index,i] = 1 \n",
    "        seq_data.append(sequence)\n",
    "    return np.array(seq_data)"
   ]
  },
  {
   "cell_type": "code",
   "execution_count": 158,
   "metadata": {
    "collapsed": false
   },
   "outputs": [
    {
     "data": {
      "text/plain": [
       "array([[ 0.01751913,  0.01751913,  0.10185194,  0.86310981],\n",
       "       [ 0.01751913,  0.01751913,  0.01751913,  0.94744262],\n",
       "       [ 0.11103337,  0.01751913,  0.11547911,  0.75596839],\n",
       "       [ 0.20232474,  0.11499588,  0.47745525,  0.20522414],\n",
       "       [ 0.01751913,  0.01751913,  0.19005061,  0.77491113],\n",
       "       [ 0.25      ,  0.25      ,  0.25      ,  0.25      ],\n",
       "       [ 0.25      ,  0.25      ,  0.25      ,  0.25      ],\n",
       "       [ 0.25      ,  0.25      ,  0.25      ,  0.25      ],\n",
       "       [ 0.25      ,  0.25      ,  0.25      ,  0.25      ],\n",
       "       [ 0.25      ,  0.25      ,  0.25      ,  0.25      ],\n",
       "       [ 0.25      ,  0.25      ,  0.25      ,  0.25      ],\n",
       "       [ 0.25      ,  0.25      ,  0.25      ,  0.25      ],\n",
       "       [ 0.25      ,  0.25      ,  0.25      ,  0.25      ],\n",
       "       [ 0.25      ,  0.25      ,  0.25      ,  0.25      ],\n",
       "       [ 0.25      ,  0.25      ,  0.25      ,  0.25      ],\n",
       "       [ 0.25      ,  0.25      ,  0.25      ,  0.25      ],\n",
       "       [ 0.25      ,  0.25      ,  0.25      ,  0.25      ],\n",
       "       [ 0.25      ,  0.25      ,  0.25      ,  0.25      ],\n",
       "       [ 0.25      ,  0.25      ,  0.25      ,  0.25      ],\n",
       "       [ 0.25      ,  0.25      ,  0.25      ,  0.25      ],\n",
       "       [ 0.25      ,  0.25      ,  0.25      ,  0.25      ],\n",
       "       [ 0.25      ,  0.25      ,  0.25      ,  0.25      ],\n",
       "       [ 0.25      ,  0.25      ,  0.25      ,  0.25      ],\n",
       "       [ 0.25      ,  0.25      ,  0.25      ,  0.25      ]])"
      ]
     },
     "execution_count": 158,
     "metadata": {},
     "output_type": "execute_result"
    }
   ],
   "source": [
    "pwm_model.T"
   ]
  },
  {
   "cell_type": "code",
   "execution_count": 159,
   "metadata": {
    "collapsed": false
   },
   "outputs": [],
   "source": [
    "filter_size = 24\n",
    "motif = np.array(motif_set[1])[:,:5]\n",
    "num_sim = 1000\n",
    "\n",
    "pwm_model = generate_pwm_model(filter_size, motif)\n",
    "positive_data = simulate_sequence(pwm_model, num_sim)\n",
    "\n",
    "null_motif = np.ones(motif.shape)/4\n",
    "null_model = generate_pwm_model(filter_size, null_motif)\n",
    "control_data = simulate_sequence(null_model, num_sim)\n"
   ]
  },
  {
   "cell_type": "code",
   "execution_count": 160,
   "metadata": {
    "collapsed": false
   },
   "outputs": [],
   "source": [
    "positive = np.zeros(num_sim)\n",
    "control = np.zeros(num_sim)\n",
    "for i in range(num_sim):\n",
    "    positive[i] = np.mean(positive_data[i]*pwm_model)\n",
    "    control[i] = np.mean(control_data[i]*pwm_model)"
   ]
  },
  {
   "cell_type": "code",
   "execution_count": 161,
   "metadata": {
    "collapsed": false
   },
   "outputs": [
    {
     "name": "stdout",
     "output_type": "stream",
     "text": [
      "0.0830803965524\n",
      "0.00540424340862\n",
      "0.062522910685\n",
      "0.00744826473865\n"
     ]
    }
   ],
   "source": [
    "print np.mean(positive)\n",
    "print np.std(positive)\n",
    "\n",
    "print np.mean(control)\n",
    "print np.std(control)"
   ]
  },
  {
   "cell_type": "code",
   "execution_count": 162,
   "metadata": {
    "collapsed": false
   },
   "outputs": [
    {
     "data": {
      "image/png": "[encoded data removed]",
      "text/plain": [
       "<matplotlib.figure.Figure at 0x7fecadd4fdd0>"
      ]
     },
     "metadata": {},
     "output_type": "display_data"
    }
   ],
   "source": [
    "plt.hist(positive);\n",
    "plt.hist(control);"
   ]
  },
  {
   "cell_type": "code",
   "execution_count": null,
   "metadata": {
    "collapsed": true
   },
   "outputs": [],
   "source": []
  },
  {
   "cell_type": "code",
   "execution_count": 167,
   "metadata": {
    "collapsed": false
   },
   "outputs": [
    {
     "data": {
      "text/plain": [
       "<Container object of 3 artists>"
      ]
     },
     "execution_count": 167,
     "metadata": {},
     "output_type": "execute_result"
    },
    {
     "data": {
      "image/png": "[encoded data removed]",
      "text/plain": [
       "<matplotlib.figure.Figure at 0x7feca563ad90>"
      ]
     },
     "metadata": {},
     "output_type": "display_data"
    }
   ],
   "source": [
    "# vary filter size --> monitor background level and signal level for a given motif_size=5\n",
    "motif = np.array(motif_set[1])[:,:8]\n",
    "num_sim = 1000\n",
    "filter_range = range(4,30)\n",
    "\n",
    "signal = []\n",
    "signal_err = []\n",
    "background = []\n",
    "background_err = []\n",
    "for filter_size in filter_range:\n",
    "\n",
    "    pwm_model = generate_pwm_model(filter_size, motif)\n",
    "    positive_data = simulate_sequence(pwm_model, num_sim)\n",
    "\n",
    "    null_motif = np.ones(motif.shape)/4\n",
    "    null_model = generate_pwm_model(filter_size, null_motif)\n",
    "    control_data = simulate_sequence(null_model, num_sim)\n",
    "\n",
    "    positive = np.zeros(num_sim)\n",
    "    control = np.zeros(num_sim)\n",
    "    for i in range(num_sim):\n",
    "        positive[i] = np.mean(positive_data[i]*pwm_model)\n",
    "        control[i] = np.mean(control_data[i]*pwm_model)\n",
    "        \n",
    "    signal.append(np.mean(positive))\n",
    "    signal_err.append(np.std(positive))\n",
    "    background.append(np.mean(control))\n",
    "    background_err.append(np.std(control))\n",
    "signal = np.array(signal)\n",
    "signal_err = np.array(signal_err)\n",
    "background = np.array(background)\n",
    "background_err = np.array(background_err)\n",
    "\n",
    "plt.figure()\n",
    "plt.errorbar(filter_range, signal, signal_err)\n",
    "plt.errorbar(filter_range, background, background_err)\n"
   ]
  },
  {
   "cell_type": "code",
   "execution_count": 171,
   "metadata": {
    "collapsed": false
   },
   "outputs": [
    {
     "data": {
      "text/plain": [
       "<Container object of 3 artists>"
      ]
     },
     "execution_count": 171,
     "metadata": {},
     "output_type": "execute_result"
    },
    {
     "data": {
      "image/png": "[encoded data removed]",
      "text/plain": [
       "<matplotlib.figure.Figure at 0x7feca4c278d0>"
      ]
     },
     "metadata": {},
     "output_type": "display_data"
    }
   ],
   "source": [
    "# vary filter size --> monitor background level and signal level for a given motif_size=5\n",
    "motif = np.array(motif_set[1])\n",
    "motif = np.hstack([motif,motif])\n",
    "num_sim = 1000\n",
    "filter_range = range(4,40)\n",
    "\n",
    "signal = []\n",
    "signal_err = []\n",
    "background = []\n",
    "background_err = []\n",
    "for filter_size in filter_range:\n",
    "\n",
    "    pwm_model = generate_pwm_model(filter_size, motif)\n",
    "    positive_data = simulate_sequence(pwm_model, num_sim)\n",
    "\n",
    "    null_motif = np.ones(motif.shape)/4\n",
    "    null_model = generate_pwm_model(filter_size, null_motif)\n",
    "    control_data = simulate_sequence(null_model, num_sim)\n",
    "\n",
    "    positive = np.zeros(num_sim)\n",
    "    control = np.zeros(num_sim)\n",
    "    for i in range(num_sim):\n",
    "        positive[i] = np.mean(positive_data[i]*pwm_model)\n",
    "        control[i] = np.mean(control_data[i]*pwm_model)\n",
    "        \n",
    "    signal.append(np.mean(positive))\n",
    "    signal_err.append(np.std(positive))\n",
    "    background.append(np.mean(control))\n",
    "    background_err.append(np.std(control))\n",
    "signal = np.array(signal)\n",
    "signal_err = np.array(signal_err)\n",
    "background = np.array(background)\n",
    "background_err = np.array(background_err)\n",
    "\n",
    "plt.figure()\n",
    "plt.errorbar(filter_range, signal, signal_err)\n",
    "plt.errorbar(filter_range, background, background_err)\n"
   ]
  },
  {
   "cell_type": "code",
   "execution_count": null,
   "metadata": {
    "collapsed": true
   },
   "outputs": [],
   "source": []
  }
 ],
 "metadata": {
  "kernelspec": {
   "display_name": "Python 2",
   "language": "python",
   "name": "python2"
  },
  "language_info": {
   "codemirror_mode": {
    "name": "ipython",
    "version": 2
   },
   "file_extension": ".py",
   "mimetype": "text/x-python",
   "name": "python",
   "nbconvert_exporter": "python",
   "pygments_lexer": "ipython2",
   "version": "2.7.11"
  }
 },
 "nbformat": 4,
 "nbformat_minor": 0
}
